{
 "cells": [
  {
   "cell_type": "markdown",
   "metadata": {},
   "source": [
    "#  Desafio Kaggle - Sentiment Analysis\n",
    "\n",
    "O presente desafio foi retirado do site https://www.kaggle.com/c/sentiment-analysis-on-movie-reviews\n",
    "\n",
    "Os dados foram baixados através do site, na aba \"Data\". Os dados constituem dois conjuntos de críticas do filme \"The Rotten Tomatoes\": um para treinamento e outro para teste de benchmarking (não possui os sentimentos rotulados). Para mais detalhes, ver o site citado acima.\n",
    "\n",
    "Já a construção da rede foi baseada em uma aula que tive da Udacity, do \"PyThorch Scholarship Challenge\", no qual aprendi sobre redes neurais profundas (CNNs, LSTMs, etc.) Não há um link específico para o código desenvolvido por eles, mas vou deixar o notebook, que utilizei como base, junto dos arquivos. "
   ]
  },
  {
   "cell_type": "markdown",
   "metadata": {},
   "source": [
    "### Sobre os dados\n",
    "\n",
    "O dataset é composto de arquivos separados por \"tab\", contendo frases do dataset do Rotten Tomatoes.\n",
    "\n",
    "O arquivo 'train.tsv' contém as frases e suas correspondentes labels de sentimento. Ele também possui uma coluna chamada \"SenteceId\" que indica a qual frase aquela sentença pertence. E cada linha do documento possui uma \"PhraseId\".\n",
    "\n",
    "O objetivo é treinar um algoritmo capaz de classificar esses reviews (contidos no conjunto de treinamento) em labels de 0 a 4, sendo:\n",
    "\n",
    "0 - negativo\n",
    "\n",
    "1 - um pouco negativo\n",
    "\n",
    "2 - neutro\n",
    "\n",
    "3 - um pouco positivo\n",
    "\n",
    "4 - positivo"
   ]
  },
  {
   "cell_type": "code",
   "execution_count": 1,
   "metadata": {},
   "outputs": [],
   "source": [
    "# Abrindo os arquivos:\n",
    "import pandas as pd\n",
    "\n",
    "train = pd.read_csv('train.tsv', sep='\\t')\n",
    "test = pd.read_csv('test.tsv', sep='\\t')"
   ]
  },
  {
   "cell_type": "code",
   "execution_count": 2,
   "metadata": {},
   "outputs": [
    {
     "data": {
      "text/html": [
       "<div>\n",
       "<style scoped>\n",
       "    .dataframe tbody tr th:only-of-type {\n",
       "        vertical-align: middle;\n",
       "    }\n",
       "\n",
       "    .dataframe tbody tr th {\n",
       "        vertical-align: top;\n",
       "    }\n",
       "\n",
       "    .dataframe thead th {\n",
       "        text-align: right;\n",
       "    }\n",
       "</style>\n",
       "<table border=\"1\" class=\"dataframe\">\n",
       "  <thead>\n",
       "    <tr style=\"text-align: right;\">\n",
       "      <th></th>\n",
       "      <th>PhraseId</th>\n",
       "      <th>SentenceId</th>\n",
       "      <th>Phrase</th>\n",
       "      <th>Sentiment</th>\n",
       "    </tr>\n",
       "  </thead>\n",
       "  <tbody>\n",
       "    <tr>\n",
       "      <th>0</th>\n",
       "      <td>1</td>\n",
       "      <td>1</td>\n",
       "      <td>A series of escapades demonstrating the adage ...</td>\n",
       "      <td>1</td>\n",
       "    </tr>\n",
       "    <tr>\n",
       "      <th>1</th>\n",
       "      <td>2</td>\n",
       "      <td>1</td>\n",
       "      <td>A series of escapades demonstrating the adage ...</td>\n",
       "      <td>2</td>\n",
       "    </tr>\n",
       "    <tr>\n",
       "      <th>2</th>\n",
       "      <td>3</td>\n",
       "      <td>1</td>\n",
       "      <td>A series</td>\n",
       "      <td>2</td>\n",
       "    </tr>\n",
       "    <tr>\n",
       "      <th>3</th>\n",
       "      <td>4</td>\n",
       "      <td>1</td>\n",
       "      <td>A</td>\n",
       "      <td>2</td>\n",
       "    </tr>\n",
       "    <tr>\n",
       "      <th>4</th>\n",
       "      <td>5</td>\n",
       "      <td>1</td>\n",
       "      <td>series</td>\n",
       "      <td>2</td>\n",
       "    </tr>\n",
       "    <tr>\n",
       "      <th>5</th>\n",
       "      <td>6</td>\n",
       "      <td>1</td>\n",
       "      <td>of escapades demonstrating the adage that what...</td>\n",
       "      <td>2</td>\n",
       "    </tr>\n",
       "    <tr>\n",
       "      <th>6</th>\n",
       "      <td>7</td>\n",
       "      <td>1</td>\n",
       "      <td>of</td>\n",
       "      <td>2</td>\n",
       "    </tr>\n",
       "    <tr>\n",
       "      <th>7</th>\n",
       "      <td>8</td>\n",
       "      <td>1</td>\n",
       "      <td>escapades demonstrating the adage that what is...</td>\n",
       "      <td>2</td>\n",
       "    </tr>\n",
       "    <tr>\n",
       "      <th>8</th>\n",
       "      <td>9</td>\n",
       "      <td>1</td>\n",
       "      <td>escapades</td>\n",
       "      <td>2</td>\n",
       "    </tr>\n",
       "    <tr>\n",
       "      <th>9</th>\n",
       "      <td>10</td>\n",
       "      <td>1</td>\n",
       "      <td>demonstrating the adage that what is good for ...</td>\n",
       "      <td>2</td>\n",
       "    </tr>\n",
       "    <tr>\n",
       "      <th>10</th>\n",
       "      <td>11</td>\n",
       "      <td>1</td>\n",
       "      <td>demonstrating the adage</td>\n",
       "      <td>2</td>\n",
       "    </tr>\n",
       "    <tr>\n",
       "      <th>11</th>\n",
       "      <td>12</td>\n",
       "      <td>1</td>\n",
       "      <td>demonstrating</td>\n",
       "      <td>2</td>\n",
       "    </tr>\n",
       "    <tr>\n",
       "      <th>12</th>\n",
       "      <td>13</td>\n",
       "      <td>1</td>\n",
       "      <td>the adage</td>\n",
       "      <td>2</td>\n",
       "    </tr>\n",
       "    <tr>\n",
       "      <th>13</th>\n",
       "      <td>14</td>\n",
       "      <td>1</td>\n",
       "      <td>the</td>\n",
       "      <td>2</td>\n",
       "    </tr>\n",
       "    <tr>\n",
       "      <th>14</th>\n",
       "      <td>15</td>\n",
       "      <td>1</td>\n",
       "      <td>adage</td>\n",
       "      <td>2</td>\n",
       "    </tr>\n",
       "    <tr>\n",
       "      <th>15</th>\n",
       "      <td>16</td>\n",
       "      <td>1</td>\n",
       "      <td>that what is good for the goose</td>\n",
       "      <td>2</td>\n",
       "    </tr>\n",
       "    <tr>\n",
       "      <th>16</th>\n",
       "      <td>17</td>\n",
       "      <td>1</td>\n",
       "      <td>that</td>\n",
       "      <td>2</td>\n",
       "    </tr>\n",
       "    <tr>\n",
       "      <th>17</th>\n",
       "      <td>18</td>\n",
       "      <td>1</td>\n",
       "      <td>what is good for the goose</td>\n",
       "      <td>2</td>\n",
       "    </tr>\n",
       "    <tr>\n",
       "      <th>18</th>\n",
       "      <td>19</td>\n",
       "      <td>1</td>\n",
       "      <td>what</td>\n",
       "      <td>2</td>\n",
       "    </tr>\n",
       "    <tr>\n",
       "      <th>19</th>\n",
       "      <td>20</td>\n",
       "      <td>1</td>\n",
       "      <td>is good for the goose</td>\n",
       "      <td>2</td>\n",
       "    </tr>\n",
       "    <tr>\n",
       "      <th>20</th>\n",
       "      <td>21</td>\n",
       "      <td>1</td>\n",
       "      <td>is</td>\n",
       "      <td>2</td>\n",
       "    </tr>\n",
       "    <tr>\n",
       "      <th>21</th>\n",
       "      <td>22</td>\n",
       "      <td>1</td>\n",
       "      <td>good for the goose</td>\n",
       "      <td>3</td>\n",
       "    </tr>\n",
       "    <tr>\n",
       "      <th>22</th>\n",
       "      <td>23</td>\n",
       "      <td>1</td>\n",
       "      <td>good</td>\n",
       "      <td>3</td>\n",
       "    </tr>\n",
       "    <tr>\n",
       "      <th>23</th>\n",
       "      <td>24</td>\n",
       "      <td>1</td>\n",
       "      <td>for the goose</td>\n",
       "      <td>2</td>\n",
       "    </tr>\n",
       "    <tr>\n",
       "      <th>24</th>\n",
       "      <td>25</td>\n",
       "      <td>1</td>\n",
       "      <td>for</td>\n",
       "      <td>2</td>\n",
       "    </tr>\n",
       "    <tr>\n",
       "      <th>25</th>\n",
       "      <td>26</td>\n",
       "      <td>1</td>\n",
       "      <td>the goose</td>\n",
       "      <td>2</td>\n",
       "    </tr>\n",
       "    <tr>\n",
       "      <th>26</th>\n",
       "      <td>27</td>\n",
       "      <td>1</td>\n",
       "      <td>goose</td>\n",
       "      <td>2</td>\n",
       "    </tr>\n",
       "    <tr>\n",
       "      <th>27</th>\n",
       "      <td>28</td>\n",
       "      <td>1</td>\n",
       "      <td>is also good for the gander , some of which oc...</td>\n",
       "      <td>2</td>\n",
       "    </tr>\n",
       "    <tr>\n",
       "      <th>28</th>\n",
       "      <td>29</td>\n",
       "      <td>1</td>\n",
       "      <td>is also good for the gander , some of which oc...</td>\n",
       "      <td>2</td>\n",
       "    </tr>\n",
       "    <tr>\n",
       "      <th>29</th>\n",
       "      <td>30</td>\n",
       "      <td>1</td>\n",
       "      <td>is also</td>\n",
       "      <td>2</td>\n",
       "    </tr>\n",
       "    <tr>\n",
       "      <th>...</th>\n",
       "      <td>...</td>\n",
       "      <td>...</td>\n",
       "      <td>...</td>\n",
       "      <td>...</td>\n",
       "    </tr>\n",
       "    <tr>\n",
       "      <th>70</th>\n",
       "      <td>71</td>\n",
       "      <td>2</td>\n",
       "      <td>introspective and entertaining</td>\n",
       "      <td>3</td>\n",
       "    </tr>\n",
       "    <tr>\n",
       "      <th>71</th>\n",
       "      <td>72</td>\n",
       "      <td>2</td>\n",
       "      <td>introspective and</td>\n",
       "      <td>3</td>\n",
       "    </tr>\n",
       "    <tr>\n",
       "      <th>72</th>\n",
       "      <td>73</td>\n",
       "      <td>2</td>\n",
       "      <td>introspective</td>\n",
       "      <td>2</td>\n",
       "    </tr>\n",
       "    <tr>\n",
       "      <th>73</th>\n",
       "      <td>74</td>\n",
       "      <td>2</td>\n",
       "      <td>and</td>\n",
       "      <td>2</td>\n",
       "    </tr>\n",
       "    <tr>\n",
       "      <th>74</th>\n",
       "      <td>75</td>\n",
       "      <td>2</td>\n",
       "      <td>entertaining</td>\n",
       "      <td>4</td>\n",
       "    </tr>\n",
       "    <tr>\n",
       "      <th>75</th>\n",
       "      <td>76</td>\n",
       "      <td>2</td>\n",
       "      <td>independent</td>\n",
       "      <td>2</td>\n",
       "    </tr>\n",
       "    <tr>\n",
       "      <th>76</th>\n",
       "      <td>77</td>\n",
       "      <td>2</td>\n",
       "      <td>is worth seeking .</td>\n",
       "      <td>3</td>\n",
       "    </tr>\n",
       "    <tr>\n",
       "      <th>77</th>\n",
       "      <td>78</td>\n",
       "      <td>2</td>\n",
       "      <td>is worth seeking</td>\n",
       "      <td>4</td>\n",
       "    </tr>\n",
       "    <tr>\n",
       "      <th>78</th>\n",
       "      <td>79</td>\n",
       "      <td>2</td>\n",
       "      <td>is worth</td>\n",
       "      <td>2</td>\n",
       "    </tr>\n",
       "    <tr>\n",
       "      <th>79</th>\n",
       "      <td>80</td>\n",
       "      <td>2</td>\n",
       "      <td>worth</td>\n",
       "      <td>2</td>\n",
       "    </tr>\n",
       "    <tr>\n",
       "      <th>80</th>\n",
       "      <td>81</td>\n",
       "      <td>2</td>\n",
       "      <td>seeking</td>\n",
       "      <td>2</td>\n",
       "    </tr>\n",
       "    <tr>\n",
       "      <th>81</th>\n",
       "      <td>82</td>\n",
       "      <td>3</td>\n",
       "      <td>Even fans of Ismail Merchant 's work , I suspe...</td>\n",
       "      <td>1</td>\n",
       "    </tr>\n",
       "    <tr>\n",
       "      <th>82</th>\n",
       "      <td>83</td>\n",
       "      <td>3</td>\n",
       "      <td>Even fans of Ismail Merchant 's work</td>\n",
       "      <td>2</td>\n",
       "    </tr>\n",
       "    <tr>\n",
       "      <th>83</th>\n",
       "      <td>84</td>\n",
       "      <td>3</td>\n",
       "      <td>Even fans</td>\n",
       "      <td>2</td>\n",
       "    </tr>\n",
       "    <tr>\n",
       "      <th>84</th>\n",
       "      <td>85</td>\n",
       "      <td>3</td>\n",
       "      <td>Even</td>\n",
       "      <td>2</td>\n",
       "    </tr>\n",
       "    <tr>\n",
       "      <th>85</th>\n",
       "      <td>86</td>\n",
       "      <td>3</td>\n",
       "      <td>fans</td>\n",
       "      <td>3</td>\n",
       "    </tr>\n",
       "    <tr>\n",
       "      <th>86</th>\n",
       "      <td>87</td>\n",
       "      <td>3</td>\n",
       "      <td>of Ismail Merchant 's work</td>\n",
       "      <td>2</td>\n",
       "    </tr>\n",
       "    <tr>\n",
       "      <th>87</th>\n",
       "      <td>88</td>\n",
       "      <td>3</td>\n",
       "      <td>Ismail Merchant 's work</td>\n",
       "      <td>2</td>\n",
       "    </tr>\n",
       "    <tr>\n",
       "      <th>88</th>\n",
       "      <td>89</td>\n",
       "      <td>3</td>\n",
       "      <td>Ismail Merchant 's</td>\n",
       "      <td>2</td>\n",
       "    </tr>\n",
       "    <tr>\n",
       "      <th>89</th>\n",
       "      <td>90</td>\n",
       "      <td>3</td>\n",
       "      <td>Ismail</td>\n",
       "      <td>2</td>\n",
       "    </tr>\n",
       "    <tr>\n",
       "      <th>90</th>\n",
       "      <td>91</td>\n",
       "      <td>3</td>\n",
       "      <td>Merchant 's</td>\n",
       "      <td>2</td>\n",
       "    </tr>\n",
       "    <tr>\n",
       "      <th>91</th>\n",
       "      <td>92</td>\n",
       "      <td>3</td>\n",
       "      <td>Merchant</td>\n",
       "      <td>2</td>\n",
       "    </tr>\n",
       "    <tr>\n",
       "      <th>92</th>\n",
       "      <td>93</td>\n",
       "      <td>3</td>\n",
       "      <td>'s</td>\n",
       "      <td>2</td>\n",
       "    </tr>\n",
       "    <tr>\n",
       "      <th>93</th>\n",
       "      <td>94</td>\n",
       "      <td>3</td>\n",
       "      <td>work</td>\n",
       "      <td>2</td>\n",
       "    </tr>\n",
       "    <tr>\n",
       "      <th>94</th>\n",
       "      <td>95</td>\n",
       "      <td>3</td>\n",
       "      <td>, I suspect , would have a hard time sitting t...</td>\n",
       "      <td>1</td>\n",
       "    </tr>\n",
       "    <tr>\n",
       "      <th>95</th>\n",
       "      <td>96</td>\n",
       "      <td>3</td>\n",
       "      <td>, I suspect ,</td>\n",
       "      <td>2</td>\n",
       "    </tr>\n",
       "    <tr>\n",
       "      <th>96</th>\n",
       "      <td>97</td>\n",
       "      <td>3</td>\n",
       "      <td>I suspect ,</td>\n",
       "      <td>2</td>\n",
       "    </tr>\n",
       "    <tr>\n",
       "      <th>97</th>\n",
       "      <td>98</td>\n",
       "      <td>3</td>\n",
       "      <td>I suspect</td>\n",
       "      <td>2</td>\n",
       "    </tr>\n",
       "    <tr>\n",
       "      <th>98</th>\n",
       "      <td>99</td>\n",
       "      <td>3</td>\n",
       "      <td>I</td>\n",
       "      <td>2</td>\n",
       "    </tr>\n",
       "    <tr>\n",
       "      <th>99</th>\n",
       "      <td>100</td>\n",
       "      <td>3</td>\n",
       "      <td>suspect</td>\n",
       "      <td>2</td>\n",
       "    </tr>\n",
       "  </tbody>\n",
       "</table>\n",
       "<p>100 rows × 4 columns</p>\n",
       "</div>"
      ],
      "text/plain": [
       "    PhraseId  SentenceId                                             Phrase  \\\n",
       "0          1           1  A series of escapades demonstrating the adage ...   \n",
       "1          2           1  A series of escapades demonstrating the adage ...   \n",
       "2          3           1                                           A series   \n",
       "3          4           1                                                  A   \n",
       "4          5           1                                             series   \n",
       "5          6           1  of escapades demonstrating the adage that what...   \n",
       "6          7           1                                                 of   \n",
       "7          8           1  escapades demonstrating the adage that what is...   \n",
       "8          9           1                                          escapades   \n",
       "9         10           1  demonstrating the adage that what is good for ...   \n",
       "10        11           1                            demonstrating the adage   \n",
       "11        12           1                                      demonstrating   \n",
       "12        13           1                                          the adage   \n",
       "13        14           1                                                the   \n",
       "14        15           1                                              adage   \n",
       "15        16           1                    that what is good for the goose   \n",
       "16        17           1                                               that   \n",
       "17        18           1                         what is good for the goose   \n",
       "18        19           1                                               what   \n",
       "19        20           1                              is good for the goose   \n",
       "20        21           1                                                 is   \n",
       "21        22           1                                 good for the goose   \n",
       "22        23           1                                               good   \n",
       "23        24           1                                      for the goose   \n",
       "24        25           1                                                for   \n",
       "25        26           1                                          the goose   \n",
       "26        27           1                                              goose   \n",
       "27        28           1  is also good for the gander , some of which oc...   \n",
       "28        29           1  is also good for the gander , some of which oc...   \n",
       "29        30           1                                            is also   \n",
       "..       ...         ...                                                ...   \n",
       "70        71           2                     introspective and entertaining   \n",
       "71        72           2                                  introspective and   \n",
       "72        73           2                                      introspective   \n",
       "73        74           2                                                and   \n",
       "74        75           2                                       entertaining   \n",
       "75        76           2                                        independent   \n",
       "76        77           2                                 is worth seeking .   \n",
       "77        78           2                                   is worth seeking   \n",
       "78        79           2                                           is worth   \n",
       "79        80           2                                              worth   \n",
       "80        81           2                                            seeking   \n",
       "81        82           3  Even fans of Ismail Merchant 's work , I suspe...   \n",
       "82        83           3               Even fans of Ismail Merchant 's work   \n",
       "83        84           3                                          Even fans   \n",
       "84        85           3                                               Even   \n",
       "85        86           3                                               fans   \n",
       "86        87           3                         of Ismail Merchant 's work   \n",
       "87        88           3                            Ismail Merchant 's work   \n",
       "88        89           3                                 Ismail Merchant 's   \n",
       "89        90           3                                             Ismail   \n",
       "90        91           3                                        Merchant 's   \n",
       "91        92           3                                           Merchant   \n",
       "92        93           3                                                 's   \n",
       "93        94           3                                               work   \n",
       "94        95           3  , I suspect , would have a hard time sitting t...   \n",
       "95        96           3                                      , I suspect ,   \n",
       "96        97           3                                        I suspect ,   \n",
       "97        98           3                                          I suspect   \n",
       "98        99           3                                                  I   \n",
       "99       100           3                                            suspect   \n",
       "\n",
       "    Sentiment  \n",
       "0           1  \n",
       "1           2  \n",
       "2           2  \n",
       "3           2  \n",
       "4           2  \n",
       "5           2  \n",
       "6           2  \n",
       "7           2  \n",
       "8           2  \n",
       "9           2  \n",
       "10          2  \n",
       "11          2  \n",
       "12          2  \n",
       "13          2  \n",
       "14          2  \n",
       "15          2  \n",
       "16          2  \n",
       "17          2  \n",
       "18          2  \n",
       "19          2  \n",
       "20          2  \n",
       "21          3  \n",
       "22          3  \n",
       "23          2  \n",
       "24          2  \n",
       "25          2  \n",
       "26          2  \n",
       "27          2  \n",
       "28          2  \n",
       "29          2  \n",
       "..        ...  \n",
       "70          3  \n",
       "71          3  \n",
       "72          2  \n",
       "73          2  \n",
       "74          4  \n",
       "75          2  \n",
       "76          3  \n",
       "77          4  \n",
       "78          2  \n",
       "79          2  \n",
       "80          2  \n",
       "81          1  \n",
       "82          2  \n",
       "83          2  \n",
       "84          2  \n",
       "85          3  \n",
       "86          2  \n",
       "87          2  \n",
       "88          2  \n",
       "89          2  \n",
       "90          2  \n",
       "91          2  \n",
       "92          2  \n",
       "93          2  \n",
       "94          1  \n",
       "95          2  \n",
       "96          2  \n",
       "97          2  \n",
       "98          2  \n",
       "99          2  \n",
       "\n",
       "[100 rows x 4 columns]"
      ]
     },
     "execution_count": 2,
     "metadata": {},
     "output_type": "execute_result"
    }
   ],
   "source": [
    "# Arquivo 'train.tsv'\n",
    "\n",
    "train.head(100)"
   ]
  },
  {
   "cell_type": "code",
   "execution_count": 3,
   "metadata": {},
   "outputs": [
    {
     "data": {
      "text/plain": [
       "(156060, 4)"
      ]
     },
     "execution_count": 3,
     "metadata": {},
     "output_type": "execute_result"
    }
   ],
   "source": [
    "train.shape"
   ]
  },
  {
   "cell_type": "code",
   "execution_count": 4,
   "metadata": {},
   "outputs": [
    {
     "data": {
      "text/plain": [
       "8544"
      ]
     },
     "execution_count": 4,
     "metadata": {},
     "output_type": "execute_result"
    }
   ],
   "source": [
    "train['SentenceId'][156059]"
   ]
  },
  {
   "cell_type": "code",
   "execution_count": 5,
   "metadata": {},
   "outputs": [
    {
     "name": "stdout",
     "output_type": "stream",
     "text": [
      "8544\n",
      "156060\n"
     ]
    }
   ],
   "source": [
    "# Ultima SentenceId = 8544\n",
    "\n",
    "sentence_id = [i for i in range(8545)]\n",
    "print(sentence_id[-1])\n",
    "\n",
    "print(len(train))"
   ]
  },
  {
   "cell_type": "code",
   "execution_count": 6,
   "metadata": {},
   "outputs": [
    {
     "data": {
      "text/html": [
       "<div>\n",
       "<style scoped>\n",
       "    .dataframe tbody tr th:only-of-type {\n",
       "        vertical-align: middle;\n",
       "    }\n",
       "\n",
       "    .dataframe tbody tr th {\n",
       "        vertical-align: top;\n",
       "    }\n",
       "\n",
       "    .dataframe thead th {\n",
       "        text-align: right;\n",
       "    }\n",
       "</style>\n",
       "<table border=\"1\" class=\"dataframe\">\n",
       "  <thead>\n",
       "    <tr style=\"text-align: right;\">\n",
       "      <th></th>\n",
       "      <th>PhraseId</th>\n",
       "      <th>SentenceId</th>\n",
       "      <th>Phrase</th>\n",
       "    </tr>\n",
       "  </thead>\n",
       "  <tbody>\n",
       "    <tr>\n",
       "      <th>0</th>\n",
       "      <td>156061</td>\n",
       "      <td>8545</td>\n",
       "      <td>An intermittently pleasing but mostly routine ...</td>\n",
       "    </tr>\n",
       "    <tr>\n",
       "      <th>1</th>\n",
       "      <td>156062</td>\n",
       "      <td>8545</td>\n",
       "      <td>An intermittently pleasing but mostly routine ...</td>\n",
       "    </tr>\n",
       "    <tr>\n",
       "      <th>2</th>\n",
       "      <td>156063</td>\n",
       "      <td>8545</td>\n",
       "      <td>An</td>\n",
       "    </tr>\n",
       "    <tr>\n",
       "      <th>3</th>\n",
       "      <td>156064</td>\n",
       "      <td>8545</td>\n",
       "      <td>intermittently pleasing but mostly routine effort</td>\n",
       "    </tr>\n",
       "    <tr>\n",
       "      <th>4</th>\n",
       "      <td>156065</td>\n",
       "      <td>8545</td>\n",
       "      <td>intermittently pleasing but mostly routine</td>\n",
       "    </tr>\n",
       "  </tbody>\n",
       "</table>\n",
       "</div>"
      ],
      "text/plain": [
       "   PhraseId  SentenceId                                             Phrase\n",
       "0    156061        8545  An intermittently pleasing but mostly routine ...\n",
       "1    156062        8545  An intermittently pleasing but mostly routine ...\n",
       "2    156063        8545                                                 An\n",
       "3    156064        8545  intermittently pleasing but mostly routine effort\n",
       "4    156065        8545         intermittently pleasing but mostly routine"
      ]
     },
     "execution_count": 6,
     "metadata": {},
     "output_type": "execute_result"
    }
   ],
   "source": [
    "# Arquivo 'test.tsv'\n",
    "\n",
    "test.head()"
   ]
  },
  {
   "cell_type": "code",
   "execution_count": 7,
   "metadata": {},
   "outputs": [
    {
     "data": {
      "text/plain": [
       "(66292, 3)"
      ]
     },
     "execution_count": 7,
     "metadata": {},
     "output_type": "execute_result"
    }
   ],
   "source": [
    "test.shape"
   ]
  },
  {
   "cell_type": "raw",
   "metadata": {},
   "source": [
    "# Para possível uso futuro, escolhi criar listas separadas de cada objeto dos arquivos de treinamento:\n",
    "\n",
    "phrases = []\n",
    "sentiments = []\n",
    "appended_ids = []\n",
    "for i in range(len(train)):\n",
    "    if train['SentenceId'][i] not in appended_ids:\n",
    "        phrases.append(train['Phrase'][i])\n",
    "        sentiments.append(train['Sentiment'][i])\n",
    "        appended_ids.append(train['SentenceId'][i])"
   ]
  },
  {
   "cell_type": "raw",
   "metadata": {},
   "source": [
    "def pretty_print_review_and_label(labels, reviews, number):\n",
    "    for i in range(number):\n",
    "        print(\"Sentimento = \" + str(labels[i]) + \":\\t\" + reviews[i][:150] + \"...\\n\")\n",
    "    \n",
    "pretty_print_review_and_label(sentiments, phrases, 5)"
   ]
  },
  {
   "cell_type": "markdown",
   "metadata": {},
   "source": [
    "## Implementação de uma RNN utilizando PyTorch\n",
    "\n",
    "Escolhi utilizar a biblioteca do PyTorch, baseada na biblioteca torch, para a implementação de uma rede neural. Esta biblioteca é utilizada para aplicações de deep learning e NLP.\n",
    ">O PyTorch é um software open source gratuito e foi inicialmente desenvolvido pela equipe de pesquisa de AI do Facebook.\n",
    "\n",
    "### Arquitetura da Rede\n",
    "\n",
    "Vou, então, implementar uma rede neural recorrente que classifica os sentimentos desses reviews. Na imagem abaixo podemos ter uma melhor ideia de como ela é composta (**Obs.**: No lugar das camadas Sigmoid, vamos utilizar uma camada totalmente conectada com ativação softmax):\n",
    "\n",
    "<img src=\"network_diagram.png\" width=40%>\n",
    "\n",
    "**Primeiro, vamos passar as palavras por uma camada de \"mergulho\" (embedding layer, em inglês)**\n",
    ">Precisamos dessa camada inicial pois temos milhares de palavras e precisamos ser mais eficientes nas representações de nossos dados de input. No nosso caso, esta camada é utilizada para fins de redução da dimensionalidade. Utilizando essa camada de mergulho, e deixando o algoritmo aprender sozinho uma nova representação, já é possível obter uma boa acurácia.\n",
    "\n",
    "**Após passarmos o input na camada de mergulho, os novos embeddings são passados pelas células LSTMs**\n",
    ">A LSTM é responsável por adicionar conexões recorrentes eficientes para o tratamento de textos, nos dando informações sobre a sequência de texto, ao invés de informações das palavras de forma isolada.\n",
    "\n",
    "**Por fim, a LSTM gera um output que é passado por uma última camada totalmente conectada**\n",
    ">A última camada vai ser composta por uma camada totalmente conectada (de 5 neurons), pois temos 5 tipos de inputs diferentes. Por fim, a função de ativação escolhida vai ser a função softmax, que é uma boa escolha para tratar a classificação multiclasse.\n",
    "\n",
    "(Considerando a imagem anterior, não é necessário se preocupar com as saídas da função de ativação, exceto para a **última**; podendo ignorar as restantes. Mais a frente, vamos calcular a loss function comparando o output do último passo com os labels de treinamento.)\n",
    "\n",
    "----\n",
    "## Pré-processamento dos dados\n",
    "\n",
    "O primeiro passo antes de construir a rede neural é transformar os dados na melhor forma para inserir na rede. Como vamos usar camadas de embedding, vai ser necessário codificar cada palavra como um inteiro. Além disso, também é necessário \"limpar\" os ruídos.\n",
    "\n",
    "Os passos de processamento serão divididos em:\n",
    ">* Vamos reduzir o noise dos dados, obtendo uma nova tabela de treinamento com menos frases (Vamos inicialmente considerar apenas as frases inteiras);\n",
    "* Vamos excluir os períodos e pontuações diversas (se houverem);\n",
    "* Por fim, vamos combinar todas as palavras em uma grande string para codificar as palavras em vetores unitários."
   ]
  },
  {
   "cell_type": "code",
   "execution_count": 8,
   "metadata": {},
   "outputs": [],
   "source": [
    "# Vamos então reabrir os arquivos e entender como eles se organizam:\n",
    "\n",
    "g = open('train.tsv','r')\n",
    "train = list(map(lambda x: x[:-1], g.readlines()))\n",
    "g.close()\n",
    "\n",
    "g = open('test.tsv','r')\n",
    "test = list(map(lambda x: x[:-1], g.readlines()))\n",
    "g.close()"
   ]
  },
  {
   "cell_type": "code",
   "execution_count": 9,
   "metadata": {},
   "outputs": [
    {
     "data": {
      "text/plain": [
       "['PhraseId\\tSentenceId\\tPhrase\\tSentiment',\n",
       " '1\\t1\\tA series of escapades demonstrating the adage that what is good for the goose is also good for the gander , some of which occasionally amuses but none of which amounts to much of a story .\\t1',\n",
       " '2\\t1\\tA series of escapades demonstrating the adage that what is good for the goose\\t2',\n",
       " '3\\t1\\tA series\\t2',\n",
       " '4\\t1\\tA\\t2',\n",
       " '5\\t1\\tseries\\t2',\n",
       " '6\\t1\\tof escapades demonstrating the adage that what is good for the goose\\t2',\n",
       " '7\\t1\\tof\\t2',\n",
       " '8\\t1\\tescapades demonstrating the adage that what is good for the goose\\t2',\n",
       " '9\\t1\\tescapades\\t2']"
      ]
     },
     "execution_count": 9,
     "metadata": {},
     "output_type": "execute_result"
    }
   ],
   "source": [
    "train[:10]"
   ]
  },
  {
   "cell_type": "code",
   "execution_count": 10,
   "metadata": {},
   "outputs": [
    {
     "data": {
      "text/plain": [
       "['PhraseId\\tSentenceId\\tPhrase',\n",
       " '156061\\t8545\\tAn intermittently pleasing but mostly routine effort .',\n",
       " '156062\\t8545\\tAn intermittently pleasing but mostly routine effort',\n",
       " '156063\\t8545\\tAn',\n",
       " '156064\\t8545\\tintermittently pleasing but mostly routine effort',\n",
       " '156065\\t8545\\tintermittently pleasing but mostly routine',\n",
       " '156066\\t8545\\tintermittently pleasing but',\n",
       " '156067\\t8545\\tintermittently pleasing',\n",
       " '156068\\t8545\\tintermittently',\n",
       " '156069\\t8545\\tpleasing']"
      ]
     },
     "execution_count": 10,
     "metadata": {},
     "output_type": "execute_result"
    }
   ],
   "source": [
    "test[:10]"
   ]
  },
  {
   "cell_type": "code",
   "execution_count": 11,
   "metadata": {},
   "outputs": [
    {
     "name": "stdout",
     "output_type": "stream",
     "text": [
      "SentenceId: 1\n",
      "Frase: A series of escapades demonstrating the adage that what is good for the goose is also good for the gander , some of which occasionally amuses but none of which amounts to much of a story .\n",
      "Sentimento: 1\n"
     ]
    }
   ],
   "source": [
    "# Vamos por partes... Primeiramente vejamos uma forma de separar cada frase do treinamento\n",
    "\n",
    "linha_1 = train[1]\n",
    "lista_teste = linha_1.split('\\t')\n",
    "print(\"SentenceId: \" + lista_teste[1] +\"\\nFrase: \" + lista_teste[2] + \"\\nSentimento: \" + lista_teste[3])"
   ]
  },
  {
   "cell_type": "code",
   "execution_count": 12,
   "metadata": {},
   "outputs": [
    {
     "name": "stdout",
     "output_type": "stream",
     "text": [
      "[['PhraseId', 'SentenceId', 'Phrase', 'Sentiment'], ['1', '1', 'A series of escapades demonstrating the adage that what is good for the goose is also good for the gander , some of which occasionally amuses but none of which amounts to much of a story .', '1'], ['2', '1', 'A series of escapades demonstrating the adage that what is good for the goose', '2'], ['3', '1', 'A series', '2'], ['4', '1', 'A', '2']]\n"
     ]
    }
   ],
   "source": [
    "# Fazendo isso para todos os dados (primeiro para treinamento):\n",
    "\n",
    "train_lines = []\n",
    "for i in range(len(train)):\n",
    "    train_lines.append(train[i])\n",
    "\n",
    "train_set_lines = []\n",
    "for i in range(len(train_lines)):\n",
    "    dados_linha = train_lines[i]\n",
    "    dados_linha = dados_linha.split('\\t')\n",
    "    train_set_lines.append(dados_linha)\n",
    "\n",
    "print(train_set_lines[:5])"
   ]
  },
  {
   "cell_type": "code",
   "execution_count": 13,
   "metadata": {},
   "outputs": [
    {
     "name": "stdout",
     "output_type": "stream",
     "text": [
      "[['PhraseId', 'SentenceId', 'Phrase'], ['156061', '8545', 'An intermittently pleasing but mostly routine effort .'], ['156062', '8545', 'An intermittently pleasing but mostly routine effort'], ['156063', '8545', 'An'], ['156064', '8545', 'intermittently pleasing but mostly routine effort']]\n"
     ]
    }
   ],
   "source": [
    "# E agora para os dados de teste:\n",
    "\n",
    "test_lines = []\n",
    "for i in range(len(test)):\n",
    "    test_lines.append(test[i])\n",
    "\n",
    "test_set_lines = []\n",
    "for i in range(len(test_lines)):\n",
    "    dados_linha = test_lines[i]\n",
    "    dados_linha = dados_linha.split('\\t')\n",
    "    test_set_lines.append(dados_linha)\n",
    "\n",
    "print(test_set_lines[:5])"
   ]
  },
  {
   "cell_type": "code",
   "execution_count": 14,
   "metadata": {},
   "outputs": [
    {
     "name": "stdout",
     "output_type": "stream",
     "text": [
      "['50', '1', 'none of which amounts to much of a story', 1]\n"
     ]
    }
   ],
   "source": [
    "# Arrumando o tipo do dado \"Sentiment\". Vamos transformar as strings\n",
    "# em inteiros:\n",
    "\n",
    "for i in range(1, len(train_set_lines)):\n",
    "    train_set_lines[i][3] = int(train_set_lines[i][3])\n",
    "    \n",
    "print(train_set_lines[50])"
   ]
  },
  {
   "cell_type": "code",
   "execution_count": 15,
   "metadata": {},
   "outputs": [],
   "source": [
    "# Arrumando as frases. Vamos substituir todas as maiusculas por\n",
    "# minusculas e tirar quaisquer pontuaçoes desnecessárias dos dados\n",
    "# (tanto de treinamento quanto de teste):\n",
    "\n",
    "import re # Esta é a biblioteca ReGex, usada para auxiliar a localização\n",
    "          # de padrões\n",
    "\n",
    "for i in range(len(train_set_lines)):\n",
    "    train_set_lines[i][2] = train_set_lines[i][2].lower()\n",
    "    string = train_set_lines[i][2]\n",
    "    train_set_lines[i][2] = re.sub('[^a-z0-9\\s]', '', string)\n",
    "    \n",
    "for i in range(len(test_set_lines)):\n",
    "    test_set_lines[i][2] = test_set_lines[i][2].lower()\n",
    "    string = test_set_lines[i][2]\n",
    "    test_set_lines[i][2] = re.sub('[^a-z0-9\\s]', '', string)"
   ]
  },
  {
   "cell_type": "code",
   "execution_count": 16,
   "metadata": {},
   "outputs": [
    {
     "name": "stdout",
     "output_type": "stream",
     "text": [
      "Sentimento: 1\n",
      "Frase para treino: none of which amounts to much of a story\n",
      "\n",
      "Frase para teste: an intermittently pleasing but mostly routine effort \n"
     ]
    }
   ],
   "source": [
    "print(\"Sentimento: \"+str(train_set_lines[50][3])+\"\\nFrase para treino: \"+train_set_lines[50][2])\n",
    "print()\n",
    "print(\"Frase para teste: \"+test_set_lines[1][2])"
   ]
  },
  {
   "cell_type": "code",
   "execution_count": 17,
   "metadata": {},
   "outputs": [
    {
     "name": "stdout",
     "output_type": "stream",
     "text": [
      "a series of escapades demonstrating the adage that what is good for the goose is also good for the gander  some of which occasionally amuses but none of which amounts to much of a story  a series of escapades demonstrating the adage that what is good for the goose a series a series of escapades demonstrating the adage that what is good for the goose of escapades demonstrating the adage that what is good for the goose escapades demonstrating the adage that what is good for the goose demonstrating the adage demonstrating the adage the adage that what is good for the goose that what is good for the goose what is good for the goose is good for the goose good for the goose for the goose goose is also good for the gander  some of which occasionally amuses but none of which amounts to much of a story  is also good for the gander  some of which occasionally amuses but none of which amounts to much of a story is also also good for the gander  some of which occasionally amuses but none of which \n"
     ]
    }
   ],
   "source": [
    "# Vamos agora criar uma lista de palavras (um vocabulário\n",
    "# para uso futuro):\n",
    "\n",
    "all_text = []\n",
    "for i in range(1,len(train_set_lines)):\n",
    "    all_text.append(train_set_lines[i][2])\n",
    "\n",
    "for i in range(1,len(test_set_lines)):\n",
    "    all_text.append(test_set_lines[i][2])\n",
    "\n",
    "all_text = ' '.join(all_text)\n",
    "print(all_text[:1000])\n",
    "\n",
    "# Para quem manja de comprehensions, podemos escrever o mesmo\n",
    "# código acima como:\n",
    "# all_text_comprehension = ' '.join([train_set_lines[i][2] for i in range(1,len(train_set_lines))])\n",
    "# print(all_text_comprehension[:1000])"
   ]
  },
  {
   "cell_type": "code",
   "execution_count": 18,
   "metadata": {},
   "outputs": [
    {
     "name": "stdout",
     "output_type": "stream",
     "text": [
      "['a', 'series', 'of', 'escapades', 'demonstrating', 'the', 'adage', 'that', 'what', 'is', 'good', 'for', 'the', 'goose', 'is', 'also', 'good', 'for', 'the', 'gander', 'some', 'of', 'which', 'occasionally', 'amuses', 'but', 'none', 'of', 'which', 'amounts']\n"
     ]
    }
   ],
   "source": [
    "words = all_text.split()\n",
    "print(words[:30])"
   ]
  },
  {
   "cell_type": "markdown",
   "metadata": {},
   "source": [
    "### Codificando as palavras\n",
    "\n",
    "Para utilizarmos a camada de mergulho (\"embedding layer\"), precisamos passar números inteiros na rede. Uma forma de fazer isso é criando um dicionário que mapeia palavras para números, tornando possível a conversão de cada uma das palavras dos reviews em números.\n",
    "\n",
    "Mais tarde, vamos acrescentar zeros (o chamado \"padding\") nos vetores de input."
   ]
  },
  {
   "cell_type": "code",
   "execution_count": 19,
   "metadata": {},
   "outputs": [
    {
     "name": "stdout",
     "output_type": "stream",
     "text": [
      "Counter({'the': 71162, 'a': 50065, 'of': 44659, 'and': 44234, 'to': 31499, 's': 23587, 'in': 19282, 'is': 18769, 'that': 16858, 'it': 16534, 'as': 11986, 'with': 10722, 'for': 10264, 'its': 9993, 'film': 9125, 'an': 8927, 'this': 8206, 'movie': 8135, 'but': 7127, 'be': 6907, 'you': 6639, 'on': 6547, 'by': 5572, 'nt': 5556, 'more': 5530, 'his': 5435, 'about': 5034, 'not': 5000, 'than': 4968, 'at': 4934, 'one': 4869, 'from': 4782, 'or': 4727, 'like': 4454, 'all': 4373, 'are': 4366, 'have': 4335, 'has': 4118, 'so': 3666, 'story': 3466, 'who': 3384, 'rrb': 3348, 'most': 3128, 'out': 3107, 'too': 3067, 'into': 3020, 'good': 2884, 'lrb': 2853, 'up': 2840, 'much': 2763, 'what': 2698, 'if': 2677, 'characters': 2675, 'their': 2591, 'no': 2565, 'time': 2562, 'just': 2534, 'some': 2473, 'can': 2473, 'comedy': 2468, 'even': 2423, 'i': 2421, 'does': 2304, 'your': 2297, 'little': 2261, 'way': 2251, 'will': 2148, 'make': 2092, 'life': 2077, 'been': 2043, 'only': 2002, 'funny': 1978, 'very': 1971, 'he': 1936, 'any': 1913, 'us': 1908, 'do': 1892, 'enough': 1872, 'her': 1824, 'there': 1776, 'movies': 1751, 'which': 1739, 'new': 1739, 'they': 1729, 'was': 1721, 'love': 1719, 'bad': 1713, 'them': 1661, 'own': 1655, 'work': 1640, 'when': 1638, 'director': 1594, 'something': 1577, 'best': 1571, 'we': 1556, 'people': 1526, 'other': 1525, 'through': 1522, 'two': 1513, 'never': 1510, 'makes': 1500, 'would': 1437, 'many': 1435, 'films': 1422, 'could': 1412, 'see': 1397, 'how': 1386, 'made': 1357, 'character': 1353, 'action': 1341, 'well': 1335, 'may': 1329, 'world': 1328, 'plot': 1316, 'get': 1295, 'look': 1294, 'audience': 1269, 'being': 1260, 'long': 1251, 'those': 1241, 'every': 1232, 'performances': 1231, 'off': 1225, 'really': 1221, 'better': 1204, 're': 1187, 'great': 1187, 'humor': 1171, 'sense': 1166, 'should': 1161, 'big': 1149, 'another': 1145, 'fun': 1139, 'drama': 1139, 'over': 1126, 'few': 1123, 'first': 1101, 'without': 1096, 'both': 1094, 'minutes': 1081, 'real': 1071, 'still': 1068, 'cast': 1068, 'such': 1057, 'while': 1044, 'man': 1030, 'nothing': 1029, 'kind': 1029, 'hollywood': 1015, 'between': 1015, 'ever': 1011, 'human': 1010, 'feel': 999, 'screen': 993, 'far': 985, 'less': 980, 'might': 977, 'american': 963, 'interesting': 962, 'performance': 954, 'script': 947, 'old': 931, 'seen': 930, 'our': 928, 'because': 921, 'rather': 912, 'down': 899, 'my': 898, 'had': 886, 'these': 886, 'were': 881, 'family': 878, 'acting': 876, 'often': 876, 'also': 872, 'heart': 871, 'picture': 866, 'original': 863, 'same': 859, 'moments': 858, 'things': 855, 'thriller': 854, 'full': 840, 'emotional': 839, 'tale': 839, 'right': 836, 'almost': 835, 'itself': 833, 'go': 833, 'take': 827, 'before': 825, 'quite': 816, 'here': 815, 'thing': 811, 'young': 807, 'back': 803, 'watching': 795, 'times': 789, 'entertaining': 786, 'music': 778, 've': 775, 'dialogue': 774, 'scenes': 770, 'end': 767, 'ca': 765, 'romantic': 764, 'find': 764, 'hard': 763, 'watch': 763, 'material': 762, 'where': 759, 'come': 756, 'actors': 751, 'going': 749, 'lot': 748, 'cinema': 738, 'documentary': 721, 'year': 719, 'seems': 712, 'll': 712, 'kids': 708, 'yet': 701, 'years': 697, 'though': 694, 'feels': 691, 'after': 686, 'me': 681, 'history': 669, 'takes': 667, 'subject': 666, 'him': 664, 'worth': 658, 'anything': 658, 'compelling': 655, 'star': 655, 'know': 651, 'comes': 647, 'point': 643, 'entertainment': 643, 'give': 641, 'last': 640, 'war': 636, 'gets': 630, 'did': 628, 'least': 628, 'women': 626, 'say': 625, 'special': 623, 'keep': 621, 'show': 620, 'cinematic': 616, 'seem': 610, 'ultimately': 606, 'part': 606, 'style': 603, 'pretty': 601, 'around': 601, 'care': 590, 'think': 589, 'making': 585, 'want': 585, 'video': 581, 'true': 580, 'away': 579, 'art': 576, 'theater': 574, 'dark': 574, 'laughs': 574, 'works': 572, 'anyone': 569, 'need': 562, 'visual': 561, 'bit': 561, 'fans': 559, 'place': 559, 'sometimes': 558, 'then': 556, 'again': 553, 'piece': 552, 'silly': 549, 'once': 549, 'sweet': 546, 'nearly': 543, 'together': 543, 'direction': 538, 'comic': 536, 'moving': 534, 'why': 533, 'fascinating': 532, 'dull': 531, 'whose': 529, 'narrative': 527, 'three': 527, 'clever': 525, 'horror': 518, 'series': 517, 'children': 516, 'she': 515, 'flick': 514, 'actually': 514, 'genre': 514, 'whole': 511, 'gives': 508, 'high': 507, 'past': 505, 'effects': 505, 'experience': 501, 'since': 499, 'familiar': 498, 'trying': 498, 'charm': 497, 'set': 496, 'men': 492, 'lives': 487, 'under': 486, 'always': 485, 'tv': 480, 'next': 480, 'idea': 477, 'feature': 476, 'title': 475, 'face': 475, 'done': 472, 'day': 471, 'level': 471, 'predictable': 464, 'classic': 464, 'power': 459, 'simply': 458, 'intelligent': 457, 'culture': 455, 'interest': 455, 'mr': 454, 'matter': 454, 'feeling': 451, 'screenplay': 450, 'enjoyable': 450, 'become': 449, 'short': 446, 'amusing': 445, 'study': 444, 'half': 444, 'romance': 444, 'instead': 443, 'wit': 441, 'each': 441, 'ideas': 440, 'book': 440, 'modern': 439, 'looking': 439, 'easy': 439, 'mind': 437, 'everything': 436, 'd': 434, 'premise': 432, 'everyone': 431, 'especially': 430, 'despite': 427, 'strong': 427, 'reality': 427, 'actor': 426, 'play': 426, 'put': 423, 'worst': 423, 'himself': 420, 'quirky': 420, 'john': 419, 'obvious': 419, 'smart': 418, 'enjoy': 417, 'engaging': 414, 'effort': 414, 'version': 413, 'stuff': 413, 'woman': 412, 'summer': 412, 'black': 411, 'charming': 410, 'suspense': 410, 'filmmaker': 409, 'lack': 409, 'filmmakers': 408, 'energy': 408, 'dramatic': 405, 'hours': 404, 'home': 402, 'fresh': 399, 'debut': 399, 'french': 397, 'spirit': 396, 'recent': 395, 'now': 393, 'filmmaking': 392, 'likely': 392, 'de': 392, 'stories': 390, 'small': 390, 'solid': 389, 'light': 389, 'role': 388, 'sort': 388, 'leave': 386, 'else': 386, 'beautiful': 386, 'either': 385, 'different': 384, 'powerful': 384, 'truly': 384, 'death': 381, 'goes': 380, 'tone': 378, 'message': 378, 'fine': 377, 'probably': 376, 'portrait': 376, 'head': 376, 'girl': 376, 'manages': 375, 'jokes': 374, 'melodrama': 374, 'viewers': 374, 'ending': 373, 'project': 373, 'serious': 371, 'turns': 371, 'reason': 369, 'along': 368, 'political': 366, 'line': 365, 'slow': 365, 'audiences': 363, 'surprisingly': 362, 'wo': 362, 'dumb': 360, 'live': 358, 'shot': 358, 'adventure': 357, 'becomes': 356, 'rare': 356, 'offers': 355, 'passion': 354, 'boring': 354, 'beyond': 353, 'believe': 353, 'camera': 348, 'turn': 348, 'social': 348, 'talent': 346, 'completely': 343, 'intelligence': 343, 'production': 342, 'intriguing': 341, 'left': 341, 'personal': 341, 'impossible': 340, 'm': 339, 'deeply': 339, 'directed': 338, 'side': 337, 'novel': 336, 'exercise': 335, 'ends': 335, 'scene': 334, 'opera': 333, 'ride': 333, 'game': 332, 'sure': 331, 'sad': 331, 'hour': 329, 'complex': 328, 'ways': 326, 'satisfying': 326, 'eyes': 326, 'writing': 323, 'written': 322, 'tragedy': 321, 'disney': 321, 'perfect': 321, 'michael': 321, 'moral': 320, 'formula': 320, 'honest': 319, 'tell': 318, 'gags': 317, 'possible': 317, 'themselves': 317, 'storytelling': 316, 'simple': 316, 'hero': 313, 'easily': 312, 'wrong': 312, 'fact': 312, 'boy': 311, 'mostly': 311, 'close': 311, 'comedies': 310, 'having': 309, 'second': 309, 'crime': 309, 'shows': 308, 'violence': 308, 'difficult': 308, 'laugh': 308, 'pleasure': 307, 'images': 307, 'days': 307, 'mess': 305, 'particularly': 305, 'insight': 305, 'already': 305, 'whether': 305, 'touching': 305, 'act': 303, 'otherwise': 302, 'mystery': 302, 'viewer': 302, 'seeing': 301, 'looks': 301, 'rich': 300, 'plays': 299, 'thought': 299, 'nature': 299, 'attempt': 298, 'above': 297, 'form': 297, 'imagination': 297, 'creepy': 294, 'final': 294, 'hilarious': 294, 'cliches': 291, 'sex': 291, 'gentle': 291, 'against': 290, 'visually': 289, 'career': 288, 'animation': 288, 'memorable': 286, 'running': 286, 'flat': 286, 'beauty': 284, 'beautifully': 283, 'future': 283, 'getting': 283, 'psychological': 283, 'occasionally': 282, 'cool': 282, 'elements': 282, 'exactly': 282, 'taste': 281, 'terrific': 281, 'several': 280, 'approach': 279, 'lead': 279, 'school': 279, 'lacks': 278, 'attention': 278, 'usual': 277, 'given': 277, 'concept': 276, 'during': 275, 'pictures': 275, 'got': 275, 'inside': 275, 'adults': 275, 'quality': 274, 'found': 274, 'cold': 274, 'certainly': 274, 'strange': 274, 'tries': 273, 'guys': 273, 'emotionally': 273, 'spy': 272, 'nor': 270, 'journey': 270, 'help': 270, 'fantasy': 270, 'parents': 269, 'truth': 269, 'historical': 269, 'pretentious': 269, 'rock': 268, 'four': 268, 'decent': 267, 'neither': 266, 'important': 266, 'period': 266, 'gone': 263, 'case': 261, 'moment': 261, 'fairly': 261, 'doing': 261, 'vision': 261, 'soap': 260, 'run': 260, 'scifi': 260, 'none': 259, 'epic': 258, 'writerdirector': 258, 'middle': 258, 'lost': 258, 'sit': 257, 'stand': 257, 'bring': 257, 'entire': 257, 'fails': 256, 'single': 256, 'genuine': 256, 'expect': 255, 'america': 255, 'events': 255, 'change': 255, 'sequences': 254, 'earnest': 253, 'dead': 253, 'ones': 252, 'worthy': 252, 'issues': 252, 'contrived': 251, 'artist': 250, 'behind': 249, 'relationship': 248, 'view': 248, 'knows': 248, 'others': 248, 'brilliant': 247, 'previous': 247, 'emotions': 246, 'depth': 246, 'pace': 246, 'must': 245, 'job': 245, 'entirely': 244, 'delivers': 244, 'class': 244, 'remains': 243, 'tragic': 243, 'gorgeous': 242, 'mood': 242, 'deep': 241, 'problem': 241, 'barely': 241, 'wonderful': 241, 'cheap': 241, 'sexual': 241, 'told': 241, 'nice': 241, 'working': 241, 'cultural': 241, 'sequel': 240, 'creative': 240, 'guy': 240, 'appeal': 239, 'satire': 237, 'dog': 237, 'deal': 237, 'taking': 236, 'adaptation': 236, 'surprising': 236, 'hand': 236, 'try': 235, 'keeps': 235, 'air': 235, 'teen': 234, 'hit': 234, 'worse': 233, 'sentimental': 233, 'perfectly': 232, 'night': 232, 'latest': 231, 'city': 231, 'points': 231, 'scary': 231, 'contemporary': 231, 'needs': 231, 'call': 230, 'memory': 230, 'talented': 230, 'excellent': 230, 'remarkable': 230, 'uses': 230, 'appealing': 230, 'welcome': 229, 'pop': 229, 'somewhat': 229, 'hope': 229, 'impact': 229, 'david': 228, 'tension': 228, 'bland': 228, 'among': 228, 'plenty': 228, 'house': 227, 'tired': 227, 'fully': 227, 'eye': 227, 'remake': 227, 'warm': 227, 'age': 226, 'ugly': 226, 'situation': 226, 'supposed': 226, 'thoughtful': 225, 'ambitious': 225, 'ago': 225, 'sound': 225, 'robert': 224, 'york': 223, 'major': 223, 'sustain': 223, 'today': 223, 'potential': 223, 'college': 222, 'television': 222, 'comingofage': 221, 'living': 220, 'bond': 220, 'proves': 219, 'thinking': 219, 'giving': 219, 'start': 218, 'magic': 218, 'target': 218, 'certain': 218, 'monster': 217, 'clear': 217, 'offer': 216, 'thin': 216, 'british': 216, 'cartoon': 215, 'finally': 215, 'utterly': 215, 'process': 215, 'animated': 214, 'someone': 214, 'wild': 213, 'stupid': 213, 'straight': 213, 'playing': 212, 'lots': 212, 'white': 212, 'cute': 212, 'coming': 211, 'relationships': 211, 'used': 211, 'business': 211, 'couple': 210, 'low': 210, 'flicks': 210, 'able': 209, 'leaves': 209, 'inventive': 208, 'convincing': 208, 'use': 208, 'touch': 207, 'ii': 207, 'hold': 206, 'female': 206, 'urban': 206, 'company': 205, 'sentimentality': 205, 'bizarre': 205, 'unsettling': 204, 'sharp': 204, 'country': 204, 'create': 204, 'throughout': 204, 'wonder': 204, 'skin': 203, 'cut': 203, 'falls': 203, 'car': 203, 'soul': 202, 'impressive': 202, 'girls': 202, 'slightly': 202, 'across': 201, 'kid': 201, 'themes': 201, 'let': 201, 'surprise': 201, 'awful': 200, 'unexpected': 199, 'alone': 199, 'fire': 199, 'read': 199, 'add': 199, 'thoroughly': 199, 'quiet': 198, 'success': 198, 'date': 198, 'starts': 198, 'imagine': 198, 'loss': 198, 'ensemble': 198, 'george': 198, 'merely': 198, 'surprises': 198, 'effective': 197, 'pure': 197, 'odd': 197, 'winning': 196, 'episode': 196, 'road': 196, 'manner': 196, 'subtle': 196, 'lovely': 196, 'engrossing': 196, 'conflict': 196, 'until': 196, 'formulaic': 196, 'oscar': 196, 'perhaps': 195, 'politics': 195, 'yourself': 194, 'felt': 194, 'soundtrack': 194, 'chemistry': 194, 'understand': 193, 'actress': 193, 'stars': 193, 'wanted': 193, 'oldfashioned': 193, 'ultimate': 193, 'loud': 193, 'exciting': 193, 'grace': 192, 'waste': 192, 'writer': 192, 'heavy': 192, 'acted': 192, 'brain': 192, 'substance': 192, 'wants': 192, 'crazy': 192, 'mildly': 191, 'questions': 191, 'share': 191, 'provocative': 190, 'gay': 190, 'highly': 190, 'although': 190, 'mediocre': 190, 'boys': 190, 'overall': 190, 'hell': 190, 'master': 190, 'flaws': 190, 'crowd': 190, 'words': 190, 'person': 190, 'battle': 189, 'generation': 189, 'considerable': 188, 'era': 188, 'flawed': 188, 'maybe': 188, 'promise': 188, '90': 187, 'room': 186, 'pay': 186, 'typical': 186, 'money': 186, 'franchise': 186, 'begins': 186, 'stylish': 186, 'taken': 186, 'mean': 186, 'slapstick': 185, 'drag': 184, 'casting': 184, 'unique': 184, 'plain': 184, 'called': 184, 'unfunny': 183, 'colorful': 183, 'sincere': 182, 'involved': 182, 'frame': 182, 'saw': 182, 'twists': 182, 'dry': 182, 'painful': 182, 'equally': 182, 'interested': 181, 'force': 181, 'question': 181, 'witty': 180, 'believable': 180, 'joke': 179, 'ability': 179, 'problems': 179, 'party': 178, 'evil': 178, 'examination': 178, 'humanity': 178, 'tedious': 178, 'warmth': 178, 'central': 178, 'sensitive': 178, 'five': 177, 'execution': 177, 'poor': 177, 'break': 177, 'successful': 177, 'intimate': 177, 'friendship': 177, 'spiritual': 176, 'screenwriter': 176, 'niro': 176, 'dream': 175, 'attempts': 175, 'steven': 175, 'public': 175, 'forced': 175, 'terrible': 175, 'situations': 175, 'sophisticated': 174, 'brings': 174, 'goofy': 174, 'name': 174, 'recommend': 173, 'mark': 173, 'society': 173, 'open': 173, 'artistic': 173, 'footage': 173, 'murder': 172, 'terms': 172, 'happy': 172, 'grief': 172, 'water': 172, 'places': 172, 'trouble': 171, 'pacing': 171, 'generic': 171, 'upon': 171, 'spielberg': 171, '2002': 171, 'commercial': 171, 'delightful': 171, 'weird': 170, 'seriously': 170, 'edge': 170, 'ms': 170, 'indie': 169, 'rest': 169, 'green': 169, 'course': 169, 'red': 169, 'giant': 169, 'poetry': 168, 'masterpiece': 168, 'natural': 168, 'happen': 168, 'routine': 168, 'deserves': 168, 'general': 168, 'gripping': 168, 'behavior': 168, '2': 168, 'faith': 168, 'wife': 168, 'games': 167, 'williams': 167, 'james': 167, 'credits': 167, 'sets': 167, 'standard': 167, 'core': 167, 'badly': 167, 'score': 167, 'remember': 166, 'brothers': 166, 'balance': 166, 'murphy': 166, 'bright': 166, 'perspective': 165, 'setting': 165, 'pieces': 165, 'depressing': 165, 'except': 165, 'treasure': 165, 'intrigue': 164, 'apart': 164, 'melodramatic': 164, 'challenging': 164, 'longer': 164, 'complete': 164, 'meaning': 163, 'thanks': 163, 'cause': 163, 'intended': 163, 'meditation': 163, 'sandler': 163, 'mix': 163, 'purpose': 163, 'dreams': 162, 'means': 162, 'lines': 162, 'huge': 162, 'mindless': 162, 'particular': 162, 'decades': 162, 'trip': 162, 'extreme': 162, 'large': 162, 'avoid': 161, 'efforts': 161, 'parts': 161, 'stunning': 161, 'thrills': 161, 'viewing': 160, 'imax': 160, 'popcorn': 160, 'release': 160, 'tough': 160, 'extremely': 160, 'definitely': 160, 'amount': 160, 'pleasant': 160, 'grant': 160, 'fit': 159, 'universal': 159, 'conventional': 159, 'figure': 159, 'treat': 159, 'obviously': 159, 'free': 159, 'hackneyed': 159, 'energetic': 159, 'delicate': 158, 'chase': 158, 'originality': 158, 'alive': 158, 'missing': 158, 'happens': 158, 'weak': 157, 'slight': 157, '10': 157, 'based': 157, 'century': 157, 'sports': 157, 'lacking': 157, 'funnier': 156, 'fan': 156, 'played': 156, 'price': 156, 'guilty': 156, 'twist': 156, 'skill': 156, 'justice': 156, 'seat': 155, 'average': 155, 'group': 155, 'match': 155, 'fashion': 155, 'sequence': 154, 'greatest': 154, 'directors': 154, 'queen': 154, 'excitement': 154, 'waiting': 154, 'finds': 154, 'opportunity': 154, 'word': 154, 'chinese': 154, 'inspired': 153, 'shots': 153, 'foreign': 153, 'disturbing': 153, 'quickly': 153, 'development': 153, 'poetic': 152, 'allen': 152, 'chan': 152, 'songs': 152, 'festival': 152, 'subjects': 151, 'affection': 151, 'win': 151, 'forget': 151, 'tom': 151, 'intense': 151, 'accessible': 151, 'puts': 150, 'martin': 150, 'reveals': 150, 'rarely': 150, 'ages': 150, 'protagonist': 150, 'watchable': 149, 'unusual': 149, 'haunting': 149, 'fare': 149, '70s': 149, 'mother': 149, 'forgettable': 149, 'attraction': 148, 'grossout': 148, 'sea': 148, 'deeper': 148, 'motion': 148, 'talk': 148, 'complicated': 148, 'shake': 148, 'peter': 147, 'captures': 147, 'triumph': 147, 'blend': 147, 'killer': 147, 'daring': 147, 'japanese': 147, 'wedding': 147, 'members': 147, 'refreshing': 146, 'dangerous': 146, 'king': 146, 'somewhere': 146, 'son': 146, 'derivative': 146, 'damned': 145, 'heaven': 145, 'indeed': 145, 'minor': 145, 'voice': 145, 'studio': 145, 'wish': 145, 'produced': 145, 'courage': 144, 'conclusion': 144, 'uneven': 144, 'shallow': 144, 'painfully': 144, 'top': 144, 'jackson': 144, 'cinematography': 144, 'monty': 143, 'released': 143, 'favor': 143, 'value': 143, 'telling': 143, 'said': 143, 'sitcom': 143, 'struggle': 142, 'list': 142, 'editing': 142, 'atmosphere': 142, 'simplistic': 142, 'realistic': 142, 'runs': 142, 'god': 142, 'lame': 142, 'profound': 142, 'focus': 142, 'vehicle': 142, 'reading': 141, 'fiction': 141, 'miss': 141, 'allows': 141, 'turned': 141, 'creates': 141, 'treatment': 141, 'endearing': 141, 'space': 141, 'striking': 141, 'identity': 141, 'stage': 141, 'performers': 141, 'desire': 141, 'child': 141, 'heartfelt': 140, 'product': 140, 'stale': 140, 'hits': 140, 'fast': 140, 'genuinely': 140, 'imaginative': 140, 'main': 140, 'adult': 140, 'outrageous': 140, 'roles': 140, 'chance': 139, 'community': 139, 'levels': 139, 'revenge': 138, 'promising': 138, 'talking': 138, 'farce': 138, 'strength': 137, 'south': 137, 'vivid': 137, 'fear': 137, 'charisma': 137, 'involving': 136, 'sexy': 136, 'created': 136, 'affair': 136, 'poignant': 136, 'twisted': 136, 'determined': 136, 'remarkably': 136, 'ground': 136, 'third': 136, 'wellacted': 136, 'friends': 136, 'manipulative': 135, 'largely': 135, 'riveting': 135, 'refreshingly': 135, 'loses': 135, 'unpleasant': 135, 'intentions': 135, 'imagery': 135, 'ridiculous': 135, 'wildly': 135, 'sides': 135, 'source': 134, 'common': 134, 'usually': 134, 'emotion': 134, 'prove': 134, 'strangely': 134, 'spectacle': 134, 'storyline': 134, 'filmed': 134, 'sight': 134, 'delivery': 134, 'twice': 134, 'hate': 133, 'report': 133, 'industry': 133, 'wait': 133, 'starring': 133, 'exploration': 133, 'clearly': 132, 'theme': 132, 'sounds': 132, 'pulls': 132, 'personality': 132, 'beat': 132, 'leads': 132, 'however': 132, 'folks': 132, 'sitting': 131, 'early': 131, 'toward': 131, 'comedic': 131, 'moviegoers': 131, 'doubt': 131, 'raw': 131, 'filled': 131, 'gangster': 131, 'grand': 131, 'extraordinary': 131, 'necessary': 131, 'failure': 131, 'provides': 130, 'national': 130, 'present': 130, 'wry': 130, 'sick': 130, 'front': 130, 'offering': 129, 'budget': 129, 'song': 129, 'funniest': 129, 'body': 129, 'onscreen': 129, 'follow': 129, 'worthwhile': 129, 'empty': 128, 'yarn': 128, 'realism': 128, 'superior': 128, 'hardly': 128, 'possibly': 128, 'further': 128, 'virtually': 128, 'crush': 128, 'bits': 128, 'liked': 128, 'deliver': 128, 'italian': 128, 'move': 128, 'worked': 128, 'slice': 127, 'within': 127, 'superficial': 127, 'chris': 127, 'offensive': 127, 'hill': 127, 'soderbergh': 127, 'suffers': 127, 'resonance': 127, 'lesson': 127, 'dance': 127, 'fears': 126, 'growing': 126, 'moviemaking': 126, 'expected': 126, 'directing': 126, 'fight': 126, 'channel': 126, 'sappy': 126, 'delight': 126, 'frank': 126, 'street': 126, 'afterschool': 126, 'flair': 125, 'pointless': 125, 'mainstream': 125, 'nicely': 125, '20': 125, 'overcome': 125, 'vs': 125, 'repetitive': 125, 'jones': 124, 'band': 124, 'hot': 124, 'absolutely': 124, 'stunts': 124, 'machine': 124, 'spectacular': 124, 'zone': 124, 'aspects': 124, 'compassion': 124, 'brown': 124, 'hip': 124, 'generally': 124, 'saturday': 124, 'hoffman': 124, 'modest': 123, 'poorly': 123, 'sequels': 123, 'essentially': 123, 'blade': 123, 'revealing': 123, 'irritating': 123, 'friday': 123, 'families': 123, 'seagal': 123, 'count': 123, 'hair': 123, 'older': 123, 'overly': 123, 'served': 123, 'visuals': 123, 'holds': 123, 'drive': 123, 'please': 122, 'x': 122, 'heavyhanded': 122, 'cynical': 122, 'holiday': 122, 'sheer': 122, 'step': 122, 'quietly': 122, 'father': 122, 'blue': 122, 'playful': 122, 'team': 121, 'lazy': 121, 'rhythms': 121, 'computer': 121, 'mesmerizing': 121, 'finding': 121, 'inspiring': 121, 'oddly': 121, 'vampire': 121, 'insightful': 121, 'damn': 121, 'faithful': 121, 'wise': 121, 'reach': 121, 'paced': 121, 'thinks': 121, 'whatever': 120, 'roll': 120, 'absorbing': 120, 'affecting': 120, 'save': 120, 'bears': 120, 'stock': 120, 'false': 120, 'empathy': 120, 'hearts': 120, 'kevin': 120, 'took': 120, 'talents': 120, 'needed': 120, 'loved': 120, 'guns': 120, 'digital': 120, 'onto': 120, 'holes': 120, 'service': 120, 'exhilarating': 120, 'pain': 120, 'equivalent': 119, 'precious': 119, '60s': 119, 'values': 119, 'walk': 119, 'experiences': 119, 'stay': 119, 'awkward': 119, 'mild': 119, 'bullock': 119, 'glimpse': 119, 'tears': 119, 'ice': 118, 'lets': 118, 'yes': 118, 'clarity': 118, 'standup': 118, 'broad': 118, 'glory': 118, 'dancing': 118, 'inevitable': 118, 'devoid': 118, 'answers': 118, 'literary': 118, 'lived': 118, 'shoot': 118, 'nonsense': 118, 'chilling': 118, 'race': 118, 'fatal': 117, 'tender': 117, 'number': 117, 'predecessor': 117, 'admirable': 117, 'center': 117, 'somehow': 117, 'camp': 117, 'ryan': 117, 'christmas': 117, 'theaters': 117, 'details': 116, 'intellectual': 116, 'husband': 116, 'respect': 116, 'marks': 116, 'event': 116, 'forgotten': 116, 'thoughtprovoking': 116, 'retread': 116, 'male': 116, 'revolution': 116, 'presence': 116, 'grow': 116, 'format': 116, 'die': 116, 'joy': 115, 'state': 115, 'americans': 115, 'appears': 115, 'credit': 115, 'feelgood': 115, 'accomplished': 115, 'standards': 115, 'iranian': 115, 'inner': 115, 'adam': 115, 'check': 115, 'heartwarming': 115, 'maudlin': 115, 'park': 115, 'snow': 114, 'amazing': 114, 'crafted': 114, 'serves': 114, 'musical': 114, 'potentially': 114, 'concerned': 114, 'persona': 114, 'frustrating': 114, 'marriage': 114, 'late': 114, 'numbers': 114, 'wacky': 114, 'science': 113, 'unlikely': 113, 'clumsy': 113, 'bmovie': 113, 'bunch': 113, 'surface': 113, 'annoying': 113, 'detail': 113, 'lowbudget': 113, 'relatively': 113, 'diverting': 113, 'tribute': 113, 'presents': 113, 'beginning': 113, 'kong': 112, 'sloppy': 112, 'effect': 112, 'fat': 112, 'consider': 112, 'constructed': 112, 'philosophical': 112, 'blood': 112, 'books': 112, 'nasty': 112, 'totally': 111, 'downright': 111, 'designed': 111, 'private': 111, 'whom': 111, 'fair': 111, 'desperate': 111, 'pass': 111, 'reasonably': 111, 'cheesy': 111, 'condition': 111, 'excuse': 111, 'visceral': 111, 'choices': 111, 'disbelief': 111, 'willing': 111, 'soon': 110, 'violent': 110, 'tells': 110, 'fall': 110, 'adolescent': 110, 'eccentric': 110, 'document': 110, 'news': 110, 'various': 110, 'spark': 110, 'brutal': 110, 'speaking': 110, 'drugs': 110, 'moviegoing': 110, 'scenario': 110, 'significant': 110, 'length': 110, 'example': 109, 'tiresome': 109, 'wars': 109, 'escape': 109, 'selfconscious': 109, 'happiness': 109, 'fate': 109, 'notion': 109, 'combination': 108, 'mile': 108, 'structure': 108, 'powers': 108, 'insights': 108, 'teenage': 108, 'apparent': 108, 'provide': 108, 'nightmare': 108, 'search': 108, 'meandering': 108, 'pleasures': 108, 'actual': 108, 'sum': 108, 'creativity': 108, 'type': 108, 'parker': 108, 'path': 107, 'ambition': 107, 'b': 107, 'territory': 107, 'jason': 107, 'roger': 107, 'basic': 107, 'increasingly': 107, 'dreary': 107, 'appear': 107, 'buy': 107, 'connect': 107, 'intensity': 107, 'frightening': 107, 'pull': 107, 'angst': 107, 'moore': 107, 'noir': 107, 'bored': 107, 'kissinger': 107, 'thrilling': 106, 'finish': 106, 'irish': 106, 'creating': 106, 'weight': 106, 'hopeful': 106, 'result': 106, 'blair': 106, 'directorial': 106, 'brought': 106, 'detailed': 106, 'current': 106, 'acts': 106, 'including': 106, 'deftly': 106, 'smile': 106, 'mayhem': 106, 'benigni': 106, 'selfindulgent': 105, 'beneath': 105, 'mixed': 105, 'record': 105, 'wellmade': 105, 'conviction': 105, 'teenagers': 105, 'disappointing': 105, 'evocative': 105, 'rhythm': 105, 'incredibly': 105, 'shame': 105, 'language': 105, 'frequently': 105, 'costumes': 105, 'return': 105, 'hong': 104, 'makers': 104, 'surreal': 104, 'analyze': 104, 'safe': 104, 'destination': 104, 'spoof': 104, 'witch': 104, 'trek': 104, 'metaphor': 104, 'test': 104, 'damage': 104, 'succeeds': 104, 'scorsese': 104, 'distinctive': 104, 'em': 104, 'office': 104, 'reno': 103, 'homage': 103, 'ordinary': 103, 'anne': 103, 'dazzling': 103, 'likable': 103, 'complexity': 103, 'madness': 103, 'wonderfully': 103, 'traditional': 103, 'southern': 102, 'following': 102, 'cult': 102, 'spend': 102, 'winner': 102, 'happened': 102, 'kaufman': 102, 'ghost': 102, 'control': 102, 'showing': 102, 'creation': 102, 'bitter': 102, 'shocking': 102, 'utter': 102, 'wilde': 101, 'famous': 101, 'plotting': 101, 'offbeat': 101, 'matters': 101, 'mere': 101, 'hiphop': 101, 'issue': 101, 'seven': 101, 'screenwriting': 101, 'messages': 101, 'heard': 101, 'bittersweet': 101, 'critical': 101, 'reallife': 101, 'animal': 101, 'stomach': 101, 'belongs': 101, 'excess': 101, 'genres': 101, 'pokemon': 101, 'silliness': 101, 'gritty': 100, 'spooky': 100, 'depiction': 100, 'memories': 100, 'laughter': 100, 'lively': 100, 'design': 100, 'dealing': 100, 'stereotypes': 100, 'patience': 100, 'held': 100, 'disguise': 100, 'confusing': 100, 'fantastic': 100, 'polished': 100, 'string': 99, 'unfortunately': 99, 'week': 99, 'proceedings': 99, 'logic': 99, 'artificial': 99, 'ludicrous': 99, 'landscape': 99, 'stuck': 99, 'lady': 99, 'theatrical': 99, 'changing': 98, 'land': 98, 'drug': 98, 'laughing': 98, 'planet': 98, 'double': 98, 'unlike': 98, 'knowing': 98, 'went': 98, 'chilly': 98, 'rental': 98, 'deserve': 98, 'english': 98, 'cliched': 97, 'escapism': 97, 'delivered': 97, 'technical': 97, 'shock': 97, 'mention': 97, 'appreciate': 97, 'artists': 97, 'dysfunctional': 97, 'sign': 97, 'understanding': 97, 'harmless': 97, 'loose': 97, 'capable': 97, 'finale': 97, 'poignancy': 97, 'cautionary': 97, 'literally': 97, 'victims': 97, 'horrifying': 96, 'cliche': 96, 'bigger': 96, 'preposterous': 96, 'morality': 96, 'ripoff': 96, 'spare': 96, 'grandeur': 96, 'commentary': 96, 'context': 96, 'knowledge': 96, 'sympathy': 96, 'frida': 96, 'contrivances': 96, 'vibrant': 96, 'photography': 96, 'represents': 96, 'burns': 96, 'spent': 96, 'outside': 96, 'embarrassment': 96, 'vincent': 95, 'quick': 95, 'curiosity': 95, 'lee': 95, 'gem': 95, 'humorous': 95, 'quest': 95, 'solondz': 95, 'broken': 95, 'order': 95, 'ticket': 95, 'authentic': 95, 'crude': 95, 'trifle': 95, 'lyrical': 95, 'cloying': 95, 'minute': 95, 'capture': 95, 'theatre': 95, 'disaster': 95, 'jealousy': 95, 'overwrought': 95, 'devastating': 95, 'forces': 94, 'pat': 94, 'results': 94, 'ask': 94, 'rush': 94, 'dvd': 94, 'humour': 94, 'preachy': 94, 'overthetop': 94, 'near': 94, 'opening': 94, 'wave': 94, 'faster': 94, 'forgive': 94, 'trite': 94, 'absurd': 94, 'pathos': 94, 'chaotic': 94, 'fly': 94, 'rap': 94, 'stop': 93, 'aware': 93, 'uplifting': 93, 'poem': 93, 'using': 93, 'saying': 93, 'biting': 93, 'locations': 93, 'tortured': 93, 'fill': 93, 'charismatic': 93, 'suffering': 93, 'turning': 93, 'committed': 93, 'season': 93, 'shooting': 93, 'dirty': 93, 'tradition': 93, 'sentiment': 93, 'entertain': 93, 'stirring': 92, 'key': 92, 'degree': 92, 'trick': 92, 'crimes': 92, 'anywhere': 92, 'actresses': 92, 'leaving': 92, 'glass': 92, 'credible': 92, 'total': 92, 'signs': 92, 'building': 92, 'flow': 92, 'harry': 92, 'matinee': 92, 'pathetic': 92, 'inept': 91, 'endless': 91, 'consistently': 91, 'innocence': 91, 'paid': 91, 'carries': 91, 'indian': 91, 'slasher': 91, 'staged': 91, 'existence': 91, 'roots': 91, 'startling': 91, 'figures': 91, 'sadness': 91, 'remembered': 91, 'holocaust': 91, 'abstract': 91, 'police': 91, 'realized': 91, 'choose': 91, 'saving': 91, 'weeks': 91, 'bold': 91, 'menace': 91, 'martha': 90, 'amateurish': 90, 'guessing': 90, 'graphic': 90, 'arnold': 90, 'subtlety': 90, 'trademark': 90, 'closer': 90, 'lowkey': 90, 'enjoyed': 90, 'happening': 90, 'secrets': 90, 'learn': 90, 'mistake': 90, 'observations': 90, 'fisher': 90, 'becoming': 90, 'brother': 90, 'cover': 90, 'xxx': 90, 'predecessors': 89, 'bottom': 89, 'resonant': 89, 'achieves': 89, 'fable': 89, 'features': 89, 'younger': 89, 'villain': 89, 'technology': 89, 'timely': 89, 'hands': 89, 'earth': 89, 'jack': 89, 'bother': 89, 'cruel': 89, 'terrifying': 89, 'friend': 89, 'demands': 89, 'ring': 89, 'grows': 89, 'crisp': 89, 'corner': 89, 'sugar': 89, 'palma': 89, 'pair': 88, 'moves': 88, 'horrible': 88, 'odds': 88, 'britney': 88, 'nostalgia': 88, 'paul': 88, 'pinocchio': 88, 'unnecessary': 88, 'rice': 88, 'myself': 88, 'pity': 88, 'admire': 88, 'discovery': 88, 'justify': 88, 'wasted': 88, 'heroine': 88, 'greek': 88, 'minds': 88, 'schwarzenegger': 88, 'childhood': 87, 'gag': 87, 'winds': 87, 'screaming': 87, 'rent': 87, 'gifted': 87, 'bag': 87, 'woo': 87, 'davis': 87, 'washington': 87, 'straightforward': 87, 'domestic': 87, 'larger': 87, 'wrote': 87, 'bringing': 87, 'scenery': 87, 'ingredients': 87, 'imitation': 87, 'tear': 87, 'thick': 86, 'pow': 86, 'eventually': 86, 'extended': 86, 'cleverness': 86, 'honesty': 86, 'background': 86, 'ahead': 86, 'subversive': 86, 'teens': 86, 'deadly': 86, 'monsters': 86, 'featuring': 86, 'fancy': 86, 'spirited': 86, 'ritchie': 85, 'distance': 85, 'mixture': 85, 'account': 85, 'leaden': 85, 'con': 85, 'astonishing': 85, 'abuse': 85, 'bore': 85, 'wow': 85, 'soggy': 85, 'sade': 85, 'broomfield': 85, 'spell': 85, 'gradually': 85, 'tricks': 85, 'christian': 85, 'missed': 85, 'blind': 85, 'pretension': 85, 'cultures': 85, 'intricate': 85, 'inspire': 85, 'program': 85, 'writers': 84, 'drawn': 84, 'subtly': 84, 'impression': 84, 'earlier': 84, 'mysteries': 84, 'tasty': 84, 'suspenseful': 84, 'implausible': 84, 'despair': 84, 'mysterious': 84, 'tiny': 84, 'nowhere': 84, 'middleaged': 84, 'godard': 84, 'whimsy': 84, 'rendered': 84, 'supporting': 84, 'rewarding': 84, 'required': 84, 'brutally': 84, 'relentless': 84, 'afraid': 84, 'teacher': 84, 'faces': 84, 'endeavor': 83, 'spears': 83, 'firsttime': 83, 'superb': 83, 'somber': 83, 'charms': 83, 'started': 83, 'color': 83, 'engage': 83, 'slowly': 83, 'cheese': 83, 'lovers': 83, 'store': 83, 'woody': 83, 'realize': 83, 'pack': 83, 'joe': 83, 'urgency': 83, '80': 83, 'banal': 83, 'window': 83, 'satirical': 83, 'quirks': 83, 'richer': 82, 'constant': 82, 'slick': 82, 'bite': 82, 'attitude': 82, 'positive': 82, 'spite': 82, 'fish': 82, 'howard': 82, 'obsession': 82, 'enterprise': 82, 'hugh': 82, 'stays': 82, 'handful': 82, 'unless': 81, 'wondering': 81, 'shyamalan': 81, 'vulgar': 81, 'revelatory': 81, 'wears': 81, 'exotic': 81, 'smug': 81, 'tarantino': 81, 'dramatically': 81, 'undeniably': 81, 'touched': 81, 'content': 81, 'market': 81, '9': 81, 'manhattan': 81, 'comfort': 81, 'crap': 81, 'finest': 81, 'breathtaking': 81, 'perverse': 80, 'crass': 80, 'strike': 80, 'lawrence': 80, 'endure': 80, 'reign': 80, 'handsome': 80, 'sensual': 80, 'explore': 80, 'characterizations': 80, 'cop': 80, 'plotted': 80, 'van': 80, 'notice': 80, 'emerges': 80, 'inspirational': 80, 'hear': 80, 'yaya': 80, 'amused': 80, 'marginal': 80, 'serial': 80, 'elaborate': 80, 'measure': 80, 'stands': 80, 'elegant': 80, 'enter': 80, 'thousands': 80, 'complications': 79, 'unimaginative': 79, 'sketch': 79, 'cho': 79, 'random': 79, 'verve': 79, 'trash': 79, 'relentlessly': 79, 'hopkins': 79, 'scores': 79, 'gang': 79, 'lousy': 79, 'exquisite': 79, 'seemingly': 79, 'assured': 79, 'knew': 79, 'lighthearted': 79, 'comfortable': 79, 'grasp': 79, 'loving': 79, 'food': 79, 'mad': 79, 'kung': 78, 'achievement': 78, 'virtues': 78, 'madonna': 78, 'fighting': 78, 'unintentional': 78, 'urge': 78, 'unnerving': 78, 'fake': 78, 'variety': 78, 'candy': 78, 'leading': 78, 'peculiar': 78, 'pick': 78, 'jim': 78, 'flimsy': 78, 'reel': 78, 'necessarily': 78, 'sand': 78, 'overlong': 78, 'travel': 78, 'spot': 78, 'prison': 78, 'firstrate': 78, 'kiddie': 78, 'heartbreaking': 78, 'soft': 78, 'touches': 78, 'dramas': 78, 'competent': 78, 'buddy': 78, 'grab': 78, 'fourth': 78, 'inoffensive': 77, 'masterful': 77, 'asks': 77, 'flashy': 77, 'desperately': 77, 'essence': 77, 'barry': 77, 'accent': 77, 'carefully': 77, 'came': 77, 'herzog': 77, 'collection': 77, 'payoff': 77, 'outstanding': 77, 'known': 77, 'inherent': 77, 'stunt': 77, 'sweetness': 77, 'manage': 77, 'deft': 77, 'system': 77, 'similar': 77, 'rise': 77, 'listen': 77, 'lies': 77, 'table': 77, 'lifetime': 77, 'task': 77, 'engaged': 77, 'unfaithful': 77, 'coherent': 77, 'sink': 77, 'crisis': 76, 'polanski': 76, 'misses': 76, 'eight': 76, 'uninspired': 76, 'featurelength': 76, 'harrowing': 76, 'carvey': 76, 'halfway': 76, 'allow': 76, 'costume': 76, 'popular': 76, 'due': 76, 'showtime': 76, 'lesser': 76, 'limited': 76, 'gift': 76, 'herself': 76, 'captivating': 76, 'divine': 76, 'casual': 76, 'j': 76, 'wilson': 76, 'sour': 76, 'integrity': 76, 'wellmeaning': 76, 'expectations': 76, 'substantial': 76, 'jewish': 76, 'factor': 76, 'lie': 75, 'stylized': 75, 'consciousness': 75, 'potent': 75, 'keeping': 75, 'rises': 75, 'addition': 75, 'austin': 75, 'cable': 75, 'mainly': 75, 'sane': 75, 'ai': 75, 'miller': 75, 'european': 75, 'obnoxious': 75, 'joan': 75, 'begin': 75, 'halloween': 75, 'bow': 75, 'loves': 75, 'sell': 75, 'lifeless': 75, 'notes': 75, 'amy': 75, 'frontal': 75, 'psychology': 75, 'suggests': 75, 'kahlo': 75, 'killed': 75, 'unsentimental': 75, 'topic': 75, 'connection': 75, 'cgi': 75, 'root': 75, 'plodding': 74, 'religious': 74, 'beach': 74, 'punch': 74, 'chills': 74, 'bleak': 74, 'generate': 74, 'reaction': 74, '100': 74, 'terribly': 74, 'plight': 74, 'encounter': 74, 'throws': 74, '3d': 74, 'mature': 74, 'players': 74, 'presented': 74, 'ship': 74, 'artifice': 74, 'image': 74, 'buoyant': 74, 'noble': 74, 'heads': 74, 'richard': 74, 'aside': 74, 'strain': 74, 'inane': 74, 'entry': 74, 'constantly': 74, 'daytime': 74, 'thematic': 74, 'wickedly': 74, 'problematic': 74, 'uncompromising': 74, 'medium': 74, 'hotel': 74, 'sketchy': 74, 'timing': 74, 'benefit': 74, 'providing': 74, 'tales': 74, 'china': 74, 'bloody': 73, 'transcends': 73, 'shadows': 73, 'incoherent': 73, 'et': 73, 'box': 73, 'academy': 73, 'santa': 73, 'mouth': 73, 'unflinching': 73, 'jackie': 73, 'darker': 73, 'meaningful': 73, 'jerry': 73, 'hybrid': 73, 'clothes': 73, 'vital': 73, '15': 73, 'scale': 73, 'nuanced': 73, 'stiff': 73, 'credibility': 73, 'biopic': 73, 'physical': 73, 'characterization': 73, 'warning': 73, 'fuzzy': 73, 'sarandon': 73, 'student': 73, 'resist': 73, 'effectively': 73, 'brand': 73, 'darkly': 73, 'importance': 72, 'remain': 72, 'goal': 72, 'honestly': 72, 'tragedies': 72, 'fights': 72, 'cross': 72, 'brief': 72, 'unfolds': 72, 'admit': 72, 'glib': 72, 'innocent': 72, 'ponder': 72, 'draw': 72, 'sleep': 72, 'aliens': 72, 'belly': 72, 'ford': 72, 'exploitation': 72, 'consequences': 72, 'visit': 72, 'focused': 72, 'harris': 72, 'juvenile': 72, 'arts': 72, 'pale': 72, 'whale': 72, 'looked': 72, 'seats': 72, 'ingenious': 72, 'junk': 72, 'appropriate': 71, 'delicious': 71, 'dawson': 71, 'paper': 71, 'merit': 71, 'comparison': 71, 'copy': 71, 'neat': 71, 'parade': 71, 'souls': 71, 'presentation': 71, 'equal': 71, 'doses': 71, 'birthday': 71, 'bruckheimer': 71, 'inhabit': 71, 'entertained': 71, 'conservative': 71, 'triangle': 71, 'surely': 71, 'schneider': 71, 'filling': 71, 'claustrophobic': 71, 'nicholas': 71, 'derrida': 71, 'haunted': 71, 'smarter': 71, 'meaningless': 71, 'critics': 71, 'pic': 71, 'buffs': 71, 'recognize': 71, 'kick': 71, 'west': 70, 'midnight': 70, 'antics': 70, 'victim': 70, 'element': 70, 'expense': 70, 'feet': 70, 'disappointed': 70, 'goodnatured': 70, 'professional': 70, 'sympathetic': 70, 'intimacy': 70, 'drop': 70, 'saccharine': 70, 'secret': 70, 'produce': 70, 'silence': 70, 'predictably': 70, 'cleverly': 70, 'dying': 70, 'understated': 70, 'shelf': 70, 'lifeaffirming': 70, 'surrounding': 70, 'wannabe': 70, 'blow': 70, 'bruce': 70, 'lane': 70, 'adams': 70, 'la': 70, 'afternoon': 70, 'hook': 70, 'fame': 70, 'delivering': 70, 'goodfellas': 70, 'belt': 70, 'castro': 70, 'intoxicating': 69, 'producers': 69, 'momentum': 69, 'fantasies': 69, 'don': 69, 'sake': 69, 'gory': 69, 'endlessly': 69, 'seconds': 69, 'saga': 69, 'unintentionally': 69, 'parody': 69, 'cuts': 69, 'references': 69, 'gender': 69, 'crucial': 69, 'technique': 69, 'portrayal': 69, 'category': 69, 'simplicity': 69, 'built': 69, 'undeniable': 69, 'understands': 69, 'simultaneously': 69, 'portrays': 69, 'mentally': 69, 'wet': 69, 'niche': 69, 'diversion': 68, 'unfocused': 68, 'barbershop': 68, 'sly': 68, 'dynamic': 68, 'wide': 68, 'packed': 68, 'struggling': 68, 'delightfully': 68, 'relies': 68, 'fabric': 68, 'existential': 68, 'hannibal': 68, 'droll': 68, 'inspiration': 68, 'chances': 68, 'prime': 68, '12': 68, 'spaces': 68, 'gross': 68, 'snappy': 68, 'observation': 68, 'pedigree': 67, 'rating': 67, 'russian': 67, 'weirdly': 67, 'scratch': 67, 'convoluted': 67, 'considering': 67, 'breezy': 67, 'suck': 67, 'fanciful': 67, 'improbable': 67, 'todd': 67, 'stuart': 67, 'revelations': 67, 'send': 67, 'whimsical': 67, 'praise': 67, 'elizabeth': 67, 'witherspoon': 67, 'harsh': 67, 'apparently': 67, 'soldiers': 67, 'dahmer': 67, 'ten': 67, 'objective': 67, 'area': 67, 'refugees': 67, 'album': 67, 'titles': 67, 'tour': 67, 'forth': 66, 'shakespeare': 66, 'thrillers': 66, 'confused': 66, 'parable': 66, 'department': 66, 'sadly': 66, 'silent': 66, 'considered': 66, 'pile': 66, 'dignity': 66, 'asian': 66, 'build': 66, 'longing': 66, 'dong': 66, 'shapeless': 66, 'static': 66, 'curious': 66, 'yearning': 66, 'draws': 66, 'wanting': 66, 'display': 66, 'sisterhood': 66, 'respectable': 66, 'stephen': 66, 'suited': 66, 'sees': 66, 'classics': 66, 'concern': 66, 'concert': 66, 'exploitative': 66, 'wind': 66, 'term': 66, 'watched': 66, 'favorite': 66, 'hawn': 66, 'clean': 66, 'stevenson': 66, 'dogs': 65, 'letting': 65, 'pool': 65, 'accurate': 65, 'strikes': 65, 'ode': 65, 'cell': 65, 'frustration': 65, 'kiss': 65, 'convey': 65, 'reunion': 65, 'productions': 65, 'comedian': 65, 'developed': 65, 'cartoons': 65, 'emptiness': 65, 'abandon': 65, 'fierce': 65, 'helps': 65, 'subtitles': 65, 'nuance': 65, 'alternately': 65, 'marvelous': 65, 'anyway': 65, 'rob': 65, 'eat': 65, 'meant': 65, 'arthouse': 65, 'carried': 65, 'sentence': 65, 'choppy': 65, 'basis': 65, 'cutting': 65, 'testament': 65, 'super': 65, 'robin': 65, 'trappings': 65, 'liberal': 65, 'suit': 65, 'speak': 65, 'thousand': 65, 'independent': 64, 'corny': 64, 'cost': 64, 'unpredictable': 64, 'pulp': 64, 'shoulders': 64, 'fairy': 64, 'adds': 64, 'dedication': 64, 'meanspirited': 64, 'hey': 64, 'stops': 64, 'listless': 64, 'absurdity': 64, 'vintage': 64, 'yesterday': 64, 'bard': 64, 'beings': 64, 'million': 64, 'eastwood': 64, 'propaganda': 64, 'vague': 64, 'charlie': 64, 'tones': 64, 'biggest': 64, 'award': 64, 'vitality': 64, 'wholly': 64, 'overblown': 64, 'speaks': 64, 'ourselves': 64, 'author': 64, 'island': 64, '21st': 64, 'rohmer': 64, 'lofty': 64, 'hunter': 64, 'biography': 64, 'smiles': 63, 'heroes': 63, 'movements': 63, 'proud': 63, 'scattered': 63, 'catch': 63, 'bourne': 63, 'enthusiasm': 63, 'n': 63, 'hollow': 63, 'videos': 63, 'qualities': 63, 'quentin': 63, 'indulgent': 63, 'phones': 63, 'convenient': 63, 'difference': 63, 'feat': 63, 'revelation': 63, 'muddled': 63, 'devices': 63, 'desperation': 63, 'carry': 63, 'wins': 63, 'named': 63, 'setup': 63, 'voices': 63, 'careful': 63, 'admission': 63, 'somebody': 63, 'spots': 63, 'antwone': 63, 'pulling': 63, 'zhang': 63, 'grim': 63, 'sensibility': 63, 'unconvincing': 63, 'harvard': 63, 'heal': 63, 'laughable': 63, 'colors': 63, 'lackluster': 63, 'vein': 63, '40': 63, 'grew': 63, 'chosen': 63, 'miserable': 63, 'mask': 63, 'amounts': 62, 'positively': 62, 'vapid': 62, 'accents': 62, 'caper': 62, 'screenwriters': 62, 'instantly': 62, 'hartley': 62, 'sophomoric': 62, 'supernatural': 62, 'below': 62, 'traveler': 62, 'delights': 62, 'ironic': 62, 'anthony': 62, 'pretensions': 62, 'documentaries': 62, 'fail': 62, 'overwhelming': 62, 'demographic': 62, 'attractive': 62, 'nation': 62, 'pointed': 62, 'blast': 62, 'changes': 62, 'wall': 62, 'etc': 62, 'daily': 62, 'lessons': 62, 'earnestness': 62, 'savvy': 62, 'dish': 62, 'coffee': 62, 'willis': 62, 'inconsequential': 62, 'timeless': 62, 'clooney': 62, 'breath': 62, 'precisely': 62, 'intermittently': 62, 'later': 62, 'sweeping': 62, 'anime': 62, 'denying': 62, 'submarine': 62, 'greater': 62, 'unabashedly': 62, 'hang': 62, 'chuckles': 61, 'sudden': 61, 'heat': 61, 'resolutely': 61, 'hoped': 61, 'versions': 61, 'scope': 61, 'strictly': 61, 'qualify': 61, 'exposition': 61, 'titular': 61, 'spirits': 61, 'decade': 61, 'international': 61, 'murky': 61, 'gangs': 61, 'skip': 61, 'caine': 61, 'rewards': 61, 'glossy': 61, 'fluff': 61, 'matthew': 61, 'six': 61, 'continues': 61, 'idiosyncratic': 61, 'types': 61, 'nomination': 61, 'adventures': 61, 'western': 61, 'incisive': 61, 'brilliance': 61, 'patient': 61, 'monsoon': 61, 'martial': 61, 'tap': 61, 'halfhearted': 61, 'tight': 61, 'individuals': 61, 'mike': 61, 'shower': 61, 'disjointed': 61, 'trailer': 61, 'cry': 61, 'screens': 61, 'higher': 61, 'hype': 61, 'anger': 61, 'susan': 61, 'impeccable': 60, 'slip': 60, 'sensational': 60, 'ties': 60, '3000': 60, 'handle': 60, 'romp': 60, 'wallace': 60, 'blank': 60, 'passionate': 60, 'roman': 60, 'frailty': 60, 'beast': 60, 'stylistic': 60, 'japan': 60, 'guess': 60, 'spring': 60, 'cerebral': 60, 'lopez': 60, 'throwing': 60, 'breaks': 60, 'raunchy': 60, 'homes': 60, 'naturalistic': 60, 'communal': 60, 'choice': 60, 'witless': 60, 'unforced': 60, 'richly': 60, 'mundane': 60, 'selfdeprecating': 60, 'jane': 60, 'departure': 60, 'pleasing': 60, 'pitch': 60, 'hide': 60, 'cage': 60, 'closing': 60, 'ambiguous': 60, 'waters': 60, 'pie': 60, 'smooth': 60, 'thrown': 60, 'clue': 60, 'alien': 60, 'bigscreen': 59, 'eric': 59, 'demons': 59, 'former': 59, 'responsible': 59, 'celebration': 59, 'directs': 59, 'individual': 59, 'attal': 59, 'didactic': 59, 'magical': 59, 'subculture': 59, 'existed': 59, 'altogether': 59, 'creature': 59, 'metaphors': 59, 'celluloid': 59, 'projects': 59, 'dragon': 59, 'fool': 59, 'status': 59, 'similarly': 59, 'wrapped': 59, 'sobering': 59, 'criminal': 59, 'sinister': 59, 'morning': 59, 'rooting': 59, 'demented': 59, 'text': 59, 'jar': 59, '11': 59, 'replete': 59, 'absolute': 58, 'losing': 58, 'rote': 58, 'lush': 58, 'flash': 58, 'recycled': 58, 'reggio': 58, 'emerge': 58, 'pays': 58, 'ego': 58, 'gyllenhaal': 58, 'structured': 58, 'field': 58, 'william': 58, 'express': 58, 'anderson': 58, 'artful': 58, 'aging': 58, 'lends': 58, 'uneasy': 58, 'chelsea': 58, 'slap': 58, 'suspend': 58, 'baffling': 58, 'rowdy': 58, 'boat': 58, 'clumsily': 58, 'unoriginal': 58, 'hoping': 58, 'achieve': 58, 'taylor': 58, 'executed': 58, 'cynicism': 58, 'poverty': 58, 'loyalty': 58, 'ambiguity': 58, 'unusually': 58, 'eloquent': 58, 'personalities': 58, 'spontaneity': 58, 'capacity': 58, 'stereotypical': 58, 'explores': 58, 'depressed': 58, 'media': 58, 'centuries': 58, 'throw': 57, 'freaks': 57, 'shocks': 57, 'destruction': 57, 'misery': 57, 'korean': 57, 'raises': 57, 'carpenter': 57, 'refuses': 57, 'racial': 57, 'deadpan': 57, 'hastily': 57, 'resembles': 57, 'vividly': 57, 'acceptable': 57, 'seek': 57, 'breakthrough': 57, 'phone': 57, 'slackers': 57, 'dickens': 57, 'plympton': 57, 'phony': 57, 'depths': 57, 'thrill': 57, 'refusal': 57, 'observant': 57, 'obstacles': 57, 'singles': 57, 'ben': 57, 'satisfy': 57, 'offend': 57, 'frantic': 57, 'nevertheless': 57, 'splendid': 57, 'push': 57, 'bucks': 57, 'terrorist': 57, 'portray': 57, 'skills': 57, 'uncertain': 57, 'invention': 57, 'seemed': 57, 'flashes': 57, 'bones': 57, 'downbeat': 57, 'wooden': 57, '101': 57, 'cube': 57, 'buried': 57, 'legendary': 57, 'aplomb': 57, 'hokum': 57, 'youth': 56, 'runofthemill': 56, 'greene': 56, 'pianist': 56, 'card': 56, 'blown': 56, 'philosophy': 56, 'describe': 56, 'celebrates': 56, 'fellow': 56, 'cat': 56, 'pushes': 56, 'lifestyle': 56, 'immediate': 56, 'moved': 56, 'heavily': 56, 'chicago': 56, 'buildup': 56, 'gifts': 56, 'edgy': 56, 'empowerment': 56, 'latter': 56, 'insulting': 56, 'notorious': 56, 'folk': 56, 'edited': 56, 'motivations': 56, 'lampoon': 56, 'feathers': 56, 'stupidity': 56, '20th': 56, 'strongly': 56, 'demonstrates': 56, 'gave': 56, 'esther': 56, 'pretends': 56, 'authority': 56, 'huppert': 56, 'latin': 56, 'enormous': 56, 'rehash': 56, 'pandering': 56, 'rousing': 56, 'trapped': 56, 'wearing': 56, 'educational': 56, 'insurance': 56, 'chops': 56, 'pathology': 56, 'athletes': 56, 'lit': 56, 'florid': 56, 'selfsatisfied': 56, 'relief': 55, 'serve': 55, 'mamet': 55, 'chabrol': 55, 'connections': 55, 'returns': 55, 'postcard': 55, 'familial': 55, 'cares': 55, 'sensibilities': 55, 'lust': 55, 'easier': 55, 'miracle': 55, 'everyday': 55, 'assassin': 55, 'purely': 55, 'melancholy': 55, 'follows': 55, 'dare': 55, 'seeming': 55, 'tepid': 55, 'movement': 55, 'maintain': 55, 'instincts': 55, 'trashy': 55, 'minimalist': 55, 'arc': 55, 'deceptively': 55, 'grownups': 55, '30': 55, 'pulse': 55, 'reminds': 55, 'fortune': 55, 'demonstrate': 55, 'ethnic': 55, 'episodes': 55, 'rising': 55, 'ponderous': 55, 'recording': 55, 'pleasurable': 55, 'pun': 55, 'adventurous': 55, 'fleeting': 55, 'funeral': 55, 'edges': 55, 'o': 55, 'determination': 55, 'eddie': 55, 'passing': 55, 'vietnam': 55, 'humorless': 55, 'avary': 55, 'collective': 55, 'harder': 55, 'haneke': 55, 'resourceful': 55, 'appalling': 55, 'broadway': 55, 'charged': 55, 'beguiling': 55, 'liveaction': 55, 'seeking': 54, 'gratuitous': 54, 'foibles': 54, 'ready': 54, 'soulful': 54, 'chest': 54, 'therapy': 54, 'alternative': 54, 'translation': 54, 'rank': 54, 'manufactured': 54, 'wellcrafted': 54, 'chick': 54, 'maintains': 54, 'challenges': 54, 'alice': 54, 'ranks': 54, 'france': 54, 'labored': 54, 'drags': 54, 'measured': 54, 'nervous': 54, 'spin': 54, 'cia': 54, 'hallmark': 54, 'kicking': 54, 'tuxedo': 54, 'stick': 54, 'discussion': 54, 'reasons': 54, 'shameless': 54, 'legal': 54, 'blues': 54, 'angry': 54, 'lights': 54, 'noise': 54, 'brooding': 54, 'evans': 54, 'philip': 54, 'stealing': 54, 'paranoia': 54, 'seeks': 54, 'arguments': 54, 'ancient': 54, 'significance': 54, 'monotonous': 54, 'sordid': 54, 'iran': 54, 'followed': 53, 'barrel': 53, 'paradiso': 53, 'literate': 53, 'highest': 53, 'mediocrity': 53, 'joyous': 53, 'chew': 53, 'obscure': 53, 'witness': 53, 'holly': 53, 'ghosts': 53, 'avoids': 53, 'rules': 53, 'meat': 53, 'busy': 53, 'dreck': 53, 'handled': 53, 'lightweight': 53, 'fastpaced': 53, 'thomas': 53, 'literal': 53, 'installment': 53, 'magnificent': 53, 'hugely': 53, 'slack': 53, 'stretches': 53, 'grey': 53, 'fits': 53, 'cobbled': 53, 'enemy': 53, 'scratching': 53, 'tried': 53, 'nerve': 53, 'notting': 53, 'apply': 53, 'resonate': 53, 'kill': 53, 'affleck': 53, 'cheat': 53, 'oliver': 53, 'weaknesses': 53, 'genius': 53, 'passed': 53, 'enjoys': 53, 'irresistible': 53, 'sardonic': 53, 'underlying': 53, 'ill': 53, 'weddings': 53, 'license': 53, 'rough': 53, 'track': 53, 'tony': 53, 'whenever': 52, 'spiderman': 52, 'partly': 52, 'mindset': 52, 'toilet': 52, 'caught': 52, 'survive': 52, 'redundant': 52, 'gravity': 52, 'serviceable': 52, 'lingering': 52, 'allegory': 52, 'outer': 52, 'gun': 52, 'silver': 52, 'develops': 52, 'sparkling': 52, 'piano': 52, 'audacious': 52, 'irony': 52, 'trial': 52, 'fragile': 52, 'optimism': 52, 'exceptional': 52, 'pulled': 52, 'nonstop': 52, 'embraces': 52, 'bill': 52, 'diesel': 52, 'dinner': 52, 'ghetto': 52, 'borders': 52, 'door': 52, 'range': 52, 'regret': 52, 'behold': 52, 'machismo': 52, 'sacrifice': 52, 'basketball': 52, 'says': 52, 'anguish': 52, 'elusive': 52, 'specific': 52, 'demand': 52, 'longest': 52, 'enjoying': 52, 'dumas': 52, 'wallet': 52, 'paying': 52, 'lock': 52, 'moody': 52, 'celebrity': 52, 'legacy': 52, 'wake': 52, 'shamelessly': 52, 'farrelly': 52, 'ripe': 52, 'feast': 52, 'bullets': 52, 'treats': 52, 'deliberate': 52, 'ups': 52, 'cohesive': 52, 'caring': 52, 'conspiracy': 52, 'decided': 52, 'ravishing': 52, 'singing': 52, 'shadow': 52, 'andor': 52, 'bigbudget': 52, 'clunky': 51, 'cowriter': 51, 'lunch': 51, 'demanding': 51, 'evoke': 51, 'wear': 51, 'diverse': 51, 'alienation': 51, 'counterparts': 51, 'swallow': 51, 'exaggerated': 51, 'hoot': 51, 'schaeffer': 51, 'politically': 51, 'textbook': 51, 'haynes': 51, 'combined': 51, 'angel': 51, 'lapses': 51, 'aggressively': 51, 'trust': 51, 'crew': 51, 'vaguely': 51, 'unsatisfying': 51, 'walls': 51, 'layers': 51, 'sisters': 51, 'includes': 51, 'thumbs': 51, 'hewitt': 51, 'hint': 51, 'brisk': 51, 'dad': 51, 'influence': 51, 'clockstoppers': 51, 'danger': 51, 'redemption': 51, 'wholesome': 51, 'bar': 51, 'bythenumbers': 51, 'sun': 51, 'angels': 51, 'truthful': 51, '51': 51, 'distasteful': 51, 'roberto': 51, 'paint': 51, 'egoyan': 51, 'calm': 51, 'convictions': 51, 'debate': 51, 'nijinsky': 51, 'w': 51, 'arrives': 50, 'bodies': 50, 'radical': 50, 'brilliantly': 50, 'dumbeddown': 50, 'confident': 50, 'photographed': 50, 'town': 50, 'unconventional': 50, 'damaged': 50, 'outing': 50, 'seinfeld': 50, 'mtv': 50, 'r': 50, 'separate': 50, 'actions': 50, 'station': 50, 'producer': 50, 'simpleminded': 50, 'topnotch': 50, 'upper': 50, 'wartime': 50, 'irwin': 50, 'eager': 50, 'stilted': 50, 'dragonfly': 50, 'deals': 50, 'calls': 50, 'angle': 50, 'reluctant': 50, 'intent': 50, 'astonishingly': 50, 'sting': 50, 'outcome': 50, 'steve': 50, 'pitfalls': 50, 'reputation': 50, 'traffic': 50, 'yard': 50, 'conflicted': 50, 'wisdom': 50, 'shoddy': 50, 'suggest': 50, 'grating': 50, 'tossed': 50, 'costars': 50, 'potter': 50, 'uncommonly': 50, 'milieu': 50, 'snipes': 50, 'improvised': 50, 'spike': 50, 'occasional': 49, 'gently': 49, 'prose': 49, 'hole': 49, 'dragons': 49, 'nuances': 49, '1970s': 49, 'freshness': 49, 'extent': 49, 'heady': 49, 'inexplicable': 49, 'incessant': 49, 'alabama': 49, 'jonah': 49, 'useless': 49, 'sara': 49, 'disposable': 49, 'unlikable': 49, 'glorious': 49, 'basically': 49, 'drew': 49, 'squeeze': 49, 'imaginable': 49, 'arrive': 49, 'messy': 49, 'familiarity': 49, 'empire': 49, 'sandra': 49, 'football': 49, 'lighting': 49, 'closely': 49, 'chases': 49, 'finely': 49, 'brian': 49, 'jell': 49, 'artsy': 49, 'charles': 49, 'shaggy': 49, 'reminiscent': 49, 'shanghai': 49, 'unbelievable': 49, 'locales': 49, 'cops': 49, 'blandness': 49, 'conduct': 49, 'absurdist': 49, 'metaphorical': 49, 'nights': 49, 'cannes': 49, 'accept': 49, 'marvel': 49, 'luck': 49, 'lord': 49, 'reminded': 49, 'groups': 49, 'sister': 49, 'medical': 49, 'circuit': 49, 'shine': 49, 'oneliners': 49, 'radar': 49, 'experienced': 49, 'confront': 49, 'evident': 49, 'chuckle': 49, 'charmless': 49, 'dares': 49, 'wells': 49, 'conveying': 49, 'swim': 49, 'morvern': 49, 'sustains': 49, 'durable': 49, 'allowed': 49, 'enlightening': 49, 'military': 49, 'icon': 49, 'sucking': 49, 'charmer': 48, 'succeed': 48, 'attract': 48, 'generous': 48, 'eerie': 48, 'fathers': 48, 'bogus': 48, 'predictability': 48, 'psychologically': 48, 'breathtakingly': 48, 'mars': 48, 'climactic': 48, 'ramsay': 48, 'towards': 48, 'shining': 48, 'flamboyant': 48, 'dose': 48, 'loneliness': 48, 'note': 48, 'behan': 48, 'daniel': 48, 'napoleon': 48, 'ad': 48, 'replaced': 48, 'hitchcock': 48, 'deniro': 48, 'lengthy': 48, 'surprised': 48, 'transformation': 48, 'construct': 48, 'ears': 48, 'titled': 48, 'landscapes': 48, 'decidedly': 48, 'numerous': 48, 'drab': 48, 'evelyn': 48, 'courtroom': 48, 'fewer': 48, 'callow': 48, 'convince': 48, 'nobody': 48, 'sincerity': 48, 'inviting': 48, 'vanity': 48, 'wilco': 48, 'informative': 48, 'tremendous': 48, 'trilogy': 48, 'malkovich': 48, '5': 48, 'decency': 48, 'camps': 48, 'sticky': 48, 'married': 48, 'ballistic': 48, 'ecks': 48, 'wollter': 48, 'lucas': 48, 'relevant': 48, 'peak': 48, 'seriousness': 48, 'dr': 48, 'evidence': 48, 'expressions': 48, 'wreck': 48, 'spice': 48, 'sentiments': 48, 'amuse': 48, 'unforgettable': 48, 'feelings': 48, 'court': 48, 'comedydrama': 47, 'aims': 47, 'computergenerated': 47, 'emphasizes': 47, 'tsai': 47, 'effortlessly': 47, 'lurid': 47, 'catholic': 47, 'splash': 47, 'amiable': 47, 'size': 47, 'convinced': 47, 'boundaries': 47, 'disappointingly': 47, 'am': 47, 'jaglom': 47, 'bollywood': 47, 'pants': 47, 'motivated': 47, 'bride': 47, 'freedom': 47, 'laughed': 47, 'defies': 47, 'veteran': 47, 'jean': 47, 'evening': 47, 'regard': 47, 'object': 47, 'support': 47, 'enthusiastic': 47, 'burn': 47, 'grownup': 47, 'scream': 47, 'jennifer': 47, 'sport': 47, 'landmark': 47, 'rude': 47, 'adequate': 47, 'encouraging': 47, 'curiously': 47, 'incident': 47, 'holm': 47, 'rug': 47, 'lunacy': 47, 'sorry': 47, 'repressed': 47, 'paperthin': 47, 'sundance': 47, 'chekhov': 47, 'learned': 47, 'precision': 47, 'recipe': 47, '1': 47, 'conceit': 47, 'builds': 47, 'birot': 47, 'promises': 47, 'exploit': 47, 'chiller': 47, 'morally': 47, 'advantage': 47, 'taut': 47, 'lucky': 47, 'kapur': 47, 'aspect': 47, 'vietnamese': 47, 'insanity': 47, 'balanced': 47, 'insipid': 47, 'rings': 47, 'archival': 47, 'sexuality': 47, 'shrewd': 47, 'combat': 47, 'direct': 47, 'rose': 47, 'cogent': 47, 'staying': 47, 'carmen': 47, 'climax': 47, 'er': 47, 'raise': 47, 'device': 47, 'ya': 47, 'queens': 47, 'canon': 47, 'risk': 47, 'juicy': 46, 'blame': 46, 'christopher': 46, 'mary': 46, 'explosions': 46, 'incompetent': 46, 'drawing': 46, 'smartly': 46, 'covers': 46, 'improve': 46, 'practically': 46, 'duty': 46, 'essential': 46, 'lowbrow': 46, 'code': 46, 'hearst': 46, 'ballot': 46, 'nose': 46, 'agent': 46, 'chief': 46, 'solaris': 46, 'african': 46, 'banter': 46, 'dubbed': 46, 'costner': 46, 'talky': 46, 'transcend': 46, 'betty': 46, 'jaded': 46, 'spinning': 46, 'collision': 46, 'dawns': 46, 'alternate': 46, 'snake': 46, 'rolling': 46, 'advance': 46, 'german': 46, 'mindnumbingly': 46, 'infidelity': 46, 'topical': 46, 'verbal': 46, 'volatile': 46, 'explosion': 46, 'underbelly': 46, 'condescending': 46, 'wishing': 46, 'jump': 46, 'goals': 46, 'haphazard': 46, 'drives': 46, 'weirdness': 46, 'crack': 46, 'postmodern': 46, 'directtovideo': 46, 'possibility': 46, 'vu': 46, 'trace': 46, 'guts': 46, 'beloved': 46, 'examine': 46, 'bob': 46, 'coen': 46, 'eccentricities': 46, 'teeth': 45, 'villains': 45, 'ed': 45, 'harrison': 45, 'insanely': 45, 'failed': 45, '3': 45, 'animals': 45, 'hitting': 45, 'exceptionally': 45, 'innocuous': 45, 'protagonists': 45, 'suburban': 45, 'amazingly': 45, 'contest': 45, 'lips': 45, 'defines': 45, 'firing': 45, 'argue': 45, 'hanks': 45, 'immensely': 45, 'bridge': 45, 'fiennes': 45, 'sensitivity': 45, 'nicholson': 45, 'player': 45, 'stone': 45, 't': 45, 'admittedly': 45, 'pedestrian': 45, 'reminder': 45, 'brooklyn': 45, 'irresponsible': 45, 'scott': 45, 'kline': 45, 'primarily': 45, 'tends': 45, 'drink': 45, 'develop': 45, 'exceedingly': 45, 'advice': 45, 'jolie': 45, 'brendan': 45, 'aimed': 45, 'patch': 45, 'fence': 45, 'contains': 45, 'childlike': 45, 'mechanics': 45, 'sits': 45, 'casts': 45, 'conventions': 45, 'salute': 45, 'supposedly': 45, 'indians': 45, 'awe': 45, 'distinguished': 45, 'awesome': 45, 'deja': 45, 'plots': 45, 'jarring': 45, 'gimmick': 45, 'venture': 45, 'heartache': 45, 'thematically': 45, 'shut': 45, 'bubble': 45, 'boxing': 45, 'hilarity': 44, 'rambling': 44, 'miramax': 44, 'hurt': 44, 'lunatic': 44, 'saved': 44, 'putting': 44, 'veers': 44, 'lose': 44, 'proper': 44, 'wellintentioned': 44, 'chord': 44, 'hidden': 44, 'carol': 44, 'web': 44, 'rely': 44, 'gorgeously': 44, 'leigh': 44, 'peace': 44, 'soulless': 44, 'extravaganza': 44, 'naked': 44, 'aspirations': 44, 'dynamics': 44, 'photo': 44, 'relate': 44, 'cheer': 44, 'joyful': 44, 'require': 44, 'captured': 44, 'calculated': 44, '50s': 44, 'smith': 44, 'scottish': 44, 'remote': 44, 'eventual': 44, 'showcase': 44, 'profile': 44, 'inconsistent': 44, 'facile': 44, 'eyre': 44, 'classical': 44, 'tall': 44, 'exhausting': 44, 'capturing': 44, 'redeeming': 44, 'countless': 44, 'dass': 44, 'remembering': 44, 'runner': 44, 'impulses': 44, 'construction': 44, 'shortcomings': 44, 'detached': 44, 'managed': 44, 'buttons': 44, 'exploring': 44, 'include': 44, 'pokes': 44, 'bursts': 44, 'swept': 44, 'infomercial': 44, 'sixth': 44, 'kenneth': 44, 'conversation': 44, 'suffered': 44, 'hopes': 44, 'mushy': 44, 'denis': 44, 'meal': 44, 'sever': 44, 'anybody': 44, 'manners': 44, 'lighter': 44, 'denial': 44, 'freeman': 44, 'neil': 44, 'spanish': 44, 'lion': 44, 'block': 44, 'torn': 44, 'believing': 44, 'narrator': 44, 'argentine': 44, 'australia': 44, 'hurley': 44, 'commerce': 44, 'mores': 44, 'museum': 44, 'expertly': 44, 'rage': 44, 'gotten': 44, 'twin': 44, 'farts': 44, 'inarticulate': 44, 'professionalism': 44, 'oedekerk': 43, 'terror': 43, 'initial': 43, 'insomnia': 43, 'scares': 43, 'threat': 43, 'senses': 43, 'kinda': 43, 'garbage': 43, 'ignore': 43, 'expectation': 43, 'bear': 43, 'walked': 43, 'soccer': 43, 'interpretation': 43, 'newcomer': 43, 'education': 43, 'uncanny': 43, 'valuable': 43, 'masterfully': 43, 'delicately': 43, 'leon': 43, 'exit': 43, 'isolation': 43, 'tongueincheek': 43, 'nervy': 43, 'cheek': 43, 'moods': 43, 'inclination': 43, 'anachronistic': 43, 'shtick': 43, 'tense': 43, 'laughoutloud': 43, 'steeped': 43, 'became': 43, 'policy': 43, 'marching': 43, 'sleeve': 43, 'traditions': 43, 'local': 43, 'paxton': 43, 'remotely': 43, 'simone': 43, 'bartleby': 43, 'rescue': 43, 'opens': 43, 'definitive': 43, 'idiots': 43, 'albeit': 43, 'unbearable': 43, 'receive': 43, 'severe': 43, 'ball': 43, 'decide': 43, 'baby': 43, 'sources': 43, 'paints': 43, 'specifically': 43, 'wrap': 43, 'resembling': 43, 'supply': 43, 'invest': 43, 'scare': 43, 'impressions': 43, 'falling': 43, 'horse': 43, 'mothman': 43, 'frankly': 43, 'fairytale': 43, 'graceful': 43, 'cardboard': 43, 'steady': 43, 'opaque': 43, 'dozen': 43, 'bros': 43, 'hall': 43, 'satisfies': 43, 'byatt': 43, 'ambitions': 43, 'shenanigans': 43, 'post': 43, 'canned': 43, 'clashing': 43, 'odyssey': 43, 'indictment': 43, 'sober': 43, 'artistry': 43, 'tempting': 43, 'clown': 43, 'kennedy': 43, 'ignored': 43, 'baseball': 42, 'amid': 42, 'q': 42, 'sumptuous': 42, 'evokes': 42, 'tool': 42, 'loads': 42, 'breaking': 42, 'embrace': 42, 'conspicuous': 42, 'awards': 42, 'tug': 42, 'mental': 42, 'insultingly': 42, 'limits': 42, 'settles': 42, 'viewed': 42, 'ladies': 42, 'probe': 42, 'solutions': 42, 'limp': 42, 'baggage': 42, 'suits': 42, 'slapdash': 42, 'squarely': 42, 'frat': 42, 'emperor': 42, 'club': 42, 'hotbutton': 42, 'reduced': 42, 'reap': 42, 'serving': 42, 'notable': 42, 'elegantly': 42, 'nuclear': 42, 'uncomfortably': 42, 'walking': 42, 'grave': 42, 'edition': 42, 'innercity': 42, 'bracing': 42, 'craft': 42, 'lend': 42, 'whiny': 42, 'ram': 42, 'disgusting': 42, 'surfing': 42, 'trees': 42, 'affirming': 42, 'idiocy': 42, 'languorous': 42, 'perfection': 42, 'crane': 42, 'church': 42, 'audacity': 42, 'sucker': 42, 'pratfalls': 42, 'scooby': 42, 'arms': 42, 'california': 42, 'muster': 42, 'composed': 42, 'passable': 42, 'bone': 42, 'jolly': 42, 'hopeless': 42, 'terrorism': 42, 'repetition': 42, 'rowling': 42, 'inevitably': 42, 'meets': 42, 'warfare': 42, 'obligatory': 42, 'shape': 42, 'remind': 42, 'yiddish': 42, 'pink': 42, 'obsessions': 42, 'mothers': 42, 'hardy': 42, 'pilot': 42, 'endurance': 42, 'throwaway': 42, 'fingered': 42, 'henry': 42, 'possess': 42, 'naturalism': 42, 'hubert': 42, 'experimental': 41, 'celebrated': 41, 'swinging': 41, 'survival': 41, 'awkwardly': 41, 'miyazaki': 41, 'reaching': 41, 'clinical': 41, 'universe': 41, 'porn': 41, 'smacks': 41, 'crudup': 41, 'clueless': 41, 'comics': 41, 'hightech': 41, 'aim': 41, 'correctness': 41, 'answer': 41, 'interviews': 41, 'stretched': 41, 'facing': 41, 'environment': 41, 'motherdaughter': 41, 'joel': 41, 'ought': 41, 'conception': 41, 'snapshot': 41, 'musty': 41, 'ache': 41, '90minute': 41, 'rejected': 41, 'curves': 41, 'unable': 41, 'unfulfilling': 41, 'jagger': 41, 'tosca': 41, 'selfimportant': 41, 'halfbaked': 41, 'incredible': 41, 'ease': 41, 'subtext': 41, 'opinion': 41, 'weighty': 41, 'achingly': 41, 'rigid': 41, 'enjoyably': 41, 'theories': 41, 'pumpkin': 41, 'profundity': 41, 'train': 41, 'enigma': 41, 'versus': 41, 'pot': 41, 'grade': 41, 'harm': 41, 'confidence': 41, 'seas': 41, 'workingclass': 41, 'nelson': 41, 'tackles': 41, 'fiercely': 41, 'yu': 41, 'stronger': 41, 'cooper': 41, 'cup': 41, 'phenomenal': 41, 'hospital': 41, 'drunken': 41, 'walsh': 41, 'seldahl': 41, 'michel': 41, 'undercover': 41, 'witnessed': 41, 'member': 41, 'binoche': 41, 'checklist': 41, 'atlantic': 41, 'panache': 41, 'flourishes': 41, 'fix': 41, 'intentionally': 41, 'judd': 41, 'suffer': 41, 'concoction': 41, 'adapted': 41, 'expressive': 41, 'restrained': 41, 'foul': 41, 'foot': 41, 'betrayal': 40, 'monstrous': 40, 'circumstances': 40, 'feces': 40, 'inspires': 40, 'joyless': 40, 'enigmatic': 40, 'breadth': 40, 'ended': 40, 'clause': 40, 'shaped': 40, 'vain': 40, 'triumphs': 40, 'actionpacked': 40, 'chain': 40, 'youthful': 40, 'anomie': 40, 'river': 40, 'reflection': 40, 'seductive': 40, 'loyal': 40, 'maid': 40, 'louis': 40, 'scripts': 40, 'starting': 40, 'ralph': 40, 'unexpectedly': 40, 'sweetly': 40, 'bielinsky': 40, 'fictional': 40, 'dullest': 40, 'sciencefiction': 40, 'press': 40, 'peek': 40, 'musicians': 40, 'popularity': 40, 'boasts': 40, 'overbearing': 40, 'korea': 40, 'murderous': 40, 'sticks': 40, 'roadtrip': 40, '8': 40, 'blockbusters': 40, 'wallop': 40, 'screening': 40, 'afloat': 40, 'subplots': 40, 'distant': 40, 'unfamiliar': 40, 'gloriously': 40, 'rolls': 40, 'swings': 40, 'worry': 40, 'firmly': 40, 'selection': 40, 'added': 40, 'load': 40, 'happily': 40, 'nonetheless': 40, 'variation': 40, 'marquis': 40, 'warner': 40, 'creepiness': 40, 'python': 40, 'besson': 40, 'shred': 40, 'conversations': 40, 'ana': 40, 'puppet': 40, 'wood': 40, 'burning': 40, 'overkill': 40, 'sorority': 40, 'neighborhood': 40, 'quarter': 40, 'disgust': 40, 'insecure': 40, 'yvan': 40, 'freddy': 40, 'farm': 40, 'shimmering': 40, 'clunker': 40, 'dramatics': 40, 'banality': 39, 'transforms': 39, 'deepest': 39, 'impressed': 39, 'hamfisted': 39, 'pastiche': 39, 'scarcely': 39, 'focusing': 39, 'stroke': 39, 'improved': 39, 'associated': 39, 'blaxploitation': 39, 'doze': 39, 'complaint': 39, 'sent': 39, 'possibilities': 39, 'notwithstanding': 39, 'spader': 39, 'assembled': 39, 'consolation': 39, 'soso': 39, 'schmidt': 39, 'donovan': 39, 'chaos': 39, 'emerging': 39, 'mechanical': 39, 'genial': 39, 'orwell': 39, 'solidly': 39, 'chronicles': 39, 'uninteresting': 39, 'showcases': 39, 'records': 39, 'helped': 39, 'cartoonish': 39, 'excesses': 39, 'vast': 39, 'crystal': 39, 'infectious': 39, 'styles': 39, 'strangers': 39, 'childish': 39, 'sweat': 39, 'stark': 39, 'differences': 39, 'feminist': 39, 'generating': 39, 'vice': 39, 'believability': 39, 'nickleby': 39, 'schmaltzy': 39, 'streets': 39, 'introduction': 39, 'slippery': 39, 'foolish': 39, 'examines': 39, 'enormously': 39, 'properly': 39, '911': 39, 'misfire': 39, 'interaction': 39, '13': 39, 'shadyac': 39, 'unassuming': 39, 'recommendation': 39, 'adaptations': 39, 'inexplicably': 39, 'self': 39, 'bare': 39, 'manic': 39, 'exhausted': 39, 'screwball': 39, 'breakdown': 39, 'burst': 39, 'settings': 39, 'enthralling': 39, 'scenic': 39, 'misogyny': 39, 'facial': 39, 'lift': 39, 'tactics': 39, 'correct': 39, 'friendships': 39, 'tonight': 39, 'intermittent': 39, 'lil': 39, 'goggles': 39, '1978': 39, 'applaud': 39, 'mythic': 38, 'opportunities': 38, 'incoherence': 38, 'primary': 38, 'waking': 38, 'daughter': 38, 'visible': 38, 'benjamins': 38, 'fest': 38, 'campaign': 38, 'idealism': 38, 'shines': 38, 'awkwardness': 38, 'superbly': 38, 'emphasis': 38, 'dismissed': 38, 'ethereal': 38, 'lump': 38, 'protect': 38, 'blatant': 38, 'tomorrow': 38, 'perceptive': 38, 'depends': 38, 'borrows': 38, 'institution': 38, 'grown': 38, 'junior': 38, 'exception': 38, 'naughty': 38, 'distinct': 38, 'naturally': 38, 'hedonistic': 38, 'innovative': 38, 'huston': 38, 'innovation': 38, 'jacquot': 38, 'horrors': 38, '2000': 38, 'discover': 38, 'biz': 38, 'openness': 38, 'k19': 38, 'reaches': 38, 'disparate': 38, 'heights': 38, 'smash': 38, 'technically': 38, 'races': 38, 'punk': 38, 'wouldbe': 38, 'loosely': 38, 'astounding': 38, 'joys': 38, 'intolerable': 38, 'raised': 38, 'muddle': 38, 'brainless': 38, 'dud': 38, 'kieslowski': 38, 'labor': 38, 'ocean': 38, 'contrivance': 38, 'ops': 38, 'conquer': 38, 'neurotic': 38, 'pulpy': 38, 'extraordinarily': 38, 'dimension': 38, 'fulfill': 38, 'burger': 38, 'appetite': 38, 'searching': 38, 'giggles': 38, '4ever': 38, 'destined': 38, 'bull': 38, 'glorified': 38, 'prevents': 38, 'strengths': 38, 'artfully': 38, 'performing': 38, 'downer': 38, 'dubious': 38, 'gore': 38, 'statement': 38, 'dean': 38, 'settled': 38, 'growth': 38, 'tooth': 38, 'jews': 38, 'nonexistent': 38, 'bed': 38, 'milk': 38, 'calculating': 38, 'lean': 38, 'charitable': 38, 'pertinent': 38, 'horribly': 38, 'flowers': 38, 'diabolical': 38, 'pantheon': 38, 'untalented': 38, 'pen': 38, 'spine': 38, 'maddeningly': 38, 'flesh': 38, '50': 38, 'streamed': 38, 'meyer': 38, 'rural': 38, 'architectural': 38, 'proportions': 37, 'windtalkers': 37, 'hampered': 37, 'swimfan': 37, 'humane': 37, 'knock': 37, 'blockbuster': 37, 'outtakes': 37, 'psycho': 37, 'base': 37, 'sizzle': 37, 'ah': 37, 'chronicle': 37, 'leaps': 37, 'dreadful': 37, 'uniformly': 37, 'humans': 37, 'stewart': 37, 'rollerball': 37, 'lavish': 37, 'liberating': 37, 'mercy': 37, 'inventiveness': 37, 'cuteness': 37, 'escapist': 37, 'conflicts': 37, 'demme': 37, 'nair': 37, 'boldly': 37, 'eastern': 37, 'earn': 37, 'multiplex': 37, 'slomo': 37, 'pit': 37, 'border': 37, 'prevent': 37, 'lambs': 37, 'students': 37, 'theory': 37, 'wilder': 37, 'shifting': 37, 'distinctly': 37, 'substitute': 37, 'thoughts': 37, 'erotic': 37, 'roberts': 37, 'mexican': 37, 'collateral': 37, 'controversy': 37, 'exquisitely': 37, 'del': 37, 'exact': 37, 'surefire': 37, 'composition': 37, 'superstar': 37, 'breathe': 37, 'sudsy': 37, 'confusion': 37, 'frozen': 37, 'winter': 37, 'craven': 37, 'gel': 37, 'participants': 37, 'repeatedly': 37, 'coppola': 37, '1999': 37, 'recovery': 37, 'wellwritten': 37, 'dopey': 37, 'punches': 37, 'oppressive': 37, 'sticking': 37, 'piccoli': 37, 'conceits': 37, 'englishlanguage': 37, 'gloss': 37, 'economical': 37, 'east': 37, 'undoubtedly': 37, 'heartbreakingly': 37, 'jersey': 37, 'chamber': 37, 'prefer': 37, 'farcical': 37, 'hatred': 37, 'sporting': 37, 'teach': 37, 'jordan': 37, 'lyricism': 37, '4': 37, 'graceless': 37, 'troubled': 37, 'costly': 37, 'sprawling': 37, 'breed': 37, 'devotion': 37, 'forceful': 37, 'diary': 37, '80s': 37, 'appreciated': 37, 'salton': 37, 'routines': 37, 'alan': 37, 'tedium': 37, 'pranks': 37, 'metropolis': 37, 'littleknown': 37, 'luckiest': 37, 'outlandish': 37, 'forever': 37, 'raising': 37, 'truths': 37, 'epics': 37, 'goldie': 37, 'host': 36, 'cinematographer': 36, 'ethics': 36, 'champion': 36, 'exist': 36, 'staring': 36, 'instance': 36, 'gong': 36, 'disguised': 36, 'atmospheric': 36, 'insane': 36, 'relative': 36, 'goodhearted': 36, 'frustratingly': 36, 'palpable': 36, 'consuming': 36, 'realm': 36, 'undone': 36, 'grind': 36, 'prospect': 36, 'imagined': 36, 'killing': 36, 'sam': 36, 'steam': 36, 'seattle': 36, 'crowdpleaser': 36, 'fills': 36, 'sorvino': 36, 'psyche': 36, 'fascination': 36, 'illness': 36, 'majority': 36, 'rebellion': 36, 'consistent': 36, 'import': 36, 'lightness': 36, 'dear': 36, 'passions': 36, 'sluggish': 36, 'authenticity': 36, 'spider': 36, 'maker': 36, 'selfconsciously': 36, 'irrelevant': 36, 'dismiss': 36, 'deceptions': 36, 'brash': 36, 'floor': 36, 'ol': 36, 'naipaul': 36, 'england': 36, 'invaluable': 36, 'winners': 36, 'picked': 36, 'shrill': 36, 'won': 36, 'span': 36, 'insult': 36, 'dressed': 36, 'origins': 36, 'incongruous': 36, 'impenetrable': 36, 'beats': 36, 'articulate': 36, 'tolkien': 36, 'smartest': 36, 'description': 36, 'velocity': 36, 'prophecies': 36, 'honor': 36, 'succumbs': 36, 'regarding': 36, 'rewarded': 36, 'barrels': 36, 'contradictory': 36, 'elegance': 36, 'houses': 36, 'deaths': 36, 'villainous': 36, 'died': 36, 'successor': 36, 'backstabbing': 36, 'gasp': 36, 'strict': 36, 'greedy': 36, 'corruption': 36, 'nerves': 36, 'destructive': 36, 'rigor': 36, 'afterthought': 36, 'san': 36, 'transporting': 36, 'professionals': 36, 'decision': 36, 'groove': 36, 'besides': 36, 'schemes': 36, 'tearing': 36, 'doors': 36, 'suspect': 35, 'burr': 35, 'steers': 35, 'theatres': 35, 'sleek': 35, 'failing': 35, 'plane': 35, 'review': 35, 'passes': 35, 'destiny': 35, 'illconceived': 35, 'otherworldly': 35, 'secretary': 35, 'defeated': 35, 'telegraphed': 35, 'enduring': 35, 'jay': 35, 'sucks': 35, 'meet': 35, 'excruciating': 35, 'involve': 35, 'deception': 35, 'described': 35, 'implies': 35, 'furious': 35, 'merits': 35, 'knack': 35, 'explode': 35, 'alfred': 35, 'fervently': 35, 'perry': 35, 'shop': 35, 'brit': 35, 'awfully': 35, 'dots': 35, 'ultraviolent': 35, 'stately': 35, 'slide': 35, 'toback': 35, 'smell': 35, 'embarrassed': 35, 'brosnan': 35, 'neck': 35, 'warmedover': 35, 'commanding': 35, 'hawk': 35, 'vulnerable': 35, 'gutwrenching': 35, 'dense': 35, 'gosling': 35, 'anticipated': 35, 'aimless': 35, 'climate': 35, 'names': 35, 'max': 35, 'tawdry': 35, 'anymore': 35, 'manipulation': 35, 'enticing': 35, 'primitive': 35, 'workplace': 35, 'holy': 35, 'restroom': 35, 'tick': 35, 'equilibrium': 35, 'explored': 35, 'remaining': 35, 'lilia': 35, 'greatness': 35, 'glaring': 35, 'outline': 35, 'decadent': 35, 'virtue': 35, 'celebratory': 35, 'hideously': 35, 'reached': 35, 'terminally': 35, 'electric': 35, 'agonizing': 35, 'brits': 35, 'punctuated': 35, 'ongoing': 35, 'hefty': 35, 'abc': 35, 'unfold': 35, 'kinds': 35, 'plan': 35, 'reflective': 35, 'profession': 35, 'fulllength': 35, 'vardalos': 35, 'worlds': 35, 'cheerful': 35, 'goose': 34, 'exists': 34, 'phrase': 34, 'clips': 34, 'recommended': 34, 'chooses': 34, 'clad': 34, 'adrenaline': 34, 'darkness': 34, 'incomprehensible': 34, 'nostalgic': 34, 'twisty': 34, 'damon': 34, 'blackandwhite': 34, 'camouflage': 34, 'unsuspecting': 34, 'pervasive': 34, 'freundlich': 34, 'piffle': 34, 'idiotic': 34, 'motions': 34, 'outrage': 34, 'interview': 34, 'ear': 34, 'thoughtfulness': 34, 'profoundly': 34, 'fuss': 34, 'motown': 34, 'symbolic': 34, '1975': 34, 'survivors': 34, 'warrior': 34, 'employs': 34, 'screenplays': 34, 'tambor': 34, 'filming': 34, 'layered': 34, 'resolution': 34, 'pauline': 34, 'solemn': 34, 'strings': 34, 'ideal': 34, 'admirably': 34, 'network': 34, 'alert': 34, 'impostor': 34, 'selfabsorbed': 34, 'hopelessly': 34, 'repellent': 34, 'wonders': 34, 'massive': 34, 'ironies': 34, 'racism': 34, 'floating': 34, 'thirty': 34, 'unabashed': 34, 'unwatchable': 34, 'optimistic': 34, 'undercut': 34, 'intensely': 34, 'sessions': 34, 'elevate': 34, 'repeated': 34, 'overrun': 34, 'pictureperfect': 34, 'paris': 34, 'steal': 34, 'tadpole': 34, 'nifty': 34, 'promised': 34, 'giddy': 34, 'acute': 34, 'smoothly': 34, 'frighteningly': 34, 'choreographed': 34, 'pompous': 34, 'cutesy': 34, 'depict': 34, 'accuracy': 34, 'dv': 34, 'alongside': 34, 'branagh': 34, 'illustrates': 34, 'expression': 34, 'qatsi': 34, 'radiant': 34, 'veneer': 34, 'lovingly': 34, 'friendly': 34, 'complexities': 34, 'glimpses': 34, 'guffaw': 34, 'boss': 34, 'inconsistencies': 34, 'stages': 34, 'leaky': 34, 'connectthedots': 34, 'suitable': 34, 'autobiographical': 34, 'tongue': 34, 'quieter': 34, 'arresting': 34, 'explanation': 34, 'incarnation': 34, 'nick': 34, 'impersonal': 34, 'sublime': 34, 'reminding': 34, 'september': 34, 'godzilla': 34, 'brains': 34, 'zippy': 34, 'nine': 34, 'byler': 34, 'insider': 34, 'tart': 34, 'worldclass': 34, 'placed': 34, 'unimaginable': 34, 'response': 34, 'journalism': 34, 'orbits': 34, 'downs': 34, 'coincidence': 34, 'recite': 34, 'haunts': 34, 'typically': 34, 'believed': 34, 'swaggering': 34, 'merchant': 33, 'hack': 33, 'blowing': 33, 'jolt': 33, 'wounds': 33, 'heist': 33, 'shown': 33, 'posturing': 33, 'smiling': 33, 'robinson': 33, 'clancy': 33, 'vacuum': 33, 'london': 33, 'acknowledges': 33, 'lifts': 33, 'payne': 33, 'sonny': 33, 'carved': 33, 'nudity': 33, 'shockingly': 33, 'bank': 33, 'gantz': 33, 'heartbreak': 33, 'elling': 33, 'mugging': 33, 'regardless': 33, 'generations': 33, 'ham': 33, 'rival': 33, 'transformed': 33, 'tensions': 33, 'dilemma': 33, 'teeming': 33, 'crossed': 33, 'zeal': 33, 'chair': 33, 'richness': 33, 'satiric': 33, 'exploiting': 33, 'geared': 33, 'halfhour': 33, 'selfdiscovery': 33, 'extra': 33, 'threadbare': 33, '48': 33, 'punching': 33, 'treads': 33, 'dimwitted': 33, 'compensate': 33, 'pryor': 33, 'comment': 33, 'punchdrunk': 33, 'misanthropic': 33, 'fizz': 33, 'ratliff': 33, 'page': 33, 'economic': 33, 'kidman': 33, 'supremely': 33, 'expert': 33, 'rushed': 33, 'portraying': 33, 'crossroads': 33, 'quinn': 33, 'tissues': 33, 'fertile': 33, 'deuces': 33, 'unaffected': 33, 'racist': 33, '19thcentury': 33, 'forte': 33, 'kwan': 33, 'obsessive': 33, 'overwritten': 33, 'via': 33, 'studios': 33, 'rapidly': 33, 'macdowell': 33, 'myers': 33, 'mcgrath': 33, 'tosses': 33, 'pacino': 33, 'accurately': 33, 'nonsensical': 33, 'ron': 33, 'historically': 33, 'muted': 33, 'capra': 33, 'obviousness': 33, 'jk': 33, 'globe': 33, 'spotlight': 33, 'turkey': 33, 'bumbling': 33, 'driven': 33, 'lark': 33, 'postproduction': 33, 'dishonest': 33, 'sanctimony': 33, 'photographs': 33, 'voiceover': 33, 'hg': 33, 'lyne': 33, 'tragically': 33, 'website': 33, 'stolid': 33, 'curmudgeon': 33, 'killers': 33, 'fitfully': 33, 'illusion': 33, 'depend': 33, 'rocket': 33, 'population': 33, 'rarity': 33, 'civil': 33, 'experimentation': 33, 'julia': 33, 'pungent': 33, 'preteen': 33, 'desiccated': 33, 'suspension': 33, 'spellbinding': 33, 'gibson': 33, 'dig': 33, 'challenge': 33, 'eating': 33, 'hokey': 33, 'numbing': 33, 'bath': 33, 'solace': 33, 'kilmer': 33, 'coma': 33, 'perfunctory': 33, 'mistaken': 33, 'lick': 33, 'liven': 33, '1998': 33, 'lastminute': 33, 'andrew': 33, 'narratively': 32, 'guide': 32, 'invigorating': 32, 'lanes': 32, 'revealed': 32, 'creatures': 32, 'splendor': 32, 'narc': 32, 'lonely': 32, 'sinks': 32, 'overshadowed': 32, 'injuries': 32, 'jumble': 32, 'marina': 32, 'introduces': 32, 'unfolding': 32, 'combines': 32, 'jia': 32, 'guaranteed': 32, 'enjoyment': 32, 'romanek': 32, 'tackling': 32, 'rollicking': 32, 'strains': 32, 'fires': 32, 'romances': 32, 'contemplative': 32, '18': 32, 'pairing': 32, 'speculation': 32, 'dana': 32, 'sociology': 32, 'rate': 32, 'opened': 32, 'strained': 32, 'compare': 32, 'rouge': 32, 'texture': 32, 'quirkiness': 32, 'scrooge': 32, 'section': 32, 'futuristic': 32, 'chasing': 32, 'millions': 32, 'nachtwey': 32, 'kicks': 32, 'labute': 32, 'january': 32, 'requires': 32, 'toes': 32, 'kosashvili': 32, 'architecture': 32, 'plods': 32, 'unpretentious': 32, 'janice': 32, 'aspires': 32, 'slightest': 32, 'wistful': 32, 'bravery': 32, 'deserved': 32, 'function': 32, 'reveal': 32, 'excited': 32, 'constraints': 32, 'jumbo': 32, 'access': 32, 'gleaned': 32, 'jr': 32, 'characteristic': 32, 'chaplin': 32, 'forgiven': 32, 'dollar': 32, 'hardhearted': 32, 'parental': 32, 'throwback': 32, 'icet': 32, 'rotten': 32, 'sadistic': 32, 'shout': 32, 'superficially': 32, 'mixes': 32, 'curse': 32, 'intellect': 32, 'hypnotic': 32, 'pessimistic': 32, 'tattered': 32, 'campy': 32, 'recall': 32, 'realities': 32, 'annesophie': 32, 'catches': 32, 'spontaneous': 32, 'tuck': 32, 'prepschool': 32, 'smoking': 32, '1995': 32, 'billy': 32, 'displays': 32, 'mannered': 32, 'weepy': 32, 'influences': 32, 'kept': 32, 'privileged': 32, 'resemble': 32, 'openended': 32, 'hunting': 32, 'circus': 32, 'inescapable': 32, 'board': 32, 'neighbor': 32, 'crammed': 32, 'bodily': 32, 'parking': 32, 'flipflop': 32, 'unremarkable': 32, 'schmaltz': 32, 'annals': 32, 'shaky': 32, 'goo': 32, 'jet': 32, 'barney': 32, 'goofball': 32, 'voyeuristic': 32, 'shocked': 32, 'checking': 32, 'overcomes': 32, 'slog': 32, 'concession': 32, 'gosford': 32, 'melt': 32, 'nonthreatening': 32, 'executive': 32, 'questionable': 32, 'agitprop': 32, 'hinges': 32, 'detective': 32, 'tidal': 32, 'warriors': 32, 'distracted': 32, 'okay': 32, 'riff': 32, 'spit': 32, 'extravagant': 31, 'oddest': 31, 'directions': 31, 'frighten': 31, 'pg13': 31, 'comprehensible': 31, 'compromise': 31, 'legged': 31, 'handed': 31, 'hungry': 31, 'wrestling': 31, 'uncomfortable': 31, 'sung': 31, 'beating': 31, 'sham': 31, 'waydowntown': 31, 'screams': 31, 'infantile': 31, 'cannibal': 31, 'boom': 31, 'claims': 31, 'sugarman': 31, 'tropes': 31, 'bogdanovich': 31, 'stallone': 31, 'factory': 31, 'circle': 31, 'bible': 31, 'tediously': 31, 'lying': 31, 'information': 31, 'bound': 31, 'maze': 31, 'hitchcockian': 31, 'deadend': 31, 'aged': 31, 'bands': 31, 'taymor': 31, 'spliced': 31, 'hoary': 31, 'el': 31, 'hawaiian': 31, 'temple': 31, 'guilt': 31, 'gold': 31, 'destroy': 31, '12yearold': 31, 'juliette': 31, 'e': 31, 'dover': 31, 'forcefully': 31, 'glamour': 31, 'adolescence': 31, 'backdrops': 31, 'compendium': 31, 'mann': 31, 'suggestion': 31, 'preceded': 31, 'dante': 31, 'fluid': 31, 'goodwill': 31, 'distracting': 31, 'physically': 31, 'laundry': 31, 'partner': 31, 'profane': 31, 'round': 31, 'episodic': 31, 'precise': 31, 'appreciation': 31, 'continuity': 31, 'gothic': 31, 'available': 31, 'joseph': 31, 'liberation': 31, 'reduce': 31, 'proficient': 31, 'steals': 31, 'comically': 31, 'research': 31, 'astute': 31, 'antidote': 31, 'immediately': 31, 'stalker': 31, 'troopers': 31, 'backdrop': 31, 'greatgrandson': 31, 'needlessly': 31, 'noticeable': 31, 'letter': 31, 'stake': 31, 'bathos': 31, 'randall': 31, 'forward': 31, 'drivel': 31, 'heritage': 31, 'election': 31, 'undisputed': 31, 'diaries': 31, 'elsewhere': 31, 'sweetheart': 31, 'bean': 31, 'grisly': 31, 'fu': 31, 'singular': 31, 'exuberance': 31, 'cipher': 31, 'crash': 31, 'sm': 31, 'unfortunate': 31, 'holland': 31, 'mustsee': 31, 'charge': 31, 'centered': 31, 'weaves': 31, 'believes': 31, 'humanizing': 31, 'tub': 31, 'reduces': 31, 'dread': 31, 'sprightly': 31, 'shoots': 31, 'notch': 31, 'lad': 31, 'autopilot': 31, 'segment': 31, 'sole': 31, 'jacques': 31, 'jelinek': 31, 'smack': 31, 'forest': 31, 'mill': 31, 'crashing': 31, 'nod': 31, 'journalist': 31, 'torture': 31, '1960': 31, 'sellers': 31, 'comfortably': 31, 'tank': 31, 'grounded': 31, 'hitandmiss': 31, 'pubescent': 31, 'torpor': 31, 'moonlight': 30, 'bygone': 30, 'macabre': 30, 'stream': 30, 'hopefully': 30, 'highconcept': 30, 'storylines': 30, 'idealistic': 30, 'closure': 30, 'owe': 30, 'favors': 30, 'fade': 30, 'woods': 30, 'mendes': 30, 'deeds': 30, 'attached': 30, 'establishes': 30, 'everybody': 30, 'deliberately': 30, 'foster': 30, 'perils': 30, 'puzzling': 30, 'provoke': 30, 'overproduced': 30, 'stopped': 30, 'reacting': 30, 'scrutiny': 30, 'rocky': 30, 'kafka': 30, 'dogtown': 30, 'ruins': 30, 'meditative': 30, 'folly': 30, 'adding': 30, 'dude': 30, 'painted': 30, 'clayburgh': 30, 'entertainingly': 30, 'charlotte': 30, 'alist': 30, 'sleepless': 30, 'drown': 30, 'hawke': 30, 'digs': 30, 'auteuil': 30, 'risks': 30, 'definition': 30, 'welsh': 30, 'asking': 30, 'oscarwinning': 30, 'ninety': 30, 'turf': 30, 'laudable': 30, 'minority': 30, 'stinks': 30, 'thank': 30, 'lilo': 30, 'shirley': 30, 'spends': 30, 'define': 30, 'tunes': 30, 'personas': 30, 'selfesteem': 30, 'streak': 30, 'malaise': 30, 'established': 30, 'hal': 30, 'tolerance': 30, 'miami': 30, 'argento': 30, 'nemesis': 30, 'fascinates': 30, 'illuminating': 30, 'awakening': 30, 'glow': 30, 'edits': 30, 'antonia': 30, 'newfangled': 30, 'flavor': 30, 'riffs': 30, 'sugary': 30, 'fontaine': 30, 'applies': 30, 'threatened': 30, 'shadowy': 30, 'davies': 30, 'scripted': 30, 'spread': 30, 'goods': 30, '1950': 30, 'everlasting': 30, 'sneaks': 30, 'driving': 30, 'shared': 30, 'zhao': 30, 'sustained': 30, 'ambrose': 30, 'trenchant': 30, 'suddenly': 30, 'sayles': 30, 'transporter': 30, 'flaccid': 30, 'extensive': 30, 'addresses': 30, 'bombastic': 30, 'operates': 30, 'seeds': 30, 'toss': 30, 'genteel': 30, 'numbingly': 30, 'f': 30, 'allowing': 30, 'faults': 30, 'chatty': 30, 'paranoid': 30, 'blunt': 30, 'indifference': 30, 'sickening': 30, 'evade': 30, 'forgiveness': 30, 'critic': 30, 'thankfully': 30, 'teachers': 30, 'bridget': 30, 'disregard': 30, 'groundbreaking': 30, 'morgan': 30, 'inhabitants': 30, 'smalltown': 30, 'produces': 30, 'levy': 30, 'lured': 30, 'pronounce': 30, 'bust': 30, 'importantly': 30, 'directly': 30, 'burstein': 30, 'expecting': 30, 'al': 30, 'nerds': 30, 'bowling': 30, 'phenomenon': 30, 'hypertime': 30, 'smoother': 30, 'principals': 30, 'hyped': 30, 'kate': 30, 'wildlife': 30, 'camerawork': 30, 'delinquent': 30, 'tim': 30, 'legitimate': 30, 'divide': 30, 'unearthed': 30, 'mold': 30, 'moldy': 30, 'bartlett': 29, 'spectacularly': 29, 'option': 29, 'sleeping': 29, 'stumble': 29, 'willingness': 29, 'noyce': 29, 'distract': 29, '300': 29, 'sarah': 29, 'plainly': 29, 'superfluous': 29, 'learning': 29, 'threw': 29, 'retro': 29, 'michell': 29, 'severely': 29, 'recognized': 29, 'unknown': 29, 'massacre': 29, 'feardotcom': 29, 'mired': 29, 'schizophrenia': 29, 'innuendo': 29, 'relying': 29, 'dentist': 29, 'wiser': 29, 'canny': 29, 'stagy': 29, 'cox': 29, 'fessenden': 29, 'tea': 29, 'diva': 29, 'orange': 29, 'jessica': 29, 'duvall': 29, 'assembly': 29, 'boobs': 29, 'worn': 29, 'ironically': 29, 'distanced': 29, 'shrek': 29, 'masses': 29, 'multiple': 29, 'pride': 29, 'madefortv': 29, 'pitchperfect': 29, 'mojo': 29, 'vulgarity': 29, 'classified': 29, 'manhood': 29, 'flashbacks': 29, 'taps': 29, 'buzz': 29, 'absurdly': 29, 'inappropriate': 29, 'trap': 29, 'perdition': 29, 'label': 29, 'discourse': 29, 'reserved': 29, 'workout': 29, 'perpetual': 29, 'fabulous': 29, 'inquiry': 29, 'disintegrating': 29, 'sophistication': 29, 'whimper': 29, 'represented': 29, 'stinker': 29, 'fearlessness': 29, 'heft': 29, 'commitment': 29, 'surroundings': 29, 'procession': 29, '84': 29, 'predicament': 29, 'brimming': 29, 'insistent': 29, 'sickly': 29, 'scathing': 29, 'grainy': 29, 'likeable': 29, 'threehour': 29, 'rigors': 29, '1984': 29, 'infuriating': 29, 'cletis': 29, 'heightened': 29, 'footnote': 29, 'testimony': 29, 'disarming': 29, 'flippant': 29, 'unhappy': 29, 'outright': 29, 'confessions': 29, 'wesley': 29, 'confirms': 29, 'reliable': 29, 'marvelously': 29, 'skins': 29, 'drained': 29, 'driver': 29, 'conceptual': 29, 'camaraderie': 29, 'tormented': 29, 'expanded': 29, 'vulnerability': 29, 'uh': 29, 'portrayals': 29, 'engages': 29, 'fist': 29, 'bouncy': 29, 'messenger': 29, 'tutorial': 29, 'erratic': 29, 'metropolitan': 29, 'callar': 29, 'succumb': 29, 'salt': 29, 'finger': 29, 'gere': 29, 'route': 29, 'specimen': 29, 'caruso': 29, 'reruns': 29, 'unknowable': 29, 'analysis': 29, 'thrust': 29, 'cocoon': 29, 'dialog': 29, 'turbulent': 29, 'cuban': 29, 'pro': 29, 'amazement': 29, 'vicious': 29, 'coherence': 29, 'samesex': 29, 'understandable': 29, 'jez': 29, 'butterworth': 29, 'candid': 29, 'discord': 29, 'anna': 29, 'legend': 29, 'appearing': 29, 'excruciatingly': 29, 'dangerously': 29, 'controversial': 29, 'diapers': 29, 'onejoke': 29, 'pal': 29, 'uninitiated': 29, 'implicit': 29, 'respectful': 29, 'puccini': 29, 'rut': 28, 'vignettes': 28, 'swimming': 28, 'wills': 28, 'bogged': 28, 'bonus': 28, 'strangeness': 28, 'scruffy': 28, '1950s': 28, 'conditions': 28, 'bent': 28, 'wiseman': 28, 'encounters': 28, 'ruthless': 28, 'experiment': 28, 'multilayered': 28, 'nba': 28, 'believer': 28, 'hat': 28, 'compromised': 28, 'kinky': 28, 'owes': 28, 'selfawareness': 28, 'fishoutofwater': 28, 'fundamentals': 28, 'alienate': 28, 'fascinated': 28, 'accomplishes': 28, 'powerpuff': 28, 'expects': 28, 'hostage': 28, 'wornout': 28, 'unconditional': 28, 'flatulence': 28, 'ian': 28, 'makeup': 28, 'impossibly': 28, 'flame': 28, 'dated': 28, 'clash': 28, 'disappointment': 28, 'effortless': 28, 'anemic': 28, 'yorker': 28, 'inject': 28, 'yellow': 28, 'timid': 28, 'struck': 28, 'cowritten': 28, 'executives': 28, 'turntablism': 28, 'capitalize': 28, 'responsibility': 28, 'leaks': 28, 'thinly': 28, 'sucked': 28, 'hammy': 28, 'wendigo': 28, 'permeates': 28, 'liberties': 28, 'mummy': 28, 'stimulating': 28, 'boiling': 28, 'ray': 28, 'iq': 28, 'hills': 28, 'fearless': 28, 'longsuffering': 28, 'narcissism': 28, 'fringes': 28, 'leather': 28, 'possesses': 28, 'functions': 28, 'immense': 28, 'inimitable': 28, 'shootings': 28, 'ok': 28, 'collapses': 28, 'abundant': 28, 'twohy': 28, 'oily': 28, 'squad': 28, 'closet': 28, 'sin': 28, 'ridiculousness': 28, 'mick': 28, 'gloomy': 28, 'savage': 28, 'rebel': 28, 'shafer': 28, 'tickets': 28, 'wheels': 28, 'grotesque': 28, 'fondness': 28, 'longwinded': 28, 'tout': 28, 'rumor': 28, 'restraint': 28, 'bogs': 28, 'squanders': 28, 'misguided': 28, 'volume': 28, 'palatable': 28, 'infuses': 28, 'reasonable': 28, 'verge': 28, 'searing': 28, 'jie': 28, 'sorrowful': 28, 'resorting': 28, 'ruined': 28, 'crackle': 28, 'planned': 28, 'molly': 28, 'unchecked': 28, 'vistas': 28, 'scored': 28, 'duke': 28, 'ethos': 28, 'careers': 28, 'mannerisms': 28, 'mgm': 28, 'socalled': 28, 'frustrated': 28, 'kneejerk': 28, 'selling': 28, 'treatise': 28, 'invitation': 28, 'distinguish': 28, 'stellar': 28, 'impulse': 28, 'map': 28, 'nash': 28, 'barrymore': 28, 'receiving': 28, 'retains': 28, 'pristine': 28, 'favour': 28, 'grandfather': 28, 'cumbersome': 28, 'penalty': 28, 'laws': 28, 'subtler': 28, 'instinct': 28, 'moviegoer': 28, 'sparse': 28, 'dozens': 28, 'escort': 28, 'conjured': 28, 'sensation': 28, 'undercuts': 28, 'densely': 28, 'assassination': 28, 'painting': 28, 'acceptance': 28, 'accomplishment': 28, 'misplaced': 28, 'g': 28, 'swipe': 28, 'sway': 28, 'awry': 28, 'vicarious': 28, 'kills': 28, 'tonal': 28, 'fingers': 28, 'borrowed': 28, 'abomination': 28, 'gamesmanship': 28, 'cheated': 28, 'inherently': 28, 'lola': 28, 'tourists': 28, 'cocky': 28, 'meara': 28, 'treachery': 28, 'auschwitz': 28, '1979': 28, 'egg': 28, 'increasing': 28, 'underwritten': 28, 'embarrassing': 28, 'realization': 27, 'hicks': 27, 'pages': 27, 'myth': 27, 'un': 27, 'malcolm': 27, 'tenderness': 27, 'beaten': 27, 'shainberg': 27, 'wound': 27, 'auteur': 27, 'lynch': 27, 'recklessness': 27, 'appearance': 27, 'cameos': 27, 'turgid': 27, 'storyteller': 27, 'twenty': 27, 'wondrous': 27, 'prism': 27, 'leguizamo': 27, 'cathartic': 27, 'log': 27, 'africanamericans': 27, 'intellectually': 27, 'classy': 27, 'selfabsorption': 27, 'struggled': 27, 'modestly': 27, 'desired': 27, 'square': 27, 'brandnew': 27, 'successfully': 27, 'welles': 27, '86': 27, 'walter': 27, 'underdogs': 27, 'passages': 27, 'muccino': 27, 'liar': 27, 'twodimensional': 27, 'poetically': 27, 'healthy': 27, 'practice': 27, 'lower': 27, 'invincible': 27, 'shares': 27, 'carrying': 27, 'cal': 27, 'alluring': 27, 'grain': 27, 'figured': 27, 'seams': 27, 'allegedly': 27, 'performed': 27, 'sing': 27, 'narration': 27, 'posing': 27, 'hundred': 27, 'unexplored': 27, 'walmart': 27, 'dutiful': 27, 'denizens': 27, 'earned': 27, 'penetrating': 27, 'per': 27, 'consequence': 27, 'quaid': 27, 'chocolate': 27, 'upbeat': 27, 'epps': 27, 'crippled': 27, 'rattling': 27, 'conditioning': 27, 'unbearably': 27, 'staggeringly': 27, 'puerile': 27, 'smoochy': 27, 'modernday': 27, 'compulsively': 27, 'animatronic': 27, 'negotiate': 27, 'realizing': 27, 'windows': 27, 'freaky': 27, 'struggles': 27, 'clothing': 27, 'jazzy': 27, 'cuisine': 27, 'frequent': 27, 'blurry': 27, 'rain': 27, 'punishment': 27, 'gary': 27, 'probing': 27, 'stitch': 27, 'toro': 27, 'unblinking': 27, '1958': 27, 'jackass': 27, 'prey': 27, 'humble': 27, 'splitting': 27, 'sparks': 27, 'normally': 27, 'swoony': 27, 'native': 27, 'surviving': 27, 'envious': 27, 'arrest': 27, 'talks': 27, 'iconoclastic': 27, 'reckless': 27, 'underdog': 27, 'compliment': 27, 'rodriguez': 27, 'possession': 27, 'topless': 27, 'baffled': 27, 'graduated': 27, 'thesis': 27, 'spookiness': 27, 'bloated': 27, 'bargainbasement': 27, 'photographer': 27, 'fart': 27, 'weightless': 27, 'weep': 27, 'agenda': 27, 'indifferent': 27, 'reverence': 27, 'kitten': 27, 'contenders': 27, 'existing': 27, 'crossover': 27, 'urgent': 27, 'buff': 27, 'jesse': 27, 'pose': 27, 'included': 27, 'crudity': 27, 'battlefield': 27, 'aesthetic': 27, 'risky': 27, 'elbows': 27, 'undermines': 27, 'conscience': 27, 'manager': 27, 'bang': 27, 'cruelly': 27, '22yearold': 27, 'girlfriend': 27, 'motivation': 27, 'psychic': 27, 'defeats': 27, 'bmw': 27, 'delhi': 27, 'discernible': 27, 'ellen': 27, 'pompeo': 27, 'disease': 27, 'mcdormand': 27, 'iris': 27, 'magnolia': 27, 'racy': 27, 'prepare': 27, 'jules': 27, 'overtly': 27, 'fraser': 27, 'dire': 27, 'platitudes': 27, 'tube': 27, 'facts': 27, 'spray': 27, 'enthusiast': 27, 'glories': 27, 'mull': 27, 'idiot': 27, 'sunnier': 27, 'judgment': 26, 'companion': 26, 'hatfield': 26, 'playwright': 26, 'developments': 26, 'tenacious': 26, 'errol': 26, 'eccentricity': 26, 'bet': 26, 'chimps': 26, 'gray': 26, 'extremes': 26, 'region': 26, 'defiantly': 26, 'critique': 26, 'contemplation': 26, 'maintaining': 26, 'objectivity': 26, 'letdown': 26, 'monumental': 26, 'purports': 26, 'internet': 26, 'parentchild': 26, 'pinochet': 26, 'smirk': 26, 'shaking': 26, 'pitched': 26, 'damme': 26, 'opposite': 26, 'mountain': 26, 'controlled': 26, 'undercurrent': 26, 'debt': 26, 'tasteful': 26, 'plotline': 26, 'reefs': 26, 'denied': 26, 'kissing': 26, 'tinseltown': 26, 'twaddle': 26, 'competition': 26, 'mel': 26, 'skies': 26, 'dickensian': 26, 'whodunit': 26, 'skateboard': 26, 'inability': 26, 'losers': 26, 'impatiently': 26, 'afterlife': 26, 'gaudy': 26, 'wertmuller': 26, 'nonjudgmental': 26, 'geriatric': 26, 'impressively': 26, 'sacrificing': 26, '110': 26, 'scorn': 26, 'truck': 26, 'zany': 26, 'sporadic': 26, 'partners': 26, 'grandiosity': 26, 'saddled': 26, 'cherish': 26, 'savor': 26, 'metal': 26, 'credited': 26, 'neatly': 26, 'minimal': 26, 'stylings': 26, 'significantly': 26, 'ensues': 26, 'gadgets': 26, 'considerably': 26, 'rabbitproof': 26, 'doorstep': 26, 'generosity': 26, 'activity': 26, 'nofrills': 26, 'condensed': 26, 'lodging': 26, 'injokes': 26, 'pleasantly': 26, 'mermaid': 26, 'norton': 26, 'magnetic': 26, 'proved': 26, 'aids': 26, 'specialeffects': 26, 'satisfied': 26, 'reviews': 26, 'unattractive': 26, 'saves': 26, 'fincher': 26, 'drum': 26, 'imaginatively': 26, 'undead': 26, 'lingers': 26, 'performer': 26, 'novak': 26, 'limitations': 26, 'craig': 26, 'jerking': 26, 'imperfect': 26, 'adequately': 26, 'marshall': 26, 'organic': 26, 'frankie': 26, 'stillborn': 26, 'package': 26, 'kitsch': 26, 'deleted': 26, 'grimly': 26, 'straightahead': 26, 'butt': 26, 'memoir': 26, 'moderately': 26, '1952': 26, 'collectively': 26, 'acerbic': 26, 'finished': 26, 'months': 26, 'kindness': 26, 'canadian': 26, 'session': 26, 'altman': 26, 'environmental': 26, 'lolita': 26, 'stomachturning': 26, 'choke': 26, 'crocodile': 26, 'lake': 26, 'hood': 26, 'nononsense': 26, 'fanatics': 26, 'doldrums': 26, 'draft': 26, 'ali': 26, 'releasing': 26, 'hipness': 26, 'waves': 26, 'veins': 26, 'michele': 26, 'successes': 26, 'bette': 26, 'elemental': 26, 'oleander': 26, 'raymond': 26, 'rea': 26, 'youngsters': 26, 'interests': 26, 'narrow': 26, 'hickenlooper': 26, 'boredom': 26, 'helping': 26, 'lasting': 26, 'caretakers': 26, 'chiefly': 26, 'fluent': 26, 'bubbly': 26, 'absence': 26, 'escaped': 26, 'argument': 26, 'regards': 26, 'drowsy': 26, 'pump': 26, 'middling': 26, 'mode': 26, 'macy': 26, 'butler': 26, 'redgrave': 26, 'futile': 26, 'influenced': 26, 'collaborators': 26, 'slapping': 26, 'hypocrisy': 26, 'fatale': 26, 'sunset': 26, 'tangled': 26, 'dustin': 26, 'alltime': 26, 'amalgam': 26, 'speed': 26, 'calling': 26, 'contribution': 26, 'faded': 26, 'commended': 26, 'tucker': 26, 'unforgettably': 26, 'closest': 26, 'anarchic': 26, 'forster': 26, 'speech': 26, 'biennial': 26, 'tossing': 26, 'quills': 26, 'undeveloped': 26, 'indication': 25, 'poet': 25, 'assault': 25, 'recognizable': 25, 'improvement': 25, 'swedish': 25, 'observed': 25, 'discerned': 25, 'doublecross': 25, 'generates': 25, 'achieved': 25, 'inadvertently': 25, 'von': 25, 'hardbitten': 25, 'addict': 25, 'swear': 25, 'retaliation': 25, 'facet': 25, 'involves': 25, 'twohour': 25, 'flailing': 25, 'rolled': 25, 'akin': 25, 'bettany': 25, 'overlooked': 25, 'plus': 25, 'helmer': 25, 'stance': 25, 'pee': 25, 'implications': 25, 'unhurried': 25, 'dragged': 25, 'inexperienced': 25, 'provided': 25, 'moviestar': 25, 'foundation': 25, 'venice': 25, 'variations': 25, '88minute': 25, 'confined': 25, 'caricatures': 25, 'selfpreservation': 25, 'chill': 25, 'builtin': 25, 'tumultuous': 25, 'lewis': 25, 'earns': 25, 'outsiders': 25, 'alike': 25, 'paintings': 25, 'medicine': 25, 'cars': 25, 'librarian': 25, 'spousal': 25, 'platter': 25, 'eyelids': 25, '1960s': 25, 'daughters': 25, 'glasses': 25, 'born': 25, 'handles': 25, 'laid': 25, 'unsympathetic': 25, 'unease': 25, 'north': 25, 'titus': 25, 'tenor': 25, 'nails': 25, '1940s': 25, 'concentrates': 25, 'masochism': 25, 'twothirds': 25, 'entranced': 25, 'notably': 25, 'orgasm': 25, 'suspected': 25, 'sailor': 25, 'tend': 25, 'sporadically': 25, 'assayas': 25, 'benefits': 25, 'redundancy': 25, 'farfetched': 25, 'unwieldy': 25, 'cleaner': 25, 'showgirls': 25, 'surround': 25, 'unlimited': 25, 'perform': 25, 'ringu': 25, 'liman': 25, 'requisite': 25, 'triumphant': 25, 'appropriately': 25, 'errors': 25, 'realistically': 25, 'diane': 25, 'tons': 25, 'workers': 25, 'reginald': 25, 'portions': 25, 'fields': 25, 'darling': 25, 'sights': 25, 'beijing': 25, 'skillfully': 25, 'graze': 25, 'drawings': 25, 'potency': 25, 'disappoint': 25, 'lily': 25, 'testud': 25, 'lan': 25, 'fallen': 25, 'focuses': 25, 'woefully': 25, 'crypt': 25, 'graphics': 25, 'diggs': 25, 'shepard': 25, 'derived': 25, 'highs': 25, 'health': 25, 'normal': 25, 'purposeful': 25, 'ordeal': 25, 'fiery': 25, 'athlete': 25, 'clubs': 25, 'witnesses': 25, 'attachment': 25, 'nominated': 25, 'dress': 25, 'poets': 25, 'unrewarding': 25, 'modesty': 25, 'tearjerker': 25, 'danny': 25, 'relaxed': 25, 'deafening': 25, 'humdrum': 25, 'madcap': 25, 'scant': 25, 'uninvolving': 25, 'offerings': 25, 'frenetic': 25, 'hates': 25, 'showdown': 25, 'whine': 25, 'candidate': 25, 'breathing': 25, 'pushed': 25, 'rapid': 25, 'rumination': 25, 'characterized': 25, 'tendency': 25, 'weave': 25, 'guitar': 25, 'accompanying': 25, 'selfaware': 25, 'clients': 25, 'lucy': 25, 'lifelong': 25, 'bomb': 25, 'mythology': 25, 'tiniest': 25, 'danish': 25, 'stasis': 25, 'swooping': 25, 'approached': 25, 'preordained': 25, 'thanksgiving': 25, 'invisible': 25, 'prevalent': 25, 'scariest': 25, 'plucky': 25, 'fanatical': 25, 'messiness': 25, 'ruinous': 25, 'majidi': 25, 'gamble': 25, 'sustenance': 25, 'bathroom': 25, 'sprecher': 25, 'cure': 25, 'millennium': 25, 'mirren': 25, 'healing': 25, 'administration': 25, 'transparently': 25, 'drizzle': 25, 'coupled': 25, 'suicide': 25, 'stylist': 25, 'bellini': 25, 'soldier': 25, '007': 25, 'oration': 25, 'fantastical': 25, 'overexposed': 24, 'ofallon': 24, 'preemptive': 24, 'prisoner': 24, 'civic': 24, 'aid': 24, 'delectable': 24, 'toxic': 24, 'devolves': 24, 'godfrey': 24, 'constructs': 24, 'contact': 24, 'raunch': 24, 'hohum': 24, 'automatically': 24, 'ingratiating': 24, 'hallucinatory': 24, 'treading': 24, 'clinic': 24, 'shootout': 24, 'austerity': 24, 'ferocity': 24, 'goodness': 24, 'sensuality': 24, 'gasping': 24, 'superman': 24, 'corners': 24, 'subtlest': 24, 'pressed': 24, 'thornberrys': 24, 'powerfully': 24, 'dealers': 24, 'actioncomedy': 24, 'boots': 24, 'exploits': 24, 'mattei': 24, 'loaded': 24, 'settle': 24, 'disquieting': 24, 'miike': 24, 'surrounds': 24, 'paulette': 24, 'wade': 24, 'denzel': 24, 'sheridan': 24, 'sanctimonious': 24, 'backgrounds': 24, 'discomfort': 24, 'raucous': 24, 'accomplishments': 24, 'tasteless': 24, 'offkilter': 24, 'setups': 24, 'vin': 24, 'scorpion': 24, 'heels': 24, 'tomcats': 24, 'operatic': 24, 'poised': 24, 'affected': 24, 'soar': 24, 'strays': 24, 'diversity': 24, 'ilk': 24, 'immature': 24, 'sleeper': 24, 'rapidfire': 24, 'schlock': 24, 'pause': 24, 'craftsmanship': 24, 'brightly': 24, 'plotless': 24, 'returning': 24, 'anonymous': 24, 'motives': 24, 'cleareyed': 24, 'midsection': 24, 'binks': 24, 'papin': 24, 'conscious': 24, 'washed': 24, 'heck': 24, 'illogic': 24, 'captain': 24, 'bump': 24, 'sons': 24, 'proof': 24, 'jumps': 24, 'glum': 24, 'firsttimer': 24, 'tremors': 24, 'nazi': 24, 'skewed': 24, 'sermon': 24, 'puzzle': 24, 'hilariously': 24, 'chainsaw': 24, 'rahrah': 24, 'consciously': 24, 'watches': 24, 'siegel': 24, 'mib': 24, 'uptight': 24, 'headed': 24, 'gayton': 24, 'epiphany': 24, 'wore': 24, 'update': 24, 'norm': 24, 'generated': 24, 'heroic': 24, 'hypnotically': 24, 'attack': 24, 'reflect': 24, 'duration': 24, 'breathes': 24, 'plummer': 24, 'soothing': 24, 'unequivocally': 24, 'bumps': 24, 'hurry': 24, 'golden': 24, 'consigned': 24, 'figuring': 24, 'mira': 24, 'exchange': 24, 'bravura': 24, 'gaza': 24, 'diehard': 24, 'hourandahalf': 24, 'infinitely': 24, 'collaboration': 24, 'hindsight': 24, 'unrelenting': 24, 'midway': 24, 'compared': 24, 'dashing': 24, 'purposes': 24, 'undistinguished': 24, '94': 24, 'brave': 24, 'pearl': 24, 'harbor': 24, 'sexually': 24, 'amateur': 24, '93': 24, 'discovering': 24, 'county': 24, 'minus': 24, 'desert': 24, 'formal': 24, 'tune': 24, 'assuming': 24, 'exterior': 24, 'sharing': 24, 'guest': 24, 'gai': 24, 'lurking': 24, 'hispanic': 24, 'sassy': 24, 'francisco': 24, 'recycling': 24, 'nike': 24, 'smeary': 24, 'accumulates': 24, 'refuse': 24, 'myriad': 24, 'subcontinent': 24, 'sameness': 24, 'vastly': 24, 'dreamed': 24, 'badness': 24, 'explain': 24, 'sweep': 24, 'megaplex': 24, 'hangover': 24, 'substandard': 24, 'comprehend': 24, 'eats': 24, 'labyrinthine': 24, 'craziness': 24, 'snatch': 24, 'sorrow': 24, 'embracing': 24, 'highway': 24, 'shaken': 24, '18yearold': 24, 'mistress': 24, 'cruelty': 24, 'excels': 24, 'praises': 24, 'nyc': 24, 'questioning': 24, 'cinematically': 24, 'shakes': 24, 'breasts': 24, 'showy': 24, 'barbara': 24, 'suspiciously': 24, 'varying': 24, 'flattering': 24, 'masala': 24, 'mcculloch': 24, 'legally': 24, 'blonde': 24, 'conceptions': 24, 'boomer': 24, 'traditionally': 24, 'plastic': 24, 'siblings': 24, 'approaching': 24, 'onetrick': 24, 'pony': 24, 'warped': 24, 'breckin': 24, 'scattershot': 24, 'eyepopping': 24, 'plausibility': 24, 'specialty': 24, 'coarseness': 24, 'buddies': 24, 'prop': 24, 'evenhanded': 24, 'gazing': 24, 'introspective': 23, 'midlife': 23, 'couples': 23, 'occurs': 23, 'sounding': 23, 'dash': 23, 'transparent': 23, 'budding': 23, 'unsurprising': 23, 'oddballs': 23, 'coolness': 23, 'oldtime': 23, 'kim': 23, 'monte': 23, 'cristo': 23, 'president': 23, 'shorter': 23, 'row': 23, 'cohesion': 23, 'memento': 23, 'humanly': 23, 'secondhand': 23, 'affectionate': 23, 'assigned': 23, 'wahlberg': 23, 'lumpen': 23, 'prowess': 23, 'selfreflection': 23, 'subconscious': 23, 'tolerate': 23, 'skillful': 23, 'respite': 23, 'russell': 23, 'property': 23, 'warmed': 23, 'lobby': 23, 'outshine': 23, 'yawning': 23, 'palestinian': 23, 'espn': 23, 'magazine': 23, 'transition': 23, 'intact': 23, 'proceeds': 23, 'aficionados': 23, 'affable': 23, 'cheery': 23, 'tapping': 23, 'surf': 23, 'resistance': 23, 'gained': 23, 'suffocating': 23, 'contrast': 23, 'skinny': 23, 'brass': 23, 'gentility': 23, 'harangues': 23, 'relevance': 23, 'valley': 23, 'weaponry': 23, 'gear': 23, 'beginners': 23, 'chokes': 23, 'dreamlike': 23, 'slender': 23, 'needy': 23, 'explicit': 23, 'unmemorable': 23, 'slim': 23, 'absurdities': 23, 'recalls': 23, 'implausibility': 23, 'waterlogged': 23, 'uncharted': 23, 'paths': 23, 'crises': 23, 'choreography': 23, 'heartwrenching': 23, 'jeffrey': 23, 'uneventful': 23, 'evolved': 23, 'chateau': 23, 'privy': 23, 'nary': 23, 'switches': 23, 'dips': 23, 'twisting': 23, 'inquisitive': 23, 'flaw': 23, 'fashioned': 23, 'flirts': 23, 'bratty': 23, 'unfulfilled': 23, 'australian': 23, 'melancholic': 23, 'ignites': 23, 'backstage': 23, 'disturbingly': 23, 'unmistakable': 23, 'mckay': 23, 'libertine': 23, 'mine': 23, 'uniquely': 23, 'nastier': 23, 'damning': 23, 'hudlin': 23, 'selfdestructive': 23, 'geeks': 23, 'ours': 23, 'larson': 23, 'separation': 23, 'villeneuve': 23, 'k': 23, 'dick': 23, 'palette': 23, 'confines': 23, 'bald': 23, 'oldschool': 23, 'bawdy': 23, 'tastelessness': 23, 'shaping': 23, 'puberty': 23, 'morton': 23, 'contradiction': 23, 'moronic': 23, 'campus': 23, 'johnny': 23, 'daydreams': 23, 'handheld': 23, 'lows': 23, 'barris': 23, 'introduce': 23, 'occasion': 23, 'vera': 23, 'barbed': 23, 'fluffy': 23, 'corporate': 23, 'michelle': 23, 'transgressive': 23, 'carnage': 23, 'boasting': 23, 'kathy': 23, '83': 23, 'wrenching': 23, 'artistically': 23, 'throes': 23, 'generational': 23, 'volumes': 23, 'brawny': 23, 'guarantee': 23, 'softcore': 23, 'sadism': 23, 'religion': 23, 'clone': 23, 'withstand': 23, 'physique': 23, 'surrender': 23, 'net': 23, 'coating': 23, 'comforting': 23, 'previously': 23, 'despairing': 23, 'canvas': 23, 'noisy': 23, 'steaming': 23, 'uproarious': 23, 'courtship': 23, 'speedy': 23, 'zealand': 23, 'worship': 23, 'musicals': 23, 'videotape': 23, 'jolts': 23, 'confronting': 23, 'pursuing': 23, 'rifkin': 23, 'motherhood': 23, 'envelope': 23, 'cockettes': 23, 'populated': 23, 'bouquet': 23, 'recommending': 23, 'worrying': 23, 'determine': 23, 'shrugging': 23, 'alleged': 23, 'smallscreen': 23, 'afghan': 23, 'attempted': 23, '20thcentury': 23, 'treating': 23, 'infrequently': 23, 'baroque': 23, 'gears': 23, 'unprecedented': 23, 'welldirected': 23, 'bush': 23, 'subplot': 23, 'wanders': 23, 'lukewarm': 23, 'rally': 23, 'chomp': 23, 'peep': 23, 'rrated': 23, 'drastic': 23, 'flying': 23, 'trials': 23, 'raging': 23, 'involvement': 23, 'slowest': 23, 'fuhrman': 23, 'luster': 23, 'crushingly': 23, 'bullwinkle': 23, 'selfhatred': 23, 'ellis': 23, 'abilities': 23, 'rip': 23, 'civilization': 23, 'seldom': 23, 'disloyal': 23, 'satyr': 23, 'suggesting': 23, 'femme': 23, 'lay': 23, 'flatout': 23, 'procedural': 23, 'daddy': 23, 'knees': 23, 'enchantment': 23, 'suspecting': 23, 'viewpoint': 23, 'invites': 23, 'cowrote': 23, 'exuberant': 23, 'satisfaction': 23, 'snail': 23, 'maverick': 23, 'talkinghead': 23, 'regime': 23, 'nerdy': 23, 'selfish': 23, 'relatives': 23, 'prize': 23, 'purest': 23, '1934': 23, 'weaker': 23, '1982': 23, 'despondent': 23, 'extemporaneously': 23, 'symmetry': 23, 'army': 23, 'considers': 22, 'processed': 22, 'comprehension': 22, 'begging': 22, 'schools': 22, 'liking': 22, 'mighty': 22, 'roughshod': 22, 'creek': 22, 'hostile': 22, 'airhead': 22, 'soulsearching': 22, 'itch': 22, 'wary': 22, 'kouyate': 22, 'biblical': 22, 'debated': 22, 'summertime': 22, 'expressing': 22, 'pleaser': 22, 'gored': 22, 'terry': 22, 'unexceptional': 22, 'terrorists': 22, 'wraps': 22, 'states': 22, 'asset': 22, 'piquant': 22, 'stereotyped': 22, 'cuttingedge': 22, 'interminable': 22, 'wintry': 22, 'masculine': 22, 'chai': 22, 'stein': 22, 'imamura': 22, 'register': 22, 'greatly': 22, 'resonances': 22, 'lau': 22, 'drowned': 22, 'dolls': 22, 'inc': 22, 'iii': 22, 'unendurable': 22, 'begun': 22, 'frothy': 22, 'frames': 22, 'oh': 22, 'compellingly': 22, 'culkin': 22, 'allusions': 22, 'manifesto': 22, 'ideological': 22, 'renner': 22, 'disingenuous': 22, 'insufferable': 22, 'principal': 22, 'iraqi': 22, 'modernize': 22, 'turmoil': 22, 'limit': 22, 'maternal': 22, 'fury': 22, 'espionage': 22, 'decides': 22, 'reliance': 22, 'tykwer': 22, 'pessimism': 22, 'reworking': 22, 'interpretations': 22, 'hitler': 22, 'speculative': 22, 'suspects': 22, 'dealer': 22, 'laptops': 22, 'wellworn': 22, 'torturing': 22, 'behave': 22, 'cinderella': 22, 'lovable': 22, 'wonderment': 22, 'appeared': 22, 'pootie': 22, 'tang': 22, 'mission': 22, 'tuned': 22, 'failings': 22, 'encourage': 22, 'tiresomely': 22, 'exposes': 22, 'aristocracy': 22, 'pesky': 22, 'miles': 22, 'circa': 22, 'le': 22, 'honored': 22, 'surfeit': 22, 'roads': 22, 'overwhelmed': 22, 'gaze': 22, 'shore': 22, 'sufficient': 22, 'characterdriven': 22, 'goyer': 22, 'eyeballs': 22, 'ticking': 22, 'housing': 22, 'intacto': 22, 'unexplainable': 22, 'courageous': 22, 'nonconformist': 22, 'teasing': 22, 'vampires': 22, 'crowdpleasing': 22, 'humming': 22, 'expresses': 22, 'marry': 22, 'bloodshed': 22, 'dangers': 22, 'freddie': 22, 'readily': 22, 'grin': 22, 'echoes': 22, 'dust': 22, 'graham': 22, 'eloquence': 22, 'devito': 22, 'conned': 22, 'sack': 22, 'paintbynumber': 22, 'playbook': 22, 'voyage': 22, 'ye': 22, 'sven': 22, 'navelgazing': 22, 'liu': 22, 'simpson': 22, 'signposts': 22, 'grit': 22, 'demonstration': 22, 'boisterous': 22, 'corn': 22, 'preview': 22, 'screenings': 22, 'mob': 22, 'outbursts': 22, 'investigate': 22, 'backyard': 22, 'ably': 22, 'moralizing': 22, 'zombie': 22, 'newfoundland': 22, 'auditorium': 22, 'gaghan': 22, 'according': 22, 'spiked': 22, 'tripe': 22, 'documents': 22, 'fleeing': 22, 'prisoners': 22, 'interludes': 22, 'teenybopper': 22, 'existentialism': 22, 'crosses': 22, 'superhero': 22, 'chasm': 22, 'personified': 22, 'werewolf': 22, 'blender': 22, 'conceal': 22, 'pedestal': 22, 'seamy': 22, 'counterculture': 22, 'undertone': 22, 'dour': 22, 'stultifyingly': 22, 'victimized': 22, 'ambivalence': 22, 'arrow': 22, 'goodall': 22, 'triteness': 22, 'engagingly': 22, 'playfulness': 22, 'discern': 22, 'enervating': 22, 'wander': 22, '1980': 22, 'notions': 22, 'boats': 22, 'tara': 22, 'reid': 22, 'gainsbourg': 22, 'behalf': 22, 'wwii': 22, 'channeling': 22, 'syrup': 22, 'maneuvers': 22, 'grandiloquent': 22, 'afterwards': 22, 'complicity': 22, 'shifts': 22, 'soup': 22, 'began': 22, 'dusty': 22, 'psychedelic': 22, 'slickness': 22, 'rips': 22, 'knowhow': 22, 'letters': 22, 'burdette': 22, 'adroitly': 22, 'permutations': 22, 'tourdeforce': 22, 'swashbuckling': 22, 'hotdog': 22, 'iron': 22, 'warmly': 22, 'comparable': 22, 'rooted': 21, 'publishing': 21, 'judge': 21, 'chapter': 21, 'relic': 21, 'centers': 21, 'denouement': 21, 'bathtub': 21, 'forcefulness': 21, 'maddening': 21, 'dummies': 21, 'fighter': 21, 'mom': 21, 'tatters': 21, 'arty': 21, 'parallels': 21, 'jolting': 21, 'harmon': 21, 'feral': 21, 'likes': 21, 'outrageousness': 21, 'codes': 21, 'lowerclass': 21, 'reductive': 21, 'investment': 21, 'pill': 21, 'anchoring': 21, 'awareness': 21, 'tux': 21, 'clocks': 21, 'barlow': 21, 'standing': 21, 'audiard': 21, 'payami': 21, 'stifling': 21, 'captivated': 21, 'assume': 21, 'underwear': 21, 'equals': 21, 'detriment': 21, 'hardened': 21, 'pretend': 21, 'hundreds': 21, 'individuality': 21, 'scripting': 21, 'promisingly': 21, 'dealt': 21, 'onedimensional': 21, 'lore': 21, 'oncamera': 21, 'defiance': 21, 'pileup': 21, 'putrid': 21, 'lear': 21, 'equate': 21, 'emphasizing': 21, 'refined': 21, 'belief': 21, 'guessed': 21, 'anticatholic': 21, 'apted': 21, 'kosminsky': 21, 'overwhelms': 21, 'colour': 21, 'quickie': 21, 'occur': 21, 'activities': 21, 'moon': 21, 'achievements': 21, 'regalia': 21, 'extravaganzas': 21, 'conan': 21, 'solely': 21, 'berg': 21, 'largerthanlife': 21, 'schumacher': 21, 'spaceship': 21, 'dimensions': 21, 'goliath': 21, 'piercing': 21, 'examples': 21, 'gimmicky': 21, 'brusqueness': 21, 'par': 21, 'sheets': 21, 'altar': 21, 'documentarians': 21, 'hodgepodge': 21, 'baran': 21, 'grease': 21, 'wryly': 21, 'suggested': 21, 'underground': 21, 'improvisation': 21, 'boost': 21, 'topbilled': 21, 'zero': 21, 'describes': 21, 'copycat': 21, 'analytical': 21, 'unerring': 21, 'jesus': 21, 'plans': 21, '451': 21, 'respond': 21, 'outdated': 21, 'entity': 21, 'units': 21, 'selfcaricature': 21, 'lieutenant': 21, 'giants': 21, 'edward': 21, 'challenged': 21, 'elevated': 21, 'evaluate': 21, 'flashing': 21, 'saucy': 21, 'bike': 21, 'trail': 21, 'led': 21, 'league': 21, 'rugrats': 21, 'pray': 21, 'wastes': 21, 'counts': 21, 'spins': 21, 'dough': 21, 'fulfilling': 21, 'decline': 21, 'cope': 21, 'leys': 21, 'freewheeling': 21, 'sacrifices': 21, 'chouchou': 21, 'incorporates': 21, 'operaish': 21, 'stirs': 21, 'darned': 21, 'homosexual': 21, 'realizes': 21, 'aboveaverage': 21, 'lathan': 21, 'minimum': 21, 'loathsome': 21, 'donna': 21, 'jovial': 21, 'eve': 21, 'reconciliation': 21, 'paintbynumbers': 21, 'convention': 21, 'gondry': 21, 'klein': 21, 'brutality': 21, 'shoulder': 21, 'selfindulgence': 21, 'resources': 21, 'waits': 21, 'aisle': 21, 'heated': 21, 'mount': 21, 'ahola': 21, 'unapologetic': 21, 'wire': 21, 'robots': 21, 'lists': 21, 'shearer': 21, 'knockoff': 21, 'horses': 21, 'stunningly': 21, 'gargantuan': 21, 'affectation': 21, 'fixating': 21, 'tunnels': 21, 'hippie': 21, 'elevates': 21, 'bueller': 21, 'chaiken': 21, 'wartorn': 21, 'novels': 21, 'underneath': 21, 'targeted': 21, 'adrian': 21, 'sleazy': 21, 'stalking': 21, 'subsequent': 21, 'appeals': 21, 'corpse': 21, 'mingliang': 21, 'preoccupations': 21, 'perception': 21, 'israel': 21, 'observe': 21, 'firstclass': 21, 'hasbeen': 21, 'edit': 21, 'superficiality': 21, 'thirst': 21, 'cheeselaced': 21, 'spectacles': 21, 'diaz': 21, 'strip': 21, 'sag': 21, 'apparatus': 21, 'disastrous': 21, 'philadelphia': 21, 'unlikeable': 21, 'doc': 21, 'mcfarlane': 21, 'carrey': 21, 'hanussen': 21, 'epilogue': 21, 'fright': 21, 'downtown': 21, 'contend': 21, 'heidi': 21, 'morph': 21, 'northern': 21, 'cotton': 21, 'attending': 21, 'newton': 21, 'jealous': 21, 'proverbial': 21, 'bibi': 21, 'kidnapping': 21, 'lecture': 21, 'glued': 21, 'coat': 21, 'brazenly': 21, 'mopping': 21, 'collide': 21, 'repetitious': 21, 'broadly': 21, 'travelogue': 21, 'backed': 21, 'africanamerican': 21, 'scarface': 21, 'impish': 21, 'fred': 21, 'copies': 21, 'selfassured': 21, 'bmx': 21, 'subjected': 21, 'urine': 21, 'dawn': 21, 'creations': 21, 'adultery': 21, 'deny': 21, 'travesty': 21, 'irritatingly': 21, 'meter': 21, 'wretched': 21, 'drumming': 21, 'managing': 21, 'angstridden': 21, 'sunk': 21, 'freeway': 21, 'depicting': 21, 'igloo': 21, 'addessi': 21, 'wrench': 21, 'scrappy': 21, 'hosts': 21, 'snakedownthethroat': 21, 'bicycle': 21, '15yearold': 21, 'nap': 21, 'retain': 21, 'massmurdering': 21, 'incendiary': 21, 'abundance': 21, 'contributing': 21, 'apt': 21, 'starred': 21, 'sardine': 21, 'fraternity': 21, 'sampling': 21, 'aggressive': 20, 'chuck': 20, '7': 20, 'seriousminded': 20, '60': 20, 'claude': 20, 'substitutes': 20, 'mawkish': 20, 'threatens': 20, 'pinnacle': 20, 'seamless': 20, 'bluescreen': 20, 'brush': 20, 'ferrara': 20, 'hellish': 20, 'speeds': 20, 'downward': 20, 'stooping': 20, 'randomness': 20, 'revel': 20, 'keen': 20, 'depraved': 20, 'appointed': 20, 'procedure': 20, 'whatif': 20, 'beacon': 20, 'sillier': 20, 'bilked': 20, 'linking': 20, 'circles': 20, 'messing': 20, 'undemanding': 20, 'drumline': 20, 'crassly': 20, 'stumbles': 20, 'proving': 20, 'criticism': 20, 'moist': 20, 'sends': 20, 'costs': 20, 'maelstrom': 20, 'characteristically': 20, 'shapeshifting': 20, 'victories': 20, 'urgently': 20, 'nebrida': 20, 'amateurishly': 20, 'creators': 20, 'nutty': 20, 'outerspace': 20, 'recently': 20, 'unrealized': 20, 'claim': 20, 'conjures': 20, 'prurient': 20, 'tattoo': 20, 'clint': 20, 'cranky': 20, 'enters': 20, 'faced': 20, 'alltoofamiliar': 20, 'resurrection': 20, 'pitiful': 20, 'coping': 20, 'satin': 20, 'threedimensional': 20, 'satisfyingly': 20, 'visions': 20, 'tabloid': 20, 'rightwing': 20, 'sympathize': 20, 'blanket': 20, 'accepts': 20, 'margaritas': 20, 'histrionics': 20, 'lohman': 20, 'balances': 20, 'succumbing': 20, 'fascinate': 20, 'dominated': 20, 'ethical': 20, 'rollercoaster': 20, 'hectic': 20, 'intelligently': 20, 'junkie': 20, 'aloof': 20, 'caterer': 20, 'polemical': 20, 'tract': 20, 'drain': 20, 'stamina': 20, 'steadfast': 20, 'demeo': 20, 'alas': 20, 'colin': 20, 'nicest': 20, 'enveloping': 20, 'received': 20, 'terri': 20, 'abrupt': 20, 'blandly': 20, 'serenity': 20, 'cricket': 20, 'updating': 20, 'strongest': 20, 'efficient': 20, 'wherever': 20, 'suppose': 20, 'astringent': 20, 'purposeless': 20, 'bubbles': 20, 'kiddies': 20, 'mounted': 20, 'doofus': 20, 'siege': 20, 'enchanting': 20, 'weekend': 20, 'guiltypleasure': 20, 'forcing': 20, 'bewitched': 20, 'quaint': 20, 'pileups': 20, '95': 20, 'models': 20, 'online': 20, 'tunney': 20, 'telemarketers': 20, 'embraced': 20, 'stores': 20, 'accompanies': 20, 'delighted': 20, 'revels': 20, 'dimestore': 20, 'bowl': 20, 'stuttering': 20, 'traits': 20, 'psychopathic': 20, 'neverland': 20, 'closeups': 20, 'gap': 20, 'makhmalbaf': 20, 'gunfight': 20, 'nourishing': 20, 'aftertaste': 20, 'ozpetek': 20, 'knockout': 20, 'rueful': 20, 'pipe': 20, 'rapt': 20, 'incapable': 20, 'trope': 20, 'atmospherics': 20, 'cylinders': 20, 'larry': 20, 'myopic': 20, 'riot': 20, 'hardware': 20, 'larky': 20, 'prima': 20, 'updated': 20, 'chimes': 20, 'weighs': 20, 'eileen': 20, 'partisans': 20, 'hysteria': 20, 'sub': 20, 'reptilian': 20, 'ninth': 20, 'marketable': 20, 'cinephile': 20, 'blaring': 20, 'likably': 20, 'estrogen': 20, 'maggie': 20, 'chen': 20, 'wang': 20, 'delusional': 20, 'acclaimed': 20, 'antonio': 20, 'oneroom': 20, 'counterpart': 20, 'tad': 20, 'incorporate': 20, 'pluto': 20, 'aimlessly': 20, 'knockaround': 20, 'distraction': 20, 'arguing': 20, 'dope': 20, 'unrelentingly': 20, 'dumped': 20, 'pender': 20, 'outrageously': 20, 'attackers': 20, 'uncover': 20, 'stripped': 20, 'selfcongratulatory': 20, 'barf': 20, 'homosexuality': 20, 'practices': 20, 'independence': 20, 'anatomical': 20, 'laborious': 20, 'nightmarish': 20, 'weaver': 20, 'glover': 20, 'lowrent': 20, 'bothers': 20, 'immigrant': 20, 'fellowship': 20, 'placement': 20, 'claptrap': 20, 'connected': 20, 'flawless': 20, 'mulan': 20, 'ripping': 20, 'bates': 20, 'marred': 20, 'drooling': 20, 'engendering': 20, 'steps': 20, 'dishonesty': 20, 'ratio': 20, 'disturbed': 20, 'selfmocking': 20, 'artistes': 20, 'limb': 20, 'cancer': 20, 'noticing': 20, 'ample': 20, 'monument': 20, 'sterling': 20, 'zaidan': 20, 'concerns': 20, 'sparkles': 20, 'blip': 20, 'cycle': 20, 'soullessness': 20, 'outs': 20, 'hart': 20, 'uniqueness': 20, 'porno': 20, 'bumper': 20, 'selfexamination': 20, 'testimonial': 20, 'shopping': 20, 'murk': 20, 'succeeded': 20, 'seduced': 20, 'excessively': 20, 'tweaked': 20, 'c': 20, 'writings': 20, 'transcendent': 20, 'smallest': 20, 'sensitivities': 20, 'descends': 20, 'vibe': 20, 'hug': 20, 'exploitive': 20, 'alienated': 20, 'cryin': 20, 'insults': 20, 'ecological': 20, 'demise': 20, 'idemoto': 20, 'subgenre': 20, 'eponymous': 20, 'damagedgoods': 20, 'latino': 20, 'trains': 20, 'mexico': 20, 'schepisi': 20, 'borrow': 20, 'arrangements': 20, 'tics': 20, 'doting': 20, 'preciousness': 20, 'anchor': 20, 'perilously': 20, 'dwellers': 20, 'bra': 20, 'seater': 20, 'clout': 20, 'till': 20, 'relating': 20, 'paperbacks': 20, 'exposed': 20, 'assurance': 20, 'acclaim': 20, '800': 20, 'aching': 20, 'arrogant': 20, 'championship': 20, 'unified': 20, 'selfreferential': 20, 'bastard': 20, 'notveryfunny': 20, 'girlfriends': 20, 'hazy': 20, 'reactions': 20, 'outta': 20, 'hornby': 20, 'puffery': 20, 'dizzying': 20, 'unsettlingly': 20, 'staging': 20, 'andy': 20, 'doubtless': 20, 'wenders': 20, 'abuses': 20, 'carnahan': 20, 'remembers': 20, 'birth': 20, 'software': 20, 'spoofing': 20, 'monarch': 20, 'bus': 20, 'simon': 20, 'reconsideration': 20, 'stupendous': 20, 'instant': 20, '11th': 20, 'dogmalike': 20, 'demonstrating': 19, 'kooky': 19, 'scherfig': 19, 'dared': 19, 'inexorably': 19, 'expedience': 19, 'law': 19, 'heed': 19, 'regular': 19, 'spirituality': 19, 'blab': 19, 'renowned': 19, 'primer': 19, 'sloppily': 19, 'contemporaries': 19, 'hairs': 19, 'wondrously': 19, 'publicity': 19, 'levity': 19, 'outweighs': 19, 'toothless': 19, 'frenzy': 19, 'latenight': 19, 'atrocious': 19, 'striving': 19, 'shores': 19, 'resident': 19, 'shiner': 19, 'energies': 19, 'julie': 19, 'reaffirming': 19, 'threshold': 19, 'bart': 19, 'stab': 19, 'exchanges': 19, 'widely': 19, 'insistently': 19, 'dispassionate': 19, 'contributed': 19, 'arnie': 19, 'helluva': 19, 'singer': 19, 'literature': 19, 'scarier': 19, 'brecht': 19, 'repartee': 19, 'explains': 19, 'storm': 19, 'leery': 19, '6yearold': 19, 'curling': 19, 'morbid': 19, 'hayek': 19, 'orlando': 19, 'crazed': 19, 'conundrum': 19, 'earnhart': 19, 'miscalculation': 19, 'effectiveness': 19, 'kane': 19, 'astray': 19, 'balancing': 19, 'infusion': 19, 'falters': 19, 'clarify': 19, 'acid': 19, 'jeff': 19, 'forms': 19, 'freud': 19, 'wisegirls': 19, 'auto': 19, 'widow': 19, 'careens': 19, 'stretch': 19, 'butterflies': 19, 'distortions': 19, 'tacky': 19, 'janklowiczmann': 19, 'encompasses': 19, 'leash': 19, 'stevens': 19, '170': 19, 'decisions': 19, 'patched': 19, 'rubbo': 19, 'mounting': 19, 'servants': 19, 'concocted': 19, 'corrupt': 19, 'openminded': 19, 'deliciously': 19, 'bs': 19, 'stills': 19, 'oppressively': 19, 'salvage': 19, 'ridicule': 19, 'waterbound': 19, 'cloyingly': 19, 'lens': 19, 'mormon': 19, 'brow': 19, 'emphasized': 19, 'cheaper': 19, 'exaggeration': 19, 'ragged': 19, 'gutsy': 19, 'comments': 19, 'zboys': 19, 'genitals': 19, 'reactionary': 19, 'soapopera': 19, 'brogue': 19, 'immaculately': 19, 'revisionist': 19, 'extension': 19, 'spouses': 19, 'catherine': 19, 'lulls': 19, 'cassavetes': 19, 'acquainted': 19, 'slathered': 19, 'barriers': 19, 'dogma': 19, 'apple': 19, 'kitchen': 19, 'scoobydoo': 19, 'nickelodeonesque': 19, 'longtime': 19, 'persuasive': 19, 'laissezpasser': 19, 'firebreathing': 19, 'crosscultural': 19, 'paean': 19, 'cherry': 19, 'orchard': 19, 'transform': 19, 'fault': 19, 'whiff': 19, 'discreet': 19, 'void': 19, 'fullness': 19, 'overused': 19, 'invasion': 19, 'dumbness': 19, 'ugliness': 19, 'strungtogether': 19, 'swooning': 19, 'noticeably': 19, 'overheated': 19, 'wondered': 19, 'uncle': 19, 'multicharacter': 19, 'collinwood': 19, 'lover': 19, 'refugee': 19, 'disorienting': 19, 'sabotage': 19, 'sandwich': 19, 'balm': 19, 'beenthere': 19, 'rant': 19, 'column': 19, 'golf': 19, 'hustler': 19, 'nettelbeck': 19, 'sophomore': 19, 'males': 19, 'bonding': 19, 'blows': 19, 'onehour': 19, 'impart': 19, 'shoe': 19, 'shades': 19, 'thinness': 19, 'claw': 19, 'gas': 19, 'antique': 19, 'gain': 19, 'cumulative': 19, 'walker': 19, 'weaving': 19, 'swank': 19, 'temptation': 19, 'evolution': 19, 'studies': 19, 'unsettled': 19, 'freshfaced': 19, 'haul': 19, 'banger': 19, 'dysfunction': 19, 'clones': 19, 'racing': 19, 'fiend': 19, 'littered': 19, 'ditsy': 19, 'robbed': 19, 'forum': 19, '1994': 19, 'increase': 19, 'digest': 19, 'bloodcurdling': 19, 'jeanluc': 19, 'smugly': 19, 'sobadit': 19, 'irrepressible': 19, 'misconceived': 19, 'familyfriendly': 19, 'quivering': 19, '89': 19, 'mid': 19, 'aristocrats': 19, 'prim': 19, 'scientist': 19, 'darkest': 19, 'resemblance': 19, 'irreparable': 19, 'absorbs': 19, 'pushing': 19, 'delusions': 19, 'innovations': 19, 'traverse': 19, 'toilethumor': 19, 'codswallop': 19, 'prejudice': 19, 'immaturity': 19, 'heroism': 19, 'audrey': 19, 'butter': 19, 'implodes': 19, 'invited': 19, 'probation': 19, 'officer': 19, 'horizons': 19, 'dullness': 19, 'spiced': 19, 'westerners': 19, 'presumes': 19, 'devastatingly': 19, 'nakata': 19, 'beginnings': 19, 'grounds': 19, 'los': 19, 'angeles': 19, 'porridge': 19, 'lizard': 19, 'percolating': 19, 'specificity': 19, 'resorts': 19, 'elfriede': 19, 'seller': 19, 'armed': 19, 'gallery': 19, 'tennessee': 19, 'sportsmen': 19, 'extras': 19, 'playlist': 19, 'cheaplooking': 19, 'rape': 19, 'invite': 19, 'rapes': 19, 'sensuous': 19, 'thatcher': 19, 'hired': 19, 'blossom': 19, 'markets': 19, 'insufficiently': 19, 'starving': 19, 'august': 19, 'distinguishes': 19, '1992': 19, 'peculiarly': 19, 'humanistic': 19, 'sultry': 19, 'oodles': 19, 'handicapped': 19, 'belgian': 19, 'springer': 19, 'halftime': 19, 'substances': 19, 'babysitter': 19, 'coda': 19, 'canadians': 19, 'youarethere': 19, 'repugnance': 19, 'lowwattage': 19, 'thirdrate': 19, 'illfitting': 19, 'metaphysical': 19, 'dogged': 19, 'gliding': 19, 'worldatlarge': 19, 'laziest': 19, 'heartstring': 19, 'consists': 19, 'marquee': 19, 'bid': 19, 'precredit': 19, 'ritter': 19, 'jake': 19, 'walken': 19, 'abundantly': 19, 'taxi': 19, 'easygoing': 19, 'leftover': 19, 'delta': 19, 'cozy': 19, 'knot': 19, 'sampler': 19, 'stylishness': 19, 'st': 19, 'wim': 19, 'ostensible': 19, 'mentality': 19, 'watchful': 19, 'aspiring': 19, 'kaputschnik': 19, 'wwf': 19, 'mouse': 19, 'shouted': 19, 'baz': 19, 'luhrmann': 19, 'heinous': 19, 'sexsoaked': 19, 'soaring': 19, '45': 19, 'jail': 19, 'underarm': 19, 'noises': 19, 'remakes': 18, 'converted': 18, 'arthur': 18, 'vaudeville': 18, 'error': 18, 'gallo': 18, '25': 18, 'meaty': 18, 'tvmovie': 18, 'flickering': 18, 'rightthinking': 18, 'phillip': 18, 'entertains': 18, 'tagline': 18, 'onesided': 18, 'sneaky': 18, 'keenly': 18, 'scrapbook': 18, 'mug': 18, 'tarantula': 18, 'morris': 18, 'opts': 18, 'clicheridden': 18, 'topics': 18, 'journalists': 18, 'ominous': 18, 'fused': 18, 'musings': 18, 'prince': 18, 'wayne': 18, 'goofiness': 18, 'hothouse': 18, 'tax': 18, 'everyman': 18, 'realtime': 18, 'goodlooking': 18, 'insensitivity': 18, 'jeopardy': 18, 'rustic': 18, 'calibrated': 18, 'sibling': 18, 'eisenstein': 18, 'creator': 18, 'newcomers': 18, 'payback': 18, 'unapologetically': 18, 'karen': 18, 'dime': 18, 'milestones': 18, 'negative': 18, 'awake': 18, 'holofcener': 18, 'endings': 18, 'hitman': 18, 'wildest': 18, 'unmentionable': 18, 'patchwork': 18, 'grossly': 18, 'underestimated': 18, 'complacency': 18, 'scribe': 18, 'jonze': 18, 'griffiths': 18, 'cons': 18, 'dey': 18, 'exudes': 18, 'sledgehammer': 18, 'flabby': 18, 'avantgarde': 18, 'popinduced': 18, 'sopranos': 18, 'doingitfor': 18, 'competence': 18, 'revitalize': 18, 'clungto': 18, 'tougher': 18, 'reese': 18, 'split': 18, 'shorts': 18, 'marginally': 18, 'kinnear': 18, 'changed': 18, 'pipeline': 18, 'mishmash': 18, 'favored': 18, 'everywhere': 18, 'funk': 18, 'bugsy': 18, 'revulsion': 18, 'reflects': 18, 'nationwide': 18, 'bothered': 18, 'collage': 18, 'mystic': 18, 'mehta': 18, 'hurts': 18, 'bodiceripper': 18, 'widescreen': 18, 'goofiest': 18, 'travails': 18, 'wishywashy': 18, 'defensive': 18, 'endeavour': 18, 'unspool': 18, 'derives': 18, 'elm': 18, 'gussied': 18, 'franklin': 18, 'wan': 18, 'actioner': 18, 'followup': 18, 'letterman': 18, 'notches': 18, 'mumbo': 18, 'partnerships': 18, 'finesse': 18, 'inert': 18, 'backmasking': 18, 'convincingly': 18, 'sexist': 18, 'upside': 18, 'athleticism': 18, 'tavernier': 18, 'doug': 18, 'lighten': 18, 'actionmovie': 18, 'cram': 18, 'gaps': 18, 'awardwinning': 18, 'highlights': 18, 'kurys': 18, 'bought': 18, 'chicken': 18, 'aesthetics': 18, 'kurt': 18, 'salle': 18, 'crimeland': 18, 'stanley': 18, 'exasperating': 18, 'fullbodied': 18, 'tootsie': 18, 'impersonation': 18, 'inauthentic': 18, 'admitted': 18, 'slaphappy': 18, 'unseen': 18, 'organized': 18, 'musketeer': 18, 'elbowed': 18, 'rotoscope': 18, 'anchored': 18, 'riveted': 18, 'combustible': 18, 'archives': 18, 'depressingly': 18, 'straightfaced': 18, 'surrounded': 18, 'fleetingly': 18, 'topple': 18, 'paradoxically': 18, 'oldhat': 18, 'stardom': 18, 'owned': 18, 'unsatisfied': 18, 'fragmented': 18, 'palaver': 18, 'complain': 18, 'mesmerize': 18, 'scarlet': 18, 'tightrope': 18, 'architect': 18, 'logical': 18, 'projection': 18, 'ruggero': 18, 'connoisseurs': 18, 'aweinspiring': 18, 'gut': 18, 'retooled': 18, 'acidic': 18, 'tighter': 18, 'quadrangle': 18, 'cultivated': 18, 'pocket': 18, 'oral': 18, 'extends': 18, 'saddest': 18, 'selfserious': 18, 'totalitarian': 18, 'dual': 18, 'fastmoving': 18, 'borstal': 18, 'smeared': 18, 'windshield': 18, 'portraits': 18, 'garcia': 18, 'lisping': 18, 'intentioned': 18, 'advertised': 18, 'unleashes': 18, 'gamut': 18, 'homicide': 18, 'soporific': 18, 'scarifying': 18, 'addressing': 18, 'viveka': 18, 'explosive': 18, 'insecurity': 18, 'nancy': 18, 'pollution': 18, 'youngguns': 18, 'overstated': 18, 'examining': 18, 'frowns': 18, 'engineering': 18, 'proposal': 18, 'coldhearted': 18, 'sidesplitting': 18, 'symbolism': 18, 'collect': 18, 'bounces': 18, 'trimming': 18, 'seasoned': 18, 'ventura': 18, 'passionately': 18, 'swan': 18, 'dive': 18, 'lab': 18, 'feisty': 18, 'auspicious': 18, 'seal': 18, 'gusto': 18, 'shrieky': 18, 'kaige': 18, 'howling': 18, 'cringing': 18, 'synagogue': 18, 'overstuffed': 18, 'miscast': 18, 'countercultural': 18, 'nohe': 18, 'boogaloo': 18, 'flatter': 18, 'jfk': 18, 'gracefully': 18, 'professor': 18, 'melville': 18, 'circumstantial': 18, 'sealed': 18, 'doo': 18, 'hiding': 18, 'probes': 18, 'parent': 18, 'narrated': 18, 'helm': 18, 'abbott': 18, 'vacation': 18, 'creatively': 18, 'creepiest': 18, 'portrayed': 18, 'redeem': 18, 'humility': 18, 'byzantine': 18, 'cows': 18, 'inuit': 18, 'laziness': 18, 'antiseptic': 18, 'dispossessed': 18, 'muddy': 18, 'catch22': 18, 'meddles': 18, 'lecter': 18, 'woozy': 18, 'objects': 18, 'deckhand': 18, 'dazed': 18, 'illadvised': 18, 'fees': 18, 'lowgrade': 18, 'batch': 18, 'unsavory': 18, 'antikieslowski': 18, 'austen': 18, 'alexandre': 18, 'evangelical': 18, 'oprah': 18, 'nationally': 18, 'bronx': 18, 'iceberg': 18, 'treated': 18, 'famine': 18, 'bloodstream': 18, 'clamorous': 18, 'dearth': 18, 'halfasleep': 18, 'surfaces': 18, 'sensationalism': 18, 'punchy': 18, 'morose': 18, 'mall': 18, 'monday': 18, 'twinkle': 18, 'gum': 18, 'creeping': 18, 'dedicated': 18, 'margaret': 18, 'frissons': 18, 'defined': 18, 'spoofs': 18, 'alienating': 18, 'glitz': 18, 'hop': 18, 'blankfaced': 18, 'handling': 18, 'cannon': 18, 'ape': 18, 'rubenesque': 18, 'studiously': 18, 'spectrum': 18, '85': 18, 'photos': 18, 'scandal': 18, 'stones': 18, 'broader': 18, 'zwick': 18, 'mournful': 18, 'passe': 18, 'kalvert': 18, 'restrictive': 18, 'transitions': 18, 'fleshandblood': 18, 'tucked': 18, 'shapes': 18, 'volcano': 18, 'septic': 18, 'injustices': 18, 'penchant': 18, 'supermarket': 18, 'tabloids': 18, 'frankness': 18, 'interestingly': 18, 'hotep': 18, 'stabs': 18, 'dogme': 18, 'downtoearth': 18, 'affability': 18, 'backstory': 18, 'avarice': 18, 'fuse': 18, 'promotes': 18, 'markers': 18, 'tearjerking': 18, 'globalizing': 18, 'novelist': 18, 'rigged': 18, 'lurches': 18, 'chilled': 18, 'campbell': 18, 'stump': 18, 'alpha': 18, 'bobby': 18, 'premises': 18, 'appalled': 18, 'creamy': 18, 'vessel': 18, 'redneck': 18, 'mississippi': 18, 'punishing': 18, 'bumpy': 18, 'lesserpraised': 18, 'owners': 18, 'pageturner': 18, 'indicates': 18, 'strap': 18, 'techno': 18, 'leoni': 18, 'balletic': 18, 'russos': 18, 'decrepitude': 18, 'yikes': 18, 'stepping': 18, 'shun': 18, 'overplotted': 18, 'headache': 18, 'convicted': 18, 'unfree': 18, 'alleys': 18, 'heresy': 18, 'examined': 18, 'adage': 17, 'shakespearean': 17, 'schnitzler': 17, 'weirdo': 17, 'tricky': 17, 'detailing': 17, 'plausible': 17, 'furiously': 17, 'throughline': 17, 'factors': 17, 'leap': 17, 'achieving': 17, 'myrtle': 17, 'theatrically': 17, 'groupies': 17, 'upscale': 17, 'signals': 17, 'penance': 17, 'commercialism': 17, 'bites': 17, 'goldmember': 17, 'bedroom': 17, 'hysterics': 17, 'fundamentally': 17, 'abhorrent': 17, 'teendom': 17, 'gooding': 17, 'slumming': 17, 'broder': 17, 'vat': 17, 'uneasily': 17, 'guillen': 17, 'unbelievably': 17, 'compels': 17, 'rivalry': 17, 'integrated': 17, 'explaining': 17, 'stare': 17, 'evoking': 17, 'apes': 17, 'germany': 17, 'democratic': 17, 'difficulty': 17, 'lint': 17, 'krige': 17, 'freshly': 17, 'indieheads': 17, 'taboo': 17, 'yorkers': 17, 'drains': 17, 'simpsons': 17, 'squandering': 17, 'takashi': 17, 'musset': 17, 'brooms': 17, 'juice': 17, 'unthinkable': 17, 'shatters': 17, 'welldeveloped': 17, 'vh1': 17, 'hannabarbera': 17, 'mockumentary': 17, 'daylewis': 17, 'transcendence': 17, 'subtitled': 17, 'spits': 17, 'stature': 17, 'italianlanguage': 17, 'forsaken': 17, 'heyday': 17, 'cheapo': 17, 'aaliyah': 17, 'strands': 17, 'pbs': 17, 'thecash': 17, 'bugeyed': 17, 'spiffy': 17, 'penn': 17, 'respects': 17, 'continually': 17, 'ararat': 17, 'mixing': 17, 'hanging': 17, 'academic': 17, 'employment': 17, 'symbols': 17, 'accepting': 17, 'commands': 17, 'perspectives': 17, 'approaches': 17, 'autocritique': 17, 'moralistic': 17, 'styled': 17, 'nolan': 17, 'entered': 17, 'creeps': 17, 'attendant': 17, 'weasels': 17, 'margin': 17, 'creep': 17, 'provoked': 17, 'mixedup': 17, 'com': 17, 'suggestive': 17, 'landbased': 17, 'recreates': 17, 'sharper': 17, 'tailor': 17, 'listening': 17, 'bourgeois': 17, 'phoenix': 17, 'sterile': 17, 'sulky': 17, 'expands': 17, 'humanism': 17, 'surrenders': 17, 'assimilated': 17, 'rendering': 17, 'jacobson': 17, 'polson': 17, 'presenting': 17, 'sodden': 17, 'bonds': 17, 'watts': 17, 'autopsy': 17, 'matched': 17, 'sought': 17, 'girlongirl': 17, 'immediacy': 17, 'attacks': 17, 'dramatizing': 17, 'jawdropping': 17, 'samira': 17, 'israeli': 17, 'koury': 17, 'broiling': 17, 'accomplish': 17, 'didacticism': 17, 'candor': 17, 'blends': 17, 'jonathan': 17, 'blessed': 17, 'chafing': 17, 'learns': 17, 'hamming': 17, 'pushiness': 17, 'apollo': 17, 'openly': 17, 'discordant': 17, 'koepp': 17, 'motifs': 17, 'quintet': 17, 'schedule': 17, 'hypocritical': 17, 'tshirt': 17, 'impulsive': 17, 'clobbering': 17, 'compassionate': 17, 'cities': 17, 'feverpitched': 17, 'allstar': 17, 'fantasma': 17, 'charade': 17, 'auteil': 17, 'neutral': 17, 'wash': 17, 'anarchists': 17, 'informed': 17, 'unspeakable': 17, 'aristocrat': 17, 'flush': 17, 'discarded': 17, 'pummel': 17, 'assaults': 17, 'illogical': 17, 'adroit': 17, 'principles': 17, 'mergers': 17, 'onenote': 17, 'introducing': 17, 'loveable': 17, 'repulsive': 17, 'contempt': 17, 'boozy': 17, 'superhuman': 17, 'petri': 17, 'condescension': 17, 'stoop': 17, 'underscore': 17, 'fatter': 17, 'drops': 17, 'unfinished': 17, 'joie': 17, 'maturity': 17, 'cheeky': 17, 'telegrams': 17, 'skulls': 17, 'indecent': 17, 'tops': 17, 'stacked': 17, 'selfpromoter': 17, 'hermitage': 17, 'jeanclaud': 17, 'surveillance': 17, 'technologies': 17, 'shattering': 17, 'pickup': 17, 'leavened': 17, 'neorealism': 17, 'inferior': 17, 'profanity': 17, 'jimmy': 17, 'soil': 17, 'setpiece': 17, 'workinprogress': 17, 'plate': 17, 'loser': 17, 'suitcase': 17, 'prosaic': 17, 'ascends': 17, 'kinetic': 17, 'rediscover': 17, 'shmear': 17, 'margins': 17, 'tarzan': 17, 'indescribably': 17, 'blob': 17, 'abbass': 17, 'teendriven': 17, 'pencil': 17, 'sharpener': 17, 'commenting': 17, 'smaller': 17, 'naive': 17, 'enhance': 17, 'thoughtfully': 17, '85minute': 17, 'actionadventure': 17, 'smartaleck': 17, 'fleshedout': 17, 'collapse': 17, 'stomp': 17, 'starmaking': 17, 'ohso': 17, 'interrupted': 17, 'truncheoning': 17, 'toy': 17, 'egregious': 17, 'pintsized': 17, 'absent': 17, 'cliff': 17, 'overlook': 17, 'funforfun': 17, 'conveys': 17, 'ireland': 17, 'reversal': 17, 'excursion': 17, 'instability': 17, 'injustice': 17, 'na': 17, 'joined': 17, 'languid': 17, 'expiration': 17, 'predisposed': 17, 'fishy': 17, 'potshots': 17, 'snide': 17, 'spoil': 17, 'punny': 17, '6': 17, 'dizzy': 17, 'perpetrated': 17, 'nagging': 17, 'simmering': 17, 'sociopath': 17, 'bloodwork': 17, 'costuming': 17, 'accident': 17, 'girlmeetsgirl': 17, 'centering': 17, 'sublimely': 17, 'selfsacrifice': 17, 'valid': 17, 'unscathed': 17, 'minded': 17, 'embedded': 17, 'dj': 17, 'slanted': 17, 'bark': 17, 'septuagenarian': 17, 'familyoriented': 17, 'obscured': 17, 'reflections': 17, 'cameras': 17, 'overview': 17, 'views': 17, 'actuary': 17, 'sept': 17, 'pore': 17, 'monsterinthe': 17, 'rethink': 17, 'saddle': 17, 'sorts': 17, 'transfigures': 17, 'sketchiest': 17, 'radioactive': 17, 'semen': 17, 'dogmatism': 17, 'fearful': 17, 'unimpeachable': 17, 'chopsocky': 17, 'thrives': 17, 'wheezing': 17, 'rounded': 17, 'provokes': 17, 'underrated': 17, 'pan': 17, 'overflowing': 17, 'ruin': 17, 'decrepit': 17, 'reprieve': 17, 'crank': 17, 'passage': 17, 'plucks': 17, 'weber': 17, 'omnibus': 17, 'befallen': 17, 'plunge': 17, 'noteworthy': 17, 'ounce': 17, 'snore': 17, 'bubba': 17, 'reinforcement': 17, 'immerse': 17, 'trio': 17, 'entries': 17, 'mortality': 17, 'flounders': 17, 'covering': 17, 'jokester': 17, 'broadcast': 17, 'marketing': 17, 'celebi': 17, 'elderly': 17, 'efficiency': 17, 'sputters': 17, 'revisited': 17, 'liberalism': 17, 'thankless': 17, '15cent': 17, 'unelected': 17, 'spunk': 17, 'lulling': 17, 'surgical': 17, 'highenergy': 17, 'nailbiting': 17, 'peeved': 17, 'weigh': 17, 'presumption': 17, 'descent': 17, 'garry': 17, 'shandling': 17, 'blessing': 17, 'programs': 17, 'intimidating': 17, 'deficiency': 17, 'charges': 17, 'fleming': 17, 'degrees': 17, 'button': 17, 'frontier': 17, 'nutjob': 17, 'annoyingly': 17, 'coincidences': 17, 'rumbles': 17, 'tok': 17, 'intermissions': 17, 'cinemabesotted': 17, 'entrance': 17, 'exam': 17, 'perverted': 17, 'pine': 17, 'hapless': 17, 'weeping': 17, 'cutout': 17, 'comprehensive': 17, 'canter': 17, 'timeframe': 17, 'incandescent': 17, 'windup': 17, 'bradbury': 17, 'ultramanipulative': 17, 'selfglorification': 16, 'quotations': 16, 'distort': 16, 'grenade': 16, 'glacial': 16, 'shocker': 16, 'convolutions': 16, 'fantasia': 16, 'sanguine': 16, 'cracker': 16, 'secondguess': 16, 'wisecracking': 16, 'tian': 16, 'dupe': 16, 'screwedup': 16, 'diner': 16, 'cowering': 16, 'allenveloping': 16, 'eerily': 16, 'depression': 16, 'welldone': 16, 'offputting': 16, '1915': 16, 'position': 16, 'disappointments': 16, 'inertia': 16, 'waterboy': 16, 'bigelow': 16, 'cremaster': 16, 'mcdowell': 16, 'eurotrash': 16, '50yearold': 16, 'resolutions': 16, 'blithe': 16, 'switch': 16, 'stoops': 16, 'stamp': 16, 'visualize': 16, 'summercamp': 16, 'pasty': 16, 'soars': 16, 'toast': 16, 'retreat': 16, 'grinder': 16, 'doles': 16, 'indelible': 16, 'completion': 16, 'valiant': 16, 'ringing': 16, 'bars': 16, 'urges': 16, 'flop': 16, '1920': 16, 'beer': 16, 'strippeddown': 16, 'nobrainer': 16, 'belgium': 16, 'retooling': 16, 'averting': 16, 'sacrificed': 16, 'fizzle': 16, 'united': 16, 'manual': 16, 'litmus': 16, 'doubts': 16, 'livelier': 16, 'broke': 16, 'translate': 16, 'diminishing': 16, 'padding': 16, 'seasonal': 16, 'bale': 16, 'skimpy': 16, 'nail': 16, 'arduous': 16, 'communicates': 16, 'sean': 16, 'lillard': 16, 'travis': 16, 'bickle': 16, 'amaze': 16, 'prevails': 16, 'undertones': 16, 'prissy': 16, 'cary': 16, 'carlin': 16, 'assumption': 16, 'framework': 16, 'hitch': 16, 'glitter': 16, 'regain': 16, 'ebullient': 16, 'canada': 16, 'sweetest': 16, 'enriched': 16, 'spelled': 16, 'queasy': 16, 'interplay': 16, 'posterity': 16, 'caffeinated': 16, 'gaiety': 16, 'breathless': 16, 'odor': 16, 'gremlins': 16, 'orders': 16, 'pseudoserious': 16, 'quirkily': 16, 'puff': 16, 'dreaming': 16, 'guyinadress': 16, 'liotta': 16, 'sequelforthesake': 16, 'irresistibly': 16, 'turd': 16, 'suitably': 16, 'ignorant': 16, 'verges': 16, 'dot': 16, 'modem': 16, 'valiantly': 16, 'olivier': 16, 'friel': 16, 'liza': 16, 'tonto': 16, 'stepdad': 16, 'dropped': 16, 'siren': 16, 'spacey': 16, 'bestselling': 16, 'selfhelp': 16, 'gourmet': 16, 'unruly': 16, 'skeletons': 16, 'xerox': 16, 'welledited': 16, 'sunshine': 16, 'dramatization': 16, 'pregnant': 16, 'boll': 16, 'inadequate': 16, 'lengths': 16, 'duck': 16, 'sideshow': 16, 'whatsoever': 16, 'forgets': 16, 'menacing': 16, 'uncovers': 16, 'scotland': 16, 'leaping': 16, 'poster': 16, 'crafty': 16, 'irrevocable': 16, 'douglas': 16, 'overladen': 16, 'roy': 16, 'perseverance': 16, 'ladder': 16, 'trade': 16, 'foremost': 16, 'burrito': 16, 'pyrotechnics': 16, 'pulchritude': 16, 'undernourished': 16, 'plethora': 16, 'igby': 16, 'philippe': 16, 'spending': 16, 'virtuosity': 16, 'flowery': 16, 'iwai': 16, 'companionable': 16, 'decibel': 16, 'highbrow': 16, '102minute': 16, 'knoxville': 16, 'applying': 16, 'trots': 16, 'airs': 16, 'interviewees': 16, 'luridly': 16, 'strokes': 16, 'soliloquies': 16, 'survived': 16, 'benshan': 16, 'copout': 16, 'abbreviated': 16, 'robust': 16, 'nicolas': 16, 'gratingly': 16, 'lugosi': 16, 'demeanor': 16, 'grungy': 16, 'wicked': 16, 'crowded': 16, 'conclusions': 16, 'indulge': 16, 'satisfactory': 16, 'mixer': 16, 'continuation': 16, 'eagerness': 16, 'rohypnol': 16, 'feminine': 16, 'mcdonald': 16, 'deadon': 16, 'insightfully': 16, 'morbidity': 16, 'l': 16, 'signpost': 16, 'bluster': 16, 'equalizer': 16, 'ills': 16, 'scooped': 16, 'frustrates': 16, 'rudimentary': 16, 'wasabi': 16, 'kidnappings': 16, 'patchy': 16, 'lowtech': 16, 'acquired': 16, 'babes': 16, 'stew': 16, 'downsizing': 16, 'freighter': 16, 'defense': 16, 'survivable': 16, 'bacon': 16, 'honorable': 16, 'oozing': 16, 'sleepinducing': 16, 'despicable': 16, 'slowmoving': 16, 'humiliation': 16, 'bleakness': 16, 'conspirators': 16, 'bordering': 16, 'highways': 16, 'handbagclutching': 16, 'inadvertent': 16, 'mournfully': 16, 'invented': 16, 'adorably': 16, 'worm': 16, 'insists': 16, '87': 16, 'jagged': 16, 'persecuted': 16, 'genialrogue': 16, 'favourite': 16, 'conspicuously': 16, 'kidfriendly': 16, 'phifer': 16, 'selfempowering': 16, 'continuing': 16, 'jaunt': 16, 'cackles': 16, 'yang': 16, 'panoramic': 16, 'amoral': 16, 'deepseated': 16, 'pics': 16, 'li': 16, 'hermetic': 16, 'politesse': 16, 'crudely': 16, 'warned': 16, 'predominantly': 16, 'straighttovideo': 16, 'dramedy': 16, 'holding': 16, 'harvesting': 16, 'timelessness': 16, 'boundaryhopping': 16, 'peppered': 16, 'whiteonblack': 16, 'hammer': 16, 'ernest': 16, 'eagle': 16, 'powerlunchers': 16, 'sweating': 16, 'caustic': 16, 'contrasting': 16, 'protective': 16, 'kingsley': 16, 'drek': 16, 'resume': 16, 'attentive': 16, 'halfwit': 16, 'iconic': 16, 'lipnonsynching': 16, 'argues': 16, 'amp': 16, 'walltowall': 16, 'majestic': 16, 'shapable': 16, 'flatula': 16, 'technological': 16, 'hoppedup': 16, 'sharpie': 16, 'behaving': 16, 'disservice': 16, 'instructive': 16, 'commonplace': 16, 'greed': 16, 'theatrics': 16, 'brawn': 16, 'tolerable': 16, 'infatuated': 16, 'largescreen': 16, 'disorientated': 16, 'panic': 16, 'cluelessness': 16, 'columbine': 16, 'muckraking': 16, 'elude': 16, 'cuddly': 16, 'responsibilities': 16, 'entertainments': 16, 'grimace': 16, 'adherents': 16, 'subordinate': 16, 'aplenty': 16, 'hooting': 16, 'todo': 16, 'flight': 16, 'intro': 16, 'donald': 16, 'rampant': 16, 'fireballs': 16, 'navigate': 16, 'siuation': 16, 'grimy': 16, 'bankrupt': 16, 'drifts': 16, 'identification': 16, 'aspiration': 16, 'asia': 16, 'shu': 16, 'depicts': 16, 'majorleague': 16, 'difficulties': 16, 'intentional': 16, 'earmarks': 16, 'gullets': 16, 'areas': 16, 'agency': 16, 'amnesiac': 16, 'livedin': 16, 'prior': 16, 'fiascos': 16, 'puns': 16, '1987': 16, 'rotting': 16, 'tame': 16, 'creed': 16, 'necessity': 16, 'lamer': 16, 'coral': 16, '30s': 16, 'digits': 16, 'flames': 16, 'brothersabrahams': 16, 'cookiecutter': 16, 'impatient': 16, 'thunderstorms': 16, 'dresses': 16, 'cartons': 16, 'immersed': 16, 'catalyst': 16, 'orphans': 16, 'democracy': 16, 'irksome': 16, 'upset': 16, 'poo': 16, 'applauded': 16, 'forgivable': 16, 'aptly': 16, 'loopiness': 16, 'strutting': 16, 'daytoday': 16, 'selby': 16, 'theorist': 16, 'lays': 16, 'theorizing': 16, 'recycle': 16, 'chin': 16, 'preliminary': 16, 'guard': 16, 'unemployment': 16, 'stillinestimable': 16, 'confessional': 16, 'specialinterest': 16, 'slaps': 16, 'benchmark': 16, 'muniz': 16, 'backs': 16, 'patois': 16, 'spymovie': 16, 'benoit': 16, 'nonagenarian': 16, 'weather': 16, 'noses': 16, 'misogynistic': 16, 'succinct': 16, 'epochs': 16, 'maniac': 16, 'wine': 16, 'isle': 16, 'selfloathing': 16, 'spun': 16, 'empress': 16, 'ellie': 16, 'jeweled': 16, 'beads': 16, 'orphan': 16, 'reinvented': 16, 'youngster': 16, 'imprimatur': 16, 'mistaking': 16, 'elementary': 16, 'laughfilled': 16, 'tsukamoto': 16, 'elan': 16, 'rechy': 16, 'ethnicity': 16, 'conscientious': 16, 'glenn': 16, 'persistently': 16, 'deceitful': 16, 'flights': 16, '1949': 16, 'nobudget': 16, 'bitch': 16, 'nc17': 16, 'futures': 16, 'lowheat': 16, 'alltoo': 16, '79minute': 16, 'excessive': 16, 'leppard': 16, 'empathetic': 16, 'polishing': 16, 'anytime': 16, 'brassy': 16, 'hastier': 16, 'heartbeat': 16, 'wellconstructed': 15, '100minute': 15, 'drinker': 15, 'bind': 15, 'lovefest': 15, 'sc': 15, 'mystical': 15, 'scientific': 15, 'capability': 15, 'employ': 15, 'rehashes': 15, 'placing': 15, 'equation': 15, 'lackadaisical': 15, 'ballet': 15, 'trembling': 15, 'opposed': 15, 'ensures': 15, 'campfire': 15, 'willies': 15, 'beliefs': 15, 'expensive': 15, 'channels': 15, 'twitchy': 15, 'mud': 15, 'brushes': 15, 'neglected': 15, 'handsomely': 15, 'wearer': 15, 'gutless': 15, 'laurice': 15, 'spout': 15, 'lifted': 15, 'gilliam': 15, 'luminous': 15, 'euphoria': 15, 'escapes': 15, 'glassshattering': 15, 'vidgame': 15, '19th': 15, 'hardass': 15, 'unhidden': 15, 'woven': 15, 'petty': 15, 'huskies': 15, 'humanscale': 15, 'fallible': 15, 'fondly': 15, 'unconcerned': 15, 'scientists': 15, 'chillingly': 15, 'rediscovering': 15, 'coal': 15, 'hearing': 15, 'ichi': 15, 'nephew': 15, 'ethan': 15, 'meander': 15, 'sword': 15, 'roses': 15, 'xfiles': 15, 'adored': 15, 'paved': 15, 'bile': 15, 'placid': 15, 'drowns': 15, 'gibberish': 15, 'nouvelle': 15, 'cheering': 15, 'appreciative': 15, 'cagney': 15, 'accumulated': 15, 'loquacious': 15, 'sentimentalizing': 15, 'erects': 15, 'brittle': 15, 'fax': 15, 'melanie': 15, 'noon': 15, 'trickster': 15, 'romancer': 15, 'bread': 15, 'kieran': 15, 'latches': 15, 'churn': 15, 'beard': 15, 'cussing': 15, 'spiral': 15, 'performs': 15, 'baloney': 15, 'awarded': 15, 'feeds': 15, 'brio': 15, 'rests': 15, 'laughably': 15, '50year': 15, 'italics': 15, 'gratefully': 15, 'pizazz': 15, 'juwanna': 15, 'painterly': 15, 'vertical': 15, 'lightly': 15, 'discipline': 15, 'squareness': 15, 'cockney': 15, 'drips': 15, 'amish': 15, 'retold': 15, 'chouraqui': 15, 'proven': 15, 'bikes': 15, 'shifted': 15, 'disabilities': 15, 'authentically': 15, 'morrison': 15, 'insignificance': 15, 'tie': 15, 'deserving': 15, 'gunplay': 15, 'crosssection': 15, 'unsubtle': 15, 'trivializes': 15, 'h': 15, 'priceless': 15, 'cutandpaste': 15, 'adjusting': 15, 'murderer': 15, 'exposing': 15, 'stuffed': 15, 'daft': 15, 'developing': 15, 'bearing': 15, 'adjective': 15, 'themed': 15, 'razzledazzle': 15, 'conspiracies': 15, 'hankies': 15, 'flags': 15, 'channelstyle': 15, 'anthology': 15, 'exoticism': 15, 'worries': 15, 'bolt': 15, 'diplomacy': 15, 'selfmutilating': 15, 'elysian': 15, 'headtrip': 15, 'kang': 15, 'wallowing': 15, 'trotting': 15, 'ramble': 15, 'wayward': 15, 'puddle': 15, 'anguished': 15, 'rerun': 15, 'shekhar': 15, 'hossein': 15, 'amini': 15, 'midst': 15, 'resentment': 15, 'detachment': 15, 'troubling': 15, '1973': 15, 'brew': 15, 'bores': 15, 'kuras': 15, 'refusing': 15, 'bracingly': 15, 'postfeminist': 15, 'formed': 15, 'overlyfamiliar': 15, 'carwreck': 15, 'jackal': 15, 'sprinkled': 15, 'agreeably': 15, '103minute': 15, 'wordofmouth': 15, 'pauly': 15, 'sheds': 15, 'imitating': 15, 'framed': 15, 'aggravating': 15, 'sabotaged': 15, 'overwhelmingly': 15, 'improves': 15, 'begs': 15, 'complexly': 15, 'bisset': 15, 'dullard': 15, 'sprung': 15, 'intelligentsia': 15, 'clare': 15, 'peploe': 15, 'awfulness': 15, 'bela': 15, 'nowcliched': 15, 'lecherous': 15, 'scarpia': 15, 'illtimed': 15, 'fraction': 15, 'ran': 15, 'seduce': 15, 'holeridden': 15, 'anniversary': 15, 'vacant': 15, 'bravado': 15, 'coast': 15, 'distinction': 15, 'dani': 15, 'recycles': 15, 'glimmer': 15, 'thumbing': 15, 'therapeutic': 15, 'spanning': 15, 'cocktail': 15, 'wheedling': 15, 'pointing': 15, 'tendencies': 15, 'testosterone': 15, 'sneers': 15, 'havoc': 15, 'cheesiest': 15, 'indepth': 15, 'savagely': 15, 'goodly': 15, 'unamusing': 15, 'saigon': 15, 'ganesh': 15, 'reports': 15, 'appropriated': 15, 'quandaries': 15, 'welfare': 15, 'appreciates': 15, 'tonguetied': 15, 'hardpressed': 15, 'skirts': 15, 'vivre': 15, 'defecates': 15, 'crackers': 15, 'radio': 15, 'plug': 15, 'freudian': 15, 'cq': 15, 'bryan': 15, 'scheming': 15, 'cards': 15, 'yank': 15, 'threeminute': 15, 'segal': 15, 'blah': 15, 'bills': 15, 'marking': 15, '146': 15, 'rockylike': 15, 'blowout': 15, 'dampened': 15, 'strives': 15, 'empathizes': 15, 'ditched': 15, 'conceive': 15, 'transplant': 15, 'limbo': 15, 'campaigntrail': 15, 'eccentrics': 15, 'releases': 15, 'millennial': 15, 'accuse': 15, 'les': 15, 'greg': 15, 'ageinspired': 15, 'violently': 15, 'gangraped': 15, 'elicit': 15, 'enforced': 15, 'hiatus': 15, 'kittenish': 15, 'robotic': 15, 'physics': 15, 'confluence': 15, 'avalanche': 15, 'devotees': 15, 'tested': 15, 'barrage': 15, 'stonehenge': 15, 'pseudoeducational': 15, 'bags': 15, 'fabian': 15, 'persnickety': 15, 'serrault': 15, 'agesold': 15, 'pre': 15, 'bromides': 15, 'refused': 15, 'rappers': 15, 'disreputable': 15, 'mercilessly': 15, 'exude': 15, 'forbidden': 15, 'flavorful': 15, 'chickflicks': 15, 'follies': 15, 'quaking': 15, 'patronizing': 15, 'defiant': 15, 'julianne': 15, 'succession': 15, 'sympathies': 15, 'banderas': 15, 'phantom': 15, 'improvise': 15, 'mistakes': 15, 'selfaggrandizing': 15, 'murdock': 15, 'mimics': 15, 'sincerely': 15, 'u': 15, 'bout': 15, 'epicenter': 15, 'archibald': 15, 'plucking': 15, 'meanders': 15, 'balkans': 15, 'lumbering': 15, 'bowel': 15, 'pointandshoot': 15, 'primal': 15, 'waterborn': 15, 'elephant': 15, 'intrepid': 15, 'pet': 15, 'cash': 15, 'trier': 15, 'scooping': 15, 'overworked': 15, 'patrolman': 15, 'oscarnominated': 15, 'dwarfs': 15, 'unsuccessful': 15, 'oneofakind': 15, 'leonard': 15, 'predict': 15, 'wanderers': 15, 'mugs': 15, 'irwins': 15, 'rosetinted': 15, 'wellshaped': 15, 'disappearingreappearing': 15, 'emergence': 15, '104': 15, 'ants': 15, 'favorites': 15, 'drang': 15, 'symptom': 15, 'preaches': 15, 'irrelevancy': 15, 'unengaging': 15, 'unnoticed': 15, 'sneak': 15, 'karmen': 15, 'electra': 15, 'inseparable': 15, 'wizened': 15, 'addams': 15, 'interior': 15, 'shootemup': 15, 'pared': 15, 'owed': 15, 'deterioration': 15, 'arithmetic': 15, 'serene': 15, 'illuminates': 15, 'hanukkah': 15, 'tropic': 15, 'pageant': 15, 'muscle': 15, 'emergency': 15, 'credulity': 15, 'runyon': 15, 'crooks': 15, 'heading': 15, 'janine': 15, 'niccol': 15, 'heartpounding': 15, 'marcus': 15, 'coke': 15, 'reef': 15, 'endangered': 15, '8yearold': 15, 'serials': 15, '40s': 15, 'serpent': 15, 'zucker': 15, 'uphill': 15, 'cognizant': 15, 'filmgoing': 15, 'careless': 15, 'illustrating': 15, 'manipulativeness': 15, 'flagrantly': 15, 'unmentionables': 15, 'consumers': 15, '10year': 15, 'delay': 15, 'tourism': 15, 'pageants': 15, 'corcuera': 15, 'fighters': 15, 'swingers': 15, 'kidsandfamilyoriented': 15, 'grasping': 15, 'whining': 15, 'print': 15, 'items': 15, 'clouds': 15, 'redolent': 15, 'ungainly': 15, 'adrenalin': 15, 'undisciplined': 15, 'losses': 15, 'eventful': 15, 'scenarios': 15, 'inconclusive': 15, 'corniest': 15, 'fussy': 15, 'nicky': 15, 'truetolife': 15, 'mordant': 15, 'devote': 15, 'link': 15, 'subjugate': 15, 'ballisticpyrotechnic': 15, 'percentages': 15, 'essay': 15, 'recovered': 15, 'badmovie': 15, 'composure': 15, 'fi': 15, 'stagetrained': 15, 'unbroken': 15, '87minute': 15, 'confrontation': 15, 'mysterythriller': 15, 'reenactments': 15, 'fetish': 15, 'commodity': 15, 'americana': 15, 'packaged': 15, 'novella': 15, 'streetrealist': 15, 'fidelity': 15, 'chimpanzees': 15, 'longheld': 15, 'illusions': 15, 'churning': 15, 'accompany': 15, 'aura': 15, 'resolve': 15, 'dario': 15, 'emi': 15, 'gilligan': 15, 'scriptwriter': 15, 'wallow': 15, 'progenitor': 15, 'deconstructing': 15, 'embroiled': 15, 'dazzles': 15, 'linux': 15, 'flotsam': 15, 'subsequently': 15, 'picking': 15, 'monica': 15, 'bleibtreu': 15, 'intertwined': 15, 'fundamental': 15, 'scams': 15, 'furry': 15, 'peaceandlove': 15, 'betterthanaverage': 15, 'partway': 15, 'clearer': 15, 'airtime': 15, 'sentences': 15, 'squinting': 15, 'exemplary': 15, 'minimodmadness': 15, 'indiana': 15, 'knockoffs': 15, 'economy': 15, 'explorations': 15, 'fatigues': 15, 'excrescence': 15, 'stationary': 15, 'shinya': 15, 'ryanovich': 15, 'wally': 15, 'wolodarsky': 15, 'tingle': 15, 'preferred': 15, 'boast': 15, 'sandrine': 15, 'liable': 15, 'teaching': 15, 'regis': 15, 'philbin': 15, 'threatening': 15, 'chemists': 15, 'smelly': 15, 'piesiewicz': 15, 'musketeers': 15, 'wink': 15, 'winsome': 15, 'undetermined': 15, 'slacker': 15, 'def': 15, 'matheson': 15, 'gawk': 15, 'concocts': 15, 'plum': 15, 'vinnie': 15, 'luvspreading': 15, 'battling': 15, 'eugene': 15, 'snoozy': 15, 'fieldsized': 15, 'oriental': 15, 'communism': 15, 'wachowski': 15, 'universally': 15, 'deceit': 14, 'ramifications': 14, 'mongrel': 14, 'pep': 14, 'zingers': 14, 'sunday': 14, 'cooler': 14, 'schindler': 14, 'solution': 14, 'reporting': 14, 'exalted': 14, 'defensible': 14, 'campanella': 14, 'grieving': 14, 'sy': 14, 'reassuring': 14, 'ver': 14, 'monkeys': 14, 'videodrome': 14, 'roiling': 14, 'ivan': 14, 'injects': 14, 'structures': 14, 'halfbad': 14, 'fabricated': 14, 'featured': 14, 'unsophisticated': 14, 'hunger': 14, 'boorishness': 14, 'hooliganism': 14, 'veterans': 14, 'fork': 14, 'revolutionary': 14, 'heartening': 14, 'pokepie': 14, 'prefeminist': 14, 'rocksolid': 14, 'rivals': 14, 'laura': 14, 'jumbled': 14, 'india': 14, 'halfsleep': 14, 'undermining': 14, 'catharsis': 14, 'insurrection': 14, 'borg': 14, 'tidings': 14, 'buck': 14, 'rembrandt': 14, 'dissecting': 14, 'statham': 14, 'documenting': 14, 'efficiently': 14, 'tarkovsky': 14, 'triangles': 14, 'effecting': 14, 'tranquil': 14, 'begley': 14, 'enhances': 14, 'sheerly': 14, 'journalistic': 14, 'christianity': 14, 'catching': 14, 'amours': 14, 'answering': 14, 'abornin': 14, 'dip': 14, 'irreverent': 14, 'ferrera': 14, 'worthless': 14, 'halfanhour': 14, 'draggy': 14, 'ayurveda': 14, 'loopy': 14, 'estranged': 14, 'holographic': 14, 'domineering': 14, 'jazz': 14, 'fatally': 14, 'monotone': 14, 'maintained': 14, 'rosecolored': 14, 'aimlessness': 14, 'actionoriented': 14, 'gutter': 14, 'snaps': 14, 'bestforeignfilm': 14, 'padded': 14, 'amusedly': 14, 'strenuously': 14, 'tunisian': 14, 'gleefully': 14, 'bees': 14, 'howler': 14, 'orgy': 14, 'amir': 14, 'bolero': 14, 'helpings': 14, 'ceremonies': 14, 'languidly': 14, 'disciplined': 14, 'cameo': 14, 'dualistic': 14, 'underlay': 14, 'dynamite': 14, 'quitting': 14, 'zings': 14, 'outbadact': 14, 'straining': 14, 'splendidly': 14, 'undo': 14, 'ofasequel': 14, 'shockwaves': 14, 'unflappable': 14, 'elvis': 14, 'gallic': 14, 'middleage': 14, 'hairdo': 14, 'gandalf': 14, 'corblimeyluvaduck': 14, 'absorb': 14, 'ash': 14, 'wednesday': 14, 'witchstyle': 14, 'discontent': 14, 'exceeds': 14, 'laurence': 14, 'pawn': 14, 'benefited': 14, 'poetics': 14, 'staid': 14, 'shootouts': 14, 'hateful': 14, 'detract': 14, 'silberling': 14, 'calvin': 14, 'scared': 14, 'consideration': 14, 'wladyslaw': 14, 'szpilman': 14, 'modus': 14, 'operandi': 14, 'shuckandjive': 14, 'tempered': 14, 'annex': 14, 'lucratively': 14, 'preaching': 14, 'halfdozen': 14, 'selfcongratulation': 14, 'secondary': 14, 'address': 14, 'wen': 14, 'hungryman': 14, 'frustrations': 14, 'tar': 14, 'lawmen': 14, 'inhuman': 14, 'sociological': 14, 'retail': 14, 'clerk': 14, 'aladdin': 14, 'delving': 14, 'stoked': 14, 'quota': 14, 'highpowered': 14, 'memorial': 14, 'namely': 14, 'unimpressive': 14, 'portuguese': 14, 'gangstercrime': 14, 'wasp': 14, 'matron': 14, 'mini': 14, 'welt': 14, 'retelling': 14, 'illuminated': 14, 'tearful': 14, 'robotically': 14, 'italicized': 14, 'freeing': 14, 'artefact': 14, 'lightest': 14, 'mist': 14, 'soapy': 14, 'twohourandfifteenminute': 14, 'troubleintheghetto': 14, 'reynolds': 14, 'muzak': 14, 'celibacy': 14, 'rhetoric': 14, 'indicative': 14, 'founders': 14, 'improbability': 14, 'cowriterdirector': 14, 'gianni': 14, '77': 14, 'consummate': 14, 'antitrust': 14, 'arliss': 14, 'gerardo': 14, 'drenched': 14, 'unpersuasive': 14, 'allmale': 14, 'intermezzo': 14, 'educates': 14, 'desolate': 14, 'jawdroppingly': 14, 'indistinct': 14, 'purity': 14, 'hears': 14, 'colored': 14, '65th': 14, 'goers': 14, 'insistence': 14, 'lovehate': 14, 'dulled': 14, 'franco': 14, 'halfnaked': 14, 'antisemitism': 14, 'derailed': 14, 'greenlight': 14, 'shecute': 14, 'departments': 14, 'weighed': 14, 'ploddingly': 14, 'infiltrated': 14, 'weary': 14, 'exxon': 14, 'flower': 14, 'purge': 14, 'thirteen': 14, 'equipment': 14, 'pornographic': 14, 'parties': 14, 'marveling': 14, 'impress': 14, 'raindrop': 14, 'fateful': 14, 'adolescents': 14, 'theron': 14, 'spectator': 14, 'faceoff': 14, 'mush': 14, 'fluids': 14, 'debrauwer': 14, 'americanrussian': 14, 'armageddon': 14, 'combine': 14, 'horrific': 14, 'hallmarks': 14, 'clements': 14, 'huggers': 14, 'alltoohuman': 14, 'anniemary': 14, 'agony': 14, 'scoring': 14, 'bloodsucker': 14, 'bambi': 14, 'petrovich': 14, 'garde': 14, 'intention': 14, 'passably': 14, 'depravity': 14, 'deadundead': 14, 'freakouts': 14, 'affluent': 14, 'bigwave': 14, 'inextricably': 14, 'serry': 14, 'contained': 14, 'bouncing': 14, 'ricocheting': 14, 'popculture': 14, 'taiwanese': 14, 'impassive': 14, 'rat': 14, 'tremendously': 14, 'recreation': 14, 'undying': 14, 'whirl': 14, 'recoing': 14, 'pastel': 14, 'soaper': 14, 'movieoftheweek': 14, 'si': 14, 'mulls': 14, 'bias': 14, 'stuffing': 14, 'fanboy': 14, 'improperly': 14, 'disdain': 14, 'arm': 14, 'thorough': 14, 'mire': 14, 'android': 14, 'stadiumseat': 14, 'chump': 14, 'stubbornly': 14, 'collected': 14, 'schweig': 14, 'warmovie': 14, 'nonnarrative': 14, 'revisiting': 14, 'drugrelated': 14, 'bathing': 14, 'pains': 14, 'laconic': 14, 'shudder': 14, 'groan': 14, 'anxious': 14, 'traces': 14, 'dungeons': 14, 'welllensed': 14, 'replacing': 14, 'livestyle': 14, 'advises': 14, 'denlopp': 14, 'fastedit': 14, 'wholesale': 14, 'unrepentant': 14, 'participate': 14, 'afford': 14, 'echelons': 14, 'intricately': 14, 'pizza': 14, 'pent': 14, 'worldrenowned': 14, 'historic': 14, 'naturenurture': 14, 'terrors': 14, 'squander': 14, 'lyrics': 14, 'extralarge': 14, 'walt': 14, 'smear': 14, 'lipgloss': 14, 'unnatural': 14, 'protestors': 14, 'diplomat': 14, 'unturned': 14, 'booths': 14, 'clunkiness': 14, 'athletic': 14, 'erotically': 14, 'hideous': 14, 'iconography': 14, 'recruiting': 14, 'dismay': 14, 'fencer': 14, 'braveheart': 14, 'flashback': 14, 'whipcrack': 14, 'prescription': 14, 'dodger': 14, 'hijinks': 14, 'affirm': 14, 'grasps': 14, 'unsure': 14, 'heartstrings': 14, 'underappreciated': 14, 'shabby': 14, 'array': 14, 'bellydancing': 14, 'dimness': 14, 'postadolescent': 14, 'travail': 14, 'deadeningly': 14, 'evergrowing': 14, 'recognition': 14, 'resolved': 14, 'macnaughton': 14, 'faraway': 14, 'deform': 14, 'exclamation': 14, 'unread': 14, 'anxieties': 14, 'triessohardtobecool': 14, 'khouri': 14, 'simulate': 14, 'bille': 14, 'machines': 14, 'damonbourne': 14, 'malone': 14, 'lingered': 14, 'brett': 14, 'juniorhigh': 14, 'millisecond': 14, 'grotesquely': 14, 'coughed': 14, 'aisles': 14, 'cleavage': 14, 'peas': 14, 'barrie': 14, 'tashlin': 14, 'cream': 14, 'welldrawn': 14, 'goldberg': 14, 'malarkey': 14, 'reductions': 14, 'genderwar': 14, 'populace': 14, 'caliber': 14, 'wasting': 14, 'shoes': 14, 'dicey': 14, 'retiring': 14, 'selfhating': 14, 'lovestruck': 14, 'somebodies': 14, 'pressure': 14, 'mischievous': 14, 'snl': 14, 'pleas': 14, 'comicbook': 14, 'rooms': 14, 'cliffnotes': 14, 'raunchfests': 14, 'rapturous': 14, 'pythonesque': 14, 'artificiality': 14, 'soontobeforgettable': 14, 'drunk': 14, 'endorsement': 14, 'jacket': 14, 'afghani': 14, 'founding': 14, 'werner': 14, 'yasujiro': 14, 'ozu': 14, 'congratulate': 14, 'claws': 14, 'banking': 14, 'quit': 14, 'tireless': 14, 'readymade': 14, 'winking': 14, 'limpid': 14, 'zishe': 14, 'switchblade': 14, 'sexpot': 14, 'roland': 14, 'weissman': 14, 'justaboveaverage': 14, 'lightfooted': 14, 'perplexing': 14, 'hypocrisies': 14, 'diego': 14, 'stress': 14, 'unimaginatively': 14, 'foulmouthed': 14, 'phoniness': 14, 'femalebonding': 14, 'fringe': 14, 'projector': 14, 'instilled': 14, 'adept': 14, 'geddes': 14, 'crafting': 14, '247': 14, 'lethargically': 14, 'specter': 14, 'tightened': 14, 'fore': 14, 'method': 14, 'sci': 14, 'overtake': 14, 'conceivable': 14, 'excepting': 14, 'navajos': 14, 'specious': 14, 'bangs': 14, 'stringpulling': 14, 'lighterthanair': 14, 'yimou': 14, 'blessedly': 14, 'cursefree': 14, 'antithesis': 14, 'sold': 14, 'promoter': 14, 'meetcute': 14, 'apartment': 14, 'shed': 14, 'magimel': 14, 'blooper': 14, 'supportive': 14, 'leisurely': 14, 'ruthlessness': 14, 'heartrending': 14, 'thirdact': 14, 'bgrade': 14, 'antidate': 14, 'willful': 14, 'tangle': 14, 'stretching': 14, 'preference': 14, 'indomitable': 14, 'stoic': 14, 'expressed': 14, 'railing': 14, 'elizabethan': 14, 'malfitanodomingo': 14, 'unmentioned': 14, '125year': 14, 'symmetrical': 14, 'vibes': 14, 'baitandtackle': 14, 'compiled': 14, 'guillermo': 14, 'fizzles': 14, 'emily': 14, 'upstage': 14, 'showiness': 14, 'hoitytoity': 14, 'mangle': 14, 'dreamer': 14, '180': 14, 'precollegiate': 14, 'giveadamn': 14, 'sleight': 14, 'opium': 14, 'overdoses': 14, 'respected': 14, 'forcefeed': 14, 'relation': 14, 'tributes': 14, 'glad': 14, 'antlers': 14, 'eyebrows': 14, 'sexualization': 14, 'bonecrushing': 14, 'screwups': 14, 'braided': 14, 'wipe': 14, 'immorality': 14, 'allamerican': 14, 'stopgo': 14, 'refer': 14, 'unjustified': 14, 'brokendown': 14, 'pretentiously': 14, 'gi': 14, 'consumption': 14, 'sogginess': 14, 'stoned': 14, 'fooled': 14, 'elaborateness': 14, 'obscurity': 14, 'plump': 14, 'extend': 14, 'selfanalysis': 14, 'teaches': 14, 'spanishamerican': 14, 'potatoes': 14, 'genet': 14, 'amalgamating': 14, 'melodic': 14, 'ferocious': 14, 'nations': 14, 'unknowing': 14, 'cliffsnotes': 14, 'brunt': 14, 'nurse': 14, 'rookie': 14, 'jags': 14, 'notquite': 14, 'hitormiss': 14, '1954': 14, 'sickness': 14, 'regimes': 14, 'poodle': 14, 'pyromania': 14, 'lifelike': 14, 'idolized': 14, 'sliding': 14, 'runnerup': 14, 'vi': 14, 'rambunctious': 14, 'barscrapping': 14, 'doggedness': 14, 'worms': 14, 'timer': 14, 'antidotes': 14, 'literacy': 14, 'ineffectual': 14, 'whispers': 14, 'frisk': 14, 'spiritualuplift': 14, 'ashtray': 14, 'interstitial': 14, 'wishfulfilling': 14, 'kiddieflick': 14, 'fascist': 14, 'martialarts': 13, 'disturb': 13, 'purists': 13, 'airless': 13, 'prevention': 13, 'cradles': 13, 'veiling': 13, 'reeks': 13, 'flatly': 13, 'solving': 13, 'permission': 13, 'triumphantly': 13, 'selfglorified': 13, 'abandoned': 13, 'coasting': 13, 'highlight': 13, 'abel': 13, 'lectures': 13, 'smoke': 13, 'domination': 13, 'luscious': 13, 'singularly': 13, 'trusted': 13, 'workable': 13, 'vent': 13, 'madmen': 13, 'cuss': 13, 'recreations': 13, 'vile': 13, 'interpersonal': 13, 'alexander': 13, 'skims': 13, 'elicits': 13, 'asylum': 13, 'overplayed': 13, 'doublebarreled': 13, 'dating': 13, '212': 13, 'blur': 13, 'merge': 13, 'sands': 13, 'lessen': 13, 'linger': 13, 'someplace': 13, 'throwntogether': 13, 'spain': 13, 'taxicab': 13, 'musclefest': 13, 'animatedmovie': 13, 'pug': 13, 'depleted': 13, 'jagjit': 13, 'singh': 13, 'painters': 13, 'ditty': 13, 'refresh': 13, 'justine': 13, 'solo': 13, 'cape': 13, 'parables': 13, 'greasy': 13, 'zemeckis': 13, 'consumed': 13, 'fling': 13, 'rapport': 13, 'pours': 13, 'cake': 13, 'evenings': 13, 'zelda': 13, 'drying': 13, 'scooter': 13, 'gossip': 13, 'odour': 13, 'expiry': 13, 'middleamerica': 13, 'unacceptable': 13, 'webcast': 13, 'tinny': 13, 'selfrighteousness': 13, 'fifty': 13, 'distances': 13, 'combustion': 13, 'engine': 13, 'yearnings': 13, 'relayed': 13, 'dustcaked': 13, 'stagnation': 13, 'horrid': 13, 'comingofagecomingout': 13, 'pixar': 13, 'cedar': 13, 'voting': 13, 'futureworld': 13, 'filmgoers': 13, 'padre': 13, 'amaro': 13, 'dollars': 13, 'beers': 13, 'selfconsciousness': 13, 'matrix': 13, 'carmichael': 13, 'foxworthy': 13, 'lobbyists': 13, 'seth': 13, 'holden': 13, 'eyecatching': 13, 'assumes': 13, 'nonchallenging': 13, 'upsets': 13, 'gorefree': 13, 'murders': 13, 'hyperbolic': 13, 'homophobia': 13, 'testosteronecharged': 13, 'wizardry': 13, 'bloodsoaked': 13, 'nixon': 13, 'gradegrubbers': 13, 'searches': 13, 'oftentimes': 13, 'sturm': 13, 'und': 13, 'nicole': 13, 'middleoftheroad': 13, 'bruising': 13, 'therapydependent': 13, 'flakeball': 13, 'eminently': 13, 'garnered': 13, 'weakness': 13, 'globetrottersgenerals': 13, 'patric': 13, 'discouraging': 13, 'ingenuity': 13, 'entendre': 13, 'transports': 13, 'shriek': 13, 'boyd': 13, 'sketched': 13, 'recyclable': 13, 'reverent': 13, 'fourhour': 13, 'concentration': 13, 'operative': 13, 'windtunnel': 13, 'volletta': 13, 'giggle': 13, 'trim': 13, 'elvira': 13, 'widget': 13, 'declared': 13, 'bruised': 13, 'alterations': 13, 'footing': 13, 'moaning': 13, 'accountant': 13, 'ward': 13, 'bewildering': 13, 'presiding': 13, 'removed': 13, 'impudent': 13, 'snickers': 13, 'pointofview': 13, 'boombam': 13, 'daytimedrama': 13, 'lastplace': 13, 'blanchett': 13, 'recount': 13, 'anteing': 13, 'disguising': 13, 'freakshow': 13, 'brim': 13, 'juxtaposition': 13, 'picpus': 13, 'disappoints': 13, 'secretions': 13, 'natured': 13, 'thrusts': 13, 'purer': 13, 'rachel': 13, 'eloquently': 13, 'ardent': 13, 'keening': 13, 'doomed': 13, 'sica': 13, 'contriving': 13, 'widowmaker': 13, 'irrational': 13, 'purposefully': 13, 'leonine': 13, 'punchlines': 13, 'precocious': 13, 'proprietyobsessed': 13, 'unclear': 13, 'schiffer': 13, 'splendour': 13, 'buying': 13, 'jeremy': 13, 'deviant': 13, 'happenstance': 13, 'retrorefitting': 13, 'victor': 13, 'pete': 13, 'tits': 13, 'precarious': 13, 'shift': 13, 'alias': 13, 'redeems': 13, 'tequila': 13, 'bender': 13, 'governance': 13, 'grips': 13, 'potboiler': 13, 'riotcontrol': 13, 'projectile': 13, 'chanukah': 13, 'contrasts': 13, 'controlling': 13, 'odorous': 13, 'wrought': 13, 'imposter': 13, 'neglects': 13, 'newness': 13, 'antic': 13, 'prints': 13, 'strategies': 13, 'moretti': 13, 'maintenance': 13, 'jerky': 13, 'exasperated': 13, 'dies': 13, 'hardship': 13, 'cyber': 13, 'bio': 13, 'attics': 13, 'barnburningly': 13, 'marivaux': 13, 'duplicate': 13, 'nonfiction': 13, 'mario': 13, 'cavaradossi': 13, 'melancholia': 13, 'overdoing': 13, 'blasphemous': 13, 'ensure': 13, 'affords': 13, '163': 13, 'diseaseof': 13, 'stuffiest': 13, 'encourages': 13, 'underinspired': 13, 'digressions': 13, 'mctiernan': 13, 'fluke': 13, 'adopt': 13, '1989': 13, 'glee': 13, 'anarchist': 13, 'maxim': 13, 'captivates': 13, 'paste': 13, 'boils': 13, 'walks': 13, 'libido': 13, 'disgusted': 13, 'courts': 13, 'facetious': 13, 'blissfully': 13, 'machinations': 13, 'banderaslucy': 13, 'clarissa': 13, 'dalloway': 13, 'divorce': 13, 'parallel': 13, 'raison': 13, 'detre': 13, 'masquerade': 13, 'marmite': 13, 'annoyance': 13, 'arbitrary': 13, 'gait': 13, 'unburdened': 13, 'yale': 13, 'grad': 13, 'entrapment': 13, 'shatner': 13, 'largestever': 13, '13th': 13, 'interrogation': 13, 'negligible': 13, 'reconstruction': 13, 'grueling': 13, 'jabs': 13, 'mentioned': 13, 'sorely': 13, 'unappealing': 13, 'ace': 13, 'pollak': 13, 'wrestler': 13, 'chyna': 13, 'cheatfully': 13, 'kingdom': 13, 'avant': 13, 'underdone': 13, 'potato': 13, 'teethclenching': 13, 'shreve': 13, 'overwhelm': 13, 'celebrate': 13, 'distress': 13, 'extremesports': 13, 'creaky': 13, 'shipping': 13, 'entering': 13, 'demographically': 13, 'aurelie': 13, 'hail': 13, 'dirtyjoke': 13, 'posttarantino': 13, 'yi': 13, 'fifteenyearold': 13, 'pinlike': 13, 'silences': 13, 'virulent': 13, 'renders': 13, 'megaplexes': 13, 'wanna': 13, 'besotted': 13, 'pleased': 13, 'ashley': 13, 'atrociously': 13, 'actorly': 13, 'dependent': 13, 'nonfan': 13, 'miraculous': 13, 'pivotal': 13, 'gordy': 13, 'waldo': 13, 'dictums': 13, 'glides': 13, 'malik': 13, 'hunk': 13, 'feardotcomcom': 13, 'dramatized': 13, 'irvine': 13, 'trainspotting': 13, 'carpets': 13, 'incarnations': 13, 'cad': 13, 'solemnity': 13, 'traps': 13, 'ransom': 13, 'elizabethans': 13, 'smutty': 13, 'showbiz': 13, 'copmovieland': 13, 'crosscountry': 13, 'melodramas': 13, 'extant': 13, 'outoutrage': 13, 'animator': 13, 'dystopia': 13, 'gaping': 13, 'ballroom': 13, 'dysfunctionally': 13, 'opportunism': 13, 'eyerolling': 13, 'bray': 13, 'outtochangetheworld': 13, 'aggressiveness': 13, 'hiss': 13, 'crossingover': 13, 'briefly': 13, 'terrifically': 13, 'goofily': 13, 'glucose': 13, 'berling': 13, 'ateam': 13, 'meeting': 13, 'savory': 13, 'dumber': 13, 'jam': 13, 'coarse': 13, 'fastforward': 13, 'framing': 13, 'jargon': 13, 'prickly': 13, 'misanthropy': 13, 'prophet': 13, 'harmoniously': 13, 'asnasty': 13, 'refreshed': 13, 'longontheshelf': 13, 'hennings': 13, 'ignoring': 13, 'officially': 13, 'accidental': 13, 'wonderous': 13, 'veracity': 13, '90s': 13, 'directorcowriter': 13, 'waif': 13, 'molested': 13, 'pique': 13, 'tongues': 13, 'twilight': 13, 'joins': 13, 'emigre': 13, 'farewelltoinnocence': 13, 'balloon': 13, 'wisely': 13, 'fumbled': 13, 'spaghetti': 13, 'devastated': 13, 'walledoff': 13, 'credulous': 13, 'fresher': 13, 'conflagration': 13, 'nesbitt': 13, 'expose': 13, 'moviemakers': 13, 'referential': 13, 'indigenous': 13, 'tattoos': 13, 'leaning': 13, 'enables': 13, 'stressreducing': 13, 'hourandahalflong': 13, 'judicious': 13, 'ballplayer': 13, 'sexes': 13, 'offthewall': 13, 'hardscrabble': 13, 'squirm': 13, '14yearold': 13, 'visitor': 13, 'verbally': 13, 'bangbang': 13, 'panorama': 13, 'begrudge': 13, 'indigestion': 13, 'fantasized': 13, 'freezers': 13, 'checkout': 13, 'stepped': 13, 'alarming': 13, 'shovel': 13, 'stultifying': 13, 'biographical': 13, 'fidgeted': 13, 'romped': 13, 'scintillating': 13, 'choosing': 13, 'association': 13, 'cracking': 13, 'slob': 13, 'molestation': 13, 'reedy': 13, 'consigliere': 13, 'allwoman': 13, 'handy': 13, 'beerfueled': 13, 'nonfirsthand': 13, 'venicevenice': 13, 'gaining': 13, 'snowman': 13, 'numbered': 13, 'smarts': 13, 'grip': 13, 'encountering': 13, 'avenues': 13, 'unfussily': 13, 'write': 13, 'stuffs': 13, 'tailormade': 13, 'targets': 13, 'fidel': 13, 'goodtime': 13, 'juni': 13, 'nuts': 13, 'leagues': 13, 'apocalypse': 13, 'aesthetically': 13, 'archive': 13, 'unfilmable': 13, 'bucked': 13, 'sensespinning': 13, 'nalin': 13, 'linearity': 13, 'anew': 13, 'heartily': 13, 'workshop': 13, 'unseemly': 13, 'undergrad': 13, 'plague': 13, 'slugfest': 13, 'armchair': 13, 'library': 13, 'shoeloving': 13, 'worldly': 13, 'evolve': 13, 'unaware': 13, 'austrian': 13, 'mccann': 13, 'phocion': 13, 'languishing': 13, '1993': 13, 'unschooled': 13, 'naval': 13, 'personnel': 13, 'pub': 13, 'fledgling': 13, 'democracies': 13, 'socially': 13, 'encompassing': 13, 'cheerfully': 13, 'intrusive': 13, 'selfimportance': 13, 'grisham': 13, 'unadorned': 13, 'cue': 13, 'item': 13, 'rd': 13, 'unfakable': 13, 'electoral': 13, 'kiltwearing': 13, 'doublepistoled': 13, 'dreadfulness': 13, 'confuses': 13, 'plaguing': 13, 'popmusic': 13, 'dogtag': 13, 'overweight': 13, 'boston': 13, 'wives': 13, 'scandalous': 13, 'grooved': 13, 'ghoulish': 13, 'hooha': 13, 'wellhoned': 13, 'financial': 13, 'extortion': 13, 'hyper': 13, 'salesmanship': 13, 'bend': 13, 'choking': 13, 'bleakly': 13, 'luxury': 13, 'lingo': 13, 'erasing': 13, 'recasts': 13, 'snowballs': 13, 'postsoviet': 13, 'russia': 13, 'cleverer': 13, 'brethren': 13, 'materials': 13, 'boil': 13, 'reallive': 13, 'doublecrosses': 13, 'focusgrouped': 13, 'unconscious': 13, 'blackboards': 13, 'nathan': 13, 'chess': 13, 'dank': 13, 'unending': 13, 'senior': 13, 'findingherself': 13, 'crossshaped': 13, 'depart': 13, 'amber': 13, 'texas': 13, 'soldout': 13, 'brushed': 13, 'personifying': 13, 'soliah': 13, 'wincing': 13, 'spencer': 13, 'tracy': 13, 'gerald': 13, 'subtleties': 13, 'harland': 13, 'relocation': 13, 'mellow': 13, 'clashes': 13, 'dissolution': 13, 'glibly': 13, 'pummels': 13, 'driveins': 13, 'journal': 13, 'inquisitions': 13, '123': 13, 'geeky': 13, 'civility': 13, 'riders': 13, 'badluck': 13, 'vex': 13, 'tel': 13, 'aviv': 13, 'fed': 13, 'guests': 13, 'madame': 13, 'superstitious': 13, 'wifecolleague': 13, '40yearold': 13, 'embark': 13, 'shook': 13, 'botchjobs': 13, 'travels': 13, 'nervewracking': 13, 'criminally': 13, 'flute': 13, 'confusions': 13, 'freak': 13, 'mercenary': 13, 'interspliced': 13, 'lowcut': 13, 'gowns': 13, 'butchered': 13, 'insisted': 13, 'quests': 13, 'yell': 13, 'fassbinder': 13, 'wallpaper': 13, 'segments': 13, 'idealistically': 13, 'selfless': 13, 'laserbeam': 13, 'hinted': 13, 'softener': 13, 'moodaltering': 13, 'envisioned': 13, 'nonactors': 13, 'despising': 13, 'chloroformsoaked': 13, 'handkerchief': 13, 'multifaceted': 13, 'disco': 13, 'allages': 13, 'amiability': 13, 'wielding': 13, 'wrenches': 13, 'felons': 13, 'haughtiness': 13, 'severed': 13, 'amoses': 13, 'cartoonlike': 13, 'cassette': 13, 'dressing': 13, 'nonjew': 13, 'panther': 13, 'bflick': 13, 'saintly': 13, 'heartless': 13, 'likened': 13, 'thwart': 13, 'violins': 13, 'bigotry': 13, 'viewfinder': 13, 'fleshed': 13, 'doctrine': 13, 'imagining': 13, 'skatesurf': 13, 'nongod': 13, 'freebie': 13, 'mods': 13, 'predator': 13, 'cutesypie': 13, 'rebirth': 13, 'automated': 13, 'nonprofessional': 13, 'deathbed': 13, 'renown': 13, 'unwittingly': 13, 'renoir': 13, 'integral': 13, 'gambles': 12, 'frothing': 12, 'exgirlfriend': 12, 'indecipherable': 12, 'peppering': 12, 'shelves': 12, 'aborted': 12, 'pellington': 12, 'arriving': 12, 'stoner': 12, 'scrape': 12, 'definite': 12, 'selfparody': 12, 'promenade': 12, 'bouts': 12, 'looselyconnected': 12, 'actingworkshop': 12, 'exercises': 12, 'lottery': 12, 'milquetoast': 12, 'singlehandedly': 12, 'bungling': 12, 'grievous': 12, 'matches': 12, 'concentrating': 12, 'cliques': 12, 'alacrity': 12, 'wanes': 12, 'meticulously': 12, 'solipsism': 12, 'goodnaturedness': 12, 'natives': 12, 'prom': 12, 'dates': 12, 'prejudices': 12, 'makings': 12, 'followyourdream': 12, 'neglecting': 12, 'ineptly': 12, 'throat': 12, 'bullfighters': 12, 'bedside': 12, 'vigils': 12, 'downfall': 12, 'gems': 12, 'gothvampire': 12, 'woeisme': 12, 'peralta': 12, 'drill': 12, 'babak': 12, 'chalk': 12, 'oddity': 12, 'parsec': 12, 'shiny': 12, 'basest': 12, 'desires': 12, 'beck': 12, 'fumes': 12, 'cacoyannis': 12, 'pasts': 12, 'roughly': 12, 'tumult': 12, 'comparatively': 12, 'subscription': 12, 'coulda': 12, 'blueprint': 12, 'caddyshack': 12, 'astoundingly': 12, 'coaster': 12, 'schlocky': 12, 'rein': 12, 'ownership': 12, 'iced': 12, 'chiaroscuro': 12, 'bedknobs': 12, 'austere': 12, '1790': 12, 'internal': 12, 'pathetically': 12, 'producing': 12, 'bursting': 12, 'salma': 12, 'infused': 12, 'hidebound': 12, 'sap': 12, 'whipping': 12, 'brooks': 12, 'crimen': 12, 'imposed': 12, 'stoppard': 12, 'subzero': 12, 'trimmings': 12, 'tearstained': 12, 'utah': 12, 'bewilderingly': 12, 'endear': 12, 'seesawing': 12, 'lavishly': 12, 'guarded': 12, 'blanks': 12, 'twodrinkminimum': 12, 'saltoftheearth': 12, 'mommy': 12, 'wig': 12, 'mattel': 12, 'blisteringly': 12, 'brussels': 12, 'sprouts': 12, 'shreds': 12, 'reagan': 12, 'amos': 12, 'surrealism': 12, 'movieindustry': 12, 'spiteful': 12, 'iles': 12, 'cabins': 12, 'pastafagioli': 12, 'faked': 12, 'rocks': 12, 'twentysome': 12, 'vainly': 12, 'feeble': 12, 'inspector': 12, 'parochial': 12, 'lustrous': 12, 'floppy': 12, 'wherein': 12, 'concepts': 12, 'misconstrued': 12, 'highminded': 12, 'reverie': 12, 'workman': 12, 'outsized': 12, 'wyman': 12, 'meanderings': 12, 'nm': 12, 'marked': 12, 'crackles': 12, 'psychodrama': 12, 'cleansing': 12, 'pablum': 12, 'kaos': 12, 'anchors': 12, 'marvin': 12, 'gaye': 12, 'supremes': 12, 'warden': 12, 'hotblooded': 12, 'meetings': 12, 'telescope': 12, 'highprofile': 12, 'pseudowitty': 12, 'humankind': 12, 'quickcut': 12, 'lisa': 12, 'inhalant': 12, 'blackout': 12, 'illconsidered': 12, 'enthusiasts': 12, 'permits': 12, 'picnic': 12, 'ribisi': 12, 'piscopo': 12, 'dancers': 12, 'neuroses': 12, 'fahrenheit': 12, 'crucifixion': 12, 'mechanisms': 12, 'runon': 12, 'smoky': 12, 'grumble': 12, 'heller': 12, 'grandkids': 12, 'stepprinting': 12, 'exploratory': 12, 'stitched': 12, 'vittorio': 12, 'tiring': 12, 'pa': 12, 'freely': 12, 'multitude': 12, 'visionary': 12, 'strategic': 12, 'owen': 12, 'psychologizing': 12, 'uncinematic': 12, 'highoctane': 12, 'doubles': 12, 'absorbed': 12, '8th': 12, 'clams': 12, 'evenflowing': 12, 'arcane': 12, 'exiled': 12, 'harks': 12, 'sandbox': 12, 'operational': 12, 'splitscreen': 12, 'wittgenstein': 12, 'allinclusive': 12, 'synthetic': 12, 'allnight': 12, 'stuffy': 12, 'hierarchy': 12, 'nauseating': 12, 'kiosks': 12, 'naqoyqatsi': 12, 'sunbaked': 12, 'trained': 12, 'winningly': 12, 'packages': 12, 'tens': 12, 'democracie': 12, 'professors': 12, 'recreating': 12, 'vices': 12, 'pc': 12, 'versatile': 12, 'uma': 12, 'smashing': 12, 'induces': 12, 'remembrance': 12, 'options': 12, 'laramie': 12, 'timeswitching': 12, 'niches': 12, 'stylists': 12, 'omission': 12, 'classicism': 12, 'seductively': 12, 'claustrophic': 12, 'filter': 12, 'redeemable': 12, 'fireworks': 12, 'prolonged': 12, 'yielded': 12, 'corpus': 12, 'insignificant': 12, 'spews': 12, 'allegiance': 12, 'angela': 12, 'gheorghiu': 12, 'alagna': 12, 'upsetting': 12, 'palestinians': 12, 'poses': 12, 'prologue': 12, 'moulin': 12, 'spans': 12, 'pasolini': 12, 'estrogenfree': 12, 'gonna': 12, 'waferthin': 12, 'marinelegal': 12, 'province': 12, 'editorial': 12, 'ballast': 12, 'summons': 12, 'stumblebum': 12, 'firebrand': 12, 'indomitability': 12, 'slovenly': 12, 'highspirited': 12, 'selfpromotion': 12, 'astronaut': 12, 'mildmannered': 12, 'das': 12, 'boot': 12, 'jrr': 12, 'amari': 12, 'tapdancing': 12, 'rhino': 12, 'guessable': 12, 'debts': 12, 'slump': 12, 'greenfingers': 12, 'derek': 12, 'popup': 12, 'wider': 12, 'galvanize': 12, 'marilyn': 12, 'miniseries': 12, 'pointedly': 12, 'peril': 12, 'unbridled': 12, 'university': 12, 'columbia': 12, 'perversity': 12, 'cannier': 12, 'doppelganger': 12, 'veered': 12, 'mortarboards': 12, 'hitchens': 12, 'dilutes': 12, 'freight': 12, 'unashamedly': 12, 'apartments': 12, 'crawl': 12, 'stepmom': 12, 'wellcharacterized': 12, 'telephone': 12, 'borderline': 12, 'mama': 12, 'lasciviousminded': 12, 'forged': 12, 'perch': 12, 'loathe': 12, 'earthly': 12, 'dominate': 12, 'stepmother': 12, 'familyfilm': 12, 'grocery': 12, 'pursuers': 12, 'shrug': 12, 'yours': 12, 'signature': 12, 'pogue': 12, 'rewritten': 12, 'funloving': 12, 'redone': 12, '105': 12, 'musker': 12, 'refreshes': 12, 'burkina': 12, 'faso': 12, 'spinoff': 12, 'cultivation': 12, 'workhours': 12, 'stud': 12, 'knockabout': 12, 'smokey': 12, 'burke': 12, 'parachutes': 12, 'interdependence': 12, 'viterelli': 12, 'daringly': 12, 'reviewers': 12, 'swipes': 12, 'grandstanding': 12, 'comeuppance': 12, 'dictates': 12, 'plunging': 12, 'contraption': 12, 'moviehouse': 12, 'overmanipulative': 12, 'plummets': 12, 'rats': 12, 'raucously': 12, 'troubadour': 12, 'catandmouse': 12, 'christelle': 12, 'televised': 12, 'craftsmen': 12, 'flies': 12, 'manifestations': 12, 'indicate': 12, 'popinfluenced': 12, 'prank': 12, 'cooperative': 12, 'studioproduced': 12, '1938': 12, 'clamoring': 12, 'digitaleffectsheavy': 12, 'lumpish': 12, 'friggin': 12, 'foulnatured': 12, 'wildean': 12, 'everwatchful': 12, 'ripening': 12, 'under10': 12, 'di': 12, 'napoli': 12, 'combining': 12, 'inyourface': 12, 'meticulous': 12, 'withered': 12, 'headon': 12, 'omniscient': 12, 'catcher': 12, 'rye': 12, 'featherweight': 12, 'misdemeanor': 12, 'bearded': 12, 'cellular': 12, 'patiently': 12, 'setpieces': 12, 'tightly': 12, 'dreamworks': 12, 'actressproducer': 12, 'hughes': 12, 'companionship': 12, 'tease': 12, 'fluidity': 12, 'notsofunny': 12, 'blunder': 12, '1959': 12, 'giantscreen': 12, 'abdul': 12, 'tron': 12, 'abject': 12, 'developmentally': 12, 'lone': 12, 'camouflaging': 12, 'huckster': 12, 'lapel': 12, 'oomph': 12, 'hibernation': 12, 'chicanery': 12, 'elite': 12, 'remarks': 12, 'relegated': 12, 'raphael': 12, 'liveliness': 12, 'outdepress': 12, 'sympathizing': 12, 'footnotes': 12, 'shakesperean': 12, 'veil': 12, 'funniness': 12, 'battles': 12, 'overstimulated': 12, 'prostitute': 12, 'heartrateraising': 12, 'unearth': 12, 'lang': 12, 'outshined': 12, 'advised': 12, 'dridi': 12, 'erin': 12, 'brockovich': 12, 'franc': 12, 'kibbitzes': 12, 'faltering': 12, 'halfstep': 12, 'tremble': 12, 'sparring': 12, 'attracting': 12, 'gorefest': 12, 'adopts': 12, 'guise': 12, 'wireless': 12, 'ba': 12, 'marathons': 12, 'thi': 12, 'fragmentary': 12, 'swaggers': 12, 'prevalence': 12, 'pornography': 12, 'impervious': 12, 'miracles': 12, 'household': 12, 'masked': 12, 'marxian': 12, 'ke': 12, 'anecdote': 12, 'seizures': 12, 'kidsinperil': 12, 'cunningham': 12, 'unifying': 12, 'thornier': 12, 'cloaked': 12, 'flag': 12, 'blacks': 12, 'distilled': 12, 'silbersteins': 12, 'shallows': 12, 'stylistically': 12, 'jeunet': 12, 'userfriendly': 12, 'distorts': 12, 'frei': 12, 'shambles': 12, 'endeavors': 12, 'proposes': 12, 'whippersnappers': 12, 'unhappily': 12, 'statecraft': 12, 'boomers': 12, 'toddler': 12, 'bisexual': 12, 'stifles': 12, 'documented': 12, 'hue': 12, 'hangups': 12, 'peaks': 12, 'recompense': 12, 'psychedelia': 12, 'sneeze': 12, 'brotherman': 12, 'regimen': 12, 'peanut': 12, 'boardwalk': 12, 'reverse': 12, 'biased': 12, 'laser': 12, 'thurman': 12, 'careerbest': 12, 'enamored': 12, 'compensated': 12, 'runteldat': 12, 'fullblooded': 12, 'b12': 12, 'tenth': 12, 'midseventies': 12, 'nationalist': 12, 'cracks': 12, 'supersized': 12, 'ha': 12, 'crummylooking': 12, 'swashbucklers': 12, 'frightfest': 12, 'italicizes': 12, 'dustbin': 12, 'sidesteps': 12, 'industrialmodel': 12, 'grosses': 12, 'flattens': 12, 'copflick': 12, 'coldest': 12, 'chronically': 12, 'overachieving': 12, 'sewage': 12, 'introverted': 12, 'fetishes': 12, 'flinching': 12, 'guzman': 12, 'bliss': 12, 'quietude': 12, 'rawness': 12, 'posterboy': 12, 'recapitulation': 12, 'mediasoaked': 12, 'sixtime': 12, 'costumer': 12, 'waited': 12, 'shivers': 12, 'standbys': 12, 'menzel': 12, 'indisputably': 12, 'fiddle': 12, 'devastation': 12, 'digitally': 12, 'eyefilling': 12, 'dulls': 12, 'environs': 12, 'dozing': 12, 'stray': 12, 'cardiac': 12, 'caricature': 12, 'nonporn': 12, 'haplessness': 12, 'astronomically': 12, 'droning': 12, 'safely': 12, 'blithely': 12, 'lesbian': 12, 'lectured': 12, 'techgeeks': 12, 'attach': 12, 'knickknacks': 12, 'leader': 12, 'pronounced': 12, 'perversely': 12, 'abhors': 12, 'verne': 12, 'yong': 12, 'temper': 12, 'griffin': 12, 'longfaced': 12, 'monopoly': 12, 'warweary': 12, 'marine': 12, '10000': 12, 'uhhh': 12, 'assembles': 12, 'macaroni': 12, 'scuzzy': 12, '99': 12, 'thrillkill': 12, 'catandmouser': 12, 'majid': 12, 'macgraw': 12, 'truckloving': 12, 'blond': 12, 'honeys': 12, 'goddammit': 12, 'cheapened': 12, 'yawn': 12, 'accused': 12, 'chastity': 12, 'attentions': 12, 'palm': 12, 'wizard': 12, 'armenia': 12, 'retitle': 12, 'welled': 12, 'brat': 12, 'stupefying': 12, 'recreated': 12, 'twoday': 12, 'filipinoamericans': 12, 'interweaves': 12, 'notsobright': 12, 'iibirkenau': 12, 'gimmicks': 12, 'hinton': 12, 'abagnale': 12, 'druggy': 12, 'adhering': 12, 'prognosis': 12, 'discretion': 12, 'opportunists': 12, 'hilary': 12, 'birmingham': 12, 'structuring': 12, 'highwattage': 12, 'brainpower': 12, 'pour': 12, 'aerial': 12, 'miserably': 12, 'mulholland': 12, 'm16': 12, 'grinds': 12, 'grayish': 12, 'bladerunner': 12, 'provocateur': 12, 'pax': 12, 'smallbudget': 12, 'avuncular': 12, 'chortles': 12, 'airborne': 12, 'overgrown': 12, 'titillation': 12, 'enron': 12, 'audio': 12, 'repeats': 12, 'peninsula': 12, 'asinine': 12, 'gaspinducing': 12, 'middlefingered': 12, 'ensnaring': 12, 'festooning': 12, 'pseudohip': 12, 'thirsty': 12, 'miraculously': 12, 'dennis': 12, 'truffle': 12, 'judges': 12, 'fridaynight': 12, 'hostages': 12, 'onstage': 12, 'accordionharmonicabanjo': 12, 'reheated': 12, 'daisy': 12, 'vintagetv': 12, 'spinoffs': 12, 'psychopathy': 12, 'ribald': 12, 'cleopatra': 12, '2525': 12, 'befall': 12, 'clique': 12, 'courting': 12, 'mute': 12, 'carnival': 12, 'ramshackle': 12, 'whistles': 12, 'artiste': 12, 'bludgeon': 12, 'dishonor': 12, 'lightning': 12, 'extradition': 12, 'chides': 12, 'diluted': 12, 'sinner': 12, 'ricci': 12, 'relates': 12, '20yearold': 12, 'howlers': 12, 'germinate': 12, 'turkeyonrolls': 12, 'stubbly': 12, 'chins': 12, 'disappear': 12, 'unemotional': 12, 'kathleen': 12, 'upcoming': 12, 'sla': 12, 'sparklingly': 12, 'threaten': 12, 'deciding': 12, 'wolfish': 12, 'clicheriddled': 12, 'benign': 12, 'bounce': 12, 'alliance': 12, 'josef': 12, 'bierbichler': 12, 'helene': 12, 'weigel': 12, 'symbolizes': 12, 'intends': 12, 'marginalization': 12, 'barrett': 12, 'browning': 12, 'technicality': 12, 'hums': 12, 'blare': 12, 'boiler': 12, 'postsaving': 12, 'selfinvolved': 12, 'deteriorating': 12, 'croc': 12, 'headlong': 12, '950': 12, 'completes': 12, 'positions': 12, 'moviestarring': 12, 'input': 12, 'tack': 12, 'ski': 12, 'surfacing': 12, 'custommade': 12, 'hotdogging': 12, 'inequities': 12, 'georgian': 12, 'stirred': 12, 'wandered': 12, 'oddities': 12, 'selfevaluation': 12, 'statesmen': 12, 'everescalating': 12, 'neverending': 12, 'rattled': 12, 'preschooler': 12, 'corporatesports': 12, 'revoked': 12, 'grass': 12, 'ballhaus': 12, 'stadium': 12, 'kasemfurnished': 12, 'spouse': 12, 'inflated': 12, 'skating': 12, 'sellouts': 12, 'philosopher': 12, 'elegiacally': 12, 'provoking': 12, 'windbags': 12, 'inanely': 12, 'entangled': 12, 'interrelationships': 12, 'thief': 12, 'fulsome': 12, 'vehicles': 12, 'bishops': 12, 'dormant': 12, 'sleekly': 12, '40minute': 12, 'beached': 12, 'grouper': 12, 'majorityoriented': 12, 'unnerve': 12, 'timelines': 12, 'unavailable': 12, 'laurel': 12, 'quartet': 12, 'lolling': 12, 'ornamentation': 12, 'kungfu': 12, 'beau': 12, 'travil': 12, 'nenette': 12, 'selfmade': 12, 'ugliest': 12, 'buttercup': 12, 'enable': 12, 'exoticlooking': 12, 'arouse': 12, '12step': 12, 'veronique': 12, 'beatnik': 12, 'accomplishing': 12, 'nearxenophobic': 12, 'wrestle': 12, 'bonafide': 12, 'sappier': 12, 'effusion': 12, 'trauma': 12, 'preciously': 12, 'achilles': 12, 'extensions': 12, 'thingtype': 12, 'airport': 12, 'security': 12, 'momentary': 12, 'bscene': 12, 'intrigues': 12, 'sailors': 12, 'andys': 12, 'warpath': 12, 'codirector': 12, 'abrams': 12, 'stiffness': 12, 'du': 12, 'sarcasm': 12, 'pillage': 12, 'payola': 12, 'toofacile': 12, 'bundy': 12, 'thirdbest': 12, 'slogged': 12, 'reimagine': 12, 'woundlicking': 12, 'transmute': 12, 'dingoes': 12, 'simplest': 12, 'repetitions': 12, 'syrupy': 12, 'augmentation': 12, 'spunky': 12, 'buyer': 12, 'notexactly': 12, 'inkling': 12, 'omnipotent': 12, 'farmer': 12, 'jed': 12, 'presuppose': 12, 'antagonists': 12, 'liberated': 12, 'veljohnson': 12, 'longs': 12, 'sociologically': 12, 'downycheeked': 12, 'moppets': 12, 'companystyle': 12, 'rockers': 12, 'datedness': 12, 'sixpacks': 12, 'pitcher': 12, 'reject': 12, 'rhetorical': 12, 'betrayals': 12, 'screeneating': 12, 'dominatrixes': 12, 'crotch': 12, 'newly': 12, 'montage': 12, 'regurgitation': 12, 'cattaneo': 11, 'shell': 11, 'disagree': 11, 'deconstruction': 11, 'overboard': 11, 'doyle': 11, 'massoud': 11, 'dramaturgy': 11, 'swirling': 11, 'rapids': 11, 'wallflower': 11, 'compressed': 11, 'forgettably': 11, 'soothe': 11, 'tryingly': 11, 'pomposity': 11, 'megalomaniac': 11, '10thgrade': 11, 'overripe': 11, 'surfacey': 11, 'openfaced': 11, 'tier': 11, 'lurks': 11, 'bullet': 11, 'weil': 11, 'psychotic': 11, 'evolves': 11, 'lifechanging': 11, 'governs': 11, 'misfortune': 11, 'surgeon': 11, 'mends': 11, 'progressed': 11, 'workaday': 11, 'misunderstood': 11, 'operating': 11, 'caesar': 11, '95minute': 11, 'properties': 11, 'bearable': 11, 'governments': 11, 'seaside': 11, 'warren': 11, 'otherness': 11, 'underrehearsed': 11, 'streamlined': 11, 'laughaminute': 11, 'comatose': 11, 'ballerinas': 11, 'donetodeath': 11, 'sonnenfeld': 11, 'randolph': 11, 'univaclike': 11, 'gulzar': 11, 'adrift': 11, 'bustling': 11, 'worshipful': 11, 'westbrook': 11, 'undermined': 11, 'triple': 11, 'cavorting': 11, 'jugglers': 11, 'schoolers': 11, 'pact': 11, 'bidder': 11, 'roller': 11, 'labour': 11, 'redefinition': 11, 'unit': 11, 'wines': 11, 'ivory': 11, '1971': 11, 'broomsticks': 11, 'wellexecuted': 11, 'inelegant': 11, 'ribcage': 11, 'novelty': 11, 'newsreels': 11, 'maximum': 11, 'workmanlike': 11, 'herrings': 11, 'backward': 11, 'princess': 11, 'hermocrates': 11, 'berkley': 11, 'percussion': 11, 'enacted': 11, 'margarita': 11, 'currently': 11, 'mcconaughey': 11, 'mourns': 11, 'bewildered': 11, 'melange': 11, 'ferret': 11, 'slyly': 11, 'continent': 11, 'kafkainspired': 11, '80minute': 11, 'befuddled': 11, 'kirshner': 11, 'inhale': 11, 'nymphette': 11, 'minnie': 11, 'specialeffectsladen': 11, 'trades': 11, 'tinsel': 11, 'pepper': 11, 'surveys': 11, 'acumen': 11, 'communicating': 11, 'courageousness': 11, 'cracked': 11, 'tori': 11, 'wedge': 11, 'printed': 11, 'crescendo': 11, 'cotswolds': 11, 'cowinner': 11, 'welldefined': 11, 'cowardly': 11, 'oscarworthy': 11, 'skunk': 11, 'botched': 11, 'tanks': 11, 'stammers': 11, 'ushered': 11, 'lifealtering': 11, 'malapropisms': 11, 'encomia': 11, 'admirers': 11, 'simmer': 11, 'dreaded': 11, 'injokey': 11, 'civics': 11, 'classes': 11, 'thoroughfare': 11, 'acquire': 11, 'phonce': 11, 'irk': 11, 'logically': 11, 'porous': 11, 'june': 11, 'cleaver': 11, 'graduate': 11, 'intermingling': 11, 'squashed': 11, 'preferably': 11, 'semi': 11, 'interchangeable': 11, 'tied': 11, 'downhill': 11, 'eclair': 11, 'mattered': 11, 'grungepirate': 11, 'rosemary': 11, 'yields': 11, 'shapiro': 11, 'ignite': 11, 'lowered': 11, 'barbarism': 11, 'freudianism': 11, 'paunchy': 11, 'jarjar': 11, 'goldbacher': 11, 'stinging': 11, 'beatings': 11, 'intersect': 11, 'aspired': 11, 'exasperatingly': 11, 'emptily': 11, 'referred': 11, 'stockwell': 11, 'fouryearold': 11, 'puppets': 11, 'unguarded': 11, 'undeserved': 11, 'messianic': 11, 'hippieturnedyuppie': 11, 'selves': 11, 'permitting': 11, 'strangling': 11, 'sanctimoniousness': 11, 'churchwary': 11, 'agitator': 11, 'coolj': 11, 'fudges': 11, 'hypermasculine': 11, 'flagging': 11, 'investigator': 11, 'escapade': 11, 'freaking': 11, 'flavorless': 11, 'devils': 11, 'vonnegut': 11, 'ruminations': 11, 'grandparents': 11, 'sitcomworthy': 11, 'forgot': 11, 'norwegian': 11, 'reconceptualize': 11, 'weinstein': 11, 'hated': 11, 'roughhewn': 11, 'valleygirl': 11, 'powerment': 11, 'tooconscientious': 11, 'dazzle': 11, 'ante': 11, 'victorious': 11, 'revolutionaries': 11, 'cleaving': 11, 'kirkegaard': 11, 'overlapping': 11, 'equations': 11, 'teleprompter': 11, 'infuriatingly': 11, 'location': 11, 'asparagus': 11, 'singleminded': 11, 'seductiveness': 11, 'carl': 11, 'blemishes': 11, 'characterize': 11, 'pinks': 11, 'brink': 11, 'summery': 11, 'lucia': 11, 'carlos': 11, 'converts': 11, 'ranges': 11, 'degraded': 11, 'interference': 11, 'heartwarmingly': 11, 'scandals': 11, 'wonderland': 11, 'tortuous': 11, 'adorable': 11, 'editor': 11, 'drably': 11, 'arguably': 11, 'evaporates': 11, 'bombs': 11, 'hollywoodaction': 11, 'crappola': 11, 'astonish': 11, 'whitaker': 11, 'cushion': 11, 'twoway': 11, 'stalls': 11, 'welldeserved': 11, 'boundless': 11, 'uncreative': 11, 'stagings': 11, 'bebe': 11, 'neuwirth': 11, 'oprahfication': 11, 'galinsky': 11, 'rope': 11, 'suspended': 11, 'lightheartedness': 11, 'divisions': 11, 'disarmingly': 11, 'floria': 11, 'semistable': 11, 'waster': 11, 'bigtime': 11, 'pb': 11, 'extradry': 11, 'subliminally': 11, 'elegiac': 11, 'theweek': 11, 'kineticallycharged': 11, 'maik': 11, 'keel': 11, 'jockey': 11, 'aspire': 11, 'europe': 11, '7thcentury': 11, 'elegy': 11, 'jegyu': 11, 'foreman': 11, 'barkingmad': 11, 'middleearth': 11, 'activism': 11, 'toys': 11, 'unveil': 11, 'flavours': 11, 'bask': 11, 'lobotomy': 11, 'husbandandwife': 11, 'popping': 11, 'kathryn': 11, 'awakens': 11, 'swift': 11, 'flashbulbs': 11, 'fuddyduddy': 11, 'flexathon': 11, 'collaborative': 11, 'powerhouse': 11, 'cadences': 11, 'savour': 11, 'arrived': 11, 'kin': 11, 'bestsustained': 11, 'appealingly': 11, 'bailly': 11, '2455': 11, 'cloak': 11, 'romanticization': 11, 'stricken': 11, 'composer': 11, 'violinist': 11, 'hospitals': 11, 'asquith': 11, 'africa': 11, 'unrecoverable': 11, 'participatory': 11, 'polemic': 11, 'woolf': 11, 'month': 11, 'therefore': 11, 'handsoff': 11, 'wellbalanced': 11, 'rambles': 11, 'accidentprone': 11, 'plants': 11, 'morsels': 11, 'conceived': 11, 'retaliatory': 11, 'responses': 11, 'cringe': 11, 'moan': 11, '295': 11, 'yosuke': 11, 'abroad': 11, 'liability': 11, 'plateau': 11, 'tummy': 11, 'oversized': 11, 'getgo': 11, 'riddled': 11, 'binary': 11, 'oppositions': 11, 'guilttrip': 11, 'extremist': 11, 'namecalling': 11, 'ark': 11, 'timeconsuming': 11, 'impetus': 11, 'diop': 11, 'species': 11, 'desirable': 11, 'associate': 11, 'earplugs': 11, 'righthand': 11, 'goombah': 11, 'biggie': 11, 'mutates': 11, 'ivans': 11, 'bombay': 11, 'antiharry': 11, 'nubile': 11, 'mclaughlin': 11, 'guiding': 11, 'fragment': 11, 'rymer': 11, 'amusement': 11, 'spreads': 11, 'bully': 11, 'imparted': 11, 'soulstripping': 11, 'repulse': 11, 'bushels': 11, 'hideandseek': 11, 'plates': 11, 'acolytes': 11, 'mandel': 11, 'explanations': 11, 'lapaglia': 11, 'suicidal': 11, 'artless': 11, 'sytle': 11, 'midrange': 11, 'maryam': 11, 'pathological': 11, 'downanddirty': 11, 'laugher': 11, 'battered': 11, 'beavis': 11, 'dyslexia': 11, 'sophisticates': 11, 'hints': 11, 'duking': 11, 'misuse': 11, 'trusting': 11, 'backhanded': 11, 'cursory': 11, 'lactating': 11, 'donethat': 11, 'shouting': 11, 'hindered': 11, 'bestowed': 11, 'holidayseason': 11, 'germanic': 11, 'elder': 11, 'minutiae': 11, 'skyscraper': 11, 'gabbiest': 11, 'disabled': 11, 'decorates': 11, 'pleasuring': 11, 'selfdelusion': 11, 'businesses': 11, 'missive': 11, 'soiree': 11, 'cynics': 11, 'videologue': 11, 'unqualified': 11, 'nicks': 11, 'earpleasing': 11, 'alternating': 11, 'delirium': 11, 'grandmother': 11, 'superlative': 11, 'tail': 11, 'receives': 11, 'slope': 11, 'dissing': 11, 'groantoguffaw': 11, 'indoor': 11, 'olympic': 11, 'braindeadening': 11, 'tamer': 11, 'resurrecting': 11, 'beentolda': 11, 'excites': 11, 'ardently': 11, 'tapestry': 11, 'analgesic': 11, 'expository': 11, 'altmanesque': 11, 'disappears': 11, 'fervid': 11, 'garden': 11, 'solomonic': 11, 'squint': 11, 'assess': 11, 'eleven': 11, 'commiserating': 11, 'sufficiently': 11, 'unreligious': 11, 'ethnicities': 11, 'requiring': 11, 'vowing': 11, 'directionless': 11, 'lo': 11, 'boho': 11, 'recovering': 11, 'documentarymaking': 11, 'sweetandsour': 11, 'improbably': 11, 'forbearing': 11, 'childrearing': 11, 'mai': 11, 'norringtondirected': 11, 'chewy': 11, 'atypically': 11, 'colgate': 11, 'cheech': 11, 'chips': 11, 'phoneyfeeling': 11, 'pulsating': 11, 'widesmiling': 11, 'reception': 11, '91minute': 11, 'stringently': 11, 'quasishakespearean': 11, 'kazan': 11, 'someday': 11, 'spiritualism': 11, 'hallucinogenic': 11, 'lai': 11, 'propels': 11, 'replace': 11, 'masters': 11, 'notnearly': 11, 'impresses': 11, 'negatives': 11, 'bestial': 11, 'mikes': 11, 'semiamusing': 11, 'induce': 11, 'skateboarding': 11, 'zipper': 11, 'conveyor': 11, 'caucasian': 11, 'sedate': 11, 'fluttering': 11, 'gradeschool': 11, 'playwriting': 11, 'blasts': 11, 'backseat': 11, 'wrath': 11, 'khan': 11, 'toughest': 11, 'bankruptcy': 11, 'writerdirectors': 11, 'shoplifts': 11, 'cribbing': 11, 'disaffectedindiefilm': 11, 'castles': 11, 'pearls': 11, 'clicking': 11, 'howlingly': 11, 'skipping': 11, 'competing': 11, 'lawyers': 11, 'stomachknotting': 11, 'turturro': 11, 'foreground': 11, 'annoyed': 11, 'transpose': 11, 'vanessa': 11, 'bigfisted': 11, 'decay': 11, 'training': 11, 'eke': 11, 'blips': 11, 'uninflected': 11, 'bloodletting': 11, 'wreckage': 11, 'xmas': 11, 'virtuous': 11, 'truckzilla': 11, 'antiestablishment': 11, 'embroils': 11, 'parrots': 11, 'uhf': 11, 'implosion': 11, 'wideeyed': 11, 'fashioning': 11, 'lemon': 11, 'intermediary': 11, 'reeses': 11, 'playoff': 11, 'lashing': 11, 'secretly': 11, 'unhinged': 11, 'mouglalis': 11, 'terminal': 11, 'rejects': 11, 'amusements': 11, 'pillages': 11, 'shedding': 11, 'fritters': 11, 'fallibility': 11, 'clock': 11, 'actory': 11, 'concoctions': 11, 'eudora': 11, 'welty': 11, 'closedoff': 11, 'dorkier': 11, 'flabbergasting': 11, 'pupils': 11, 'theology': 11, 'bestknown': 11, 'labelled': 11, 'consume': 11, 'rarest': 11, 'dues': 11, 'practiced': 11, 'spiffing': 11, 'leftovers': 11, 'torrent': 11, 'continuum': 11, 'decorating': 11, 'sickeningly': 11, 'patricio': 11, 'angelina': 11, 'befuddling': 11, 'rogue': 11, 'assassins': 11, 'ratchets': 11, 'joint': 11, 'promotion': 11, 'madeup': 11, 'tracks': 11, 'distinctions': 11, 'jiri': 11, 'tanovic': 11, 'smilebutton': 11, 'rb': 11, 'surfer': 11, 'unity': 11, 'unexamined': 11, 'towers': 11, 'timeout': 11, 'dichotomy': 11, 'sullivan': 11, 'goodforyou': 11, 'bottomfeeder': 11, '52': 11, 'contemptible': 11, 'imitator': 11, 'inflate': 11, 'phonograph': 11, '19': 11, 'shindler': 11, 'reincarnation': 11, 'fifteen': 11, 'jeanette': 11, 'turks': 11, 'achronological': 11, 'traced': 11, 'repelled': 11, 'selfdestructiveness': 11, 'anticipation': 11, 'besco': 11, 'vega': 11, 'sabara': 11, 'funky': 11, 'cleverest': 11, 'crowds': 11, '20000': 11, 'confidently': 11, 'orchestrated': 11, 'persuades': 11, 'surplus': 11, 'reputedly': 11, 'upfront': 11, 'trumps': 11, 'resulted': 11, 'restored': 11, 'underplayed': 11, 'gilmore': 11, 'wellthought': 11, 'concrete': 11, 'insubstantial': 11, 'hairline': 11, 'weathered': 11, 'countenance': 11, 'ridiculously': 11, 'peroxide': 11, 'hackles': 11, 'sturdiest': 11, 'uncertainties': 11, 'afterhours': 11, 'namesake': 11, 'wealth': 11, 'sending': 11, 'legs': 11, 'evocation': 11, 'disrobed': 11, '2500': 11, 'nitpicky': 11, 'doubling': 11, 'subtexts': 11, 'disturbance': 11, '15year': 11, 'strategically': 11, 'graphically': 11, 'hardtopredict': 11, 'nonchalant': 11, 'sermonize': 11, 'clearcut': 11, 'discount': 11, 'paws': 11, 'germanexpressionist': 11, 'obligation': 11, 'fluxing': 11, 'pseudointellectual': 11, 'terrorizing': 11, 'strongminded': 11, 'cow': 11, 'transvestite': 11, 'livingroom': 11, 'cyndi': 11, 'lauper': 11, 'aggrandizing': 11, 'singerturned': 11, 'hellbent': 11, 'leatherbound': 11, 'iranianamerican': 11, 'withholds': 11, 'swords': 11, 'surrendering': 11, 'gelati': 11, 'baker': 11, 'lags': 11, 'ricochets': 11, 'dislocation': 11, 'sanity': 11, 'swanson': 11, 'lameness': 11, 'livehoned': 11, 'mimicry': 11, 'unrecommendable': 11, 'baja': 11, 'allergy': 11, 'narratives': 11, 'atavistic': 11, 'banging': 11, 'groans': 11, 'fullon': 11, 'mideast': 11, 'bigname': 11, 'industrialized': 11, 'bodyswitching': 11, 'vomit': 11, 'val': 11, 'influx': 11, 'ravages': 11, 'offhollywood': 11, 'fortified': 11, 'grinding': 11, 'finder': 11, 'defunct': 11, 'idoosyncratic': 11, 'terrain': 11, 'potholes': 11, 'uncomplicated': 11, 'bells': 11, 'borchardt': 11, 'kaufmann': 11, 'motorcycle': 11, 'europeanset': 11, 'lessthanobjective': 11, 'crassathons': 11, 'nominal': 11, 'desolation': 11, 'bennett': 11, 'getout': 11, 'intimidate': 11, 'stir': 11, 'boldness': 11, 'lobbies': 11, 'candidly': 11, 'sizzling': 11, 'obscurities': 11, 'sleepdeprived': 11, 'dormer': 11, 'weariness': 11, 'richest': 11, 'fullywritten': 11, 'petersburg': 11, 'spyontherun': 11, 'torpid': 11, 'commodified': 11, 'yawns': 11, 'materializes': 11, 'spoon': 11, 'feeding': 11, 'magnify': 11, 'rosenbaum': 11, 'heavyhandedness': 11, 'loom': 11, 'dogwalker': 11, 'tidy': 11, 'preprogrammed': 11, 'heartonitssleeve': 11, 'textural': 11, 'recital': 11, 'delve': 11, 'scorns': 11, 'cadness': 11, 'responsive': 11, 'koreans': 11, 'portion': 11, 'unwrapped': 11, 'burly': 11, 'roundhouse': 11, 'representations': 11, 'revered': 11, 'carbon': 11, 'memorialize': 11, 'hormones': 11, 'fantasyadventure': 11, 'hamilton': 11, 'juggling': 11, 'selfactualization': 11, 'continental': 11, 'divides': 11, 'motocross': 11, 'samantha': 11, 'eagerly': 11, 'shy': 11, 'ships': 11, 'disrupts': 11, 'jewison': 11, 'herek': 11, 'expulsion': 11, 'solondzian': 11, 'screamingly': 11, 'horrifically': 11, 'casey': 11, 'slavishly': 11, 'contradictions': 11, 'artdirected': 11, 'originally': 11, 'selfdramatizing': 11, 'fryers': 11, 'combo': 11, 'closeness': 11, 'unreality': 11, 'weakest': 11, 'lynchings': 11, 'flaky': 11, 'rams': 11, 'allying': 11, 'strung': 11, 'comebacks': 11, 'recruitment': 11, '97': 11, 'anspaugh': 11, 'deconstructionist': 11, 'unoriginality': 11, 'murkiest': 11, 'distributors': 11, 'lise': 11, 'worldweary': 11, 'colonel': 11, 'creme': 11, 'fandom': 11, 'dimmer': 11, 'kings': 11, 'dingy': 11, 'backrooms': 11, 'ballpoint': 11, 'chronic': 11, 'adulthood': 11, 'notsostock': 11, 'outcast': 11, 'sturdy': 11, 'aidan': 11, 'patter': 11, 'fog': 11, 'boni': 11, 'coldly': 11, 'selfinterested': 11, 'coloring': 11, 'doomsday': 11, 'snuggle': 11, 'knots': 11, 'articulated': 11, 'racehorse': 11, 'rights': 11, 'disclosure': 11, 'loversontherun': 11, 'pedagogy': 11, 'placeholder': 11, 'boulevard': 11, 'eurofilm': 11, 'befuddlement': 11, 'swamp': 11, 'recoiling': 11, 'scherick': 11, 'alarmed': 11, 'greekamerican': 11, 'comparative': 11, 'yuppie': 11, 'sailboaters': 11, 'devilish': 11, 'bows': 11, 'sabrina': 11, 'unlucky': 11, 'heartbeatlike': 11, 'puke': 11, 'buddycop': 11, 'noxious': 11, 'meddling': 11, 'headbanging': 11, 'majesty': 11, 'incomplete': 11, 'loitering': 11, 'inscrutable': 11, 'rainwear': 11, 'comradeship': 11, 'nightclub': 11, 'dock': 11, 'enervated': 11, 'bastions': 11, 'injured': 11, 'oclock': 11, 'allodi': 11, 'prompting': 11, 'cabin': 11, 'detracts': 11, 'illegal': 11, 'limping': 11, 'clara': 11, 'village': 11, 'planning': 11, 'inhabited': 11, 'misfits': 11, 'lopsided': 11, 'plundered': 11, 'thrall': 11, 'ageism': 11, '170minute': 11, 'lifetimechannel': 11, 'charity': 11, 'clink': 11, 'untidy': 11, 'programming': 11, 'maud': 11, 'amuses': 10, 'fresnadillo': 10, 'defend': 10, 'paralyzed': 10, 'runaway': 10, 'substitutable': 10, 'progression': 10, 'freakish': 10, 'shiverinducing': 10, 'reminders': 10, 'garner': 10, 'proficiency': 10, 'tumbleweeds': 10, 'saddam': 10, 'hussein': 10, 'surge': 10, 'danang': 10, 'rhapsodizes': 10, 'goodbad': 10, 'chemicals': 10, 'horrendously': 10, 'comalike': 10, 'selfsatisfaction': 10, 'needless': 10, 'swordfights': 10, 'superwealthy': 10, 'ruthlessly': 10, 'pained': 10, 'romanticcomedy': 10, 'muchneeded': 10, 'abyss': 10, 'lector': 10, 'accessibility': 10, 'indulging': 10, 'manas': 10, 'schematic': 10, 'illuminate': 10, 'beheadings': 10, 'obscenity': 10, 'organizing': 10, 'thesps': 10, 'hairier': 10, 'gifford': 10, 'watercamera': 10, 'yelling': 10, 'hinge': 10, 'sexinthecity': 10, 'misadventures': 10, 'ensuing': 10, '1980s': 10, 'conniving': 10, 'robberies': 10, 'makebelieve': 10, 'generalities': 10, 'renaissance': 10, 'icy': 10, 'trombone': 10, 'experiments': 10, 'wreaked': 10, 'confounded': 10, 'expound': 10, 'forthright': 10, 'atop': 10, 'pseudobio': 10, 'babbitt': 10, 'treasured': 10, 'antierotic': 10, 'riled': 10, 'candles': 10, 'calories': 10, 'admiration': 10, 'undermine': 10, 'blended': 10, 'pamela': 10, 'hence': 10, 'superpowers': 10, 'supersimple': 10, 'kitschy': 10, 'snobbery': 10, 'inform': 10, 'der': 10, 'groen': 10, 'forrest': 10, 'gump': 10, 'eisenhower': 10, 'tardier': 10, 'interminably': 10, 'dylan': 10, 'tempted': 10, 'affirms': 10, 'interspecies': 10, 'epitaph': 10, 'flopping': 10, 'dolphingasm': 10, 'columbus': 10, 'selfrighteous': 10, 'extremists': 10, 'ontiveros': 10, 'bitterly': 10, 'overstays': 10, 'wrapping': 10, 'muy': 10, 'loco': 10, 'purdy': 10, 'eh': 10, 'ironyfree': 10, 'batting': 10, 'fumbles': 10, 'spiritcrushing': 10, 'ennui': 10, 'denuded': 10, 'landbound': 10, 'pious': 10, 'oscarsweeping': 10, 'asleep': 10, 'regrets': 10, 'lapping': 10, 'genderprovoking': 10, 'mcbealstyle': 10, 'descend': 10, 'perceptions': 10, 'grinning': 10, 'ecstasy': 10, 'fuel': 10, 'appetites': 10, 'suavity': 10, 'da': 10, 'incognito': 10, 'yesteryear': 10, 'scarily': 10, 'reassure': 10, 'buckaroo': 10, 'banzai': 10, 'humanize': 10, '1957': 10, 'laidback': 10, 'float': 10, 'trims': 10, 'looney': 10, 'popcyber': 10, 'bjorkness': 10, 'hopkinsrock': 10, 'passiveaggressive': 10, 'astronauts': 10, 'personally': 10, 'subsophomoric': 10, 'whir': 10, 'clicks': 10, 'shirt': 10, 'hooks': 10, 'decoder': 10, 'veggies': 10, 'lothario': 10, 'eclipse': 10, 'doltish': 10, 'polite': 10, 'blackowned': 10, 'whiteempowered': 10, 'anyplace': 10, 'barrow': 10, 'gawky': 10, 'spouting': 10, 'upandcoming': 10, 'sundrenched': 10, 'feminism': 10, 'heidegger': 10, 'patriot': 10, 'videoshot': 10, 'spry': 10, '2001': 10, 'downtime': 10, 'intergalactic': 10, 'derive': 10, 'conversion': 10, 'fusty': 10, 'pleasingly': 10, '1953': 10, 'newcastle': 10, 'tango': 10, 'mail': 10, 'rougharoundtheedges': 10, 'onion': 10, 'splashed': 10, 'roundelay': 10, 'handily': 10, 'feed': 10, 'specifics': 10, 'roughtrade': 10, 'homoeroticism': 10, 'disconnects': 10, 'angles': 10, 'videoviewing': 10, 'upload': 10, 'surfaceeffect': 10, 'phlegmatic': 10, 'ratatat': 10, 'famuyiwa': 10, 'indulgence': 10, 'correctly': 10, 'gonetoseed': 10, 'barnside': 10, 'gourd': 10, 'directtovideodvd': 10, 'onestar': 10, 'occupation': 10, 'hottest': 10, 'hippest': 10, '60second': 10, 'maleridden': 10, 'apartheid': 10, 'torpedo': 10, 'crisper': 10, 'validated': 10, 'bon': 10, 'bons': 10, 'breillat': 10, 'vagueness': 10, 'concealment': 10, 'chemically': 10, 'enveloped': 10, 'infamy': 10, 'koolaid': 10, 'agile': 10, 'initially': 10, 'cunning': 10, 'harvey': 10, 'bluff': 10, 'denmark': 10, 'partnership': 10, 'deteriorates': 10, 'andie': 10, 'softporn': 10, 'unwary': 10, 'uncut': 10, 'watercolor': 10, 'dadaist': 10, 'upping': 10, 'meow': 10, 'climb': 10, 'frankensteinlike': 10, 'shootemups': 10, 'purportedly': 10, 'modernoffice': 10, 'literarily': 10, 'swathe': 10, 'reside': 10, 'insinuation': 10, 'discoveries': 10, 'jostling': 10, 'oliviera': 10, 'skeleton': 10, 'berry': 10, 'spicy': 10, 'undergo': 10, 'poorlyconstructed': 10, 'negate': 10, 'spoofy': 10, 'welcomed': 10, 'perpetrating': 10, 'treacly': 10, 'motivate': 10, 'pointtopoint': 10, 'wannabehip': 10, 'cub': 10, 'confuse': 10, 'imaxy': 10, 'winger': 10, 'swordandsorcery': 10, 'mordantly': 10, 'characteroriented': 10, 'coloured': 10, 'starter': 10, 'intoxication': 10, 'steamy': 10, 'graves': 10, 'happilyever': 10, 'derry': 10, 'munch': 10, 'patriarchal': 10, 'debating': 10, 'societies': 10, 'uncompelling': 10, 'hawley': 10, 'documentarian': 10, 'gunfire': 10, 'hyperreal': 10, 'loopholes': 10, 'publicists': 10, 'rusi': 10, 'vulakoro': 10, 'almodovar': 10, 'numb': 10, 'beachcombing': 10, 'verismo': 10, 'government': 10, 'idling': 10, 'thinkers': 10, 'nihilistic': 10, 'discerning': 10, 'prefabricated': 10, 'comfy': 10, 'stereo': 10, 'jettisoned': 10, 'ideology': 10, 'cutthroat': 10, 'limerick': 10, 'scrawled': 10, 'thewlis': 10, 'continue': 10, 'faceless': 10, 'soberminded': 10, 'brainy': 10, 'thirteenyearold': 10, 'farenheit': 10, 'kilt': 10, 'genevieve': 10, 'leplouff': 10, 'moviemaker': 10, 'hardhitting': 10, 'abysmal': 10, 'snap': 10, 'finery': 10, 'eardrumdicing': 10, 'gathering': 10, 'ducts': 10, 'prelude': 10, 'wreak': 10, 'marcken': 10, 'trashcinema': 10, 'bludgeoning': 10, 'catonjones': 10, 'krawczyk': 10, 'immaculate': 10, 'cheesier': 10, 'gadzooks': 10, 'layer': 10, 'blubber': 10, 'monotony': 10, 'burlap': 10, 'overshadows': 10, 'accommodate': 10, 'ambivalent': 10, 'kerrigan': 10, 'platinumblonde': 10, 'teenexploitation': 10, 'ancillary': 10, 'products': 10, 'reworked': 10, 'completist': 10, 'drumbeat': 10, 'heralds': 10, 'punctuation': 10, 'behindthescenes': 10, 'orleans': 10, 'bermuda': 10, 'rainy': 10, 'assign': 10, 'recognise': 10, 'plato': 10, 'agents': 10, 'crappy': 10, 'adorns': 10, 'puritanical': 10, 'preferring': 10, 'infusing': 10, 'gestures': 10, 'hammering': 10, 'wounded': 10, 'embellished': 10, 'titfortat': 10, 'middleclass': 10, 'flamboyance': 10, 'oldfashionedmovie': 10, 'ragtag': 10, '127': 10, 'establishment': 10, 'spooks': 10, 'trimmed': 10, 'rendition': 10, 'heaps': 10, 'saeko': 10, 'retina': 10, 'endured': 10, 'righteousness': 10, 'djeinaba': 10, 'seamstress': 10, 'uwe': 10, 'kitchensink': 10, 'unstoppable': 10, 'jammies': 10, 'dolly': 10, 'parton': 10, 'assets': 10, 'commend': 10, 'elves': 10, 'landing': 10, 'sturdiness': 10, 'chomps': 10, 'ferris': 10, 'streetwise': 10, 'rosario': 10, 'independentcommunity': 10, 'lesscompelling': 10, 'exhibit': 10, 'inadequately': 10, 'faint': 10, 'quibble': 10, 'blasting': 10, 'overamorous': 10, 'terrier': 10, 'unfathomable': 10, 'mcwilliams': 10, 'spookarama': 10, 'quickwitted': 10, 'gods': 10, 'ohlinger': 10, 'bravo': 10, 'watery': 10, 'biggername': 10, 'butthead': 10, 'por': 10, 'sharply': 10, 'nadia': 10, 'haphazardness': 10, 'deferred': 10, 'discovered': 10, 'indulged': 10, 'insatiable': 10, 'whirling': 10, 'mustown': 10, 'fangbaring': 10, 'lullaby': 10, '7th': 10, 'amble': 10, 'disobedience': 10, 'pardon': 10, 'indoctrinated': 10, 'lethargic': 10, 'funseeking': 10, 'highend': 10, 'aptitude': 10, 'atrocities': 10, 'iota': 10, 'conclusive': 10, 'bernard': 10, 'tautou': 10, 'decisive': 10, 'proceed': 10, 'demeaning': 10, 'ka': 10, 'fai': 10, 'facetoface': 10, 'trajectory': 10, 'sally': 10, 'nighttime': 10, 'tundra': 10, 'climbing': 10, 'preachykeen': 10, 'outshock': 10, 'arrogance': 10, 'hardsell': 10, 'imagemongering': 10, 'muse': 10, 'muttering': 10, 'debris': 10, 'fourstar': 10, 'doings': 10, 'amidst': 10, 'ttell': 10, 'everyjokehas': 10, 'tickles': 10, 'profiling': 10, 'breitbart': 10, 'poise': 10, 'seldhal': 10, 'blacklight': 10, 'burgeoning': 10, 'winded': 10, 'dilettante': 10, 'expend': 10, 'sloppiness': 10, 'tvinsider': 10, 'balto': 10, 'bled': 10, 'centre': 10, 'guei': 10, 'kok': 10, 'essayist': 10, 'occupied': 10, 'rafael': 10, 'deliverance': 10, 'understatement': 10, 'precedent': 10, 'formalist': 10, 'geek': 10, 'avoiding': 10, 'interracial': 10, 'tvcops': 10, 'chong': 10, 'mullan': 10, 'synergistic': 10, 'sleekness': 10, 'laissez': 10, 'passer': 10, 'misogynist': 10, 'sleightofhand': 10, 'laugther': 10, 'mourning': 10, 'oftenfunny': 10, 'yearend': 10, 'lifting': 10, 'orlean': 10, 'registering': 10, 'pasach': 10, 'hepburn': 10, 'icons': 10, 'galore': 10, 'asit': 10, 'avon': 10, 'admirer': 10, 'flows': 10, 'moodiness': 10, 'rode': 10, 'smuggling': 10, 'alter': 10, 'crispin': 10, 'stammering': 10, '1937': 10, 'alchemical': 10, 'transmogrification': 10, 'trifecta': 10, 'reunions': 10, 'sillified': 10, 'armenian': 10, 'genocide': 10, 'fell': 10, 'dawdle': 10, 'deathdefying': 10, 'jeonghyang': 10, 'organ': 10, 'vengefulness': 10, 'docudogma': 10, 'plainness': 10, 'merry': 10, 'gruesome': 10, 'lament': 10, 'uninhibited': 10, 'frazzled': 10, 'wackiness': 10, 'awed': 10, 'homogenized': 10, 'innumerable': 10, 'wordless': 10, 'ethnographic': 10, 'peerelated': 10, 'collar': 10, 'integrating': 10, 'antsy': 10, 'eternity': 10, 'subtarantino': 10, 'hustlers': 10, 'keg': 10, 'kurds': 10, 'prepared': 10, 'addictive': 10, 'chatter': 10, 'ate': 10, 'tissuethin': 10, 'convinces': 10, 'cutes': 10, 'posthumously': 10, 'published': 10, 'dramatize': 10, 'inexcusable': 10, 'outlandishness': 10, 'prowildlife': 10, 'incinerates': 10, 'threads': 10, 'angelique': 10, 'enthronement': 10, 'embodies': 10, 'lewd': 10, 'tracking': 10, 'videocam': 10, 'communication': 10, '90plus': 10, 'outre': 10, '10yearold': 10, 'disneyland': 10, 'microscope': 10, 'unholy': 10, 'humorseeking': 10, 'molto': 10, 'superficiale': 10, 'faulty': 10, 'reader': 10, 'wiseacre': 10, 'churlish': 10, 'flowering': 10, 'underachiever': 10, 'wrinkles': 10, 'walkingdead': 10, 'crumb': 10, 'olives': 10, 'specialized': 10, 'amok': 10, 'seventeen': 10, 'extravagantly': 10, 'curtains': 10, 'stimulate': 10, 'daredevils': 10, 'springboard': 10, 'playdoh': 10, 'utilized': 10, 'homeric': 10, '12th': 10, 'skindeep': 10, 'nationalism': 10, 'skullduggery': 10, 'cablesports': 10, 'whip': 10, 'nineyearold': 10, 'filler': 10, 'gobbler': 10, 'malle': 10, 'workings': 10, 'unrelated': 10, 'danis': 10, 'rainbows': 10, 'plant': 10, 'grandly': 10, 'latesummer': 10, 'wisedup': 10, 'attitudes': 10, 'proclaim': 10, 'reelreal': 10, 'pursued': 10, 'farflung': 10, 'heavyweight': 10, 'electronic': 10, 'skilled': 10, 'screenful': 10, 'fifth': 10, 'waffle': 10, 'rake': 10, 'norma': 10, 'rae': 10, 'palate': 10, 'mat': 10, 'hush': 10, 'videodvd': 10, 'grateful': 10, 'dorm': 10, 'mrs': 10, 'template': 10, 'comeback': 10, 'curlers': 10, 'tso': 10, 'wiggling': 10, 'punchline': 10, 'argentinian': 10, 'jungle': 10, 'needing': 10, 'spysavvy': 10, '20car': 10, 'developers': 10, 'matineestyle': 10, 'bangup': 10, 'kozmo': 10, 'impacting': 10, 'noticed': 10, 'aiello': 10, 'plea': 10, 'playboy': 10, 'expressionistic': 10, 'yakusho': 10, 'model': 10, 'shear': 10, 'verite': 10, 'lifeatarm': 10, 'oldworld': 10, 'kraft': 10, 'booking': 10, 'tots': 10, 'regurgitates': 10, 'showers': 10, 'mason': 10, 'outage': 10, 'chords': 10, 'plutonium': 10, 'contentious': 10, 'configurations': 10, 'reeking': 10, 'olympus': 10, 'profanities': 10, 'costumed': 10, 'unremittingly': 10, 'culprit': 10, 'earlyon': 10, 'aldrich': 10, 'reiner': 10, 'virgin': 10, 'shaw': 10, 'fancies': 10, 'julietwest': 10, '66': 10, 'newagey': 10, 'obnoxiously': 10, 'undergraduate': 10, 'monsterscience': 10, 'allout': 10, 'philosophers': 10, 'lumpy': 10, 'nincompoop': 10, 'sandlerian': 10, 'unmotivated': 10, 'spill': 10, 'simulation': 10, 'economics': 10, 'fabulousness': 10, 'vainglorious': 10, 'kincaid': 10, 'installments': 10, 'underconfident': 10, 'baboon': 10, 'portraiture': 10, 'saps': 10, 'dehumanizing': 10, 'patrolmen': 10, 'spyaction': 10, 'unforgivingly': 10, 'telanovela': 10, 'majors': 10, 'evergreen': 10, 'instructor': 10, 'misfires': 10, 'stiller': 10, 'secular': 10, 'linear': 10, 'teethgnashing': 10, 'actorliness': 10, 'ordered': 10, 'berkeley': 10, 'progressive': 10, 'highstrung': 10, 'narcotized': 10, 'driveresque': 10, 'laughingly': 10, 'postfull': 10, 'stockbroker': 10, 'nude': 10, 'gauzy': 10, 'christmastree': 10, 'flocking': 10, 'uncharismatic': 10, 'sticker': 10, 'horner': 10, 'evaporation': 10, 'candle': 10, 'fab': 10, 'johnson': 10, 'varsity': 10, 'blissless': 10, 'ploy': 10, 'stupor': 10, 'perceptively': 10, 'bends': 10, 'freeze': 10, 'nascent': 10, 'resent': 10, 'likability': 10, 'pencilthin': 10, 'errant': 10, 'graceinrebellion': 10, 'liquid': 10, 'crossing': 10, 'quotient': 10, 'milla': 10, 'biggerthanlife': 10, 'pasteurized': 10, 'interiors': 10, 'moodily': 10, 'ookyspookies': 10, 'baggy': 10, 'motherland': 10, 'coven': 10, 'outrun': 10, 'schoolhouse': 10, 'relevancy': 10, 'crit': 10, 'muffled': 10, 'malnutrition': 10, 'galpal': 10, 'offered': 10, 'inspirations': 10, 'fillin': 10, 'delhomme': 10, 'egotistical': 10, 'midlevel': 10, 'griping': 10, 'subservient': 10, 'sheen': 10, 'jazzman': 10, 'tourist': 10, 'dissidents': 10, 'tailored': 10, 'thoughtout': 10, 'portal': 10, 'wretchedness': 10, 'purport': 10, 'slambam': 10, 'snapshots': 10, 'lap': 10, '117': 10, 'abruptly': 10, 'liver': 10, 'sheep': 10, 'actionfantasy': 10, 'overpower': 10, 'envy': 10, 'kazmierski': 10, 'precinct': 10, 'tonga': 10, 'bundle': 10, 'grader': 10, 'bminus': 10, 'hostess': 10, 'stomping': 10, 'untuned': 10, 'instruments': 10, 'stunned': 10, 'crux': 10, 'lapdance': 10, 'mischief': 10, 'dubya': 10, 'writhing': 10, 'atheistic': 10, 'savvier': 10, 'met': 10, 'voluptuous': 10, 'killbynumbers': 10, 'bladethin': 10, 'madeforcable': 10, 'selfinterest': 10, 'sledgehammers': 10, 'residuals': 10, 'catchy': 10, 'thereof': 10, 'portable': 10, 'tangy': 10, 'adoration': 10, 'strainingly': 10, 'bombing': 10, 'measures': 10, 'pounds': 10, 'guidance': 10, 'mindsets': 10, 'contacts': 10, 'transferral': 10, 'fisticuffs': 10, 'dollop': 10, 'hideo': 10, 'satellite': 10, 'redford': 10, 'bizzarre': 10, 'attacking': 10, 'entirety': 10, 'stinky': 10, 'falseness': 10, 'mindblowing': 10, 'norman': 10, 'bfilm': 10, 'thuggery': 10, 'lobotomized': 10, 'coffin': 10, 'obsolete': 10, 'battista': 10, 'nuked': 10, 'shagster': 10, 'difficulttoswallow': 10, 'hamburgers': 10, 'reeltoreel': 10, 'recordings': 10, 'entrancing': 10, 'kiddiefriendly': 10, 'hohoho': 10, 'engulfing': 10, 'qualifies': 10, 'proctologist': 10, 'rabbits': 10, 'intensifying': 10, 'convert': 10, 'townsend': 10, 'intently': 10, 'hallways': 10, 'dilithium': 10, 'crystals': 10, 'smoothes': 10, 'drone': 10, 'twentieth': 10, '700': 10, 'novelistic': 10, 'pushthelimits': 10, 'foil': 10, 'reinforced': 10, 'forests': 10, 'pgrated': 10, 'roaring': 10, 'ink': 10, 'fuller': 10, 'exigencies': 10, 'crushes': 10, 'ratner': 10, 'horrifies': 10, 'costar': 10, 'tribulations': 10, 'stillcontemporary': 10, 'crimefilm': 10, 'hallucinations': 10, 'pseudosophisticated': 10, 'henna': 10, 'ashes': 10, 'clericks': 10, 'bong': 10, 'alcoholic': 10, 'beverage': 10, 'lovejealousy': 10, 'waltzes': 10, 'etoiles': 10, 'sir': 10, 'gyro': 10, 'causing': 10, 'regal': 10, 'crummles': 10, 'persuasion': 10, 'assuredness': 10, 'montied': 10, 'gutbustingly': 10, 'unconventionally': 10, 'untugged': 10, 'embellishing': 10, 'aberration': 10, 'veritable': 10, 'exhilarate': 10, 'heel': 10, 'venomous': 10, 'doubled': 10, 'undercurrents': 10, 'lastsecond': 10, 'kurdish': 10, 'borderlands': 10, 'ronn': 10, 'deadeyed': 10, 'midfilm': 10, 'brotherly': 10, 'spasms': 10, 'satanic': 10, 'repackaged': 10, 'arrested': 10, '76minute': 10, 'under12': 10, 'competitive': 10, 'stickysweet': 10, 'hopefulness': 10, 'weaponderived': 10, 'knowingness': 10, 'bernstein': 10, 'curls': 10, 'yawp': 10, 'oldmovie': 10, 'idiosyncrasy': 10, 'monastic': 10, 'confronted': 10, 'clipped': 10, 'pasadena': 10, 'chorus': 10, 'damsels': 10, 'persecutions': 10, 'sen': 10, 'combatants': 10, 'prequel': 10, 'fauxcontemporary': 10, 'gravy': 10, 'lameold': 10, 'coeducational': 10, 'waddling': 10, 'mandates': 10, 'haveyourselfahappylittleholocaust': 10, 'documakers': 10, 'entertainer': 10, 'overtime': 10, 'hating': 10, 'junctures': 10, 'erotics': 10, 'fiftysomething': 10, 'tuneless': 10, 'skips': 10, 'nuttiness': 10, 'girlpower': 10, 'sugarcoating': 10, 'overpraised': 10, 'linguistic': 10, 'fumbling': 10, 'nolden': 10, 'assertive': 10, 'playground': 10, 'dearlyloved': 10, 'willfully': 10, 'theft': 10, 'jackasses': 10, 'schlepping': 10, 'fundamentalists': 10, 'saucereyed': 10, 'sugarfree': 10, 'primavera': 10, 'onceover': 10, 'selfcontained': 10, 'fleet': 10, 'inanity': 10, 'kegger': 10, 'slogs': 10, 'gorefests': 10, 'stupidly': 10, 'unselfconscious': 10, 'locate': 10, 'seduction': 10, 'octopus': 10, 'homeboy': 10, 'fidget': 10, 'neater': 10, 'rusty': 10, 'involvingly': 10, 'gander': 9, 'avengers': 9, 'nerverattling': 9, 'swaying': 9, 'distractions': 9, 'embarrassingly': 9, 'middleagers': 9, 'loony': 9, 'decter': 9, 'furrow': 9, 'zhuangzhuang': 9, 'overindulgent': 9, 'tirade': 9, 'warravaged': 9, 'narcissistic': 9, 'candycoat': 9, 'hews': 9, 'gaitskill': 9, 'waxes': 9, 'imbued': 9, 'wellwrought': 9, 'plagued': 9, 'bumpin': 9, 'crawlies': 9, 'sidekicks': 9, 'esoteric': 9, 'formulas': 9, 'overcooked': 9, 'scummy': 9, 'cronenberg': 9, 'undeterminable': 9, 'coheres': 9, 'ballesta': 9, 'achero': 9, 'aknocking': 9, 'eliminating': 9, 'lacked': 9, '1990': 9, 'apex': 9, 'requiem': 9, 'pitifully': 9, 'kathie': 9, 'notquitedead': 9, 'loaf': 9, 'explodes': 9, 'stagey': 9, 'balding': 9, 'bots': 9, 'calamity': 9, 'jeanclaude': 9, 'roach': 9, 'raimi': 9, 'matured': 9, 'denouements': 9, 'complaining': 9, 'tree': 9, 'sugarcoated': 9, 'classroom': 9, 'classification': 9, 'animations': 9, 'broadside': 9, 'mateys': 9, 'ne': 9, 'iosseliani': 9, 'natalie': 9, 'ringside': 9, 'tinge': 9, 'pander': 9, 'heavyweights': 9, 'agreed': 9, 'artworks': 9, 'dw': 9, 'griffith': 9, 'methodology': 9, 'intriguingly': 9, 'sixties': 9, 'rockumentary': 9, 'delineate': 9, 'turntablists': 9, 'innovators': 9, 'greatesthits': 9, 'sat': 9, 'baadermeinhof': 9, 'activists': 9, 'clownish': 9, 'fogging': 9, 'ingest': 9, 'sip': 9, 'brady': 9, 'whitetrash': 9, 'stockings': 9, 'loosejointed': 9, 'batman': 9, 'buffoons': 9, 'diversions': 9, 'uncles': 9, 'constrictive': 9, 'decasia': 9, 'schoolage': 9, 'gutbusting': 9, 'triviality': 9, 'expanse': 9, 'distaste': 9, 'leontine': 9, 'pond': 9, 'sharks': 9, 'skewering': 9, 'insiders': 9, 'embalmed': 9, 'lowly': 9, 'serbs': 9, 'birds': 9, 'washout': 9, 'teenspeak': 9, 'emerged': 9, 'jon': 9, '71': 9, 'ardor': 9, 'illconstructed': 9, 'likethemed': 9, 'rates': 9, 'twelve': 9, 'submerged': 9, 'ally': 9, 'goodnaturedly': 9, 'cornball': 9, 'minutely': 9, 'ultraprovincial': 9, 'mined': 9, 'anonymity': 9, 'environments': 9, 'maguire': 9, 'evenly': 9, 'milks': 9, 'lika': 9, 'laden': 9, 'redneckversusblueblood': 9, 'mcadams': 9, 'sorrowfully': 9, 'weakly': 9, 'homiletic': 9, 'jelly': 9, 'traditionbound': 9, 'chefs': 9, 'fussing': 9, 'haywire': 9, 'flattening': 9, 'styx': 9, 'yayas': 9, 'codependence': 9, 'outoffield': 9, 'integrates': 9, 'communications': 9, 'kidscute': 9, 'ravel': 9, 'admitting': 9, 'torments': 9, 'morals': 9, 'pretention': 9, 'tenyearold': 9, 'interpret': 9, 'vibrance': 9, 'workshops': 9, 'anakin': 9, 'veering': 9, 'perkiness': 9, 'screed': 9, 'clyde': 9, 'oops': 9, 'ohthosewackybrits': 9, 'cinemantic': 9, 'spall': 9, 'rudd': 9, 'adventues': 9, 'parlor': 9, 'thrillerhorror': 9, 'grenoble': 9, 'gentlemen': 9, 'stains': 9, 'burden': 9, 'nailbiter': 9, 'pollute': 9, 'ballandchain': 9, 'circular': 9, 'minkoff': 9, 'mcmullen': 9, 'twentysomething': 9, 'hotsies': 9, 'harddriving': 9, 'unentertaining': 9, 'waltz': 9, 'xmen': 9, 'brazen': 9, 'goldman': 9, 'rackets': 9, 'careening': 9, 'depending': 9, 'selfcontrol': 9, 'undramatic': 9, 'pastry': 9, 'coinage': 9, 'goosepimple': 9, 'provincial': 9, 'tossup': 9, 'watered': 9, 'verdict': 9, 'whooshing': 9, 'inconceivable': 9, 'ransacked': 9, 'branched': 9, 'rinzler': 9, 'agendas': 9, 'submusic': 9, 'endorses': 9, 'yarnspinner': 9, 'shortest': 9, 'periods': 9, 'swung': 9, 'jolted': 9, 'lingerie': 9, 'toohotfortv': 9, 'limbs': 9, 'swagger': 9, 'viscerally': 9, 'conformity': 9, 'rorschach': 9, 'blockage': 9, 'lungs': 9, 'curve': 9, 'punchier': 9, 'presson': 9, 'restatement': 9, 'meyjes': 9, 'homework': 9, 'slobbering': 9, 'slurs': 9, 'samurai': 9, 'statements': 9, 'obscenely': 9, 'sidewalks': 9, 'schizo': 9, 'sewing': 9, '129minute': 9, 'punishable': 9, 'slivers': 9, 'expressiveness': 9, 'rejigger': 9, 'jumpsuit': 9, 'sandeman': 9, 'fudged': 9, 'gigantic': 9, 'imbue': 9, 'patriotic': 9, 'eclipses': 9, 'refracting': 9, 'boffo': 9, 'swims': 9, 'bruckheimeresque': 9, 'emulates': 9, 'underlies': 9, 'conflicting': 9, 'teenager': 9, 'unorthodox': 9, 'sergio': 9, 'leone': 9, 'farcically': 9, 'dumbo': 9, 'shockyouintolaughter': 9, 'ascertain': 9, 'neophyte': 9, 'waterslike': 9, 'dances': 9, 'exposure': 9, 'stranger': 9, '1933': 9, 'milder': 9, 'genrecurling': 9, 'revives': 9, 'thirtythree': 9, 'notatallgood': 9, 'ick': 9, 'despairingly': 9, 'manoel': 9, 'doris': 9, 'viability': 9, 'softens': 9, 'households': 9, 'garbled': 9, 'horns': 9, 'contender': 9, 'afflicts': 9, 'vaunted': 9, 'fruit': 9, 'pies': 9, 'customers': 9, 'snacks': 9, 'moratorium': 9, 'ingredient': 9, 'asphalt': 9, 'crummy': 9, 'incessantly': 9, 'lioness': 9, 'protecting': 9, 'selfcentered': 9, 'chou': 9, 'celebstrewn': 9, 'baked': 9, 'docs': 9, 'menu': 9, 'openmouthed': 9, 'perennial': 9, '112minute': 9, 'sexism': 9, 'parodied': 9, 'commonman': 9, 'bergmanesque': 9, 'spangle': 9, 'melted': 9, 'slimed': 9, 'misfit': 9, 'bronze': 9, 'bonechilling': 9, 'enforcement': 9, 'wearisome': 9, 'cutoffs': 9, 'reprehensible': 9, 'bestowing': 9, 'reducing': 9, 'jaw': 9, 'facade': 9, 'criticproof': 9, 'stanford': 9, 'inquiries': 9, 'dreadfully': 9, 'hems': 9, 'departs': 9, 'truncated': 9, 'looksee': 9, 'frontman': 9, 'diver': 9, 'weirded': 9, 'spotlights': 9, 'firmer': 9, 'transit': 9, 'pimental': 9, 'bucket': 9, 'introspection': 9, 'sales': 9, 'ouija': 9, 'boards': 9, 'unsolved': 9, 'unresolved': 9, 'uninventive': 9, 'dolby': 9, 'supple': 9, 'respectably': 9, 'sidebyside': 9, 'zap': 9, 'favorably': 9, 'splashing': 9, 'recreational': 9, 'nowadays': 9, 'obligations': 9, 'deflated': 9, 'screechingmetal': 9, 'smashups': 9, 'vengeance': 9, 'playedout': 9, 'imply': 9, 'lina': 9, 'eroticomedy': 9, 'attuned': 9, 'beside': 9, 'upheaval': 9, 'campion': 9, 'lugubrious': 9, 'jokers': 9, 'uppity': 9, 'yourselves': 9, 'kiarostami': 9, 'chewing': 9, 'sequins': 9, 'existent': 9, 'antivirus': 9, 'kahn': 9, 'abrasive': 9, 'boatload': 9, 'pork': 9, 'deportment': 9, 'blight': 9, 'aniston': 9, 'immortal': 9, 'cultist': 9, 'recharged': 9, 'finelooking': 9, 'protracted': 9, 'charred': 9, 'northwest': 9, 'sommers': 9, 'titlebout': 9, 'minddestroying': 9, 'givemeanoscar': 9, 'greengrass': 9, 'catalog': 9, 'clonegag': 9, 'outofkilter': 9, 'islanders': 9, 'stainton': 9, 'ramblings': 9, 'voiceovers': 9, 'remained': 9, 'kangaroo': 9, 'schoolboy': 9, 'pielike': 9, 'irreverence': 9, 'inquisitiveness': 9, 'indoors': 9, 'motionless': 9, 'scrutinize': 9, 'resuscitate': 9, 'exuberantly': 9, 'twirling': 9, 'bedtime': 9, 'expeditious': 9, 'squaddie': 9, 'overstating': 9, 'aircraft': 9, 'carrier': 9, 'fitting': 9, 'egocentricities': 9, 'chung': 9, 'doctorate': 9, 'participation': 9, 'tnt': 9, 'bona': 9, 'fide': 9, 'reyes': 9, 'processor': 9, 'imperfection': 9, 'creepyscary': 9, 'lowlife': 9, 'tracts': 9, 'pimps': 9, 'solidity': 9, 'selfknowledge': 9, 'tupac': 9, 'overnight': 9, 'cook': 9, 'porcelain': 9, 'staggered': 9, 'blacked': 9, '4w': 9, 'cardoso': 9, 'xtc': 9, 'keenest': 9, 'dunno': 9, 'laboratory': 9, 'cam': 9, 'bicentennial': 9, 'sofiveminutesago': 9, 'offhanded': 9, 'beasts': 9, 'intrusion': 9, 'reinvention': 9, 'baffle': 9, 'varmints': 9, 'standoffish': 9, 'advantages': 9, 'surrealistic': 9, 'demeanour': 9, 'associations': 9, 'tyson': 9, 'gullible': 9, 'catastrophic': 9, 'gall': 9, 'cadence': 9, 'nearfatal': 9, 'moat': 9, 'computerized': 9, 'yoda': 9, 'alternatives': 9, 'virtuoso': 9, 'throatsinging': 9, 'illustrated': 9, 'tape': 9, 'heretofore': 9, 'lipreading': 9, 'finn': 9, 'highbuffed': 9, 'castrated': 9, 'fullfledged': 9, 'orchestrating': 9, 'sociopaths': 9, 'brothersstyle': 9, 'valentine': 9, 'unbalanced': 9, 'retreats': 9, 'croaks': 9, 'rebellious': 9, 'catapulting': 9, 'mettle': 9, 'ambience': 9, 'mailorder': 9, 'morrissette': 9, 'teentargeted': 9, '3yearolds': 9, 'lazier': 9, 'pissed': 9, 'misfiring': 9, 'rhapsodize': 9, 'dirgelike': 9, 'shiri': 9, 'wideangle': 9, 'antiwar': 9, 'tenet': 9, 'religions': 9, 'madeformovie': 9, 'melds': 9, 'spiritless': 9, 'ultraloud': 9, 'hurried': 9, 'banged': 9, 'pinned': 9, 'undeserving': 9, 'choppiness': 9, 'contract': 9, 'vivi': 9, 'shorty': 9, 'chore': 9, 'mountains': 9, 'amicable': 9, 'barker': 9, 'unemotive': 9, 'routes': 9, 'preciseness': 9, 'criterion': 9, 'typifies': 9, 'leblanc': 9, 'slogans': 9, 'tubthumpingly': 9, 'eviction': 9, 'publicist': 9, 'hackandslash': 9, 'rhames': 9, 'purr': 9, 'heathers': 9, 'paces': 9, 'girlbuddy': 9, 'allied': 9, 'unprovoked': 9, 'warn': 9, 'outward': 9, 'sieve': 9, 'recesses': 9, 'dogpaddle': 9, 'closed': 9, 'helms': 9, 'doubting': 9, 'counter': 9, 'zeitgeist': 9, 'punchandjudy': 9, 'critiquing': 9, 'criticizing': 9, 'thus': 9, 'prettiest': 9, 'raffish': 9, 'wankery': 9, 'inbetween': 9, 'blooddrenched': 9, 'overinflated': 9, 'recognizes': 9, '30year': 9, 'sociopolitical': 9, 'adoring': 9, 'immortals': 9, 'ineptitude': 9, 'lionize': 9, 'renegadecop': 9, 'kidnapper': 9, 'dictate': 9, 'landau': 9, 'herring': 9, 'exalts': 9, 'songanddanceman': 9, 'harshness': 9, 'censure': 9, 'mankind': 9, 'ins': 9, 'manhunter': 9, 'dramacharacter': 9, 'raving': 9, 'horroraction': 9, 'drawbacks': 9, 'masturbation': 9, 'hare': 9, 'plex': 9, 'skippable': 9, 'prominence': 9, 'praiseworthy': 9, 'facades': 9, 'laughfree': 9, 'underdeveloped': 9, 'screwing': 9, 'funnybone': 9, 'revelled': 9, 'sweaty': 9, 'grub': 9, 'ideally': 9, 'tomatoes': 9, 'scented': 9, 'jumpinyourseat': 9, 'thud': 9, 'lateinning': 9, 'blacken': 9, 'tommy': 9, 'moldering': 9, 'frayed': 9, 'silentmovie': 9, 'beause': 9, 'nurtured': 9, 'plasma': 9, 'conduits': 9, 'unsung': 9, 'hatinhand': 9, 'imitative': 9, 'derisions': 9, 'jacobi': 9, 'yawnprovoking': 9, 'myer': 9, 'parmentier': 9, 'blingbling': 9, 'cheapening': 9, 'stocked': 9, 'transparency': 9, 'minimally': 9, 'commune': 9, 'standardized': 9, 'affect': 9, 'ken': 9, 'ailments': 9, 'robustness': 9, 'influential': 9, 'savaged': 9, 'embellishment': 9, 'wellrealized': 9, 'participant': 9, 'adhere': 9, 'invulnerable': 9, 'kidvid': 9, 'trivializing': 9, 'belovedmajor': 9, 'mika': 9, 'mosque': 9, 'foo': 9, 'yung': 9, 'verisimilitude': 9, 'flops': 9, 'slot': 9, 'sanders': 9, 'sixthgrade': 9, 'height': 9, 'caviezel': 9, 'ia': 9, 'articulates': 9, 'deemed': 9, 'resumes': 9, 'genesis': 9, 'painstaking': 9, 'tickled': 9, 'comin': 9, 'nondisney': 9, 'messagemongering': 9, 'moralism': 9, 'seeping': 9, 'informs': 9, 'dimming': 9, 'selfdetermination': 9, 'doover': 9, '1962': 9, 'lackofattention': 9, 'distinguishing': 9, 'copenhagen': 9, 'legion': 9, 'cantet': 9, 'principled': 9, 'reference': 9, 'hardwon': 9, 'teenaged': 9, 'jived': 9, 'flynn': 9, 'divertissement': 9, 'fauxurban': 9, 'skidding': 9, 'nonconformity': 9, 'hibiscus': 9, 'shoestring': 9, 'triplecrosses': 9, 'flibbertigibbet': 9, 'propelled': 9, 'cooker': 9, 'horrified': 9, 'jerusalem': 9, 'humidity': 9, 'cameopacked': 9, 'i2spoofing': 9, 'archly': 9, 'muscles': 9, 'crudeness': 9, 'unchanged': 9, 'decipherable': 9, 'certified': 9, 'fromtelevision': 9, 'lawn': 9, 'slopped': 9, 'handdrawn': 9, 'macdonald': 9, 'disinterest': 9, 'idol': 9, 'marylouise': 9, 'overuse': 9, 'skateboarder': 9, 'rider': 9, 'liner': 9, 'venus': 9, 'prolific': 9, 'misty': 9, 'avid': 9, 'rhapsodic': 9, 'decommissioned': 9, 'churns': 9, 'fuels': 9, 'garage': 9, 'sale': 9, 'emilie': 9, 'mumbojumbo': 9, 'cortez': 9, 'liyan': 9, 'biblestudy': 9, 'yield': 9, 'shiver': 9, 'holistic': 9, 'recreate': 9, 'pixilated': 9, 'shimizu': 9, 'practitioners': 9, 'impressionable': 9, 'retrieve': 9, 'plumbing': 9, 'sydney': 9, 'harbour': 9, 'stablefull': 9, 'aew': 9, 'fusion': 9, 'yuen': 9, 'representation': 9, 'worldlywise': 9, 'forty': 9, 'raimondi': 9, 'reassuringly': 9, 'mishandled': 9, 'seated': 9, 'puppies': 9, 'flck': 9, 'whacking': 9, 'showstoppingly': 9, 'critically': 9, 'titans': 9, 'reopens': 9, 'bedfellows': 9, 'compatible': 9, 'movieesque': 9, 'sensationalize': 9, 'inchoate': 9, 'eldritch': 9, 'uncertainty': 9, 'principle': 9, 'witlessness': 9, 'criminals': 9, 'openhearted': 9, 'bespeaks': 9, 'standoff': 9, 'worried': 9, 'deleting': 9, 'prozac': 9, 'unimpressively': 9, 'under7': 9, 'malleable': 9, 'slew': 9, 'flinch': 9, 'establish': 9, 'unflattering': 9, 'comparisons': 9, 'romanced': 9, 'unexplained': 9, 'tweener': 9, 'selfmutilation': 9, 'nosedive': 9, 'cheeks': 9, 'egypt': 9, 'egodestroying': 9, 'cautions': 9, 'vocalized': 9, 'springbreak': 9, 'scorchingly': 9, 'separates': 9, 'unclean': 9, 'martinet': 9, 'taunt': 9, 'physician': 9, 'pellmell': 9, 'welltimed': 9, 'cared': 9, 'genrebusting': 9, 'aloft': 9, 'patting': 9, 'makeupdeep': 9, 'evenhandedness': 9, 'captors': 9, 'captives': 9, 'dug': 9, 'busby': 9, 'inanities': 9, 'flickknife': 9, 'diction': 9, 'indefinitely': 9, 'ganginfested': 9, 'servicable': 9, 'wideranging': 9, 'canning': 9, 'dithering': 9, 'uncommercial': 9, 'minty': 9, 'hooker': 9, 'hogan': 9, 'bollyholly': 9, 'mixand': 9, 'overt': 9, 'beta': 9, 'artifact': 9, 'arena': 9, 'twoactor': 9, '82': 9, 'fatality': 9, 'fictionalize': 9, 'magically': 9, 'relaxing': 9, 'snapcrackle': 9, 'sings': 9, 'dropdead': 9, 'overcook': 9, 'packs': 9, 'trivial': 9, 'cashin': 9, 'narcotizing': 9, 'heaviness': 9, 'synchronized': 9, 'swimmer': 9, 'wool': 9, 'wetsuit': 9, 'reads': 9, 'malice': 9, 'mullinski': 9, 'unobtrusively': 9, 'actionfilled': 9, 'crystalline': 9, 'rhyme': 9, 'turnabout': 9, 'arquette': 9, 'astoria': 9, 'kurosawa': 9, 'savagery': 9, 'bumping': 9, 'gallagher': 9, 'diverted': 9, 'superlarge': 9, 'fueling': 9, 'wannabes': 9, 'twolane': 9, 'sleepy': 9, 'luminary': 9, 'gauls': 9, 'metaphorically': 9, 'minutebyminute': 9, 'desplechin': 9, 'cigarette': 9, 'eyeballtoeyeball': 9, '1967': 9, 'substancefree': 9, '33yearold': 9, 'fullthroated': 9, 'admired': 9, 'dabbling': 9, 'dankworth': 9, 'thinner': 9, 'headlines': 9, 'strides': 9, 'fishes': 9, 'patronized': 9, 'cameron': 9, 'overplay': 9, 'ross': 9, 'shallowly': 9, 'parkawrapped': 9, 'fireball': 9, 'gambol': 9, 'fluidly': 9, 'discontented': 9, 'contrary': 9, 'scenestealing': 9, 'chancellor': 9, 'swashbuckler': 9, 'dives': 9, 'nakedness': 9, 'communion': 9, 'wafer': 9, 'migraineinducing': 9, 'glue': 9, 'unsurpassed': 9, 'mohawk': 9, 'firered': 9, 'parodies': 9, 'diffuses': 9, 'watson': 9, 'preschool': 9, 'cleveland': 9, 'sites': 9, 'bluntly': 9, 'offthecuff': 9, 'selfappointed': 9, 'guardians': 9, 'hauntedhouse': 9, 'savviest': 9, 'hogwarts': 9, 'foreboding': 9, 'carion': 9, 'undoubted': 9, 'questing': 9, 'deepen': 9, 'breast': 9, 'trendhoppy': 9, 'accorsi': 9, 'hawkstyle': 9, 'eastereggcolored': 9, 'segues': 9, 'slashers': 9, 'chef': 9, 'punladen': 9, 'blundering': 9, 'tearyeyed': 9, 'bonbon': 9, '10inch': 9, 'collections': 9, 'indicated': 9, 'heather': 9, 'mcgowan': 9, 'robbery': 9, 'nonbeliever': 9, 'antihollywood': 9, 'inthering': 9, 'matchup': 9, 'chickflick': 9, 'divining': 9, 'winceinducing': 9, 'vietnameseborn': 9, 'quietness': 9, 'prewarned': 9, 'fearreducing': 9, 'insensitive': 9, 'originated': 9, 'sorimachi': 9, 'pinch': 9, 'preparation': 9, 'xfl': 9, 'mirthless': 9, 'arkin': 9, 'middles': 9, 'spurts': 9, 'relax': 9, 'tantalizing': 9, 'belushi': 9, 'likableness': 9, 'landings': 9, 'costumey': 9, 'silberstein': 9, 'footdragging': 9, 'oversize': 9, 'obsessivecompulsive': 9, 'brine': 9, 'toasts': 9, 'postcolonialist': 9, 'deconstruct': 9, 'brushup': 9, 'obtuse': 9, 'frights': 9, 'glacierpaced': 9, 'fullblown': 9, 'jarvis': 9, 'lent': 9, 'praised': 9, 'thinnest': 9, 'flava': 9, 'proportion': 9, 'pawns': 9, 'calcified': 9, 'fraught': 9, 'magnet': 9, 'oneshot': 9, 'narcotics': 9, 'nonshakespeare': 9, 'softest': 9, 'revolt': 9, 'giggleinducing': 9, 'oscarwinners': 9, 'bummer': 9, 'desmond': 9, 'eagles': 9, 'drivethru': 9, 'uberviolence': 9, 'halfadozen': 9, 'cheating': 9, 'temerity': 9, 'winding': 9, 'shadings': 9, 'operatofilm': 9, 'heaving': 9, 'installation': 9, 'scuzbag': 9, 'wellestablished': 9, 'appease': 9, 'flaunting': 9, 'preconceived': 9, 'apprehension': 9, 'hypercliched': 9, 'gnat': 9, 'madlibs': 9, 'wwiiera': 9, 'unmoved': 9, 'fictitious': 9, 'hooters': 9, 'gymnast': 9, 'conflictpowered': 9, 'sockyouintheeye': 9, 'psyches': 9, 'oneill': 9, 'relentlessness': 9, 'regan': 9, 'shards': 9, 'clichedrenched': 9, '1955': 9, 'tvstyle': 9, 'comicstrip': 9, 'interlocking': 9, 'scandinavian': 9, 'offends': 9, 'forgetting': 9, 'objectionable': 9, 'soulkilling': 9, 'bedouins': 9, 'eyeopening': 9, 'hittomiss': 9, 'lethal': 9, 'elmer': 9, 'revolve': 9, 'ted': 9, 'justification': 9, 'startlingly': 9, 'britches': 9, 'lauded': 9, 'junkfood': 9, 'bared': 9, 'crawled': 9, 'repulsively': 9, 'herd': 9, 'vertigo': 9, 'recapturing': 9, 'chevy': 9, 'semihumorous': 9, 'perpetrators': 9, 'looseygoosey': 9, 'stalkandslash': 9, 'cried': 9, 'martinez': 9, 'warthog': 9, 'sarcastic': 9, 'shield': 9, 'fountainheads': 9, 'categorisation': 9, 'patterns': 9, 'ideals': 9, 'horsdoeuvre': 9, 'phi': 9, 'rehashing': 9, 'latrine': 9, 'callie': 9, 'cedric': 9, 'ushers': 9, 'unloading': 9, 'malediction': 9, 'drenchedinthe': 9, 'dislike': 9, 'zealous': 9, 'dunce': 9, 'investigating': 9, 'shamu': 9, 'radcliffe': 9, 'withering': 9, 'noodle': 9, 'larceny': 9, 'pauses': 9, 'purported': 9, 'transfer': 9, 'retrospect': 9, 'spycraft': 9, 'sounded': 9, 'barbecue': 9, 'mirror': 9, 'schooling': 9, 'trolls': 9, 'mothbally': 9, 'seine': 9, 'connoisseur': 9, 'chipper': 9, 'writerdirectorproducer': 9, 'hoops': 9, 'humanitarian': 9, 'laying': 9, 'molony': 9, 'prankish': 9, 'kaleidoscope': 9, 'sandal': 9, 'staple': 9, 'dizzily': 8, 'mainland': 8, 'boilerplate': 8, 'reigen': 8, 'unnamed': 8, 'tartakovsky': 8, 'horton': 8, 'bulk': 8, 'monsterous': 8, 'attracts': 8, 'unprepared': 8, 'devos': 8, 'evanescent': 8, 'consoled': 8, 'pulpiness': 8, 'instrument': 8, 'confrontations': 8, 'bagatelle': 8, 'truest': 8, 'outnumber': 8, 'threetoone': 8, 'capped': 8, 'parapsychological': 8, 'phenomena': 8, 'antifeminist': 8, 'outpaces': 8, 'squeezed': 8, 'thenight': 8, 'dungpile': 8, 'warmest': 8, 'selfrevealing': 8, 'undertaking': 8, 'rawnerved': 8, 'galan': 8, 'resurrect': 8, 'snazzy': 8, 'einstein': 8, 'tubaplaying': 8, 'dwarf': 8, 'unsteady': 8, 'actioners': 8, 'fatherandson': 8, 'degrading': 8, 'humanist': 8, 'harvests': 8, 'groupiescholar': 8, 'miscellaneous': 8, 'bohos': 8, 'sniffle': 8, 'otar': 8, 'hubristic': 8, 'toughman': 8, 'slashfest': 8, 'finishes': 8, 'smoothed': 8, 'stacks': 8, 'forming': 8, 'phantasms': 8, 'contours': 8, 'talked': 8, 'fret': 8, 'collie': 8, 'willie': 8, 'longley': 8, 'surveyed': 8, 'pranksters': 8, 'panamerican': 8, 'andrei': 8, 'distill': 8, 'dwell': 8, 'raccoons': 8, 'foursome': 8, 'superdooperadorability': 8, 'abound': 8, 'bai': 8, 'squirts': 8, 'lax': 8, 'sitcomishly': 8, 'stereotype': 8, 'cashing': 8, 'hushed': 8, 'rumblings': 8, 'resoundingly': 8, 'senseless': 8, 'pros': 8, 'insufferably': 8, 'hippopotamus': 8, 'ballerina': 8, 'submerging': 8, 'tyco': 8, 'unadulterated': 8, 'react': 8, 'hardtoswallow': 8, 'elect': 8, 'tides': 8, 'neurosis': 8, 'twinkling': 8, 'drinking': 8, 'stacy': 8, 'verdu': 8, 'demonstrated': 8, 'resents': 8, 'contentedly': 8, 'stench': 8, 'addicted': 8, 'smallscale': 8, 'methodically': 8, 'sags': 8, 'fairlane': 8, 'barbarian': 8, 'rodrigues': 8, 'abridged': 8, 'trinity': 8, 'cynic': 8, 'inclusiveness': 8, 'singers': 8, 'launching': 8, 'pad': 8, 'infatuation': 8, 'ahem': 8, 'reporters': 8, '168minute': 8, 'convolution': 8, 'wretchedly': 8, 'wellpaced': 8, 'pokemania': 8, 'stortelling': 8, 'adamant': 8, 'warmblooded': 8, 'disgrace': 8, 'dependable': 8, 'manifestation': 8, 'institutionalized': 8, 'slavery': 8, 'allaround': 8, 'scar': 8, 'masterpieces': 8, 'suspenser': 8, 'sunny': 8, 'disposition': 8, 'nietzschereferencing': 8, 'nadir': 8, 'geneva': 8, 'cellophanepop': 8, 'imogen': 8, 'kimmel': 8, 'cuttingroom': 8, 'honors': 8, 'amassed': 8, 'mopes': 8, 'mafia': 8, 'assignment': 8, 'backwater': 8, 'piss': 8, 'energized': 8, 'bolado': 8, 'hardedged': 8, 'streetsmart': 8, 'mitchell': 8, 'motorcycles': 8, 'coriat': 8, 'prone': 8, 'disassociation': 8, 'ticks': 8, 'whiffleball': 8, 'flee': 8, 'holofcenter': 8, 'wellproduced': 8, 'pin': 8, 'maiden': 8, 'bruin': 8, 'sportsmovie': 8, 'fistfights': 8, 'slowmotion': 8, 'gulpilil': 8, 'compass': 8, 'highlighted': 8, 'dominant': 8, 'peopled': 8, 'parsing': 8, 'halfdimensional': 8, 'transported': 8, 'paradigm': 8, 'electrocute': 8, 'imitations': 8, 'dystopian': 8, 'normative': 8, 'shortness': 8, 'staggers': 8, 'twowrongsmakearight': 8, 'bottomofthebill': 8, 'standout': 8, 'glamorous': 8, 'autistic': 8, 'petite': 8, 'rez': 8, 'symbiotic': 8, 'banterfilled': 8, 'airy': 8, 'actorish': 8, 'notations': 8, 'splashy': 8, 'dunst': 8, 'smallness': 8, 'stripe': 8, 'ankledeep': 8, 'flowerpower': 8, 'conjuring': 8, 'teaming': 8, 'tacked': 8, 'prominently': 8, 'silverhaired': 8, 'hormonal': 8, 'lunar': 8, 'societal': 8, 'straddle': 8, 'twinklyeyed': 8, 'underscoring': 8, 'undertaken': 8, 'prescient': 8, 'swiftly': 8, 'cleancut': 8, 'resides': 8, 'lookin': 8, 'strangest': 8, 'regeneration': 8, 'grounding': 8, 'behaviour': 8, 'compulsive': 8, 'gooeyness': 8, 'fastballs': 8, 'assaultive': 8, 'internalized': 8, 'brats': 8, 's1m0ne': 8, 'titillating': 8, 'origin': 8, 'beallendall': 8, 'retaining': 8, 'painkillers': 8, 'viva': 8, 'dayold': 8, 'appetizing': 8, 'underutilized': 8, 'clearasil': 8, 'quickbuck': 8, 'wishful': 8, 'diatribes': 8, 'girlsbehavingbadly': 8, 'argot': 8, 'poking': 8, 'discussed': 8, 'slave': 8, 'toolong': 8, 'macbeth': 8, 'diss': 8, 'ingenue': 8, 'lounge': 8, 'seventyminute': 8, 'emailed': 8, 'refers': 8, 'rancorous': 8, 'plod': 8, '51st': 8, 'ripper': 8, 'unidimensional': 8, 'offcenter': 8, 'metro': 8, 'macho': 8, 'assert': 8, 'irreversible': 8, 'dishonorable': 8, 'sirk': 8, 'differently': 8, 'unhibited': 8, 'junkcalorie': 8, 'nerveraked': 8, 'leniency': 8, 'seduces': 8, 'fetching': 8, 'lighted': 8, 'brazillike': 8, 'versace': 8, 'deficit': 8, 'flimflam': 8, 'enactments': 8, 'evolving': 8, 'pearce': 8, 'champagne': 8, 'slaloming': 8, 'poopoo': 8, 'definitions': 8, 'fiji': 8, 'squirming': 8, 'nimble': 8, 'infuse': 8, 'debilitating': 8, 'aftermath': 8, 'schtick': 8, 'feminized': 8, 'woodland': 8, 'dispense': 8, 'woodard': 8, 'jams': 8, 'scriptwriters': 8, 'busts': 8, 'bitten': 8, 'cultureclash': 8, 'exhaustion': 8, 'chuckling': 8, 'rothman': 8, 'opting': 8, 'bettanymcdowell': 8, 'hardeyed': 8, 'arising': 8, 'suffocation': 8, 'swill': 8, 'paeans': 8, 'strolls': 8, 'preserving': 8, 'conrad': 8, 'neofascism': 8, 'enlightened': 8, 'extracting': 8, 'grandness': 8, 'girlish': 8, 'raptures': 8, 'dreamscape': 8, 'secondrate': 8, 'progresses': 8, 'gloom': 8, 'thunderous': 8, 'bemused': 8, 'orthodox': 8, 'compromising': 8, 'unshapely': 8, 'forefront': 8, 'decomposition': 8, 'reproduce': 8, 'selfcritical': 8, 'blazingly': 8, 'stillraw': 8, 'eroded': 8, 'reinvigorated': 8, 'suckers': 8, 'intolerant': 8, 'grizzled': 8, 'ruse': 8, 'tactic': 8, 'servitude': 8, 'egomaniac': 8, 'runofthefilth': 8, 'freshening': 8, 'intelligibility': 8, 'monologue': 8, 'compulsion': 8, 'zealously': 8, 'smorgasbord': 8, 'urinates': 8, 'snowball': 8, 'rekindle': 8, 'gedeck': 8, 'vary': 8, 'transcript': 8, 'truffaut': 8, 'grandiose': 8, 'fetishistic': 8, 'courtesy': 8, 'cornpone': 8, 'cosa': 8, 'nostra': 8, 'interfamily': 8, 'indignant': 8, 'airconditioning': 8, 'wrists': 8, 'folksy': 8, 'kudos': 8, 'lin': 8, 'tartly': 8, 'groaners': 8, 'everruminating': 8, 'accomodates': 8, 'practical': 8, 'ho': 8, 'pillowcases': 8, 'blazing': 8, 'sparking': 8, 'kafkaesque': 8, 'energizes': 8, 'fourteenyear': 8, 'gryffindor': 8, 'scarf': 8, 'buscemi': 8, 'travelagency': 8, '1970': 8, 'ohsohollywood': 8, 'rejiggering': 8, 'molina': 8, 'followers': 8, 'ricture': 8, 'oscarcaliber': 8, 'forgoes': 8, 'damsel': 8, 'reparations': 8, 'entwined': 8, 'intercut': 8, 'lacey': 8, 'preferable': 8, 'skeeved': 8, 'cattle': 8, 'resists': 8, 'occupational': 8, 'bellyaching': 8, '15th': 8, 'alcatraz': 8, 'truthtelling': 8, 'sascha': 8, 'couch': 8, 'derringdo': 8, 'frenchproduced': 8, 'lowerwit': 8, 'stabbing': 8, 'simpering': 8, 'vaporize': 8, 'edmund': 8, 'whereas': 8, 'starstudded': 8, 'everett': 8, 'firth': 8, 'kunis': 8, 'exhuming': 8, 'virtuosic': 8, 'aragorn': 8, 'wing': 8, 'castle': 8, 'sky': 8, 'beg': 8, 'skidrow': 8, 'moneyoriented': 8, 'zealanders': 8, 'periodpiece': 8, 'confection': 8, 'leroy': 8, 'zest': 8, 'studied': 8, 'rife': 8, 'sacre': 8, 'bleu': 8, 'quickcuts': 8, 'reeked': 8, 'goth': 8, 'jury': 8, 'honoring': 8, 'nearhypnotic': 8, 'bogging': 8, 'idiotically': 8, 'selfimage': 8, 'shawn': 8, 'headturner': 8, 'smothered': 8, 'reactive': 8, 'pithy': 8, 'wai': 8, 'billing': 8, 'americanized': 8, 'comparing': 8, 'categorize': 8, 'clive': 8, 'snoozer': 8, 'lovableloser': 8, 'serviceability': 8, 'surfaceobsession': 8, 'pallid': 8, 'baseballplaying': 8, 'monkey': 8, 'invitingly': 8, 'pathosfilled': 8, 'louts': 8, 'luke': 8, 'blake': 8, 'prepackaged': 8, 'eludes': 8, 'ving': 8, 'suge': 8, 'knight': 8, 'stunthungry': 8, 'dimwits': 8, 'showdon': 8, 'waltzed': 8, 'rocknrolling': 8, 'illumination': 8, 'returned': 8, 'machinery': 8, 'operas': 8, 'floyd': 8, 'anti': 8, 'clarkewilliams': 8, 'orson': 8, 'restage': 8, 'characterisations': 8, 'karim': 8, 'crawling': 8, 'windinthehair': 8, 'marker': 8, 'straightup': 8, '72': 8, 'slambang': 8, 'wildandwoolly': 8, 'dullwitted': 8, 'paycheck': 8, 'persistent': 8, 'nobility': 8, 'claus': 8, 'perfected': 8, 'burnt': 8, 'divided': 8, 'neurotics': 8, 'uglylooking': 8, 'expectant': 8, 'bug': 8, 'stifled': 8, 'ghandi': 8, 'illwrought': 8, 'hypothesis': 8, 'kubrick': 8, 'extremities': 8, 'hairpiece': 8, 'zen': 8, 'graveyard': 8, 'traffics': 8, 'encumbers': 8, 'meatier': 8, 'longlived': 8, 'matchmaking': 8, 'flavour': 8, 'foodforthought': 8, 'thandie': 8, 'moldyoldie': 8, 'trivialize': 8, 'wheezy': 8, 'guardian': 8, 'kibosh': 8, 'writes': 8, 'cafeteria': 8, 'goulash': 8, 'forwards': 8, 'hayseedsvs': 8, 'respecting': 8, 'ac': 8, 'boombox': 8, 'vegetables': 8, 'selfamused': 8, 'dismantle': 8, 'popped': 8, 'diamond': 8, 'euphemism': 8, 'mora': 8, 'cruelties': 8, '140': 8, 'spies': 8, 'deer': 8, 'implied': 8, 'notbeing': 8, 'libretto': 8, 'eternal': 8, 'puzzled': 8, 'groggy': 8, 'hollywoodized': 8, 'outwardly': 8, 'shallower': 8, 'refried': 8, 'bighearted': 8, 'watstein': 8, 'finishing': 8, 'sadists': 8, 'zerodimensional': 8, 'suckerpunch': 8, 'brainslappingly': 8, 'prevail': 8, 'engross': 8, 'provocations': 8, 'kindred': 8, 'triedandtrue': 8, 'remorse': 8, 'amiably': 8, 'itinerant': 8, 'hrs': 8, 'devaluation': 8, 'backlash': 8, 'oftencute': 8, 'flagwaving': 8, 'grouchy': 8, 'ayatollah': 8, 'dipped': 8, 'insouciance': 8, 'gravitational': 8, 'redundancies': 8, 'restoring': 8, 'pregnancy': 8, 'picaresque': 8, 'nosurprise': 8, 'guarantees': 8, 'dotted': 8, 'offended': 8, 'drawnout': 8, 'anomaly': 8, 'sketches': 8, 'neoaugustinian': 8, 'intellectuals': 8, 'riviera': 8, 'spree': 8, 'crusty': 8, 'assuredly': 8, 'repellantly': 8, 'inescapably': 8, 'contributions': 8, 'drawers': 8, 'finch': 8, 'margolo': 8, 'warlord': 8, 'souvlaki': 8, 'loop': 8, 'enabling': 8, 'haranguing': 8, 'ruffle': 8, 'concerning': 8, 'touchstone': 8, 'monosyllabic': 8, 'standupcomedy': 8, 'til': 8, 'multilayers': 8, 'largescale': 8, 'rick': 8, 'painless': 8, 'timekiller': 8, 'whiteknuckled': 8, 'spoken': 8, 'flood': 8, 'betters': 8, 'gesturing': 8, 'substituting': 8, 'confession': 8, 'sling': 8, 'doeeyed': 8, 'pre9': 8, '65yearold': 8, 'magician': 8, 'amorality': 8, 'pageantry': 8, 'evacuations': 8, 'nonetoofunny': 8, 'doctor': 8, 'snared': 8, 'hayao': 8, 'bv': 8, 'revoiced': 8, 'retard': 8, 'wideawake': 8, 'hottertwoyearsago': 8, 'cd': 8, 'expand': 8, 'unevenly': 8, 'lynchlike': 8, 'hoofing': 8, 'insinuating': 8, 'nonbelievers': 8, 'agreement': 8, 'romanticism': 8, 'consumerist': 8, 'wimps': 8, 'offscreen': 8, 'harmed': 8, 'empathize': 8, 'semimusical': 8, 'kidlets': 8, 'justifying': 8, 'cresting': 8, 'startled': 8, 'jose': 8, 'mileage': 8, 'gesture': 8, 'shameful': 8, 'welltold': 8, 'seizing': 8, 'adobo': 8, 'angling': 8, 'wince': 8, 'pyschological': 8, 'whopping': 8, 'scorcese': 8, 'concludes': 8, 'murray': 8, 'irreconcilable': 8, 'moron': 8, 'anarchy': 8, 'distressing': 8, 'cipherlike': 8, 'agnostic': 8, 'carnivore': 8, 'milked': 8, 'gurus': 8, 'verging': 8, 'giveandtake': 8, 'enliven': 8, 'deliberateness': 8, 'espoused': 8, 'jokey': 8, 'portent': 8, 'mornings': 8, 'unslick': 8, 'enhanced': 8, 'rambo': 8, 'meetsjohn': 8, 'warmmilk': 8, 'videogamebased': 8, 'soberly': 8, 'reported': 8, 'classify': 8, 'techniques': 8, 'fatherhood': 8, 'communicate': 8, 'wimmer': 8, 'thornberry': 8, 'represent': 8, 'venality': 8, 'magi': 8, 'relocated': 8, 'presses': 8, 'purgatory': 8, 'lds': 8, 'postwar': 8, 'instruct': 8, 'offal': 8, 'subjective': 8, 'bowwow': 8, 'granted': 8, 'temptations': 8, 'unleashed': 8, 'suppression': 8, 'melting': 8, 'romeo': 8, 'redux': 8, 'giggly': 8, 'cursing': 8, 'guru': 8, 'ravaging': 8, 'variant': 8, 'manchild': 8, 'weighted': 8, 'ascension': 8, 'ziyi': 8, 'trump': 8, 'advanced': 8, 'gambling': 8, 'bolstered': 8, 'badboy': 8, 'trumpedup': 8, 'papa': 8, 'bedevilling': 8, 'affectingly': 8, 'imperious': 8, 'backbone': 8, 'renewal': 8, 'skilfully': 8, 'winged': 8, 'assailants': 8, 'tormentor': 8, 'capitalism': 8, 'slain': 8, 'crudities': 8, 'crawls': 8, 'throbbing': 8, 'propensity': 8, 'zoolander': 8, 'cirulnick': 8, 'thulani': 8, 'scenechewing': 8, 'augustine': 8, 'characterizes': 8, 'ragbag': 8, 'lulled': 8, 'teetering': 8, 'perpetually': 8, 'underworld': 8, 'repairing': 8, 'nurturing': 8, 'confirmation': 8, 'incurious': 8, 'defoliation': 8, 'roisterous': 8, 'illstarred': 8, 'trifles': 8, 'classism': 8, 'gladhanding': 8, 'strafings': 8, 'exwife': 8, 'dazzlingly': 8, 'crock': 8, 'outraged': 8, '13yearold': 8, 'quench': 8, 'arguable': 8, 'signify': 8, 'pentecostal': 8, 'casually': 8, 'sharpens': 8, 'montias': 8, 'nikita': 8, 'discourages': 8, 'debases': 8, 'preshooting': 8, 'guidelines': 8, 'afforded': 8, 'compact': 8, 'showtunes': 8, 'poignance': 8, 'highfalutin': 8, 'gangsta': 8, 'iv': 8, 'figuratively': 8, 'raft': 8, 'adjectives': 8, 'intelligible': 8, 'treatises': 8, 'demigod': 8, 'wellknown': 8, 'overromanticize': 8, 'atom': 8, 'akira': 8, 'theblanks': 8, 'slumber': 8, 'bottomless': 8, 'touchyfeely': 8, 'mope': 8, 'permeate': 8, 'yanks': 8, 'brandishing': 8, 'bedevils': 8, 'melodramacharacter': 8, 'toetotoe': 8, 'cart': 8, 'inexperience': 8, 'breezily': 8, 'apolitical': 8, 'bloodless': 8, 'reviewing': 8, 'gooddeedbaddeed': 8, 'reversals': 8, 'rehearsal': 8, 'earnestly': 8, 'crimebusting': 8, 'manifestos': 8, 'multimillion': 8, 'artifacts': 8, 'thyself': 8, 'lipsynching': 8, 'platonic': 8, 'treacherous': 8, 'mate': 8, 'bobbed': 8, 'trailers': 8, 'agreeable': 8, 'timewasting': 8, 'outrunning': 8, 'deutchland': 8, '401': 8, 'stoke': 8, 'division': 8, 'progress': 8, 'resolute': 8, 'talkshow': 8, 'abusers': 8, 'tripleespresso': 8, 'slots': 8, 'latent': 8, 'sheet': 8, 'wellshot': 8, 'regurgitated': 8, 'spotting': 8, 'lavinia': 8, 'hippies': 8, 'creeped': 8, 'mistakenly': 8, 'wincingly': 8, 'wailing': 8, 'rationale': 8, 'consumeradvice': 8, 'twistandturn': 8, 'sadsack': 8, 'shticks': 8, 'glide': 8, 'rebecca': 8, 'romijnstamos': 8, 'whiplash': 8, 'steering': 8, 'jaundiced': 8, 'solved': 8, 'starsplashed': 8, 'reduction': 8, 'deceptive': 8, 'grimness': 8, '11yearold': 8, 'connecting': 8, 'surpassed': 8, 'grasped': 8, 'stimulation': 8, 'niels': 8, 'mueller': 8, 'itching': 8, 'clamor': 8, 'fastidiousness': 8, 'ellefsen': 8, 'frailties': 8, 'magnified': 8, 'ebb': 8, 'semicoherent': 8, 'doodle': 8, 'thriftshop': 8, 'putty': 8, 'provocation': 8, 'reps': 8, 'invade': 8, 'hamlet': 8, 'contests': 8, 'tartness': 8, 'philandering': 8, 'valedictory': 8, 'bargain': 8, 'tickle': 8, 'hearttugging': 8, 'bottles': 8, 'catastrophe': 8, 'supercool': 8, 'provocatively': 8, 'petin': 8, 'directress': 8, 'underwood': 8, 'minefield': 8, 'exhaust': 8, 'meeropol': 8, 'meltdown': 8, 'pigeonholeresisting': 8, 'meanspiritedness': 8, 'binds': 8, 'consciousnessraiser': 8, 'faintly': 8, 'opposing': 8, 'viewpoints': 8, 'donati': 8, 'candylike': 8, '25cent': 8, 'delibrately': 8, 'unapproachable': 8, 'racialissues': 8, 'posse': 8, 'coolidge': 8, 'teamwork': 8, 'dumbest': 8, 'tarted': 8, 'playas': 8, 'timehonored': 8, 'disquiet': 8, 'longdreaded': 8, 'embers': 8, 'nocturnal': 8, 'prettyboy': 8, 'laurels': 8, 'regrettably': 8, 'unessential': 8, 'startles': 8, 'affairs': 8, 'welldetailed': 8, 'surfergirl': 8, 'veiled': 8, 'juggle': 8, 'displaying': 8, 'instilling': 8, 'tis': 8, 'remainder': 8, 'louder': 8, 'resuscitation': 8, 'downing': 8, 'turfs': 8, '72minute': 8, 'tightening': 8, 'mocktarantino': 8, 'thirtyfive': 8, 'epichorror': 8, 'gosh': 8, 'uncontrolled': 8, 'badge': 8, 'schwartzman': 8, 'photograph': 8, 'rootlessness': 8, 'mucking': 8, 'glitches': 8, 'tugofwar': 8, 'facilitator': 8, 'unplundered': 8, 'caste': 8, 'allwiseguysallthetime': 8, 'logistical': 8, 'milestone': 8, 'dateflick': 8, 'personifies': 8, 'reserve': 8, 'yammering': 8, 'akasha': 8, 'dialedup': 8, 'closeup': 8, 'notquiteurban': 8, 'videogame': 8, 'outstealth': 8, '800page': 8, 'neardisaster': 8, 'shelved': 8, 'settlers': 8, 'additional': 8, 'israelis': 8, 'reliably': 8, 'sainthood': 8, 'miniscule': 8, 'sedentary': 8, 'immigrants': 8, 'farther': 8, 'oblivion': 8, 'infecting': 8, 'plying': 8, 'grains': 8, 'tended': 8, 'confirming': 8, 'fingernails': 8, 'instinctively': 8, 'illicit': 8, 'joaquin': 8, 'bacaasay': 8, 'opacity': 8, 'exhilaration': 8, 'viciously': 8, 'sidesplittingly': 8, 'piper': 8, 'perabo': 8, 'prophetic': 8, 'exacting': 8, 'metaphoric': 8, 'hardearned': 8, 'matteroffact': 8, 'stalk': 8, 'permanent': 8, 'sexreassignment': 8, 'vine': 8, 'valium': 8, 'mirth': 8, 'basted': 8, 'sameold': 8, 'spitting': 8, 'housekeeping': 8, 'rho': 8, 'flushed': 8, 'lowcal': 8, 'culminates': 8, 'duo': 8, 'gazes': 8, 'jakob': 8, 'quiver': 8, 'ineptitudes': 8, 'improvisations': 8, 'reductionist': 8, 'affronted': 8, 'secularists': 8, 'scent': 8, 'ikea': 8, 'anthropologically': 8, 'bassheavy': 8, 'constitutes': 8, 'canines': 8, 'resnick': 8, 'tapped': 8, 'naptime': 8, 'disconnected': 8, 'mysticism': 8, 'conanesque': 8, 'squandered': 8, 'emblematic': 8, 'magnificently': 8, 'crescendos': 8, 'paucity': 8, 'peptalk': 8, 'zombies': 8, 'silliest': 8, 'parisian': 8, 'selfinfatuated': 8, '1983': 8, 'creaking': 8, 'anatomy': 8, 'adapting': 8, 'pumps': 8, 'ethnography': 7, 'undergoing': 7, 'truecrime': 7, 'helljaunt': 7, 'tackled': 7, 'overeager': 7, 'reek': 7, 'rewrite': 7, 'skittish': 7, 'kendall': 7, 'nontechies': 7, 'ploughing': 7, 'fillm': 7, 'hobby': 7, 'tolstoy': 7, 'relays': 7, 'postcamp': 7, 'spirals': 7, 'beware': 7, 'duds': 7, 'boymeetsgirl': 7, 'lessismore': 7, 'obsessively': 7, 'flinging': 7, 'copyof': 7, 'pageturning': 7, 'burdened': 7, 'substantive': 7, 'concentrate': 7, 'scratches': 7, 'highlypraised': 7, 'celebrities': 7, 'quashed': 7, 'mistyeyed': 7, 'teardrenched': 7, 'quicksand': 7, 'snazziness': 7, '1972': 7, 'selfexpression': 7, 'handguns': 7, 'cheered': 7, '50million': 7, 'quintessential': 7, 'engorged': 7, 'slights': 7, 'formalism': 7, 'schmucks': 7, 'restless': 7, 'arbitrarily': 7, 'geographical': 7, 'nausea': 7, 'betterfocused': 7, 'sobadthey': 7, 'hashiguchi': 7, 'dalrymple': 7, 'squirminducing': 7, 'worker': 7, 'weimar': 7, 'republic': 7, 'hobnail': 7, 'impacts': 7, 'hyperrealistic': 7, 'chimney': 7, 'nonetoooriginal': 7, 'benevolent': 7, 'balk': 7, 'interpreting': 7, 'badder': 7, 'pretended': 7, 'recalling': 7, 'doa': 7, '120': 7, 'verse': 7, 'messagemovie': 7, 'freshsqueezed': 7, 'colosseum': 7, 'fruitful': 7, 'peels': 7, 'spat': 7, 'pryce': 7, 'thump': 7, 'domino': 7, 'fantasti': 7, 'handiwork': 7, 'heap': 7, 'urbane': 7, 'embody': 7, 'vanished': 7, 'undoing': 7, 'zoning': 7, 'ordinances': 7, 'presume': 7, 'preserves': 7, 'degenerating': 7, 'buzzobsessed': 7, 'antiadult': 7, 'massacres': 7, 'erupt': 7, 'crystallize': 7, '26yearold': 7, 'madeforhomevideo': 7, 'stranded': 7, 'resentful': 7, 'margot': 7, 'sendup': 7, 'anthropology': 7, 'largeformat': 7, 'tinged': 7, 'navel': 7, 'houseboat': 7, 'gates': 7, 'unwillingness': 7, 'answered': 7, 'ohsoimportant': 7, 'grandscale': 7, 'salvaged': 7, 'duly': 7, 'unbreakable': 7, 'plumbs': 7, 'willingly': 7, 'imaginary': 7, 'aesop': 7, 'imponderably': 7, 'ashamed': 7, 'numbness': 7, 'excellence': 7, 'spikes': 7, 'jazzplaying': 7, 'exterminator': 7, 'tufano': 7, 'surest': 7, 'drung': 7, 'unsatisfactorily': 7, 'pondering': 7, '34th': 7, 'commendable': 7, 'gratify': 7, 'laddish': 7, 'flimsier': 7, 'rubin': 7, 'marshaled': 7, 'wellconceived': 7, 'pseudorockvideo': 7, 'documentarylike': 7, 'delirious': 7, 'skateboards': 7, 'readings': 7, 'testing': 7, 'indignation': 7, 'susceptible': 7, 'justifies': 7, 'contradicts': 7, 'wellbehaved': 7, 'rediscovers': 7, 'cliffhanger': 7, 'texan': 7, 'graffiti': 7, 'unpleasantness': 7, 'overcomingobstacles': 7, 'stormy': 7, 'bounds': 7, 'adrenalized': 7, 'esteemed': 7, 'writeractor': 7, 'downhome': 7, 'tiein': 7, 'breach': 7, 'dictatormadman': 7, 'midwest': 7, 'giles': 7, 'nuttgens': 7, 'conspiratorial': 7, 'franz': 7, 'rigidly': 7, 'dismember': 7, 'coltish': 7, 'acrid': 7, 'instigator': 7, 'interfaith': 7, 'nonexploitive': 7, 'attributable': 7, 'ambitiously': 7, 'oscars': 7, 'peekaboo': 7, 'cone': 7, 'soaked': 7, 'drawling': 7, 'ineffective': 7, 'jiang': 7, 'squabbling': 7, 'porky': 7, 'frosting': 7, 'kirsten': 7, 'maids': 7, 'fatalism': 7, 'yahooing': 7, '72yearold': 7, 'slowed': 7, 'folktales': 7, 'dicaprio': 7, 'immune': 7, 'tornatore': 7, 'selfexploitation': 7, 'hyphenate': 7, 'dismal': 7, 'carousel': 7, 'thirdperson': 7, 'twinkie': 7, 'whoop': 7, 'schwentke': 7, 'dave': 7, 'hailed': 7, 'archetypal': 7, 'calculus': 7, 'icily': 7, 'dispel': 7, 'convenience': 7, 'slather': 7, 'moviespecific': 7, 'dreamy': 7, 'distracts': 7, 'serendipity': 7, 'juan': 7, 'boiled': 7, 'royally': 7, 'screwed': 7, 'entrepreneurial': 7, 'humiliated': 7, 'cardellini': 7, 'reams': 7, 'mapquest': 7, 'hotter': 7, 'condone': 7, 'lamentations': 7, 'truthinadvertising': 7, 'hounds': 7, 'baird': 7, 'mouthpieces': 7, 'headaches': 7, 'march': 7, 'humbling': 7, 'fulfills': 7, 'docudrama': 7, 'flourish': 7, 'prescribed': 7, 'rails': 7, 'fingering': 7, 'teenpop': 7, 'manipulating': 7, 'addiction': 7, 'apology': 7, 'nearimpossible': 7, 'stickiness': 7, 'tainted': 7, 'misunderstanding': 7, 'everlyn': 7, 'sampi': 7, 'starpower': 7, 'whoopeecushion': 7, 'dismissive': 7, 'vexing': 7, 'customarily': 7, 'orbit': 7, 'perfervid': 7, 'communitytherapy': 7, 'organize': 7, 'overdramatic': 7, 'borscht': 7, 'coordinated': 7, 'hijacks': 7, 'cowriters': 7, 'relied': 7, 'gobble': 7, 'burkinabe': 7, 'unstinting': 7, 'curio': 7, 'catalytic': 7, 'virulently': 7, 'scoob': 7, 'cimarron': 7, 'hos': 7, 'muck': 7, 'playstation': 7, 'oddcouple': 7, 'sniping': 7, 'freshman': 7, 'wobbly': 7, 'fleder': 7, 'activate': 7, 'luvvies': 7, 'curtsy': 7, 'hi': 7, 'roster': 7, 'olympia': 7, 'pandora': 7, '270': 7, 'predators': 7, 'hivaids': 7, 'earthy': 7, 'invaders': 7, 'superserious': 7, 'folds': 7, 'vivacious': 7, 'o2tank': 7, 'fillers': 7, 'smokers': 7, 'inflammatory': 7, 'winces': 7, 'clutches': 7, 'salvation': 7, 'odoriferous': 7, 'goforbroke': 7, 'clutch': 7, 'wispy': 7, 'clan': 7, 'savoca': 7, 'enthusiasms': 7, 'screwy': 7, 'populist': 7, 'fulfordwierzbicki': 7, 'betrayed': 7, 'devise': 7, 'verete': 7, 'gestalt': 7, 'spreading': 7, 'relish': 7, 'merges': 7, 'slickest': 7, 'naturalseeming': 7, 'wounding': 7, 'sorcerer': 7, 'unwavering': 7, 'tchaikovsky': 7, 'neurasthenic': 7, 'underdramatized': 7, 'villainess': 7, 'claustrophobia': 7, 'sooner': 7, 'subdues': 7, 'hardwood': 7, 'hotels': 7, 'reassures': 7, 'taught': 7, 'reportedly': 7, 'augmented': 7, 'ambiguities': 7, 'nobull': 7, 'surehanded': 7, 'tooextremefortv': 7, 'authenticate': 7, 'kumble': 7, 'bangthedrum': 7, 'unanswered': 7, 'wolfe': 7, 'romoli': 7, 'bonedry': 7, 'buoy': 7, 'privates': 7, 'balzac': 7, 'ut': 7, 'enchanted': 7, 'liberally': 7, '1986': 7, 'harlem': 7, 'repeating': 7, 'plunges': 7, 'astounds': 7, 'queasystomached': 7, 'bullseye': 7, 'translating': 7, 'sturges': 7, 'cloudy': 7, 'becalmed': 7, 'barbers': 7, 'hollywooditis': 7, 'illinformed': 7, 'floats': 7, 'monologues': 7, 'conjure': 7, 'cadavers': 7, 'propulsive': 7, 'exceptions': 7, 'pledge': 7, 'instalment': 7, 'stave': 7, 'princesses': 7, 'cheapshot': 7, 'indulgently': 7, 'mediumgrade': 7, 'plaintiveness': 7, 'springs': 7, 'veggie': 7, 'razzie': 7, 'sausage': 7, 'rollerblades': 7, 'mediaconstructed': 7, 'wazoo': 7, 'detractors': 7, 'highlander': 7, 'schticky': 7, 'sendak': 7, 'acknowledging': 7, 'whence': 7, 'tangents': 7, 'descriptions': 7, 'arwen': 7, 'cheats': 7, 'prayer': 7, 'hunky': 7, 'selecting': 7, 'contemptuous': 7, 'scrap': 7, 'spells': 7, 'trickery': 7, 'oversimplification': 7, 'straddles': 7, 'fathom': 7, 'redeemed': 7, 'uncoordinated': 7, 'vectors': 7, 'springing': 7, 'fratboy': 7, 'bowser': 7, 'unblinkingly': 7, 'temptingly': 7, 'kidpleasing': 7, 'engulfed': 7, 'acidity': 7, 'perceptiveness': 7, 'semithrowback': 7, 'reminiscence': 7, 'posey': 7, 'playfully': 7, 'eighth': 7, 'idiom': 7, '65minute': 7, 'mythologizing': 7, 'liana': 7, 'dognini': 7, 'selfstyled': 7, 'ie': 7, 'enthrall': 7, 'mpaa': 7, 'knitting': 7, 'needles': 7, 'cranked': 7, 'sobstory': 7, 'masterly': 7, 'bebop': 7, 'splatter': 7, 'diseaseoftheweek': 7, 'eighties': 7, 'overture': 7, 'conducted': 7, 'inspection': 7, 'acquires': 7, 'yeah': 7, 'riddle': 7, 'outselling': 7, 'nurses': 7, 'hithungry': 7, 'fourthrate': 7, 'reconciled': 7, 'thousandtimes': 7, 'slickly': 7, 'trend': 7, 'overdue': 7, 'instances': 7, 'schoolgirl': 7, 'bombshell': 7, 'intrigued': 7, 'geeked': 7, 'animaton': 7, '100year': 7, 'potemkin': 7, 'flux': 7, 'zoe': 7, 'twentyfirst': 7, 'duel': 7, 'latetwentysomethings': 7, 'natter': 7, 'obsessed': 7, 'evasive': 7, 'maggots': 7, 'communitycollege': 7, 'advertisement': 7, 'glosses': 7, 'profundities': 7, 'disquietingly': 7, 'stilettostomps': 7, 'zeroes': 7, 'adversity': 7, 'spookily': 7, 'juiceless': 7, 'merited': 7, 'snagged': 7, 'ze': 7, 'ton': 7, 'parrot': 7, 'collegespawned': 7, 'slowpaced': 7, 'trifling': 7, 'opposites': 7, 'creepycrawly': 7, 'startle': 7, 'affectionately': 7, 'distressingly': 7, 'abiding': 7, 'haute': 7, 'couture': 7, 'zombieland': 7, 'obstacle': 7, 'tipped': 7, 'uncouth': 7, 'inmates': 7, 'criticizes': 7, 'watereddown': 7, 'positives': 7, 'restore': 7, 'command': 7, 'mitch': 7, 'sappiness': 7, 'croze': 7, 'welltrod': 7, 'trudge': 7, 'annie': 7, 'hitlerstudy': 7, 'inventing': 7, 'investigation': 7, 'becker': 7, 'waycool': 7, 'boorish': 7, 'iheardajoke': 7, '53': 7, 'gauge': 7, 'riddles': 7, 'praying': 7, 'writerproducerdirector': 7, 'rancid': 7, 'stopandstart': 7, 'moviemovie': 7, 'jacqueline': 7, 'usher': 7, 'rekindles': 7, 'sydow': 7, 'outgag': 7, 'sinuously': 7, 'spacebased': 7, 'charly': 7, 'docile': 7, 'consistency': 7, 'nowheresville': 7, 'merchandisedtothemax': 7, 'corniness': 7, 'biodrama': 7, 'filmculture': 7, 'reinvents': 7, 'woodman': 7, 'cuba': 7, 'lending': 7, 'belong': 7, 'genes': 7, 'badlyrendered': 7, 'stern': 7, 'flexible': 7, 'revived': 7, 'glinting': 7, 'capricious': 7, 'compassionately': 7, 'goosebumps': 7, 'boosted': 7, 'characterwhoshall': 7, 'quixotic': 7, 'comedically': 7, 'grabs': 7, 'proserbian': 7, 'fisk': 7, 'patronising': 7, 'fuzziness': 7, 'collegiate': 7, 'deblois': 7, 'solipsistic': 7, 'revisionism': 7, 'fil': 7, 'meager': 7, 'reimagining': 7, '1930s': 7, 'whowroteshakespeare': 7, 'distinguishable': 7, 'simplify': 7, 'edged': 7, 'tome': 7, 'fugitive': 7, 'jaglomized': 7, 'annual': 7, 'imparting': 7, 'sociopathy': 7, 'comical': 7, 'proserb': 7, 'scaryfunny': 7, 'fantastically': 7, 'gayniche': 7, 'sorriest': 7, 'pyrocorrectly': 7, 'crashandbash': 7, '10course': 7, 'banquet': 7, 'gutclutching': 7, 'garnish': 7, 'frightful': 7, 'snaillike': 7, 'supplies': 7, 'rocawear': 7, 'untold': 7, 'carlito': 7, 'nanette': 7, 'unforgiven': 7, '22': 7, 'mindnumbing': 7, 'futility': 7, 'japanimator': 7, 'kahlories': 7, 'utilizing': 7, 'remade': 7, 'collegefriends': 7, 'glancing': 7, 'crooning': 7, 'monitor': 7, 'somnambulant': 7, 'accentuating': 7, 'antagonism': 7, 'insulted': 7, 'naturalness': 7, 'cousin': 7, '37minute': 7, 'grittily': 7, 'depictions': 7, 'captions': 7, 'seesawed': 7, 'mystique': 7, 'advances': 7, 'marveled': 7, 'recessive': 7, 'wildcard': 7, 'awash': 7, 'cooly': 7, 'spied': 7, 'halflit': 7, 'romero': 7, 'mein': 7, 'vicente': 7, 'aranda': 7, 'hagiographic': 7, 'wonderwhat': 7, 'doshas': 7, 'streaks': 7, 'trounce': 7, 'confining': 7, 'ministers': 7, 'psychiatrist': 7, 'desplat': 7, 'transfixes': 7, 'libidinous': 7, 'bohemian': 7, 'uproariously': 7, 'artconscious': 7, 'mortal': 7, 'katz': 7, 'rightly': 7, 'basedontruth': 7, 'slamdunk': 7, 'clinically': 7, 'unparalleled': 7, 'incidents': 7, 'looseness': 7, 'rustedout': 7, 'temperamental': 7, 'wedgie': 7, 'exemplify': 7, 'laced': 7, 'wane': 7, 'makin': 7, 'feelbad': 7, 'pursue': 7, 'crapulence': 7, 'infirmity': 7, 'scum': 7, 'receding': 7, 'fangoria': 7, 'subscriber': 7, 'cleanflicks': 7, 'romancenovel': 7, 'arkansas': 7, 'rover': 7, 'hourlong': 7, 'theloose': 7, 'graces': 7, 'derisive': 7, 'fixated': 7, 'scathingly': 7, 'irritates': 7, 'sportsmanship': 7, 'foundering': 7, 'mobius': 7, 'neeson': 7, 'capably': 7, 'render': 7, 'personable': 7, 'stakes': 7, 'affluence': 7, 'flog': 7, 'sillylooking': 7, 'morlocks': 7, 'decadesspanning': 7, 'tact': 7, 'rampantly': 7, 'gregory': 7, 'singercomposer': 7, 'contributes': 7, 'ennuihobbled': 7, 'suspending': 7, 'malls': 7, 'pitted': 7, 'coos': 7, 'beseechingly': 7, 'journalistically': 7, 'sleaziness': 7, 'elie': 7, 'disgracefully': 7, 'intimidated': 7, 'unhappiness': 7, 'curtain': 7, 'eroticized': 7, 'forges': 7, 'sisterly': 7, 'razorsided': 7, 'tuning': 7, 'gluing': 7, 'lasker': 7, 'byron': 7, 'moralcondundrum': 7, 'chicagobased': 7, 'gellar': 7, 'markedly': 7, 'inactive': 7, 'battery': 7, 'infantilized': 7, 'avert': 7, 'lifeembracing': 7, 'maladjusted': 7, 'outlet': 7, 'encountered': 7, 'hammers': 7, 'holidays': 7, 'relishes': 7, 'rockwell': 7, 'cyberhorror': 7, 'mosaic': 7, 'legends': 7, 'daydreaming': 7, 'steak': 7, 'trails': 7, 'inconsequentiality': 7, 'gifting': 7, 'viewings': 7, 'sats': 7, 'clutchy': 7, 'diatribe': 7, 'heaviest': 7, 'intuitively': 7, 'memoryasidentity': 7, 'obviation': 7, 'syncopated': 7, 'unforgivably': 7, 'pressurecooker': 7, 'breezes': 7, 'researchers': 7, 'sank': 7, 'underestimate': 7, 'vastness': 7, 'waradventure': 7, 'dissolves': 7, 'festive': 7, 'showoff': 7, 'higuchinsky': 7, 'reiterates': 7, 'singlemindedness': 7, 'spiders': 7, 'egyptian': 7, 'collageform': 7, 'sermonizing': 7, 'postbreakup': 7, 'happiest': 7, 'percolates': 7, 'retribution': 7, 'appraisal': 7, 'seacoast': 7, 'jazzes': 7, 'lightens': 7, 'pops': 7, 'blobby': 7, 'ponderously': 7, 'roadside': 7, 'cafes': 7, 'catandcat': 7, 'onboard': 7, 'quarters': 7, 'shambling': 7, 'irrevocably': 7, 'investing': 7, 'swing': 7, 'imprisonment': 7, 'tvtomovie': 7, 'interacting': 7, 'beaut': 7, 'alarmingly': 7, 'sunburn': 7, 'tenuous': 7, 'measurements': 7, 'majorly': 7, 'ribbon': 7, 'lyric': 7, 'sociohistopolitical': 7, 'pancakes': 7, 'ephemeral': 7, 'wading': 7, 'morphed': 7, 'soppy': 7, 'eisenberg': 7, 'vertiginous': 7, 'ambling': 7, 'siberian': 7, 'rekindled': 7, 'endofyear': 7, 'actioneffects': 7, 'manipulate': 7, 'preamble': 7, 'profiles': 7, 'oftenmined': 7, 'hose': 7, 'characterizing': 7, 'swallowing': 7, 'decrying': 7, 'onlyin': 7, 'suffices': 7, 'smartypants': 7, 'squalor': 7, 'ravaged': 7, 'tunnel': 7, 'puzzlement': 7, 'depressionera': 7, 'microcosm': 7, 'venues': 7, 'fiascoes': 7, 'official': 7, 'repression': 7, 'referencing': 7, 'arcana': 7, 'heartaffecting': 7, 'tastes': 7, 'smackdab': 7, 'faking': 7, 'enthuse': 7, 'andersson': 7, 'distancing': 7, 'oafish': 7, 'alzheimer': 7, 'ampedup': 7, 'brazil': 7, 'bythebooks': 7, 'toetapping': 7, 'springsteen': 7, 'asbury': 7, 'unedited': 7, 'edgeofyourseat': 7, 'venerable': 7, 'fatalist': 7, 'worldview': 7, 'matt': 7, 'prepubescent': 7, 'careworn': 7, '1873': 7, 'circularity': 7, 'composing': 7, 'craving': 7, '179minute': 7, 'devilishly': 7, 'tweak': 7, 'staleness': 7, 'chanting': 7, 'misperception': 7, 'prosthetic': 7, 'trekkie': 7, 'rouse': 7, 'greasiest': 7, '28k': 7, 'heartstopping': 7, '77minute': 7, 'hitmen': 7, 'patchouli': 7, 'oil': 7, 'whambam': 7, 'stiffupperlip': 7, 'laboriousness': 7, 'treasures': 7, 'hides': 7, 'cringeinducing': 7, 'oes': 7, 'valedictorian': 7, 'unindicted': 7, 'noblest': 7, 'daphne': 7, 'kickass': 7, 'amusingly': 7, 'environmentalism': 7, 'categorization': 7, 'weakened': 7, 'soaringly': 7, 'fishing': 7, 'ole': 7, 'danilo': 7, 'designs': 7, 'spinotti': 7, 'meatandpotatoes': 7, 'scatological': 7, 'tierney': 7, 'fading': 7, 'cinemaandself': 7, 'prizes': 7, 'middlebrow': 7, 'schlockfilled': 7, 'thrillernoir': 7, 'skinner': 7, 'warp': 7, 'prattle': 7, 'mismatched': 7, 'gollum': 7, 'massmarket': 7, 'extensively': 7, 'obliviousness': 7, 'gutbuster': 7, 'hedonist': 7, 'lavventura': 7, 'sandwiched': 7, 'loosens': 7, 'wagers': 7, 'slashdash': 7, 'pentacostal': 7, 'eyeopener': 7, 'goya': 7, 'pandered': 7, 'juxtapose': 7, 'dawdles': 7, 'amusebouche': 7, 'comedydeficient': 7, 'ponytail': 7, 'convict': 7, 'oatmeal': 7, 'betray': 7, 'plugged': 7, 'grapple': 7, 'delicacy': 7, 'depersonalization': 7, 'againcourage': 7, 'murdersuicide': 7, 'fandango': 7, 'buoys': 7, 'grittiest': 7, 'taxing': 7, 'bigoted': 7, 'latifah': 7, 'melodramatics': 7, 'clichebound': 7, 'marketplace': 7, 'savored': 7, 'tuna': 7, 'monstrously': 7, 'amateurishness': 7, 'juncture': 7, 'rosily': 7, 'technohorror': 7, 'clambake': 7, 'fancied': 7, 'gravitas': 7, 'hooey': 7, 'incarnated': 7, 'masondixon': 7, 'rivaling': 7, 'threeyearold': 7, 'somnolent': 7, 'mummified': 7, 'dreyfus': 7, 'crafts': 7, 'territories': 7, 'sitcomcute': 7, 'occasions': 7, 'bigotries': 7, 'theocracy': 7, 'petroni': 7, 'vim': 7, 'linda': 7, 'fiorentino': 7, 'jovovich': 7, 'sanctified': 7, 'nonreactionary': 7, 'testify': 7, 'inflection': 7, 'snazzylooking': 7, 'marisa': 7, 'tomei': 7, 'villians': 7, '18thcentury': 7, 'adore': 7, 'capsule': 7, 'levant': 7, 'skates': 7, 'djs': 7, 'snicker': 7, 'knowingly': 7, 'inexorable': 7, 'bleep': 7, 'underscores': 7, 'quasioriginal': 7, 'digit': 7, 'leavitt': 7, 'pussyass': 7, 'killerthrillers': 7, 'fetishized': 7, 'undiscovered': 7, 'howie': 7, 'allstars': 7, 'magnificence': 7, 'accelerated': 7, 'glint': 7, 'specials': 7, 'humping': 7, 'marrow': 7, 'elliptical': 7, 'flatbush': 7, 'bluechip': 7, 'sanded': 7, 'extols': 7, 'openendedness': 7, 'kappa': 7, 'underpinnings': 7, 'girlwoman': 7, '400': 7, 'drippiness': 7, 'arthritic': 7, 'slummy': 7, 'csokas': 7, 'technologyofthemoment': 7, 'impartiality': 7, 'sourness': 7, 'freshened': 7, 'suburbia': 7, 'lite': 7, 'booming': 7, 'hogs': 7, 'zigs': 7, 'indianamerican': 7, 'estate': 7, 'adherence': 7, 'pathologically': 7, 'beatcharged': 7, 'interwoven': 7, 'disneyfied': 7, 'wordplay': 7, 'awhile': 7, 'pta': 7, 'cheesiness': 7, 'syndrome': 7, 'filmic': 7, 'quizzical': 7, 'thorn': 7, 'afflicting': 7, 'breeziness': 7, 'adorned': 7, 'shapelessly': 7, 'gratifying': 7, 'seasons': 7, 'imminently': 7, 'congenital': 7, 'reilly': 7, 'fluctuating': 7, 'huggy': 7, 'koyaanisqatsi': 7, '1988': 7, 'contents': 7, 'gutterball': 7, 'ismail': 6, 'whitewash': 6, 'norris': 6, 'romantics': 6, 'fortunately': 6, 'driveby': 6, 'rot': 6, 'graced': 6, 'rainbow': 6, 'ridley': 6, 'rouses': 6, 'turpin': 6, 'nearfuture': 6, 'uncluttered': 6, 'creaturefeature': 6, '42': 6, 'depress': 6, 'pretentiousness': 6, 'latently': 6, 'omits': 6, 'thoughtless': 6, 'cuter': 6, 'bigbug': 6, 'coldblooded': 6, 'gratitude': 6, 'downplays': 6, 'unfairly': 6, 'thrilled': 6, 'ninetenths': 6, 'bypass': 6, 'fortify': 6, 'orientation': 6, 'paula': 6, 'ticktock': 6, 'pabulum': 6, 'exhibitionism': 6, 'bmws': 6, 'sanitised': 6, 'burlesque': 6, 'datenight': 6, 'lagaan': 6, 'shrapnel': 6, 'stayed': 6, 'displacement': 6, 'schrader': 6, 'roughage': 6, 'asiaphiles': 6, 'unpaid': 6, 'intern': 6, 'typed': 6, 'bentley': 6, 'respectively': 6, 'ledger': 6, 'uplift': 6, 'disapproval': 6, 'crematorium': 6, 'bungle': 6, 'lull': 6, 'wiel': 6, 'crushed': 6, 'cherished': 6, 'grumpy': 6, 'unrepentantly': 6, 'minac': 6, 'neonazism': 6, 'stevenon': 6, 'biscuit': 6, '1899': 6, 'trove': 6, 'shrewdly': 6, 'imagines': 6, 'doggie': 6, 'winks': 6, 'crave': 6, 'baremidriff': 6, 'gushing': 6, 'enact': 6, 'bless': 6, 'admiring': 6, 'standardissue': 6, 'chesterton': 6, 'trumpet': 6, 'enthusiastically': 6, 'anthropomorphic': 6, 'asked': 6, 'defuses': 6, 'vacuous': 6, 'fad': 6, 'welcomes': 6, 'subformulaic': 6, 'falcon': 6, 'amc': 6, 'trot': 6, 'misdirected': 6, 'depalma': 6, 'widen': 6, 'strictness': 6, 'systematically': 6, 'lately': 6, 'scalds': 6, 'casualties': 6, 'doubtful': 6, 'sentimentalist': 6, 'hoods': 6, 'georgianisraeli': 6, 'linklater': 6, 'barbs': 6, 'thumpingly': 6, 'allpowerful': 6, 'recognizably': 6, 'establishing': 6, 'revision': 6, 'talkiness': 6, 'selfdefeatingly': 6, 'decorous': 6, 'grabowsky': 6, 'naught': 6, 'qutting': 6, 'frittered': 6, 'observer': 6, 'fencing': 6, 'revolting': 6, 'wellcontructed': 6, 'unpleasantly': 6, 'dimensional': 6, 'israelipalestinian': 6, 'infectiously': 6, 'temporal': 6, 'compelled': 6, 'blush': 6, 'underplays': 6, 'zingerfilled': 6, 'inauspicious': 6, 'botching': 6, 'fleetfooted': 6, 'narcissists': 6, 'affections': 6, 'unreachable': 6, 'counterproductive': 6, 'uk': 6, 'whimsicality': 6, 'dolorous': 6, 'redemptive': 6, 'gatorbashing': 6, 'mounts': 6, '23': 6, 'teengang': 6, 'opulent': 6, 'lushness': 6, 'cello': 6, 'snuck': 6, 'useful': 6, 'fetishism': 6, 'thou': 6, 'careerdefining': 6, 'spawn': 6, 'colleagues': 6, 'teams': 6, 'beyondlame': 6, 'teddy': 6, 'selfpossessed': 6, 'fanatic': 6, 'chaykin': 6, 'diciness': 6, 'colonics': 6, 'ads': 6, 'actordirector': 6, 'emphatic': 6, 'subsided': 6, 'kubrickmeetsspielberg': 6, 'bode': 6, 'payoffs': 6, 'assesses': 6, 'abused': 6, 'usurp': 6, 'naomi': 6, 'longrunning': 6, 'sofia': 6, 'topping': 6, 'pokey': 6, 'jostles': 6, 'reassess': 6, 'galled': 6, 'dench': 6, 'degrades': 6, 'selfinflicted': 6, 'staggering': 6, 'bertrand': 6, 'oftbrilliant': 6, 'whet': 6, 'homages': 6, 'weirder': 6, 'neohitchcockianism': 6, 'chabrolian': 6, 'preposterously': 6, 'gangmember': 6, 'mit': 6, 'prehistoric': 6, 'anton': 6, 'rash': 6, 'ransacks': 6, 'ourside': 6, 'retrograde': 6, 'toospectacular': 6, 'coastal': 6, 'jangle': 6, 'bodacious': 6, 'blending': 6, 'disoriented': 6, 'offset': 6, 'hustling': 6, 'uncommitted': 6, 'unaccountable': 6, 'cutter': 6, 'ryder': 6, 'mindbending': 6, 'boldface': 6, 'residences': 6, 'requirement': 6, 'clocked': 6, 'hades': 6, 'intractable': 6, 'stylefree': 6, 'postseptember': 6, 'moviebiz': 6, 'hymn': 6, 'icky': 6, 'enlightenment': 6, 'entree': 6, 'baaaaaaaaad': 6, 'heartland': 6, 'cosbyseinfeld': 6, 'putters': 6, 'reshaping': 6, 'hem': 6, 'strikingly': 6, 'devious': 6, 'handicap': 6, 'whiney': 6, 'motorized': 6, 'bardem': 6, 'flurries': 6, 'beastwithin': 6, 'deliriously': 6, 'sinise': 6, 'grated': 6, 'hugescreen': 6, 'sissako': 6, 'bazadona': 6, 'assures': 6, 'goodies': 6, 'lumps': 6, 'qual': 6, 'garish': 6, 'restate': 6, 'berlin': 6, 'calibre': 6, 'scuttled': 6, 'shag': 6, 'fizzability': 6, '810': 6, 'insideshowbiz': 6, 'digested': 6, 'sulking': 6, 'bombards': 6, 'hardcore': 6, 'vagina': 6, 'pt': 6, 'teenoriented': 6, 'snooze': 6, 'downplaying': 6, 'uncool': 6, 'senseofhumour': 6, 'genderbending': 6, 'schultz': 6, 'contagious': 6, 'riding': 6, 'horrifyingly': 6, 'recorded': 6, 'portugal': 6, 'headlinefresh': 6, 'kalesniko': 6, 'zips': 6, 'juxtapositions': 6, 'nonjudgmentally': 6, 'infinite': 6, 'mandy': 6, 'wisebeyondheryears': 6, 'sometime': 6, '65': 6, 'midtolow': 6, 'deepsixed': 6, 'nada': 6, 'blighter': 6, 'whirlwind': 6, 'moustache': 6, 'togetherness': 6, 'mystification': 6, 'caved': 6, 'betting': 6, 'depicted': 6, 'thereafter': 6, 'policeoriented': 6, 'dryeyed': 6, 'moisture': 6, 'pierce': 6, 'topheavy': 6, 'wisecracker': 6, 'breheny': 6, 'lensing': 6, 'paramount': 6, 'imprint': 6, 'boyz': 6, 'friedman': 6, 'tools': 6, 'wonton': 6, 'sweettempered': 6, 'hallelujah': 6, 'irrigates': 6, 'leaner': 6, 'april': 6, 'quasiimprovised': 6, 'deploys': 6, 'prod': 6, 'undressed': 6, 'whipsmart': 6, 'bluffs': 6, 'complicate': 6, 'breakups': 6, 'cesspool': 6, 'pelosi': 6, 'deadeye': 6, 'prewwii': 6, 'prominent': 6, 'urbanity': 6, 'disintegrates': 6, 'sooooo': 6, 'frodo': 6, 'cuaron': 6, 'underway': 6, 'plumbed': 6, 'botches': 6, 'vies': 6, 'argentinean': 6, 'spiritually': 6, 'copious': 6, 'tooled': 6, 'sprawl': 6, 'eventoned': 6, 'ghastly': 6, 'eroticism': 6, 'congeniality': 6, 'snowandstuntwork': 6, 'upstaged': 6, 'bundling': 6, 'boreathon': 6, 'exmarine': 6, 'reclaiming': 6, 'mock': 6, 'uproar': 6, 'implicitly': 6, 'plotlines': 6, 'unsalvageability': 6, 'etched': 6, 'findings': 6, 'lynne': 6, 'threefold': 6, 'expansion': 6, 'socialeconomicurban': 6, 'stripmined': 6, '1997': 6, 'suffocate': 6, 'flakiness': 6, 'artwork': 6, 'hardest': 6, 'aboriginal': 6, 'enemies': 6, 'ooze': 6, 'grubbing': 6, 'tables': 6, '26': 6, 'actionandpopcorn': 6, 'elicited': 6, 'dwells': 6, 'evaded': 6, 'zigzag': 6, 'closeddoor': 6, 'hankypanky': 6, 'quintessentially': 6, 'curmudgeonly': 6, 'blondes': 6, 'sleepinducingly': 6, 'kidempowerment': 6, 'binging': 6, 'unafraid': 6, 'seedy': 6, 'rail': 6, 'acres': 6, 'bod': 6, 'postapocalyptic': 6, 'sc2': 6, 'remove': 6, 'wellmounted': 6, 'achival': 6, 'clumsiness': 6, 'unstable': 6, 'thinksitis': 6, 'materalism': 6, 'hookers': 6, 'notsosmall': 6, 'unintended': 6, 'outweigh': 6, 'molehill': 6, 'slc': 6, 'hollowness': 6, 'roussillon': 6, 'guiltless': 6, 'grumbling': 6, 'horde': 6, 'splatterfests': 6, 'granger': 6, 'overpowered': 6, 'logistically': 6, 'bailiwick': 6, 'egregiously': 6, 'affinity': 6, 'plimpton': 6, 'encyclopedia': 6, 'louiso': 6, 'heavyduty': 6, 'ropes': 6, 'jarecki': 6, 'gibney': 6, 'merrily': 6, 'ferment': 6, 'traveled': 6, 'fabulously': 6, 'dullingly': 6, 'geniality': 6, 'strut': 6, 'modicum': 6, 'selfpitying': 6, 'nanook': 6, 'wittier': 6, 'relieved': 6, 'cling': 6, 'revigorates': 6, 'inexpressible': 6, 'wewannour': 6, 'salacious': 6, 'remainnameless': 6, 'patent': 6, 'rogers': 6, 'vigorously': 6, 'voicesfromtheotherside': 6, 'inexpressive': 6, 'wreaks': 6, 'littleremembered': 6, 'flattened': 6, 'powder': 6, 'initiation': 6, 'rite': 6, 'signing': 6, 'pegged': 6, 'mending': 6, 'dependence': 6, 'russians': 6, 'dosage': 6, 'paranormal': 6, 'varies': 6, 'intolerance': 6, 'illequipped': 6, 'fearing': 6, 'skyscrapertrapeze': 6, 'flatfooted': 6, 'starship': 6, 'disadvantage': 6, 'inversion': 6, 'concubine': 6, 'jeong': 6, 'holmes': 6, 'blownout': 6, 'advocacy': 6, 'shlockmeister': 6, 'wrecks': 6, 'nurtures': 6, 'directorwriter': 6, 'residents': 6, 'formidable': 6, 'swirl': 6, 'guiltfree': 6, 'vulgarities': 6, 'lampoons': 6, 'stomachchurning': 6, 'shum': 6, 'bloodsplattering': 6, 'druginduced': 6, 'prostituted': 6, 'bolder': 6, 'sweatypalmed': 6, 'gulp': 6, 'rubberface': 6, 'colonialism': 6, 'teensleaze': 6, 'nonethnic': 6, 'stiflingly': 6, 'tantamount': 6, 'arise': 6, 'deathly': 6, 'skipped': 6, 'altered': 6, 'unlock': 6, 'outdoes': 6, 'foodspittingly': 6, 'mobility': 6, 'venturesome': 6, 'dabbles': 6, 'snapping': 6, 'fruition': 6, 'dodges': 6, 'reenacting': 6, 'dramaaction': 6, 'solemnly': 6, 'leanest': 6, 'schaefer': 6, 'allison': 6, 'identityseeking': 6, 'repetitively': 6, 'frankensteinmonster': 6, 'nightmares': 6, 'pretence': 6, 'baitandswitch': 6, 'excite': 6, 'corbett': 6, 'hideousness': 6, 'estela': 6, 'disrespected': 6, 'knucklehead': 6, 'byplay': 6, 'injected': 6, 'tiger': 6, 'discuss': 6, 'giovanni': 6, 'policeprocedural': 6, 'uninspiring': 6, 'aiming': 6, 'passive': 6, 'coldfish': 6, 'orc': 6, 'urukhai': 6, 'fearlessly': 6, 'undogmatic': 6, 'cases': 6, 'improbabilities': 6, 'uselessly': 6, 'moneygrubbing': 6, 'hoopla': 6, 'co': 6, 'softheaded': 6, 'agape': 6, 'punched': 6, 'brainer': 6, 'guiltsuffused': 6, 'schneidermeister': 6, 'modernizes': 6, 'optic': 6, 'slapped': 6, 'mesmerised': 6, 'beaches': 6, 'fuddled': 6, 'epiphanies': 6, 'pantomimesque': 6, 'sterotypes': 6, 'demonic': 6, 'infants': 6, 'oversexed': 6, 'variable': 6, 'caused': 6, '1991': 6, 'onenight': 6, 'medem': 6, 'splendidlooking': 6, 'shohei': 6, 'saddens': 6, 'invested': 6, 'join': 6, 'dispatching': 6, 'eee': 6, 'selfreflexive': 6, 'elliptically': 6, 'loops': 6, 'englishmen': 6, 'beattheclock': 6, 'plastered': 6, 'glance': 6, 'daunting': 6, '88': 6, 'brent': 6, 'hanley': 6, 'piecing': 6, 'trancenoir': 6, 'zeus': 6, 'renting': 6, '2day': 6, 'steinis': 6, 'catechism': 6, 'bleed': 6, 'katzenberg': 6, 'unrelieved': 6, 'regimented': 6, 'cassel': 6, 'sixtiesstyle': 6, 'automatic': 6, 'luther': 6, 'covered': 6, 'offseason': 6, 'shriveled': 6, 'floundering': 6, 'dissection': 6, 'periodperfect': 6, 'herrmann': 6, 'frenzied': 6, 'yearn': 6, 'halfformed': 6, 'partially': 6, 'rhythmic': 6, 'aquatic': 6, 'tissue': 6, 'yankee': 6, 'sequelitis': 6, 'taxes': 6, 'suffocated': 6, 'hovers': 6, 'lowering': 6, 'technosaturation': 6, 'selfregarding': 6, 'trips': 6, 'chunk': 6, 'marathon': 6, 'aborbing': 6, 'services': 6, 'yuks': 6, 'professes': 6, 'mimicking': 6, 'disintegration': 6, 'meanwhile': 6, 'dainty': 6, 'lagoon': 6, 'corkscrew': 6, 'overloads': 6, 'hackartist': 6, 'timetravel': 6, 'ecclesiastes': 6, 'feasting': 6, 'evidenced': 6, 'amongst': 6, 'broached': 6, 'visualized': 6, 'alchemy': 6, 'extraterrestrial': 6, 'corruscating': 6, 'dirk': 6, 'singlemindedly': 6, 'elliott': 6, 'fashions': 6, 'sterility': 6, 'rara': 6, 'avis': 6, 'translates': 6, 'portentheavy': 6, 'displayed': 6, 'reputations': 6, 'unquestionably': 6, 'swap': 6, 'childcentered': 6, 'bounties': 6, 'accounting': 6, 'unlistenable': 6, 'deconstructed': 6, 'gotta': 6, 'multidimensional': 6, 'challengehungry': 6, 'dramatist': 6, 'yacht': 6, 'mystifying': 6, 'leveling': 6, 'saldanha': 6, 'offsets': 6, 'stepford': 6, 'jackedup': 6, 'mangalike': 6, 'showed': 6, 'medal': 6, 'unsuspenseful': 6, 'predawn': 6, 'darn': 6, 'suspicion': 6, 'pietype': 6, 'portentous': 6, 'harnesses': 6, 'timevaulting': 6, 'tonedeaf': 6, '49yearold': 6, 'penis': 6, 'rigorous': 6, 'spates': 6, 'nauseatingly': 6, 'impersonating': 6, 'sexaswar': 6, 'audienceabuse': 6, 'movingly': 6, 'elmore': 6, 'mocking': 6, 'pointlessness': 6, 'gonetopot': 6, 'awardworthy': 6, 'slipper': 6, 'jackets': 6, 'kvetch': 6, 'goround': 6, 'dished': 6, 'skids': 6, 'iditarod': 6, 'lasts': 6, 'shuns': 6, 'han': 6, 'goodhumored': 6, 'bonehead': 6, 'preteens': 6, 'bishop': 6, 'semiimprovised': 6, 'overemphatic': 6, 'bluelightspecial': 6, '26episode': 6, 'glorifying': 6, 'consciousnessraising': 6, 'peterspiderman': 6, 'diminishes': 6, 'novice': 6, 'exhilarated': 6, 'beatrice': 6, 'psychoanalytical': 6, 'columnist': 6, 'flowed': 6, 'deposits': 6, 'willams': 6, 'ilya': 6, 'utmost': 6, 'capercomedy': 6, 'distended': 6, 'bizarrely': 6, 'dowse': 6, 'deli': 6, 'skolnick': 6, 'related': 6, 'overdose': 6, 'snorefest': 6, 'collectible': 6, 'mule': 6, 'congeals': 6, 'carrera': 6, 'slowtime': 6, 'repulsion': 6, 'quantum': 6, 'blurred': 6, 'razor': 6, 'lacerating': 6, 'newold': 6, 'currency': 6, 'kilner': 6, 'jm': 6, 'jettisons': 6, 'historians': 6, 'wifty': 6, 'messingabout': 6, 'dubbing': 6, 'charmingly': 6, 'overindulgence': 6, 'welloiled': 6, 'scenebyscene': 6, 'splashes': 6, 'lowdown': 6, 'pg13rated': 6, 'wilt': 6, 'devotes': 6, 'benefitted': 6, 'ponders': 6, 'connects': 6, 'intrinsically': 6, 'overtones': 6, 'deadcenter': 6, 'erase': 6, 'dexterous': 6, 'meetsnew': 6, 'mesh': 6, 'testimonials': 6, 'spellcasting': 6, 'risktakers': 6, 'israelioccupied': 6, 'lauren': 6, 'reserving': 6, 'notquitesuburban': 6, 'pr': 6, 'loathing': 6, 'modulated': 6, 'introduced': 6, 'showmanship': 6, 'myths': 6, 'treebeard': 6, 'exceed': 6, 'outings': 6, 'pausing': 6, 'buggy': 6, 'righton': 6, 'melding': 6, 'reflecting': 6, 'squeamish': 6, 'ratcatcher': 6, 'munchausenbyproxy': 6, 'mum': 6, 'gathers': 6, 'buildings': 6, 'meekly': 6, 'belated': 6, 'comforted': 6, 'funnygritty': 6, 'incarnates': 6, 'hemmingway': 6, 'orchestrate': 6, 'profat': 6, 'inkandpaint': 6, 'notgreat': 6, 'unpicked': 6, 'enrapturing': 6, 'clanging': 6, 'microwaves': 6, 'crosscuts': 6, 'passivity': 6, 'antidarwinian': 6, 'eavesdropping': 6, 'commonly': 6, '70': 6, 'reconfigured': 6, 'fictions': 6, 'peddled': 6, 'figurative': 6, 'portofcall': 6, 'unconnected': 6, 'disquisition': 6, 'contemplating': 6, 'experiencing': 6, 'lawyer': 6, 'labeling': 6, 'mating': 6, 'avoided': 6, 'frisky': 6, 'wilts': 6, 'deceivingly': 6, 'vinegar': 6, 'inventively': 6, 'coopted': 6, 'lessthanmagic': 6, 'downside': 6, 'pleases': 6, 'hinged': 6, 'jingles': 6, 'assistant': 6, 'powaqqatsi': 6, 'resonates': 6, 'clowns': 6, 'escapades': 5, 'bilingual': 5, 'preach': 5, 'exclusively': 5, 'giannini': 5, 'thuds': 5, 'spalding': 5, 'navigates': 5, 'sychowski': 5, 'charleston': 5, 'scouse': 5, 'armenians': 5, 'dwindles': 5, 'arch': 5, 'thinlyconceived': 5, 'sexploitation': 5, 'masquerading': 5, 'zaza': 5, 'spotty': 5, 'garth': 5, 'thanlikely': 5, 'longevity': 5, 'zip': 5, 'frontloaded': 5, 'shapely': 5, 'greta': 5, 'aussie': 5, 'oblivious': 5, 'stymied': 5, 'chateaus': 5, 'straightshooting': 5, 'larded': 5, 'glows': 5, 'hamstrung': 5, 'confrontational': 5, 'cahill': 5, 'hudson': 5, 'notsohot': 5, 'immersive': 5, 'headbanger': 5, 'dreaminess': 5, 'advert': 5, 'tactfully': 5, 'thievery': 5, 'voyeur': 5, 'juliet': 5, 'strident': 5, 'educate': 5, 'disconcertingly': 5, 'aversion': 5, 'thrillingly': 5, 'spoton': 5, 'endgame': 5, 'densest': 5, 'distillation': 5, 'constricted': 5, 'scotches': 5, 'respective': 5, 'invokes': 5, 'modeled': 5, 'salaries': 5, 'indulges': 5, 'uplifter': 5, 'skitcom': 5, 'deposited': 5, 'discursive': 5, 'exhilaratingly': 5, 'delete': 5, 'hobbled': 5, 'livewire': 5, 'lodge': 5, 'energizing': 5, 'charting': 5, 'katherine': 5, 'seriocomic': 5, 'virtual': 5, 'sleaze': 5, 'bookontape': 5, 'reflected': 5, 'indieflick': 5, 'semiautobiographical': 5, 'hyperartificiality': 5, 'grossest': 5, 'morphs': 5, 'competently': 5, 'enhancing': 5, 'artsploitation': 5, 'bloodbath': 5, 'riseandfall': 5, 'peevish': 5, 'oozes': 5, 'poky': 5, 'slowness': 5, 'bottomlessly': 5, 'moulds': 5, 'soulstirring': 5, 'choquart': 5, 'decentenough': 5, 'imbecilic': 5, 'carter': 5, 'fairies': 5, 'juiced': 5, 'pov': 5, 'fifties': 5, 'lagging': 5, '10th': 5, 'sepiatinted': 5, 'onesidedness': 5, 'joylessly': 5, 'nonbondish': 5, 'leers': 5, '75minute': 5, 'sample': 5, 'puppy': 5, 'fools': 5, 'impressionistic': 5, 'representing': 5, 'hereby': 5, 'edifying': 5, 'gushy': 5, 'desecrations': 5, 'headly': 5, 'irredeemably': 5, 'lucks': 5, 'suffice': 5, 'wordy': 5, 'wisp': 5, 'towering': 5, 'scripters': 5, 'emphasising': 5, 'closes': 5, 'shave': 5, 'um': 5, 'fades': 5, 'deranged': 5, 'tacks': 5, 'overload': 5, 'negated': 5, 'pseudophilosophic': 5, 'mingles': 5, 'adrien': 5, 'brody': 5, 'rodan': 5, 'helga': 5, 'methodical': 5, 'gaunt': 5, 'calculations': 5, 'gamely': 5, 'fiendish': 5, 'blethyn': 5, 'citizen': 5, 'masterpeice': 5, 'technosex': 5, 'fetid': 5, 'uglier': 5, 'antihuman': 5, 'graceland': 5, 'christine': 5, 'sylvie': 5, 'fosters': 5, 'stodgy': 5, 'telegraphs': 5, 'halle': 5, 'womanhood': 5, 'poutylipped': 5, 'poof': 5, 'unspeakably': 5, 'georgia': 5, 'samuel': 5, 'fullfrontal': 5, 'capitalizes': 5, 'stroked': 5, 'minorleague': 5, 'fueled': 5, 'tenderly': 5, 'stubborn': 5, 'andmiss': 5, 'radiates': 5, 'wanton': 5, 'slipperiness': 5, 'hjejle': 5, 'bugged': 5, 'handson': 5, 'kev': 5, 'stanzas': 5, 'ces': 5, 'powered': 5, 'flatman': 5, 'wades': 5, 'paymer': 5, 'modernized': 5, 'abderrahmane': 5, 'os': 5, 'spades': 5, 'diverges': 5, 'bolster': 5, 'darkaspitch': 5, 'stallion': 5, 'punitive': 5, 'attractions': 5, 'milking': 5, 'bo': 5, 'fuelled': 5, 'waged': 5, '75': 5, 'gunfest': 5, 'superstupid': 5, 'sparked': 5, 'shortage': 5, 'broca': 5, 'decisively': 5, 'gasps': 5, 'underwater': 5, 'pap': 5, 'talkinganimal': 5, 'comprise': 5, 'barebones': 5, 'brims': 5, 'blustery': 5, 'lusty': 5, 'carlen': 5, 'faulted': 5, 'clotted': 5, 'toofrosty': 5, 'paltrow': 5, 'untrained': 5, 'bastards': 5, 'governmental': 5, 'helpful': 5, 'senegalese': 5, 'lifesize': 5, 'reenactment': 5, 'showboating': 5, 'hiddenagenda': 5, 'russo': 5, 'britcom': 5, 'gymnastics': 5, 'paraphrase': 5, 'civilized': 5, 'christianthemed': 5, 'wellrounded': 5, 'dearly': 5, 'thoughtlessly': 5, 'overdone': 5, 'unconned': 5, 'simpler': 5, 'guises': 5, 'ouzo': 5, 'bedeviled': 5, 'lipstick': 5, 'components': 5, 'softly': 5, 'oeuvre': 5, 'strenuous': 5, 'clinch': 5, 'bugeye': 5, 'wellputtogether': 5, 'wail': 5, 'posits': 5, 'compositions': 5, 'underlined': 5, 'vote': 5, 'harps': 5, 'steadily': 5, 'hats': 5, 'disneystyle': 5, 'shimmeringly': 5, 'blarney': 5, 'iben': 5, 'hjelje': 5, 'reaffirms': 5, 'crossdressing': 5, 'lazily': 5, 'glumly': 5, 'bigbudgetallstar': 5, 'boxoffice': 5, 'stylishly': 5, 'tolerabletoadults': 5, 'psychodramatics': 5, 'applegate': 5, 'crazier': 5, 'situates': 5, 'iteration': 5, 'bitchy': 5, 'frolic': 5, 'oo': 5, 'josh': 5, 'giler': 5, 'visualizing': 5, 'ado': 5, 'sloughs': 5, 'deliberative': 5, 'lux': 5, 'pig': 5, 'limply': 5, 'ww': 5, 'histrionic': 5, 'pessimists': 5, 'unencouraging': 5, 'overfamiliarity': 5, 'nottoodistant': 5, 'wistfully': 5, 'miscalculations': 5, 'pollyana': 5, 'mccoist': 5, 'tov': 5, 'contain': 5, '45ths': 5, 'murderoncampus': 5, 'spawned': 5, 'affectationfree': 5, 'buffeted': 5, 'porthole': 5, 'whit': 5, 'deviously': 5, 'misbegotten': 5, 'dishes': 5, 'p': 5, 'cascade': 5, 'flashbulb': 5, 'mediterranean': 5, 'bluer': 5, 'biologically': 5, 'booty': 5, 'describing': 5, 'weaned': 5, 'dripping': 5, '99minute': 5, 'unlaughable': 5, 'uglyduckling': 5, 'envelops': 5, 'wending': 5, 'nearmasterpiece': 5, 'populating': 5, 'atafratparty': 5, 'impair': 5, 'niftiest': 5, 'notsodivine': 5, 'evoked': 5, 'deem': 5, 'vibrantly': 5, 'melts': 5, 'offputtingly': 5, 'cues': 5, 'peaked': 5, 'undiminished': 5, 'threering': 5, 'interact': 5, 'blinding': 5, 'persistence': 5, 'closetosolid': 5, 'overflows': 5, 'sontag': 5, 'entitled': 5, 'exhibits': 5, 'telenovela': 5, 'avalanches': 5, 'shimmers': 5, 'overrides': 5, 'innate': 5, 'sunsplashed': 5, 'whites': 5, 'tunis': 5, 'underwhelming': 5, 'tendentious': 5, 'intervention': 5, 'wattage': 5, 'commercials': 5, 'missteps': 5, 'shortstory': 5, 'hollywoodpredictable': 5, 'interfering': 5, 'dudsville': 5, 'broaches': 5, 'dislikable': 5, 'fuses': 5, 'alloverthemap': 5, 'eschews': 5, 'jaeeun': 5, 'shifty': 5, 'rapepayback': 5, 'satisfactorily': 5, 'highadrenaline': 5, 'expressly': 5, 'alreadyshallow': 5, 'incurably': 5, 'morgen': 5, 'unrequited': 5, 'steamboat': 5, 'fried': 5, 'bonanza': 5, 'ong': 5, 'roars': 5, 'mass': 5, 'audiencepleaser': 5, 'malnourished': 5, 'aground': 5, 'subpar': 5, 'indispensable': 5, 'directtovoid': 5, 'bledel': 5, 'miscalculates': 5, 'hundert': 5, 'desultory': 5, 'whistle': 5, 'extrusion': 5, 'aided': 5, 'muting': 5, 'touts': 5, 'piercingly': 5, 'photographic': 5, 'ame': 5, 'gidget': 5, 'beersoaked': 5, 'croatia': 5, 'meanest': 5, 'eddy': 5, 'tezuka': 5, 'knocks': 5, 'hmmmmm': 5, 'zzzzzzzzz': 5, 'possessed': 5, 'ugh': 5, 'violated': 5, 'forewarned': 5, 'beckons': 5, 'lingual': 5, 'judaism': 5, 'bickering': 5, 'scorcher': 5, 'completists': 5, 'mumbles': 5, '94minute': 5, 'belittle': 5, 'parlance': 5, 'losin': 5, 'stimulus': 5, 'oliveira': 5, 'tres': 5, 'nia': 5, 'heedless': 5, 'impetuousness': 5, 'troupe': 5, 'amiss': 5, 'advancing': 5, 'demographics': 5, 'dissipated': 5, 'lucid': 5, 'isolated': 5, 'manically': 5, 'ivy': 5, 'meshes': 5, 'rated': 5, '96': 5, 'captivatingly': 5, 'blatantly': 5, 'kidd': 5, 'wellformed': 5, 'chardonne': 5, 'interlocked': 5, 'misleading': 5, 'congrats': 5, 'catholics': 5, 'lethally': 5, 'eyeboggling': 5, 'coupling': 5, 'contorting': 5, 'boxes': 5, 'mishandle': 5, 'parting': 5, 'conversational': 5, 'nonchalantly': 5, 'ensnare': 5, 'burntout': 5, 'ryoko': 5, 'hirosue': 5, 'gracious': 5, 'click': 5, 'weightlessness': 5, 'gerbosi': 5, 'economically': 5, 'ta': 5, 'belonged': 5, 'ignorance': 5, 'endemic': 5, 'slugs': 5, 'continued': 5, 'headbangingly': 5, '2d': 5, 'atonal': 5, 'gels': 5, 'gunning': 5, 'forfans': 5, 'dallas': 5, 'soapdish': 5, 'giddily': 5, 'increments': 5, 'camouflaged': 5, 'reinforces': 5, 'ditties': 5, 'completed': 5, 'gantzes': 5, 'beanie': 5, 'verbinski': 5, 'gilliamesque': 5, 'randy': 5, 'arousing': 5, 'gasbag': 5, 'observes': 5, 'reawaken': 5, 'armeniancanadian': 5, 'premier': 5, 'evincing': 5, 'hyperbole': 5, 'synthesis': 5, 'expounded': 5, 'earthbound': 5, 'greenguts': 5, 'inflict': 5, 'prospective': 5, 'pabst': 5, 'hanson': 5, 'filth': 5, 'unwise': 5, 'oftheweek': 5, 'learnt': 5, 'declines': 5, 'cooking': 5, 'shorn': 5, 'rome': 5, 'sums': 5, 'suffused': 5, 'pegs': 5, 'splatman': 5, 'pleasurably': 5, 'tatou': 5, 'politicalaction': 5, 'rule': 5, 'racked': 5, 'axis': 5, 'muchanticipated': 5, 'rehashed': 5, 'supercharged': 5, 'indigestible': 5, 'unclassifiably': 5, 'wellnigh': 5, 'sketchbook': 5, 'affirmation': 5, 'individually': 5, 'sprinklings': 5, 'stoically': 5, 'sliceofdepression': 5, 'aristocratic': 5, 'tinkering': 5, 'standouts': 5, 'raps': 5, 'bola': 5, 'saturation': 5, 'kmart': 5, 'post9': 5, 'crackerjack': 5, '93minute': 5, 'condensation': 5, 'destinees': 5, 'bowelcurdling': 5, 'perplexed': 5, 'humourless': 5, 'fearinducing': 5, 'hurting': 5, 'disillusionment': 5, 'leukemia': 5, 'precipitously': 5, 'marvels': 5, 'penetrates': 5, 'authors': 5, 'uppercrust': 5, 'decorum': 5, 'playboymansion': 5, 'velma': 5, 'hile': 5, 'alientation': 5, 'timewaster': 5, 'dyspeptic': 5, 'amradio': 5, 'patientdoctor': 5, 'dampens': 5, 'longrange': 5, 'cacophony': 5, 'swamped': 5, 'sacred': 5, 'caution': 5, 'goats': 5, 'raja': 5, 'fond': 5, 'plentiful': 5, 'savetheplanet': 5, 'soinept': 5, 'rung': 5, 'subjecting': 5, 'slug': 5, 'pretense': 5, 'stupidest': 5, 'sleepers': 5, 'marries': 5, 'sabotages': 5, 'wellmeaningness': 5, 'dissatisfied': 5, 'ergo': 5, 'invariably': 5, 'ecologically': 5, 'takeoff': 5, 'lumpinthethroat': 5, 'seaworthy': 5, 'laserprojected': 5, 'charmers': 5, 'fists': 5, 'snags': 5, 'afresh': 5, 'nonstarter': 5, 'genderbenderballer': 5, 'francophiles': 5, 'comicthriller': 5, 'comedians': 5, 'fanatically': 5, 'endearingly': 5, 'handsomelooking': 5, 'gymkata': 5, 'firestorm': 5, 'unceasing': 5, 'trippy': 5, 'sugarsweet': 5, 'emailing': 5, 'coughs': 5, 'buddycomedy': 5, 'tempt': 5, 'sweetnatured': 5, 'shading': 5, 'flyonthewall': 5, 'orchestrates': 5, 'erika': 5, 'clunkonthehead': 5, 'over25s': 5, 'indifferently': 5, 'loudly': 5, 'cruise': 5, 'teencatholicmovie': 5, 'hire': 5, 'voyages': 5, 'mechanism': 5, 'avenges': 5, 'flip': 5, 'subaquatic': 5, 'declares': 5, 'sl2': 5, 'wellobserved': 5, 'gruelling': 5, 'overreaches': 5, 'aboul': 5, 'trumpets': 5, 'conciliatory': 5, 'earthshaking': 5, 'scrubbing': 5, 'defeat': 5, 'oscarsize': 4, 'intoxicatingly': 4, 'hooked': 4, 'ultracheesy': 4, 'boris': 4, 'riproaring': 4, 'storytellers': 4, 'humbuggery': 4, 'puzzles': 4, 'judith': 4, 'smackdown': 4, 'labours': 4, 'averse': 4, 'belinsky': 4, 'disconnection': 4, 'directive': 4, 'shellshock': 4, 'chop': 4, 'suey': 4, 'affects': 4, 'dominates': 4, 'fertility': 4, 'kjell': 4, 'bjarne': 4, 'notsobig': 4, 'biodoc': 4, 'limps': 4, 'fifteenminute': 4, 'stomps': 4, 'shankman': 4, 'janszen': 4, 'starry': 4, 'fustily': 4, 'penotti': 4, 'twentythree': 4, 'largeframe': 4, 'spythriller': 4, 'meatballs': 4, 'trailertrash': 4, 'duties': 4, 'umpteenth': 4, 'dredge': 4, 'labels': 4, 'dynamism': 4, 'heaped': 4, 'expressively': 4, 'merchantivory': 4, 'rudy': 4, 'niblet': 4, 'partyhearty': 4, 'frankenstein': 4, 'ahnuld': 4, 'ackerman': 4, 'controlaltdelete': 4, 'delves': 4, 'boarders': 4, '78': 4, 'oftenhilarious': 4, 'trusts': 4, 'alain': 4, 'wes': 4, 'somethingborrowed': 4, 'reassembled': 4, 'toolbags': 4, 'compete': 4, 'supplied': 4, 'twofifths': 4, 'culled': 4, 'appetizer': 4, 'rubbish': 4, 'bythebook': 4, 'shockers': 4, 'hoult': 4, 'debuts': 4, 'romanticized': 4, 'clears': 4, 'felinni': 4, 'errs': 4, 'eternally': 4, 'devoted': 4, 'nonbritney': 4, 'sidey': 4, 'cooks': 4, 'breen': 4, 'counting': 4, 'crassness': 4, 'pottymouthed': 4, 'unravels': 4, 'bergman': 4, 'smarterthanthou': 4, 'conforms': 4, 'routinely': 4, 'dynamited': 4, 'hammily': 4, 'emaciated': 4, 'nearmiss': 4, 'spade': 4, 'untidily': 4, 'roadandbuddy': 4, 'noholdsbarred': 4, 'technotripe': 4, 'reverberates': 4, 'veggietales': 4, 'ticketbuyers': 4, 'mindbender': 4, 'actionthriller': 4, 'discloses': 4, 'rerelease': 4, 'preposterousness': 4, 'zellweger': 4, 'spindly': 4, 'royals': 4, 'bratt': 4, 'shunji': 4, 'debatable': 4, 'applied': 4, 'intimately': 4, 'dismally': 4, 'stability': 4, 'reworks': 4, 'slides': 4, 'soured': 4, 'contemplates': 4, 'summary': 4, 'perspicacious': 4, 'dewyeyed': 4, 'javier': 4, 'respites': 4, 'tonally': 4, 'spoiler': 4, 'retrospectively': 4, 'heremakono': 4, 'profits': 4, 'keener': 4, 'yarns': 4, 'rejection': 4, 'janey': 4, 'jock': 4, '24andunders': 4, 'lantern': 4, 'wellmeant': 4, 'ghostbusters': 4, 'skirmishes': 4, 'unfurls': 4, 'cheapen': 4, 'masseur': 4, 'dumplings': 4, 'lushly': 4, 'christ': 4, 'overacted': 4, 'exhaustingly': 4, 'bristles': 4, 'lessthancompelling': 4, 'rom': 4, 'scam': 4, 'conceited': 4, 'kilted': 4, 'poorme': 4, 'ineffable': 4, 'talkheavy': 4, 'warnings': 4, 'mcklusky': 4, 'ci': 4, 'serenely': 4, 'sia': 4, 'sentimentalized': 4, 'byways': 4, 'innuendoes': 4, 'hogwash': 4, '50something': 4, 'lovebirds': 4, 'shouts': 4, 'enlivens': 4, 'bollywoodhollywood': 4, 'derivativeness': 4, 'hackery': 4, 'slips': 4, 'wellstructured': 4, 'ballsy': 4, 'smitten': 4, 'mar': 4, 'crushing': 4, 'famed': 4, 'graduation': 4, 'devotedly': 4, 'detention': 4, 'clothed': 4, 'ritual': 4, 'garbus': 4, 'discards': 4, 'sexiness': 4, 'underlines': 4, 'courtney': 4, 'utilizes': 4, 'neonoir': 4, 'alfonso': 4, 'transgression': 4, 'penned': 4, 'magnifique': 4, 'tay': 4, 'wavers': 4, 'glitzy': 4, 'struts': 4, 'fabuleux': 4, 'destin': 4, 'dan': 4, 'captive': 4, 'johnnie': 4, 'updates': 4, 'arctic': 4, 'slashermovie': 4, 'flails': 4, 'echo': 4, 'coy': 4, 'turntable': 4, 'weiss': 4, 'drudgery': 4, 'cribbed': 4, 'implication': 4, 'loveless': 4, 'stupidities': 4, 'quasidocumentary': 4, 'hairy': 4, 'yawner': 4, 'espite': 4, 'woe': 4, 'isabelle': 4, 'tobey': 4, 'exceeding': 4, 'updatings': 4, 'artnering': 4, 'chitchat': 4, 'stalked': 4, 'instructs': 4, 'commanderinchief': 4, 'dodge': 4, 'injoke': 4, 'ladles': 4, 'bypassing': 4, 'stink': 4, 'pooperscoopers': 4, 'strongman': 4, 'songbird': 4, 'tomfoolery': 4, 'laggard': 4, 'locusts': 4, 'talkers': 4, 'underachieves': 4, 'spielbergian': 4, 'theological': 4, 'twister': 4, 'groaner': 4, 'ayres': 4, 'generically': 4, 'superheroics': 4, 'uncharismatically': 4, 'mistakenidentity': 4, 'charlize': 4, 'unmistakably': 4, 'seigner': 4, 'loneliest': 4, 'mantra': 4, 'neorealist': 4, 'dutifully': 4, 'kiddieoriented': 4, 'masochistic': 4, 'touchingly': 4, 'unembarrassing': 4, 'gabriele': 4, 'dementedfunny': 4, 'staircase': 4, 'surrealist': 4, 'salvos': 4, 'actionthrillerdark': 4, 'mibii': 4, 'slop': 4, 'bui': 4, 'reward': 4, 'ventures': 4, 'doodled': 4, 'fairness': 4, 'sleepwalk': 4, 'complaints': 4, 'eighthgrader': 4, 'labors': 4, 'uzumaki': 4, 'parris': 4, 'survives': 4, 'trey': 4, 'shanana': 4, 'treacle': 4, 'skeptics': 4, 'lovably': 4, 'embarking': 4, 'salient': 4, 'leafing': 4, 'accompanied': 4, 'selfflagellation': 4, 'computeranimated': 4, 'crooned': 4, 'allfrench': 4, 'marveilleux': 4, 'unromantic': 4, 'delayed': 4, 'italy': 4, '98': 4, 'mccracken': 4, 'timeitis': 4, 'proficiently': 4, 'reviewed': 4, 'soupy': 4, 'mushhearted': 4, '70yearold': 4, 'semisurrealist': 4, 'dodgy': 4, 'spanieleyed': 4, 'repugnant': 4, 'celebrityhood': 4, 'pinheads': 4, 'mimetic': 4, 'approximation': 4, 'launch': 4, 'contribute': 4, 'aaa': 4, 'unsuccessfully': 4, 'scan': 4, 'egraveyard': 4, 'causes': 4, 'satan': 4, 'glacially': 4, 'disagreeable': 4, 'blimp': 4, 'babies': 4, 'culmination': 4, 'populates': 4, 'eastvs': 4, 'annoyances': 4, 'tweedy': 4, 'prancing': 4, 'playthings': 4, 'ostentatious': 4, 'blurs': 4, 'inhospitability': 4, 'derails': 4, 'drabness': 4, 'monkeyfun': 4, 'numbs': 4, 'aroused': 4, 'ferzan': 4, 'demonizes': 4, 'nrelentingly': 4, 'visits': 4, 'methamphetamines': 4, 'unflaggingly': 4, 'implements': 4, 'offtherack': 4, 'shall': 4, 'horrorthriller': 4, 'freeforall': 4, 'unmolested': 4, 'pound': 4, 'locked': 4, 'splits': 4, 'whaley': 4, 'violates': 4, 'characterbased': 4, 'christina': 4, 'honey': 4, 'westfeldt': 4, 'socrates': 4, 'hemlock': 4, 'morningglory': 4, 'oftdescribed': 4, 'kurupt': 4, 'oldform': 4, 'locals': 4, 'continual': 4, 'ribbing': 4, 'thrashing': 4, 'rapmetal': 4, 'bravely': 4, 'boasted': 4, 'elapse': 4, 'rigorously': 4, 'dumbfoundingly': 4, 'stooges': 4, 'rampling': 4, 'transplanted': 4, 'buoyed': 4, 'dooby': 4, 'lofi': 4, 'abbas': 4, 'slipshod': 4, 'conspire': 4, 'dolgin': 4, 'southoftheborder': 4, 'emptying': 4, 'cockamamie': 4, 'qualls': 4, 'dialogueheavy': 4, 'fourlegged': 4, 'herbivore': 4, 'nanosecond': 4, 'comedythriller': 4, 'homespun': 4, 'vanishes': 4, 'tantalizes': 4, 'stimulates': 4, 'overreliance': 4, 'hardtobelieve': 4, 'debuter': 4, 'whetted': 4, 'oftendeadly': 4, 'upholstered': 4, 'lanie': 4, 'greased': 4, 'godawful': 4, 'potion': 4, 'befits': 4, 'codetalk': 4, 'alex': 4, 'ensnared': 4, 'unaccustomed': 4, 'sushi': 4, 'fluffball': 4, 'stumblings': 4, 'immersing': 4, 'groaninducing': 4, 'begets': 4, 'digitalvideo': 4, 'allegorical': 4, 'shayamalan': 4, 'similarities': 4, 'miscasts': 4, '45minute': 4, 'wimp': 4, 'slashandhack': 4, 'choirs': 4, 'hu': 4, 'offense': 4, 'crosspromotion': 4, 'sized': 4, 'soda': 4, 'profit': 4, 'fuhgeddaboutit': 4, 'programmer': 4, 'zags': 4, 'conditioned': 4, 'exporing': 4, 'stupider': 4, 'bothersome': 4, 'gulps': 4, 'wong': 3, 'kideok': 3, 'cloaks': 3, 'phonedin': 3, 'unrealistic': 3, 'festers': 3, 'flamelike': 3, 'tentative': 3, 'nonmystery': 3, 'delia': 3, 'unambitious': 3, 'dignified': 3, 'ceo': 3, 'honks': 3, 'hutchins': 3, 'crikey': 3, 'blushing': 3, 'gorgeousness': 3, 'punitively': 3, 'affirmational': 3, 'starproducer': 3, 'glizty': 3, 'troll': 3, 'slummer': 3, 'negativity': 3, 'hunnam': 3, 'adapts': 3, 'cockeyed': 3, 'accumulate': 3, 'mariah': 3, 'carey': 3, 'monroe': 3, 'jampacked': 3, 'colorfully': 3, 'realitysnubbing': 3, 'singlehanded': 3, 'pandemonium': 3, 'coburn': 3, 'ayala': 3, 'hash': 3, 'trueblue': 3, 'strips': 3, 'bytes': 3, 'peerlessly': 3, 'irreparably': 3, 'americanstyle': 3, 'rosa': 3, 'strategy': 3, 'sneering': 3, 'halos': 3, 'crisply': 3, 'stuporously': 3, 'beckett': 3, 'hardpartying': 3, 'steadfastly': 3, 'reigns': 3, 'alternates': 3, 'arteta': 3, 'bibbidybobbidibland': 3, 'mythmaking': 3, 'giggling': 3, 'shamefully': 3, 'conquers': 3, 'eckstraordinarily': 3, 'halfassed': 3, 'uboat': 3, 'occurrences': 3, 'greaseballs': 3, 'degenerates': 3, 'baio': 3, 'sewer': 3, 'granddad': 3, 'hookups': 3, 'mccrudden': 3, 'yo': 3, 'maggio': 3, 'locale': 3, 'venezuelans': 3, 'trading': 3, 'catsup': 3, 'bottomrung': 3, 'nursery': 3, 'pascale': 3, 'subcultures': 3, 'twirls': 3, 'aan': 3, 'bluto': 3, 'blutarsky': 3, 'gays': 3, 'speck': 3, 'cries': 3, 'whirls': 3, 'impeccably': 3, 'chirpy': 3, 'fiendishly': 3, 'boosterism': 3, 'salaciously': 3, 'butterfingered': 3, 'koshashvili': 3, 'xiaoshuai': 3, 'disposible': 3, 'insular': 3, 'humorously': 3, 'quibbles': 3, 'axel': 3, 'hellstenius': 3, 'directorchef': 3, 'rosenthal': 3, 'mastering': 3, 'babyfaced': 3, 'komediant': 3, 'stagecrafts': 3, 'girardot': 3, 'judging': 3, 'honorably': 3, 'mushes': 3, 'lessthanthrilling': 3, 'ingeniously': 3, 'agewise': 3, 'confounding': 3, 'defining': 3, 'tully': 3, 'deepa': 3, 'freakout': 3, 'forages': 3, 'hovering': 3, 'steinberg': 3, 'glazed': 3, 'dangerfield': 3, 'doofuson': 3, 'kramer': 3, 'draggin': 3, 'dafoe': 3, 'wanker': 3, 'goths': 3, 'conceptually': 3, 'bball': 3, 'audaciousimpossible': 3, 'alarms': 3, 'divertingly': 3, 'schweiger': 3, 'roundrobin': 3, 'sluggishly': 3, 'nickelodeon': 3, 'guided': 3, 'gob': 3, 'retch': 3, 'philibert': 3, 'wholeheartedly': 3, 'dullards': 3, 'everytime': 3, 'redo': 3, 'provocatuers': 3, 'juergensen': 3, 'ja': 3, 'breakdowns': 3, 'starters': 3, 'valueless': 3, 'apallingly': 3, 'gazillionth': 3, 'melrose': 3, 'changer': 3, 'columns': 3, 'buffoonery': 3, 'deflates': 3, 'marvellous': 3, 'doddering': 3, 'professionally': 3, 'abandons': 3, 'telegraphing': 3, 'horrorcomedy': 3, 'punish': 3, 'collosum': 3, 'helpfully': 3, 'dilbert': 3, 'gil': 3, 'excel': 3, 'ranging': 3, 'escaping': 3, 'plotwise': 3, 'slash': 3, 'ventually': 3, 'ultralowbudget': 3, 'christians': 3, 'godfather': 3, 'hysterical': 3, 'tootepid': 3, 'faultlessly': 3, 'caulfield': 3, 'mana': 2, 'falsehoods': 2, 'shoving': 2, 'execrable': 2, 'bernal': 2, 'terrified': 2, 'pedro': 2, 'formuliac': 2, 'ryosuke': 2, 'puportedly': 2, 'grenier': 2, 'shackles': 2, 'characterisation': 2, 'drowning': 2, 'ruhroh': 2, 'hatosy': 2, 'jeffs': 2, 'beresford': 2, 'cmon': 2, 'cineasts': 2, 'dolman': 2, 'rashomonfordipsticks': 2, 'martyr': 2, 'unspools': 2, 'jaunty': 2, 'spectators': 2, 'overburdened': 2, 'bella': 2, 'ottosallies': 2, 'symbolically': 2, 'cusack': 2, 'equlibrium': 2, 'lightyears': 2, 'schnieder': 2, 'romething': 2, 'hardman': 2, 'sensitively': 2, 'sa': 2, 'hmmm': 2, 'romcom': 2, 'dim': 2, 'mazel': 2, 'unsurprisingly': 2, 'overhearing': 2, 'yep': 2, 'philosophically': 2, 'unintelligible': 2, 'denver': 2, 'efteriades': 2, 'bogdanich': 2, 'twobit': 2, 'abysmally': 2, 'ub': 2, 'reeboir': 2, 'earsplitting': 2, 'ou': 2, 'snoots': 2, 'buries': 2, 'fubar': 2, 'spyvs': 2, 'flopped': 2, 'elmo': 2, 'demi': 2, 'claire': 2, 'unofficially': 2, 'quelle': 2, 'rehearsals': 2, 'illiterate': 2, 'priggish': 2, 'merci': 2, 'zoom': 2, 'bondinspired': 2, 'hubac': 2, 'moot': 2, 'ihops': 2, 'unflinchingly': 2, 'gee': 2, 'sympathetically': 2, 'flaunts': 2, 'ahhhh': 2, 'hmm': 2, 'ostensibly': 2, 'topkapi': 2, 'farrell': 2, 'detox': 2, 'makmalbaf': 2, 'theirs': 2, 'allinall': 2, 'ruzowitzky': 2, 'chao': 2, 'brimful': 2, 'thekids': 2, 'casings': 1, 'omitted': 1, 'unsaid': 1, 'revengeofthenerds': 1, 'underventilated': 1, 'anciently': 1, 'foreshadowing': 1, 'y': 1, 'tu': 1, 'kidmovie': 1, 'joshua': 1, 'luis': 1, 'upends': 1, 'recovers': 1, 'marinated': 1, 'overstylized': 1, 'aggrieved': 1, 'petter': 1, 'retrospective': 1, 'prechewed': 1, 'piles': 1, 'harmlessly': 1, 'christophe': 1, 'deriding': 1})\n"
     ]
    }
   ],
   "source": [
    "# Vamos então contar as palavras (para futuras análises - opcional)\n",
    "from collections import Counter\n",
    "\n",
    "counts = Counter(words)\n",
    "print(counts)"
   ]
  },
  {
   "cell_type": "markdown",
   "metadata": {},
   "source": [
    ">**Dica pra vida**: É possivel também analisarmos separadamente as palavras que mais aparecem em cada um dos tipos de reviews (rotulados de 0 a 4). Isso pode nor dar uma ideia de quais palavras são mais vistas positivamente e quais estão mais correlacionadas com o sentimento negativo."
   ]
  },
  {
   "cell_type": "code",
   "execution_count": 20,
   "metadata": {},
   "outputs": [
    {
     "name": "stdout",
     "output_type": "stream",
     "text": [
      "Total de palavras em todos os reviews: 1462139\n",
      "Total de palavras no vocabulario: 19317\n"
     ]
    }
   ],
   "source": [
    "# E criar um vocabulário, ordenado a partir das palavras mais faladas\n",
    "# Obs.: Este vocabulário é composto de palavras únicas, pois\n",
    "# o método Counter() conta as aparições de cada palavra e\n",
    "# retorna um vocabulário com o número de aparições e as strings\n",
    "vocabulary = sorted(counts, key=counts.get, reverse=True)\n",
    "print(\"Total de palavras em todos os reviews: {}\".format(len(words)))\n",
    "print(\"Total de palavras no vocabulario: {}\".format(len(vocabulary)))"
   ]
  },
  {
   "cell_type": "code",
   "execution_count": 21,
   "metadata": {},
   "outputs": [],
   "source": [
    "# Criando um novo dicionário, que mapeia cada palavra (a partir da que\n",
    "# mais aparece) em números, começando de 1:\n",
    "vocabulary_to_int = {}\n",
    "int_to_vocabulary = {}\n",
    "for i, word in enumerate(vocabulary, 1):\n",
    "    vocabulary_to_int[word] = i\n",
    "    int_to_vocabulary[i] = word\n",
    "\n",
    "# Forma alternativa, utilizando dict comprehension\n",
    "# vocabulary_to_int = {word: i for i, word in enumerate(vocabulary, 1)}"
   ]
  },
  {
   "cell_type": "code",
   "execution_count": 22,
   "metadata": {},
   "outputs": [],
   "source": [
    "# E agora transformando cada review em números\n",
    "# e 'abusando' das list comprehensions:\n",
    "train_set_int = []\n",
    "for review in train_set_lines:\n",
    "    if review[0] == 'PhraseId':\n",
    "        continue\n",
    "    train_set_int.append([vocabulary_to_int[word] for word in review[2].split()])"
   ]
  },
  {
   "cell_type": "code",
   "execution_count": 23,
   "metadata": {},
   "outputs": [
    {
     "name": "stdout",
     "output_type": "stream",
     "text": [
      "Palavras únicas:  19317\n",
      "\n",
      "Review em formato token:\n",
      " [597, 3, 82, 2668, 5, 50, 3, 2, 40]\n"
     ]
    }
   ],
   "source": [
    "# Conferindo:\n",
    "print(\"Palavras únicas: \", len(vocabulary_to_int))\n",
    "print()\n",
    "print(\"Review em formato token:\\n\", train_set_int[49])"
   ]
  },
  {
   "cell_type": "code",
   "execution_count": 24,
   "metadata": {},
   "outputs": [
    {
     "name": "stdout",
     "output_type": "stream",
     "text": [
      "1\n",
      "\n",
      "[16, 2707, 2797, 19, 494, 956, 372]\n"
     ]
    }
   ],
   "source": [
    "# E para uso futuro, vamos já deixar o vetor dos labels\n",
    "# de sentimentos pronto. O label da posição x ('encoded_label[x]')\n",
    "# corresponde ao review 'train_set_int[x]':\n",
    "import numpy as np\n",
    "\n",
    "encoded_labels = np.array([train_set_lines[i][3] for i in range(1,len(train_set_lines))])\n",
    "print(encoded_labels[49])\n",
    "\n",
    "# E os dados de teste codificados:\n",
    "test_set_int = []\n",
    "for review in test_set_lines:\n",
    "    if review[0] == 'PhraseId':\n",
    "        continue\n",
    "    test_set_int.append([vocabulary_to_int[word] for word in review[2].split()])\n",
    "\n",
    "print()\n",
    "print(test_set_int[0])"
   ]
  },
  {
   "cell_type": "code",
   "execution_count": 25,
   "metadata": {},
   "outputs": [
    {
     "name": "stdout",
     "output_type": "stream",
     "text": [
      "[597, 3, 82, 2668, 5, 50, 3, 2, 40]\n",
      "none of which amounts to much of a story\n"
     ]
    }
   ],
   "source": [
    "# Para conferir se as conversões estão de acordo com o esperado...\n",
    "\n",
    "review_49 = train_set_int[49] # review em formato token\n",
    "print(review_49)\n",
    "review_49_words = ' '.join([int_to_vocabulary[i] for i in review_49]) # refazendo a conversão\n",
    "print(review_49_words)\n",
    "\n",
    "# Obs.: a partir daqui, os dados estão \"shifted\" por uma casa a menos,\n",
    "# isso pq nos dados anteriores tínhamos os cabeçalhos (aquele com os títulos\n",
    "# das colunas em formato string)."
   ]
  },
  {
   "cell_type": "markdown",
   "metadata": {},
   "source": [
    "### Removendo outliers\n",
    "\n",
    "Um passo de pre-processamento adicional é o de padronizar nossos inputs. Isto é, nossa rede vai esperar como input um vetor de tamanho fixo. Assim, queremos formatar nossos reviews em um tamanho específico.\n",
    "\n",
    "Para fazer isso, podemos dividir o processo em dois passos:\n",
    "\n",
    "1. Retirar os reviews outliers (i.e., aqueles muito compridos ou muito curtos);\n",
    "2. Preencher (o famoso *padding*) ou truncar o restante dos dados, de forma a termos reviews com o mesmo tamanho."
   ]
  },
  {
   "cell_type": "code",
   "execution_count": 26,
   "metadata": {},
   "outputs": [
    {
     "name": "stdout",
     "output_type": "stream",
     "text": [
      "Número total de reviews: 156060\n",
      "Quantos reviews de tamanho nulo: 27\n",
      "Tamanho máximo de um review: 48\n"
     ]
    }
   ],
   "source": [
    "# Vamos procurar por reviews \"extremos\", aqueles\n",
    "# que podem \"bagunçar\" com o treinamento:\n",
    "\n",
    "tamanho_reviews = Counter([len(x) for x in train_set_int]) # Dict: {objeto: contagem}\n",
    "print(\"Número total de reviews: {}\".format(len(train_set_int)))\n",
    "print(\"Quantos reviews de tamanho nulo: {}\".format(tamanho_reviews[0]))\n",
    "print(\"Tamanho máximo de um review: {}\".format(max(tamanho_reviews)))"
   ]
  },
  {
   "cell_type": "code",
   "execution_count": 27,
   "metadata": {},
   "outputs": [
    {
     "name": "stdout",
     "output_type": "stream",
     "text": [
      "[0, 1, 2, 3, 4, 5, 6, 7, 8, 9, 10, 11, 12, 13, 14, 15, 16, 17, 18, 19, 20, 21, 22, 23, 24, 25, 26, 27, 28, 29, 30, 31, 32, 33, 34, 35, 36, 37, 38, 39, 40, 41, 42, 43, 44, 45, 46, 47, 48]\n",
      "\n",
      "[27053, 21554, 18032, 14614, 10981, 8813, 7252, 6131, 5202, 4505, 3954, 3460, 3013, 2676, 2422, 2150, 1872, 1689, 1443, 1327, 1215, 1054, 840, 757, 649, 590, 453, 387, 367, 296, 270, 223, 150, 129, 110, 88, 75, 57, 35, 35, 32, 27, 21, 20, 15, 7, 6, 6, 3]\n"
     ]
    }
   ],
   "source": [
    "print(sorted(tamanho_reviews))\n",
    "print()\n",
    "print(sorted(tamanho_reviews.values(), reverse=True))"
   ]
  },
  {
   "cell_type": "code",
   "execution_count": 28,
   "metadata": {},
   "outputs": [
    {
     "name": "stdout",
     "output_type": "stream",
     "text": [
      "Número total de reviews para teste: 66292\n",
      "Quantos reviews de teste de tamanho nulo: 21\n",
      "Tamanho máximo de review do teste: 52\n"
     ]
    }
   ],
   "source": [
    "tamanho_reviews_test = Counter([len(x) for x in test_set_int])\n",
    "print(\"Número total de reviews para teste: {}\".format(len(test_set_int)))\n",
    "print(\"Quantos reviews de teste de tamanho nulo: {}\".format(tamanho_reviews_test[0]))\n",
    "print(\"Tamanho máximo de review do teste: {}\".format(max(tamanho_reviews_test)))"
   ]
  },
  {
   "cell_type": "code",
   "execution_count": 29,
   "metadata": {},
   "outputs": [],
   "source": [
    "tamanho = sorted([key for key in tamanho_reviews.keys()])\n",
    "numero = [tamanho_reviews[lenght] for lenght in tamanho]"
   ]
  },
  {
   "cell_type": "code",
   "execution_count": 30,
   "metadata": {},
   "outputs": [
    {
     "data": {
      "text/plain": [
       "<Figure size 640x480 with 1 Axes>"
      ]
     },
     "metadata": {},
     "output_type": "display_data"
    }
   ],
   "source": [
    "import matplotlib.pyplot as plt\n",
    "plt.plot(tamanho, numero)\n",
    "plt.xlabel('Tamanho da review')\n",
    "plt.ylabel('Quantidade')\n",
    "plt.show()"
   ]
  },
  {
   "cell_type": "markdown",
   "metadata": {},
   "source": [
    "Vemos que o tamanho da review é uma distribuição assimétrica com concentração à esquerda. Isto porque foram acrecentados dados repetidos na tabela de reviews. Lembrando lá do início do notebook, algumas frases foram sendo cortadas e adicionadas como uma nova linha e com um (às vezes novo) sentimento relacionado à frase cortada. Isto nos permite uma maior liberdade com os dados, a fim de escolhermos o que fazer com cada um deles.\n",
    "\n",
    "> Por curiosidade, a *moda* dessa distribuição é 2 (i.e., existem mais reviews de tamanho 2 do que de qualquer outro tamanho). O tamanho máximo é de 48 (no caso do conjunto de teste, o tamanho máximo é de 52, o que é um bom tamanho para inserir na rede). E o mínimo é 0 (Um \"problema\", esses reviews de tamanho nulo devem ser excluídos dos dados).\n",
    "\n",
    "No nosso caso, como dito anteriormente, vamos considerar apenas as frases maiores (desconsiderando as frases muito curtas, ou de comprimento nulo)."
   ]
  },
  {
   "cell_type": "markdown",
   "metadata": {},
   "source": [
    "---\n",
    ">**Curiosidade**: Por quê desconsideramos os reviews de tamanho nulo? Como eles se distribuem?\n",
    "\n",
    ">Considerando que os reviews que não possuem texto, a primeira distribuição a se esperar é uma distribuição do tipo normal (totalmente aleatória). Esse é também um dos motivos para não se introduzir esses dados na rede."
   ]
  },
  {
   "cell_type": "code",
   "execution_count": 31,
   "metadata": {},
   "outputs": [
    {
     "name": "stdout",
     "output_type": "stream",
     "text": [
      "[2, 2, 2, 2, 2, 2, 2, 2, 2, 2, 2, 1, 2, 2, 2, 2, 2, 2, 2, 2, 2, 2, 2, 2, 2, 2, 2]\n",
      "Counter({2: 26, 1: 1})\n"
     ]
    }
   ],
   "source": [
    "# A título de curiosidade, vamos pegar os reviews nulos para entender a sua distribuição:\n",
    "zero_idx_train = [i for i, review in enumerate(train_set_int) if len(review) == 0]\n",
    "\n",
    "# E guardando as labels dos reviews nulos:\n",
    "encoded_labels_null = [encoded_labels[i] for i in zero_idx_train]\n",
    "print(encoded_labels_null)\n",
    "count_label_null = Counter(encoded_labels_null)\n",
    "print(count_label_null)"
   ]
  },
  {
   "cell_type": "code",
   "execution_count": 32,
   "metadata": {},
   "outputs": [
    {
     "data": {
      "image/png": "[encoded data removed]",
      "text/plain": [
       "<Figure size 432x288 with 1 Axes>"
      ]
     },
     "metadata": {
      "needs_background": "light"
     },
     "output_type": "display_data"
    }
   ],
   "source": [
    "x_data = [0,1,2,3,4]\n",
    "y_data = [0,1,26,0,0]\n",
    "plt.plot(x_data, y_data)\n",
    "plt.show()"
   ]
  },
  {
   "cell_type": "markdown",
   "metadata": {},
   "source": [
    "---\n",
    "Voltando para o nosso problema...\n"
   ]
  },
  {
   "cell_type": "code",
   "execution_count": 33,
   "metadata": {},
   "outputs": [],
   "source": [
    "# Vamos então retirar os reviews de tamanho nulo e os\n",
    "# seus respectivos labels dos reviews:\n",
    "\n",
    "# Pegando os indices dos reviews de tamanho nulo:\n",
    "non_zero_idx_train = [i for i, review in enumerate(train_set_int) if len(review) != 0]\n",
    "non_zero_idx_test = [i for i, review in enumerate(test_set_int) if len(review) != 0]"
   ]
  },
  {
   "cell_type": "code",
   "execution_count": 34,
   "metadata": {},
   "outputs": [
    {
     "name": "stdout",
     "output_type": "stream",
     "text": [
      "Número de reviews antes da remoção dos reviews nulos: 156060\n",
      "Número de reviews após a remoção dos reviews nulos:  156033\n"
     ]
    }
   ],
   "source": [
    "# Removendo os reviews nulos e seus labels:\n",
    "train_set_int = [train_set_int[i] for i in non_zero_idx_train]\n",
    "encoded_labels = np.array([encoded_labels[i] for i in non_zero_idx_train])\n",
    "test_set_int = [test_set_int[i] for i in non_zero_idx_test]\n",
    "\n",
    "print(\"Número de reviews antes da remoção dos reviews nulos: 156060\")\n",
    "print(\"Número de reviews após a remoção dos reviews nulos: \", len(train_set_int))"
   ]
  },
  {
   "cell_type": "markdown",
   "metadata": {},
   "source": [
    "### Realizando o preenchimento (*padding*)\n",
    "\n",
    "Para lidarmos com ambas as reviews (curtas e longas), a gente pode truncar ou preencher todos os nossos reviews, constringindo os reviews a um comprimento específico.\n",
    "\n",
    "Para reviews menores que um determinado comprimento `seq_length`, a gente preenche o vetor com 0's. Para reviews maiores que esse mesmo comprimento, a gente trunca ele nas primeiras palavras.\n",
    "\n",
    "Vamos considerar inicialmente um tamanho para a `seq_length` de 48, que foi o tamanho máximo encontrado.\n",
    ">**Dica pra vida**: Caso estivéssemos lidando com reviews maiores, aqueles com até 2500 caracteres, um bom tamanho de truncagem poderia ser 200."
   ]
  },
  {
   "cell_type": "code",
   "execution_count": 35,
   "metadata": {},
   "outputs": [],
   "source": [
    "def padding_features(review_ints, seq_length):\n",
    "    ''' Retorna vetores (features) dos review_ints contidos\n",
    "        ou preenchidos até o limite de tamanho seq_length\n",
    "    '''\n",
    "    \n",
    "    # Aqui produzimos um vetor com a forma desejada de linhas x colunas:\n",
    "    features = np.zeros((len(review_ints),seq_length), dtype=int)\n",
    "    \n",
    "    # Para cada review:\n",
    "    for i, row in enumerate(review_ints):\n",
    "        features[i, -len(row):] = np.array(row[:seq_length])\n",
    "    \n",
    "    return features"
   ]
  },
  {
   "cell_type": "code",
   "execution_count": 36,
   "metadata": {},
   "outputs": [
    {
     "name": "stdout",
     "output_type": "stream",
     "text": [
      "[[    0     0     0     0     0     0     0     0     0     0     0     0\n",
      "      0     0     0     0     0     2   296     3 17898  7572     1  8288\n",
      "      9    51     8    47    13     1  4654     8   175    47    13     1\n",
      "  13710    58     3    82   545 12678    19   597     3    82  2668     5\n",
      "     50     3     2    40]\n",
      " [    0     0     0     0     0     0     0     0     0     0     0     0\n",
      "      0     0     0     0     0     0     0     0     0     0     0     0\n",
      "      0     0     0     0     0     0     0     0     0     0     0     0\n",
      "      0     0     2   296     3 17898  7572     1  8288     9    51     8\n",
      "     47    13     1  4654]\n",
      " [    0     0     0     0     0     0     0     0     0     0     0     0\n",
      "      0     0     0     0     0     0     0     0     0     0     0     0\n",
      "      0     0     0     0     0     0     0     0     0     0     0     0\n",
      "      0     0     0     0     0     0     0     0     0     0     0     0\n",
      "      0     0     2   296]]\n",
      "\n",
      "[[   0    0    0    0    0    0    0    0    0    0    0    0    0    0\n",
      "     0    0    0    0    0    0    0    0    0    0    0    0    0    0\n",
      "     0    0    0    0    0    0    0    0    0    0    0    0    0    0\n",
      "     0    0    0   16 2707 2797   19  494  956  372]\n",
      " [   0    0    0    0    0    0    0    0    0    0    0    0    0    0\n",
      "     0    0    0    0    0    0    0    0    0    0    0    0    0    0\n",
      "     0    0    0    0    0    0    0    0    0    0    0    0    0    0\n",
      "     0    0    0   16 2707 2797   19  494  956  372]\n",
      " [   0    0    0    0    0    0    0    0    0    0    0    0    0    0\n",
      "     0    0    0    0    0    0    0    0    0    0    0    0    0    0\n",
      "     0    0    0    0    0    0    0    0    0    0    0    0    0    0\n",
      "     0    0    0    0    0    0    0    0    0   16]]\n"
     ]
    }
   ],
   "source": [
    "seq_length = 52\n",
    "features_train = padding_features(train_set_int, seq_length=seq_length)\n",
    "features_test = padding_features(test_set_int, seq_length=seq_length)\n",
    "\n",
    "# Para testar o código, podemos usar assert:\n",
    "# assert len(features) == len(train_set_int), \"As features devem ter o número de linhas igual ao numero de reviews\"\n",
    "# assert len(features[0]) == seq_length, \"Cada linha deve ter o mesmo comprimento\"\n",
    "\n",
    "print(features_train[:3])\n",
    "print()\n",
    "print(features_test[:3])"
   ]
  },
  {
   "cell_type": "markdown",
   "metadata": {},
   "source": [
    "### Dividindo o conjunto de treinamento em Treinamento, Validação e Teste\n",
    "\n",
    "> Vamos agora dividir o conjunto de treinamento em três  grupos: um de validação, o outro para treinamento e um final para teste (Escolhi fazer isso para ser mais uma estapa de mensuração do código antes de submetê-lo ao benchmarking -- que é o conjunto de testes lá de cima que viemos trabalhando até aqui). Para isso:\n",
    "* Vamos criar um conjunto das features para treino (`train_x`) e um conjunto de suas labels (`train_y`);\n",
    "* Definir uma fração de *split* (`split_frac`) para ser a fração dos dados a serem **mantidos** no conjunto de treinamento. (Geralmente é de 0.8 ou 0.9);\n",
    "* O Restante é dividido no meio, em conjunto de validação (`val_x` e `val_y`) e conjunto de teste (`test_x` e `test_y`)."
   ]
  },
  {
   "cell_type": "code",
   "execution_count": 37,
   "metadata": {},
   "outputs": [
    {
     "name": "stdout",
     "output_type": "stream",
     "text": [
      "\t\t\t\tShapes das features:\n",
      "Conjunto de treino: \t\t(124826, 52) \n",
      "Conjunto de Validação: \t\t(15603, 52) \n",
      "Conjunto de teste: \t\t(15604, 52)\n"
     ]
    }
   ],
   "source": [
    "# Escolhendo a fração de split:\n",
    "split_frac = 0.8\n",
    "\n",
    "# Índice do split\n",
    "split_idx = int(len(features_train)*split_frac)\n",
    "\n",
    "# Separando o conjunto de treino\n",
    "train_x, remaining_x = features_train[:split_idx], features_train[split_idx:]\n",
    "train_y, remaining_y = encoded_labels[:split_idx], encoded_labels[split_idx:]\n",
    "\n",
    "# Índice de split do restante\n",
    "test_idx = int(len(remaining_x)*0.5)\n",
    "val_x, test_x = remaining_x[:test_idx], remaining_x[test_idx:]\n",
    "val_y, test_y = remaining_y[:test_idx], remaining_y[test_idx:]\n",
    "\n",
    "print(\"\\t\\t\\t\\tShapes das features:\")\n",
    "print(\"Conjunto de treino: \\t\\t{}\".format(train_x.shape), \n",
    "      \"\\nConjunto de Validação: \\t\\t{}\".format(val_x.shape),\n",
    "      \"\\nConjunto de teste: \\t\\t{}\".format(test_x.shape))"
   ]
  },
  {
   "cell_type": "markdown",
   "metadata": {},
   "source": [
    "### Criando DataLoaders e Batching\n",
    "\n",
    "Agora estamos chegando na parte \"legal\" rsrs\n",
    "\n",
    "Agora que temos os nossos dados *bonitinhos* em mãos, precisamos de um método para criar nossos conjuntos de inputs de forma a minimizar o *overfitting* por conta de uma ordem específica presente nos dados.\n",
    "\n",
    "Uma forma é utilizando o [TensorDataset](https://pytorch.org/docs/stable/data.html#) para acessar os dados e criar os datasets. Utilizando a função *DataLoader* podemos criar pequenos *batchs*, escolhidos aleatoriamente dentre os dados."
   ]
  },
  {
   "cell_type": "code",
   "execution_count": 38,
   "metadata": {},
   "outputs": [],
   "source": [
    "import torch\n",
    "from torch.utils.data import TensorDataset, DataLoader\n",
    "\n",
    "# Criando os datasets\n",
    "train_data = TensorDataset(torch.from_numpy(train_x), torch.from_numpy(train_y))\n",
    "valid_data = TensorDataset(torch.from_numpy(val_x), torch.from_numpy(val_y))\n",
    "test_data = TensorDataset(torch.from_numpy(test_x), torch.from_numpy(test_y))\n",
    "\n",
    "# Definindo o tamanho dos batchs\n",
    "batch_size = 128\n",
    "\n",
    "# Definindo os DataLoaders com o SHUFFLE ATIVADO (isso é importante!)\n",
    "train_loader = DataLoader(train_data, shuffle=True, batch_size=batch_size, drop_last=True)\n",
    "valid_loader = DataLoader(valid_data, shuffle=True, batch_size=batch_size, drop_last=True)\n",
    "test_loader = DataLoader(test_data, shuffle=True, batch_size=batch_size, drop_last=True)"
   ]
  },
  {
   "cell_type": "code",
   "execution_count": 39,
   "metadata": {},
   "outputs": [
    {
     "name": "stdout",
     "output_type": "stream",
     "text": [
      "Tamanho do input da amostra:  torch.Size([128, 52])\n",
      "Input amostra: \n",
      " tensor([[    0,     0,     0,  ...,    16,   556,  4518],\n",
      "        [    0,     0,     0,  ...,     3,     1,    56],\n",
      "        [    0,     0,     0,  ...,   197,    10,   392],\n",
      "        ...,\n",
      "        [    0,     0,     0,  ...,     0,     0, 11827],\n",
      "        [    0,     0,     0,  ...,     1,  5099,  3431],\n",
      "        [    0,     0,     0,  ...,     0,     0, 10288]])\n",
      "\n",
      "Tamanho do label da amostra:  torch.Size([128])\n",
      "Label amostra: \n",
      " tensor([0, 3, 2, 1, 1, 2, 2, 3, 2, 3, 1, 2, 3, 2, 2, 2, 1, 2, 2, 3, 1, 2, 1, 3,\n",
      "        3, 3, 2, 2, 2, 2, 3, 3, 4, 2, 2, 1, 1, 0, 0, 3, 3, 1, 2, 2, 2, 1, 1, 2,\n",
      "        3, 2, 2, 3, 1, 1, 1, 2, 2, 0, 2, 0, 2, 4, 2, 2, 0, 1, 3, 2, 1, 4, 1, 2,\n",
      "        2, 3, 1, 2, 2, 2, 1, 2, 3, 2, 3, 1, 3, 2, 3, 4, 0, 2, 4, 3, 3, 4, 3, 1,\n",
      "        2, 2, 2, 1, 2, 3, 0, 2, 1, 2, 2, 3, 2, 0, 2, 2, 4, 1, 2, 2, 2, 2, 2, 1,\n",
      "        1, 2, 2, 3, 2, 2, 3, 2])\n"
     ]
    }
   ],
   "source": [
    "# Pegando um batch dos dados de treinamento:\n",
    "\n",
    "dataiter = iter(train_loader)\n",
    "sample_x, sample_y = dataiter.next()\n",
    "\n",
    "print('Tamanho do input da amostra: ', sample_x.size()) # batch_size, seq_length\n",
    "print('Input amostra: \\n', sample_x)\n",
    "print()\n",
    "print('Tamanho do label da amostra: ', sample_y.size()) # batch_size\n",
    "print('Label amostra: \\n', sample_y)"
   ]
  },
  {
   "cell_type": "markdown",
   "metadata": {},
   "source": [
    "## Rede de Sentimentos usando PyTorch\n",
    "\n",
    "Relembrando, vamos dividir a nossa rede em três principais componentes (camadas):\n",
    "1. Uma [camada de *embedding*](https://pytorch.org/docs/stable/nn.html#embedding) que converte os nossos tokens de palavras (inteiros) em vetores de um tamanho específico;\n",
    "2. Uma camada de [LSTM](https://pytorch.org/docs/stable/nn.html#lstm), que é definida pelo tamanho do `hidden_state` e pelo número de camadas;\n",
    "3. Uma camada de output totalmente conectada que mapeia os outputs da camada LSTM aos outputs do tamanho desejado (`output_size`);\n",
    "4. E por fim uma função ativadação *softmax* que transforma os outputs em probabilidades de classe.\n",
    "\n",
    "### A camada de *embedding*\n",
    "\n",
    "Precisamos de uma camada de embedding pois temos mais de 19000 palavras no nosso vocabuário (este inclusive pode ser um problema no geral, pois essa quantidade é relativamente baixa em comparação às +170000 palavras não-obsoletas existentes em inglês).\n",
    "\n",
    "### As camadas da LSTM\n",
    "\n",
    "A LSTM vai receber um tamanho de input `input_size`, a dimensão da camada oculta `hidden_dim`, o número de camadas, uma probabilidade de dropout (no caso de múltiplas camadas) e um parâmetro de `batch_first`.\n",
    "\n",
    "Na maioria das vezes, a rede pode ter entre 2 e 3 camadas. Adicionar essas camadas permite um aprendizado de relações mais complexas pela rede."
   ]
  },
  {
   "cell_type": "code",
   "execution_count": 40,
   "metadata": {},
   "outputs": [
    {
     "name": "stdout",
     "output_type": "stream",
     "text": [
      "GPU nao disponivel, treinando na CPU.\n"
     ]
    }
   ],
   "source": [
    "# Podemos adicionar este código para verificar se a máquina possui GPU disponível para uso\n",
    "train_on_gpu=torch.cuda.is_available()\n",
    "\n",
    "if(train_on_gpu):\n",
    "    print('Trainando na GPU.')\n",
    "else:\n",
    "    print('GPU nao disponivel, treinando na CPU.')"
   ]
  },
  {
   "cell_type": "code",
   "execution_count": 41,
   "metadata": {},
   "outputs": [],
   "source": [
    "import torch.nn as nn\n",
    "\n",
    "class SentimentRNN(nn.Module):\n",
    "    \"\"\"\n",
    "    Modelo de uma rede recorrente usada para realizar analise de sentimentos.\n",
    "    \"\"\"\n",
    "\n",
    "    def __init__(self, vocab_size, output_size, embedding_dim, hidden_dim, n_layers, drop_prob=0.5):\n",
    "        # Aqui vamos inicializar a rede e os seus parâmetros \n",
    "        \n",
    "        super(SentimentRNN, self).__init__()\n",
    "\n",
    "        self.output_size = output_size\n",
    "        self.n_layers = n_layers\n",
    "        self.hidden_dim = hidden_dim\n",
    "        \n",
    "        # Camadas de embedding e da LSTM\n",
    "        # Na LSTM, deve-se colocar batch_first pois os tensores\n",
    "        # de input e output tem a forma: (batch, seq, feature)\n",
    "        self.embedding = nn.Embedding(vocab_size, embedding_dim)\n",
    "        self.lstm = nn.LSTM(embedding_dim, hidden_dim, n_layers, \n",
    "                            dropout=drop_prob, batch_first=True)\n",
    "        \n",
    "        # Dropout\n",
    "        self.dropout = nn.Dropout(p=0.3)\n",
    "        \n",
    "        # Camada linear, dropout e softmax\n",
    "        self.fc = nn.Linear(hidden_dim, output_size)\n",
    "        self.log_softmax = nn.LogSoftmax(dim=1)\n",
    "        \n",
    "\n",
    "    def forward(self, x, hidden):\n",
    "        # Essa função é para realizar o forward pass do modelo no input e nos hidden states\n",
    "        \n",
    "        batch_size = x.size(0)\n",
    "\n",
    "        # Embeddings e lstm_out\n",
    "        embeds = self.embedding(x)\n",
    "        lstm_out, hidden = self.lstm(embeds, hidden)\n",
    "    \n",
    "        # Juntando os outputs da LSTM\n",
    "        lstm_out = lstm_out.contiguous().view(-1, self.hidden_dim)\n",
    "        \n",
    "        # Dropout e a camada totalmente conectada\n",
    "        out = self.dropout(lstm_out)\n",
    "        out = self.fc(out)\n",
    "        # Função LogSoftmax\n",
    "        soft_out = self.log_softmax(out)\n",
    "        \n",
    "        # Reshape para o batchfirst\n",
    "        soft_out = soft_out.view(batch_size, -1, self.output_size)\n",
    "        soft_out = soft_out[:, -1, :] # pega as labels(o output) da ultima posiçao te todas as linhas\n",
    "        \n",
    "        # Retorna o último output da softmax e do hidden state\n",
    "        return soft_out, hidden\n",
    "    \n",
    "    \n",
    "    def init_hidden(self, batch_size):\n",
    "        # Essa função inicializa o hidden state\n",
    "        \n",
    "        # Cria dois novos tensores de tamanho n_layers x batch_size x hidden_dim,\n",
    "        # inicializados com zeros, pra o hidden state e a cell state da LSTM\n",
    "        weight = next(self.parameters()).detach()\n",
    "        \n",
    "        if (train_on_gpu):\n",
    "            hidden = (weight.new(self.n_layers, batch_size, self.hidden_dim).zero_().cuda(),\n",
    "                  weight.new(self.n_layers, batch_size, self.hidden_dim).zero_().cuda())\n",
    "        else:\n",
    "            hidden = (weight.new(self.n_layers, batch_size, self.hidden_dim).zero_(),\n",
    "                      weight.new(self.n_layers, batch_size, self.hidden_dim).zero_())\n",
    "\n",
    "        return hidden"
   ]
  },
  {
   "cell_type": "markdown",
   "metadata": {},
   "source": [
    "### Instanciando a rede\n",
    "\n",
    "Vamos instanciar a rede definindo os parâmetros:\n",
    "* `vocab_size`: O tamanho do nosso vocabulário, ou o range dos valores do nosso input (tokens);\n",
    "* `output_size`: O tamanho do nosso output desejado; É o número de scores da nossa classe (0-4);\n",
    "* `embedding_dim`: Número de colunas na tabela do embedding; É o tamanho dos nossos embeddings;\n",
    "* `hidden_dim`: Número de unidades na camada oculta das nossas células de LSTM. Geralmente quanto maior, melhor a performance. Os tamanhos mais comuns são 128, 256, 512, etc.;\n",
    "* `n_layers`: É o número de camadas LSTM na rede. Geralmente ficam entre 1-3."
   ]
  },
  {
   "cell_type": "code",
   "execution_count": 59,
   "metadata": {},
   "outputs": [],
   "source": [
    "# Vamos então instanciar a rede com os hyperparâmetros:\n",
    "vocab_size = len(vocabulary_to_int) + 1 # +1 pelo padding de 0's\n",
    "output_size = 5\n",
    "embedding_dim = 200\n",
    "hidden_dim = 256\n",
    "n_layers = 2"
   ]
  },
  {
   "cell_type": "code",
   "execution_count": 60,
   "metadata": {},
   "outputs": [
    {
     "name": "stdout",
     "output_type": "stream",
     "text": [
      "SentimentRNN(\n",
      "  (embedding): Embedding(19318, 200)\n",
      "  (lstm): LSTM(200, 256, num_layers=2, batch_first=True, dropout=0.5)\n",
      "  (dropout): Dropout(p=0.3, inplace=False)\n",
      "  (fc): Linear(in_features=256, out_features=5, bias=True)\n",
      "  (log_softmax): LogSoftmax()\n",
      ")\n"
     ]
    }
   ],
   "source": [
    "net = SentimentRNN(vocab_size, output_size, embedding_dim, hidden_dim, n_layers)\n",
    "\n",
    "print(net)"
   ]
  },
  {
   "cell_type": "markdown",
   "metadata": {},
   "source": [
    "### Treinamento\n",
    "\n",
    "Vamos estar usando a [CrossEntropyLoss](https://pytorch.org/docs/stable/nn.html#crossentropyloss), a chamada *Cross Entropy Loss*. Ela foi desenhada para trabalhar com problemas de classificação com C classes. \n",
    "\n",
    "Nesta fase também precisamos de outros *hyperparameters*:\n",
    "* `lr`: a learning rate do nosso otimizador escolhido;\n",
    "* `epochs`: o número de vezes que vamos iterar pelo dataset de treinamento;\n",
    "* `clip`: que é o valor máximo do gradiente para evitar o problema do \"explosive gradients\"."
   ]
  },
  {
   "cell_type": "code",
   "execution_count": 61,
   "metadata": {},
   "outputs": [],
   "source": [
    "import torch.optim as optim\n",
    "# Funções de otimização e de loss\n",
    "lr = 0.001\n",
    "\n",
    "criterion = nn.NLLLoss()\n",
    "# criterion = nn.CrossEntropyLoss()\n",
    "optimizer = torch.optim.Adam(net.parameters(), lr=lr)\n",
    "# optimizer = torch.optim.SGD(net.parameters(), lr=lr)"
   ]
  },
  {
   "cell_type": "code",
   "execution_count": 64,
   "metadata": {},
   "outputs": [
    {
     "name": "stdout",
     "output_type": "stream",
     "text": [
      "Epoch: 1/4... Step: 100... Loss: 0.733285... Val Loss: 1.068734\n",
      "Epoch: 1/4... Step: 200... Loss: 0.654291... Val Loss: 1.059251\n",
      "Epoch: 1/4... Step: 300... Loss: 0.669949... Val Loss: 1.083451\n",
      "Epoch: 1/4... Step: 400... Loss: 0.740750... Val Loss: 1.086438\n",
      "Epoch: 1/4... Step: 500... Loss: 0.725762... Val Loss: 1.047285\n",
      "Epoch: 1/4... Step: 600... Loss: 0.726553... Val Loss: 1.054882\n",
      "Epoch: 1/4... Step: 700... Loss: 0.837476... Val Loss: 1.057664\n",
      "Epoch: 1/4... Step: 800... Loss: 0.633633... Val Loss: 1.081536\n",
      "Epoch: 1/4... Step: 900... Loss: 0.651102... Val Loss: 1.058119\n",
      "Epoch: 2/4... Step: 1000... Loss: 0.560727... Val Loss: 1.102993\n",
      "Epoch: 2/4... Step: 1100... Loss: 0.693292... Val Loss: 1.089112\n",
      "Epoch: 2/4... Step: 1200... Loss: 0.666575... Val Loss: 1.116117\n",
      "Epoch: 2/4... Step: 1300... Loss: 0.745819... Val Loss: 1.103957\n",
      "Epoch: 2/4... Step: 1400... Loss: 0.702927... Val Loss: 1.062843\n",
      "Epoch: 2/4... Step: 1500... Loss: 0.744925... Val Loss: 1.060209\n",
      "Epoch: 2/4... Step: 1600... Loss: 0.769507... Val Loss: 1.059781\n",
      "Epoch: 2/4... Step: 1700... Loss: 0.864876... Val Loss: 1.042589\n",
      "Epoch: 2/4... Step: 1800... Loss: 0.578933... Val Loss: 1.057393\n",
      "Epoch: 2/4... Step: 1900... Loss: 0.629440... Val Loss: 1.069152\n",
      "Epoch: 3/4... Step: 2000... Loss: 0.651727... Val Loss: 1.125519\n",
      "Epoch: 3/4... Step: 2100... Loss: 0.683694... Val Loss: 1.148836\n",
      "Epoch: 3/4... Step: 2200... Loss: 0.756570... Val Loss: 1.120755\n",
      "Epoch: 3/4... Step: 2300... Loss: 0.650138... Val Loss: 1.097509\n",
      "Epoch: 3/4... Step: 2400... Loss: 0.602211... Val Loss: 1.096565\n",
      "Epoch: 3/4... Step: 2500... Loss: 0.703587... Val Loss: 1.101466\n",
      "Epoch: 3/4... Step: 2600... Loss: 0.803286... Val Loss: 1.094427\n",
      "Epoch: 3/4... Step: 2700... Loss: 0.552675... Val Loss: 1.092307\n",
      "Epoch: 3/4... Step: 2800... Loss: 0.609997... Val Loss: 1.083632\n",
      "Epoch: 3/4... Step: 2900... Loss: 0.922709... Val Loss: 1.087488\n",
      "Epoch: 4/4... Step: 3000... Loss: 0.635334... Val Loss: 1.169150\n",
      "Epoch: 4/4... Step: 3100... Loss: 0.483041... Val Loss: 1.122642\n",
      "Epoch: 4/4... Step: 3200... Loss: 0.694709... Val Loss: 1.111062\n",
      "Epoch: 4/4... Step: 3300... Loss: 0.864367... Val Loss: 1.120324\n",
      "Epoch: 4/4... Step: 3400... Loss: 0.520299... Val Loss: 1.108163\n",
      "Epoch: 4/4... Step: 3500... Loss: 0.725909... Val Loss: 1.093686\n",
      "Epoch: 4/4... Step: 3600... Loss: 0.706578... Val Loss: 1.106413\n",
      "Epoch: 4/4... Step: 3700... Loss: 0.653121... Val Loss: 1.102774\n",
      "Epoch: 4/4... Step: 3800... Loss: 0.583968... Val Loss: 1.092735\n",
      "Epoch: 4/4... Step: 3900... Loss: 0.690540... Val Loss: 1.104048\n"
     ]
    }
   ],
   "source": [
    "epochs = 4\n",
    "\n",
    "counter = 0\n",
    "print_every = 100\n",
    "clip = 5 # gradient clipping\n",
    "\n",
    "# Move o modelo para a GPU, se disponível\n",
    "# if(train_on_gpu):\n",
    "#     net.cuda()\n",
    "\n",
    "net.train()\n",
    "for e in range(epochs):\n",
    "    # Inicializando o hidden state\n",
    "    h = net.init_hidden(batch_size)\n",
    "    \n",
    "    losses = []\n",
    "\n",
    "    # Loop pelo batch\n",
    "    for inputs, labels in train_loader:\n",
    "        if( (inputs.shape[0],inputs.shape[1]) != (batch_size,seq_length)):\n",
    "            print(\"Pulando problema no Shape do Input: \",inputs.shape)\n",
    "            continue\n",
    "        counter += 1\n",
    "        \n",
    "        #if(train_on_gpu):\n",
    "        #    inputs, labels = inputs.cuda(), labels.cuda()\n",
    "\n",
    "        # Criando novo hidden state, para nao correr o risco de \n",
    "        # fazer o backprop por todo o historico de treinamento\n",
    "        h = tuple([each.detach() for each in h])\n",
    "\n",
    "        net.zero_grad()\n",
    "\n",
    "        output, h = net(inputs, h)\n",
    "        \n",
    "        loss = criterion(output.squeeze(), labels.long())\n",
    "        \n",
    "        losses.append(loss.item())\n",
    "        \n",
    "        loss.backward()\n",
    "        \n",
    "        # `clip_grad_norm` ajuda a prevenir o problema do \"exploding gradient\" nas RNNs e LSTMs\n",
    "        nn.utils.clip_grad_norm_(net.parameters(), clip)\n",
    "        \n",
    "        optimizer.step()\n",
    "\n",
    "        # Estatisticas da loss\n",
    "        if counter % print_every == 0:\n",
    "            \n",
    "            val_h = net.init_hidden(batch_size)\n",
    "            val_losses = []\n",
    "            net.eval()\n",
    "            \n",
    "            for inputs, labels in valid_loader:\n",
    "                \n",
    "                val_h = tuple([each.detach() for each in val_h])\n",
    "\n",
    "                #if(train_on_gpu):\n",
    "                #    inputs, labels = inputs.cuda(), labels.cuda()\n",
    "\n",
    "                output, val_h = net(inputs, val_h)\n",
    "                val_loss = criterion(output.squeeze(), labels.long())\n",
    "\n",
    "                val_losses.append(val_loss.item())\n",
    "\n",
    "            net.train()\n",
    "            print(\"Epoch: {}/{}...\".format(e+1, epochs),\n",
    "                  \"Step: {}...\".format(counter),\n",
    "                  \"Loss: {:.6f}...\".format(loss.item()),\n",
    "                  \"Val Loss: {:.6f}\".format(np.mean(val_losses)))"
   ]
  },
  {
   "cell_type": "code",
   "execution_count": 65,
   "metadata": {},
   "outputs": [
    {
     "data": {
      "image/png": "[encoded data removed]",
      "text/plain": [
       "<Figure size 432x288 with 1 Axes>"
      ]
     },
     "metadata": {
      "needs_background": "light"
     },
     "output_type": "display_data"
    }
   ],
   "source": [
    "plt.plot(val_losses)\n",
    "plt.show()"
   ]
  },
  {
   "cell_type": "code",
   "execution_count": 66,
   "metadata": {},
   "outputs": [
    {
     "data": {
      "text/plain": [
       "<All keys matched successfully>"
      ]
     },
     "execution_count": 66,
     "metadata": {},
     "output_type": "execute_result"
    }
   ],
   "source": [
    "# Salvando o modelo:\n",
    "torch.save(net.state_dict(), 'sentiment_net.pt')\n",
    "\n",
    "# Para abrir:\n",
    "net.load_state_dict(torch.load('sentiment_net.pt'))"
   ]
  },
  {
   "cell_type": "markdown",
   "metadata": {},
   "source": [
    "## Testando a rede\n",
    "\n",
    "Existem algumas formas de testar uma rede neural. Podemos testá-la através de:\n",
    "\n",
    "* **Teste de performance dos dados**: Primeiro vemos como nosso modelo performa em todos os `test_data` lá de cima, calculando o loss médio e a acurácia sobre os dados de teste;\n",
    "* **Inferência em dados gerados pelo usuário**: Podemos inserir um review por vez (sem o label) e ver o que o modelo treinado retorna.\n",
    "\n",
    "Aqui vou me ater apenas ao primeiro caso:"
   ]
  },
  {
   "cell_type": "code",
   "execution_count": 67,
   "metadata": {},
   "outputs": [
    {
     "name": "stdout",
     "output_type": "stream",
     "text": [
      "Test Loss: 1.127546\n",
      "\n",
      "Test Accuracy of     0: 17% (127/735)\n",
      "Test Accuracy of     1: 49% (1518/3094)\n",
      "Test Accuracy of     2: 70% (5311/7565)\n",
      "Test Accuracy of     3: 56% (1813/3197)\n",
      "Test Accuracy of     4: 19% (173/897)\n",
      "\n",
      "Test Accuracy (Overall): 57% (8942/15488)\n"
     ]
    }
   ],
   "source": [
    "# Pegando os dados de test_loss e de acurácia:\n",
    "test_loss = 0.0\n",
    "class_correct = list(0. for i in range(5))\n",
    "class_total = list(0. for i in range(5))\n",
    "\n",
    "h = net.init_hidden(batch_size)\n",
    "\n",
    "net.eval()\n",
    "for inputs, labels in test_loader:\n",
    "\n",
    "    h = tuple([each.data for each in h])\n",
    "\n",
    "#     if(train_on_gpu):\n",
    "#         inputs, labels = inputs.cuda(), labels.cuda()\n",
    "\n",
    "    output, h = net(inputs, h)\n",
    "\n",
    "    loss = criterion(output, labels.long())\n",
    "    \n",
    "    test_loss += loss.item()*inputs.size(0)\n",
    "    \n",
    "    # Convertendo as probabilidades do output para a classe prevista:\n",
    "    _, pred = torch.max(output, 1)\n",
    "    \n",
    "    # Comparando as previsões com o label verdadeiro:\n",
    "    correct = np.squeeze(pred.eq(labels.data.view_as(pred)))\n",
    "    \n",
    "    # Calculando a acurácia para cada classe de reviews\n",
    "    for i in range(len(labels)):\n",
    "        label = labels.data[i]\n",
    "        class_correct[label] += correct[i].item()\n",
    "        class_total[label] += 1\n",
    "\n",
    "\n",
    "### -- Status! -- ###\n",
    "# Calculando o test_loss medio\n",
    "test_loss = test_loss/len(test_loader.sampler)\n",
    "print('Test Loss: {:.6f}\\n'.format(test_loss))\n",
    "\n",
    "for i in range(5):\n",
    "    if class_total[i] > 0:\n",
    "        print('Test Accuracy of %5s: %2d%% (%2d/%2d)' % (\n",
    "            str(i), 100 * class_correct[i] / class_total[i],\n",
    "            np.sum(class_correct[i]), np.sum(class_total[i])))\n",
    "    else:\n",
    "        print('Test Accuracy of %5s: N/A (no training examples)' % (classes[i]))\n",
    "\n",
    "print('\\nTest Accuracy (Overall): %2d%% (%2d/%2d)' % (100. * np.sum(class_correct) / np.sum(class_total), np.sum(class_correct), np.sum(class_total)))"
   ]
  },
  {
   "cell_type": "markdown",
   "metadata": {},
   "source": [
    "Realizei no total 8 treinos completos, sendo este último uma continuação do penúltimo (o que acabou acarretando em um overfitting).\n",
    "\n",
    "Os dados sobre os treinos eu deixei no arquivo texto 'treino-sentiment-rnn.txt' para consultas.\n",
    "\n",
    "Apenas nos dois últimos treinos que realizei a verificação, sendo a melhor acurácia total obtida a de 59% (treino anterior a esse último). "
   ]
  },
  {
   "cell_type": "markdown",
   "metadata": {},
   "source": [
    "### Rápida conclusão\n",
    "\n",
    "Nesse desafio, vimos como realizar a implementação de uma rede neural recorrente capaz de prever sentimentos de reviews.\n",
    "\n",
    "Para uma boa implementação de um modelo como este, são necessárias três etapas importantes: A de organização e limpeza de dados, a escolha da arquitetura, e a fase de treinamento e validação. \n",
    "\n",
    "Por fim, é possivel aprimorarmos a rede se utilizarmos outros conjuntos de dados, por exemplo: com um conjunto de dados mais limpo (retirando as \"frases\" de comprimento menor que 3. É possível também buscarmos um vocabulário mais completo, e treinarmos uma camada de embedding separadamente da rede recorrente.\n"
   ]
  }
 ],
 "metadata": {
  "kernelspec": {
   "display_name": "Python 3",
   "language": "python",
   "name": "python3"
  },
  "language_info": {
   "codemirror_mode": {
    "name": "ipython",
    "version": 3
   },
   "file_extension": ".py",
   "mimetype": "text/x-python",
   "name": "python",
   "nbconvert_exporter": "python",
   "pygments_lexer": "ipython3",
   "version": "3.7.3"
  }
 },
 "nbformat": 4,
 "nbformat_minor": 2
}
