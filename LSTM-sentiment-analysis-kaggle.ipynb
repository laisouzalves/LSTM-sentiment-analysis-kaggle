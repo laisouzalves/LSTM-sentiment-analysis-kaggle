{
 "cells": [
  {
   "cell_type": "markdown",
   "metadata": {},
   "source": [
    "#  Desafio Kaggle - Sentiment Analysis\n",
    "\n",
    "O presente desafio foi retirado do site https://www.kaggle.com/c/sentiment-analysis-on-movie-reviews\n",
    "\n",
    "Os dados foram baixados através do site, na aba \"Data\". Os dados constituem dois conjuntos de críticas do filme \"The Rotten Tomatoes\": um para treinamento e outro para teste de benchmarking (não possui os sentimentos rotulados). Para mais detalhes, ver o site citado acima.\n",
    "\n",
    "Já a construção da rede foi baseada em uma aula que tive da Udacity, do \"PyThorch Scholarship Challenge\", no qual aprendi sobre redes neurais profundas (CNNs, LSTMs, etc.) Não há um link específico para o código desenvolvido por eles, mas vou deixar o notebook, que utilizei como base, junto dos arquivos. "
   ]
  },
  {
   "cell_type": "markdown",
   "metadata": {},
   "source": [
    "### Sobre os dados\n",
    "\n",
    "O dataset é composto de arquivos separados por \"tab\", contendo frases do dataset do Rotten Tomatoes.\n",
    "\n",
    "O arquivo 'train.tsv' contém as frases e suas correspondentes labels de sentimento. Ele também possui uma coluna chamada \"SenteceId\" que indica a qual frase aquela sentença pertence. E cada linha do documento possui uma \"PhraseId\".\n",
    "\n",
    "O objetivo é treinar um algoritmo capaz de classificar esses reviews (contidos no conjunto de treinamento) em labels de 0 a 4, sendo:\n",
    "\n",
    "0 - negativo\n",
    "\n",
    "1 - um pouco negativo\n",
    "\n",
    "2 - neutro\n",
    "\n",
    "3 - um pouco positivo\n",
    "\n",
    "4 - positivo"
   ]
  },
  {
   "cell_type": "code",
   "execution_count": 1,
   "metadata": {},
   "outputs": [],
   "source": [
    "# Abrindo os arquivos:\n",
    "import pandas as pd\n",
    "\n",
    "train = pd.read_csv('train.tsv', sep='\\t')\n",
    "test = pd.read_csv('test.tsv', sep='\\t')"
   ]
  },
  {
   "cell_type": "code",
   "execution_count": 2,
   "metadata": {},
   "outputs": [
    {
     "data": {
      "text/html": [
       "<div>\n",
       "<style scoped>\n",
       "    .dataframe tbody tr th:only-of-type {\n",
       "        vertical-align: middle;\n",
       "    }\n",
       "\n",
       "    .dataframe tbody tr th {\n",
       "        vertical-align: top;\n",
       "    }\n",
       "\n",
       "    .dataframe thead th {\n",
       "        text-align: right;\n",
       "    }\n",
       "</style>\n",
       "<table border=\"1\" class=\"dataframe\">\n",
       "  <thead>\n",
       "    <tr style=\"text-align: right;\">\n",
       "      <th></th>\n",
       "      <th>PhraseId</th>\n",
       "      <th>SentenceId</th>\n",
       "      <th>Phrase</th>\n",
       "      <th>Sentiment</th>\n",
       "    </tr>\n",
       "  </thead>\n",
       "  <tbody>\n",
       "    <tr>\n",
       "      <th>0</th>\n",
       "      <td>1</td>\n",
       "      <td>1</td>\n",
       "      <td>A series of escapades demonstrating the adage ...</td>\n",
       "      <td>1</td>\n",
       "    </tr>\n",
       "    <tr>\n",
       "      <th>1</th>\n",
       "      <td>2</td>\n",
       "      <td>1</td>\n",
       "      <td>A series of escapades demonstrating the adage ...</td>\n",
       "      <td>2</td>\n",
       "    </tr>\n",
       "    <tr>\n",
       "      <th>2</th>\n",
       "      <td>3</td>\n",
       "      <td>1</td>\n",
       "      <td>A series</td>\n",
       "      <td>2</td>\n",
       "    </tr>\n",
       "    <tr>\n",
       "      <th>3</th>\n",
       "      <td>4</td>\n",
       "      <td>1</td>\n",
       "      <td>A</td>\n",
       "      <td>2</td>\n",
       "    </tr>\n",
       "    <tr>\n",
       "      <th>4</th>\n",
       "      <td>5</td>\n",
       "      <td>1</td>\n",
       "      <td>series</td>\n",
       "      <td>2</td>\n",
       "    </tr>\n",
       "  </tbody>\n",
       "</table>\n",
       "</div>"
      ],
      "text/plain": [
       "   PhraseId  SentenceId                                             Phrase  \\\n",
       "0         1           1  A series of escapades demonstrating the adage ...   \n",
       "1         2           1  A series of escapades demonstrating the adage ...   \n",
       "2         3           1                                           A series   \n",
       "3         4           1                                                  A   \n",
       "4         5           1                                             series   \n",
       "\n",
       "   Sentiment  \n",
       "0          1  \n",
       "1          2  \n",
       "2          2  \n",
       "3          2  \n",
       "4          2  "
      ]
     },
     "execution_count": 2,
     "metadata": {},
     "output_type": "execute_result"
    }
   ],
   "source": [
    "# Arquivo 'train.tsv'\n",
    "\n",
    "train.head()"
   ]
  },
  {
   "cell_type": "code",
   "execution_count": 3,
   "metadata": {},
   "outputs": [
    {
     "data": {
      "text/plain": [
       "(156060, 4)"
      ]
     },
     "execution_count": 3,
     "metadata": {},
     "output_type": "execute_result"
    }
   ],
   "source": [
    "train.shape"
   ]
  },
  {
   "cell_type": "code",
   "execution_count": 4,
   "metadata": {},
   "outputs": [
    {
     "data": {
      "text/plain": [
       "8544"
      ]
     },
     "execution_count": 4,
     "metadata": {},
     "output_type": "execute_result"
    }
   ],
   "source": [
    "train['SentenceId'][156059]"
   ]
  },
  {
   "cell_type": "code",
   "execution_count": 5,
   "metadata": {},
   "outputs": [
    {
     "name": "stdout",
     "output_type": "stream",
     "text": [
      "8544\n",
      "156060\n"
     ]
    }
   ],
   "source": [
    "# Ultima SentenceId = 8544\n",
    "\n",
    "sentence_id = [i for i in range(8545)]\n",
    "print(sentence_id[-1])\n",
    "\n",
    "print(len(train))"
   ]
  },
  {
   "cell_type": "code",
   "execution_count": 6,
   "metadata": {},
   "outputs": [
    {
     "data": {
      "text/html": [
       "<div>\n",
       "<style scoped>\n",
       "    .dataframe tbody tr th:only-of-type {\n",
       "        vertical-align: middle;\n",
       "    }\n",
       "\n",
       "    .dataframe tbody tr th {\n",
       "        vertical-align: top;\n",
       "    }\n",
       "\n",
       "    .dataframe thead th {\n",
       "        text-align: right;\n",
       "    }\n",
       "</style>\n",
       "<table border=\"1\" class=\"dataframe\">\n",
       "  <thead>\n",
       "    <tr style=\"text-align: right;\">\n",
       "      <th></th>\n",
       "      <th>PhraseId</th>\n",
       "      <th>SentenceId</th>\n",
       "      <th>Phrase</th>\n",
       "    </tr>\n",
       "  </thead>\n",
       "  <tbody>\n",
       "    <tr>\n",
       "      <th>0</th>\n",
       "      <td>156061</td>\n",
       "      <td>8545</td>\n",
       "      <td>An intermittently pleasing but mostly routine ...</td>\n",
       "    </tr>\n",
       "    <tr>\n",
       "      <th>1</th>\n",
       "      <td>156062</td>\n",
       "      <td>8545</td>\n",
       "      <td>An intermittently pleasing but mostly routine ...</td>\n",
       "    </tr>\n",
       "    <tr>\n",
       "      <th>2</th>\n",
       "      <td>156063</td>\n",
       "      <td>8545</td>\n",
       "      <td>An</td>\n",
       "    </tr>\n",
       "    <tr>\n",
       "      <th>3</th>\n",
       "      <td>156064</td>\n",
       "      <td>8545</td>\n",
       "      <td>intermittently pleasing but mostly routine effort</td>\n",
       "    </tr>\n",
       "    <tr>\n",
       "      <th>4</th>\n",
       "      <td>156065</td>\n",
       "      <td>8545</td>\n",
       "      <td>intermittently pleasing but mostly routine</td>\n",
       "    </tr>\n",
       "  </tbody>\n",
       "</table>\n",
       "</div>"
      ],
      "text/plain": [
       "   PhraseId  SentenceId                                             Phrase\n",
       "0    156061        8545  An intermittently pleasing but mostly routine ...\n",
       "1    156062        8545  An intermittently pleasing but mostly routine ...\n",
       "2    156063        8545                                                 An\n",
       "3    156064        8545  intermittently pleasing but mostly routine effort\n",
       "4    156065        8545         intermittently pleasing but mostly routine"
      ]
     },
     "execution_count": 6,
     "metadata": {},
     "output_type": "execute_result"
    }
   ],
   "source": [
    "# Arquivo 'test.tsv'\n",
    "\n",
    "test.head()"
   ]
  },
  {
   "cell_type": "code",
   "execution_count": 7,
   "metadata": {},
   "outputs": [
    {
     "data": {
      "text/plain": [
       "(66292, 3)"
      ]
     },
     "execution_count": 7,
     "metadata": {},
     "output_type": "execute_result"
    }
   ],
   "source": [
    "test.shape"
   ]
  },
  {
   "cell_type": "raw",
   "metadata": {},
   "source": [
    "# Para possível uso futuro, escolhi criar listas separadas de cada objeto dos arquivos de treinamento:\n",
    "\n",
    "phrases = []\n",
    "sentiments = []\n",
    "appended_ids = []\n",
    "for i in range(len(train)):\n",
    "    if train['SentenceId'][i] not in appended_ids:\n",
    "        phrases.append(train['Phrase'][i])\n",
    "        sentiments.append(train['Sentiment'][i])\n",
    "        appended_ids.append(train['SentenceId'][i])"
   ]
  },
  {
   "cell_type": "raw",
   "metadata": {},
   "source": [
    "def pretty_print_review_and_label(labels, reviews, number):\n",
    "    for i in range(number):\n",
    "        print(\"Sentimento = \" + str(labels[i]) + \":\\t\" + reviews[i][:150] + \"...\\n\")\n",
    "    \n",
    "pretty_print_review_and_label(sentiments, phrases, 5)"
   ]
  },
  {
   "cell_type": "markdown",
   "metadata": {},
   "source": [
    "## Implementação de uma RNN utilizando PyTorch\n",
    "\n",
    "Escolhi utilizar a biblioteca do PyTorch, baseada na biblioteca torch, para a implementação de uma rede neural. Esta biblioteca é utilizada para aplicações de deep learning e NLP.\n",
    ">O PyTorch é um software open source gratuito e foi inicialmente desenvolvido pela equipe de pesquisa de AI do Facebook.\n",
    "\n",
    "### Arquitetura da Rede\n",
    "\n",
    "Vou, então, implementar uma rede neural recorrente que classifica os sentimentos desses reviews. Na imagem abaixo podemos ter uma melhor ideia de como ela é composta (**Obs.**: No lugar das camadas Sigmoid, vamos utilizar uma camada totalmente conectada com ativação softmax):\n",
    "\n",
    "<img src=\"network_diagram.png\" width=40%>\n",
    "\n",
    "**Primeiro, vamos passar as palavras por uma camada de \"mergulho\" (embedding layer, em inglês)**\n",
    ">Precisamos dessa camada inicial pois temos milhares de palavras e precisamos ser mais eficientes nas representações de nossos dados de input. No nosso caso, esta camada é utilizada para fins de redução da dimensionalidade. Utilizando essa camada de mergulho, e deixando o algoritmo aprender sozinho uma nova representação, já é possível obter uma boa acurácia.\n",
    "\n",
    "**Após passarmos o input na camada de mergulho, os novos embeddings são passados pelas células LSTMs**\n",
    ">A LSTM é responsável por adicionar conexões recorrentes eficientes para o tratamento de textos, nos dando informações sobre a sequência de texto, ao invés de informações das palavras de forma isolada.\n",
    "\n",
    "**Por fim, a LSTM gera um output que é passado por uma última camada totalmente conectada**\n",
    ">A última camada vai ser composta por uma camada totalmente conectada (de 5 neurons), pois temos 5 tipos de inputs diferentes. Por fim, a função de ativação escolhida vai ser a função softmax, que é uma boa escolha para tratar a classificação multiclasse.\n",
    "\n",
    "(Considerando a imagem anterior, não é necessário se preocupar com as saídas da função de ativação, exceto para a **última**; podendo ignorar as restantes. Mais a frente, vamos calcular a loss function comparando o output do último passo com os labels de treinamento.)\n",
    "\n",
    "----\n",
    "## Pré-processamento dos dados\n",
    "\n",
    "O primeiro passo antes de construir a rede neural é transformar os dados na melhor forma para inserir na rede. Como vamos usar camadas de embedding, vai ser necessário codificar cada palavra como um inteiro. Além disso, também é necessário \"limpar\" os ruídos.\n",
    "\n",
    "Os passos de processamento serão divididos em:\n",
    ">* Vamos reduzir o noise dos dados, obtendo uma nova tabela de treinamento com menos frases (Vamos inicialmente considerar apenas as frases inteiras);\n",
    "* Vamos excluir os períodos e pontuações diversas (se houverem);\n",
    "* Por fim, vamos combinar todas as palavras em uma grande string para codificar as palavras em vetores unitários."
   ]
  },
  {
   "cell_type": "code",
   "execution_count": 8,
   "metadata": {},
   "outputs": [],
   "source": [
    "# Vamos então reabrir os arquivos e entender como eles se organizam:\n",
    "\n",
    "g = open('train.tsv','r')\n",
    "train = list(map(lambda x: x[:-1], g.readlines()))\n",
    "g.close()\n",
    "\n",
    "g = open('test.tsv','r')\n",
    "test = list(map(lambda x: x[:-1], g.readlines()))\n",
    "g.close()"
   ]
  },
  {
   "cell_type": "code",
   "execution_count": 9,
   "metadata": {},
   "outputs": [
    {
     "data": {
      "text/plain": [
       "['PhraseId\\tSentenceId\\tPhrase\\tSentiment',\n",
       " '1\\t1\\tA series of escapades demonstrating the adage that what is good for the goose is also good for the gander , some of which occasionally amuses but none of which amounts to much of a story .\\t1',\n",
       " '2\\t1\\tA series of escapades demonstrating the adage that what is good for the goose\\t2',\n",
       " '3\\t1\\tA series\\t2',\n",
       " '4\\t1\\tA\\t2',\n",
       " '5\\t1\\tseries\\t2',\n",
       " '6\\t1\\tof escapades demonstrating the adage that what is good for the goose\\t2',\n",
       " '7\\t1\\tof\\t2',\n",
       " '8\\t1\\tescapades demonstrating the adage that what is good for the goose\\t2',\n",
       " '9\\t1\\tescapades\\t2']"
      ]
     },
     "execution_count": 9,
     "metadata": {},
     "output_type": "execute_result"
    }
   ],
   "source": [
    "train[:10]"
   ]
  },
  {
   "cell_type": "code",
   "execution_count": 10,
   "metadata": {},
   "outputs": [
    {
     "data": {
      "text/plain": [
       "['PhraseId\\tSentenceId\\tPhrase',\n",
       " '156061\\t8545\\tAn intermittently pleasing but mostly routine effort .',\n",
       " '156062\\t8545\\tAn intermittently pleasing but mostly routine effort',\n",
       " '156063\\t8545\\tAn',\n",
       " '156064\\t8545\\tintermittently pleasing but mostly routine effort',\n",
       " '156065\\t8545\\tintermittently pleasing but mostly routine',\n",
       " '156066\\t8545\\tintermittently pleasing but',\n",
       " '156067\\t8545\\tintermittently pleasing',\n",
       " '156068\\t8545\\tintermittently',\n",
       " '156069\\t8545\\tpleasing']"
      ]
     },
     "execution_count": 10,
     "metadata": {},
     "output_type": "execute_result"
    }
   ],
   "source": [
    "test[:10]"
   ]
  },
  {
   "cell_type": "code",
   "execution_count": 11,
   "metadata": {},
   "outputs": [
    {
     "name": "stdout",
     "output_type": "stream",
     "text": [
      "SentenceId: 1\n",
      "Frase: A series of escapades demonstrating the adage that what is good for the goose is also good for the gander , some of which occasionally amuses but none of which amounts to much of a story .\n",
      "Sentimento: 1\n"
     ]
    }
   ],
   "source": [
    "# Vamos por partes... Primeiramente vejamos uma forma de separar cada frase do treinamento\n",
    "\n",
    "linha_1 = train[1]\n",
    "lista_teste = linha_1.split('\\t')\n",
    "print(\"SentenceId: \" + lista_teste[1] +\"\\nFrase: \" + lista_teste[2] + \"\\nSentimento: \" + lista_teste[3])"
   ]
  },
  {
   "cell_type": "code",
   "execution_count": 12,
   "metadata": {},
   "outputs": [
    {
     "name": "stdout",
     "output_type": "stream",
     "text": [
      "[['PhraseId', 'SentenceId', 'Phrase', 'Sentiment'], ['1', '1', 'A series of escapades demonstrating the adage that what is good for the goose is also good for the gander , some of which occasionally amuses but none of which amounts to much of a story .', '1'], ['2', '1', 'A series of escapades demonstrating the adage that what is good for the goose', '2'], ['3', '1', 'A series', '2'], ['4', '1', 'A', '2']]\n"
     ]
    }
   ],
   "source": [
    "# Fazendo isso para todos os dados (primeiro para treinamento):\n",
    "\n",
    "train_lines = []\n",
    "for i in range(len(train)):\n",
    "    train_lines.append(train[i])\n",
    "\n",
    "train_set_lines = []\n",
    "for i in range(len(train_lines)):\n",
    "    dados_linha = train_lines[i]\n",
    "    dados_linha = dados_linha.split('\\t')\n",
    "    train_set_lines.append(dados_linha)\n",
    "\n",
    "print(train_set_lines[:5])"
   ]
  },
  {
   "cell_type": "code",
   "execution_count": 13,
   "metadata": {},
   "outputs": [
    {
     "name": "stdout",
     "output_type": "stream",
     "text": [
      "[['PhraseId', 'SentenceId', 'Phrase'], ['156061', '8545', 'An intermittently pleasing but mostly routine effort .'], ['156062', '8545', 'An intermittently pleasing but mostly routine effort'], ['156063', '8545', 'An'], ['156064', '8545', 'intermittently pleasing but mostly routine effort']]\n"
     ]
    }
   ],
   "source": [
    "# E agora para os dados de teste:\n",
    "\n",
    "test_lines = []\n",
    "for i in range(len(test)):\n",
    "    test_lines.append(test[i])\n",
    "\n",
    "test_set_lines = []\n",
    "for i in range(len(test_lines)):\n",
    "    dados_linha = test_lines[i]\n",
    "    dados_linha = dados_linha.split('\\t')\n",
    "    test_set_lines.append(dados_linha)\n",
    "\n",
    "print(test_set_lines[:5])"
   ]
  },
  {
   "cell_type": "code",
   "execution_count": 14,
   "metadata": {},
   "outputs": [
    {
     "name": "stdout",
     "output_type": "stream",
     "text": [
      "['50', '1', 'none of which amounts to much of a story', 1]\n"
     ]
    }
   ],
   "source": [
    "# Arrumando o tipo do dado \"Sentiment\". Vamos transformar as strings\n",
    "# em inteiros:\n",
    "\n",
    "for i in range(1, len(train_set_lines)):\n",
    "    train_set_lines[i][3] = int(train_set_lines[i][3])\n",
    "    \n",
    "print(train_set_lines[50])"
   ]
  },
  {
   "cell_type": "code",
   "execution_count": 15,
   "metadata": {},
   "outputs": [],
   "source": [
    "# Arrumando as frases. Vamos substituir todas as maiusculas por\n",
    "# minusculas e tirar quaisquer pontuaçoes desnecessárias dos dados\n",
    "# (tanto de treinamento quanto de teste):\n",
    "\n",
    "import re # Esta é a biblioteca ReGex, usada para auxiliar a localização\n",
    "          # de padrões\n",
    "\n",
    "for i in range(len(train_set_lines)):\n",
    "    train_set_lines[i][2] = train_set_lines[i][2].lower()\n",
    "    string = train_set_lines[i][2]\n",
    "    train_set_lines[i][2] = re.sub('[^a-z0-9\\s]', '', string)\n",
    "    \n",
    "for i in range(len(test_set_lines)):\n",
    "    test_set_lines[i][2] = test_set_lines[i][2].lower()\n",
    "    string = test_set_lines[i][2]\n",
    "    test_set_lines[i][2] = re.sub('[^a-z0-9\\s]', '', string)"
   ]
  },
  {
   "cell_type": "code",
   "execution_count": 16,
   "metadata": {},
   "outputs": [
    {
     "name": "stdout",
     "output_type": "stream",
     "text": [
      "Sentimento: 1\n",
      "Frase para treino: none of which amounts to much of a story\n",
      "\n",
      "Frase para teste: an intermittently pleasing but mostly routine effort \n"
     ]
    }
   ],
   "source": [
    "print(\"Sentimento: \"+str(train_set_lines[50][3])+\"\\nFrase para treino: \"+train_set_lines[50][2])\n",
    "print()\n",
    "print(\"Frase para teste: \"+test_set_lines[1][2])"
   ]
  },
  {
   "cell_type": "code",
   "execution_count": 17,
   "metadata": {},
   "outputs": [
    {
     "name": "stdout",
     "output_type": "stream",
     "text": [
      "a series of escapades demonstrating the adage that what is good for the goose is also good for the gander  some of which occasionally amuses but none of which amounts to much of a story  a series of escapades demonstrating the adage that what is good for the goose a series a series of escapades demonstrating the adage that what is good for the goose of escapades demonstrating the adage that what is good for the goose escapades demonstrating the adage that what is good for the goose demonstrating the adage demonstrating the adage the adage that what is good for the goose that what is good for the goose what is good for the goose is good for the goose good for the goose for the goose goose is also good for the gander  some of which occasionally amuses but none of which amounts to much of a story  is also good for the gander  some of which occasionally amuses but none of which amounts to much of a story is also also good for the gander  some of which occasionally amuses but none of which \n"
     ]
    }
   ],
   "source": [
    "# Vamos agora criar uma lista de palavras (um vocabulário\n",
    "# para uso futuro):\n",
    "\n",
    "all_text = []\n",
    "for i in range(1,len(train_set_lines)):\n",
    "    all_text.append(train_set_lines[i][2])\n",
    "\n",
    "for i in range(1,len(test_set_lines)):\n",
    "    all_text.append(test_set_lines[i][2])\n",
    "\n",
    "all_text = ' '.join(all_text)\n",
    "print(all_text[:1000])\n",
    "\n",
    "# Para quem manja de comprehensions, podemos escrever o mesmo\n",
    "# código acima como:\n",
    "# all_text_comprehension = ' '.join([train_set_lines[i][2] for i in range(1,len(train_set_lines))])\n",
    "# print(all_text_comprehension[:1000])"
   ]
  },
  {
   "cell_type": "code",
   "execution_count": 18,
   "metadata": {},
   "outputs": [
    {
     "name": "stdout",
     "output_type": "stream",
     "text": [
      "['a', 'series', 'of', 'escapades', 'demonstrating', 'the', 'adage', 'that', 'what', 'is', 'good', 'for', 'the', 'goose', 'is', 'also', 'good', 'for', 'the', 'gander', 'some', 'of', 'which', 'occasionally', 'amuses', 'but', 'none', 'of', 'which', 'amounts']\n"
     ]
    }
   ],
   "source": [
    "words = all_text.split()\n",
    "print(words[:30])"
   ]
  },
  {
   "cell_type": "markdown",
   "metadata": {},
   "source": [
    "### Codificando as palavras\n",
    "\n",
    "Para utilizarmos a camada de mergulho (\"embedding layer\"), precisamos passar números inteiros na rede. Uma forma de fazer isso é criando um dicionário que mapeia palavras para números, tornando possível a conversão de cada uma das palavras dos reviews em números.\n",
    "\n",
    "Mais tarde, vamos acrescentar zeros (o chamado \"padding\") nos vetores de input."
   ]
  },
  {
   "cell_type": "code",
   "execution_count": 19,
   "metadata": {},
   "outputs": [],
   "source": [
    "# Vamos então contar as palavras (para futuras análises - opcional)\n",
    "from collections import Counter\n",
    "\n",
    "counts = Counter(words)"
   ]
  },
  {
   "cell_type": "markdown",
   "metadata": {},
   "source": [
    ">**Dica pra vida**: É possivel também analisarmos separadamente as palavras que mais aparecem em cada um dos tipos de reviews (rotulados de 0 a 4). Isso pode nor dar uma ideia de quais palavras são mais vistas positivamente e quais estão mais correlacionadas com o sentimento negativo."
   ]
  },
  {
   "cell_type": "code",
   "execution_count": 20,
   "metadata": {},
   "outputs": [
    {
     "name": "stdout",
     "output_type": "stream",
     "text": [
      "Total de palavras em todos os reviews: 1462139\n",
      "Total de palavras no vocabulario: 19317\n"
     ]
    }
   ],
   "source": [
    "# E criar um vocabulário, ordenado a partir das palavras mais faladas\n",
    "# Obs.: Este vocabulário é composto de palavras únicas, pois\n",
    "# o método Counter() conta as aparições de cada palavra e\n",
    "# retorna um vocabulário com o número de aparições e as strings\n",
    "vocabulary = sorted(counts, key=counts.get, reverse=True)\n",
    "print(\"Total de palavras em todos os reviews: {}\".format(len(words)))\n",
    "print(\"Total de palavras no vocabulario: {}\".format(len(vocabulary)))"
   ]
  },
  {
   "cell_type": "code",
   "execution_count": 21,
   "metadata": {},
   "outputs": [],
   "source": [
    "# Criando um novo dicionário, que mapeia cada palavra (a partir da que\n",
    "# mais aparece) em números, começando de 1:\n",
    "vocabulary_to_int = {}\n",
    "int_to_vocabulary = {}\n",
    "for i, word in enumerate(vocabulary, 1):\n",
    "    vocabulary_to_int[word] = i\n",
    "    int_to_vocabulary[i] = word\n",
    "\n",
    "# Forma alternativa, utilizando dict comprehension\n",
    "# vocabulary_to_int = {word: i for i, word in enumerate(vocabulary, 1)}"
   ]
  },
  {
   "cell_type": "code",
   "execution_count": 22,
   "metadata": {},
   "outputs": [],
   "source": [
    "# E agora transformando cada review em números\n",
    "# e 'abusando' das list comprehensions:\n",
    "train_set_int = []\n",
    "for review in train_set_lines:\n",
    "    if review[0] == 'PhraseId':\n",
    "        continue\n",
    "    train_set_int.append([vocabulary_to_int[word] for word in review[2].split()])"
   ]
  },
  {
   "cell_type": "code",
   "execution_count": 23,
   "metadata": {},
   "outputs": [
    {
     "name": "stdout",
     "output_type": "stream",
     "text": [
      "Palavras únicas:  19317\n",
      "\n",
      "Review em formato token:\n",
      " [597, 3, 82, 2668, 5, 50, 3, 2, 40]\n"
     ]
    }
   ],
   "source": [
    "# Conferindo:\n",
    "print(\"Palavras únicas: \", len(vocabulary_to_int))\n",
    "print()\n",
    "print(\"Review em formato token:\\n\", train_set_int[49])"
   ]
  },
  {
   "cell_type": "code",
   "execution_count": 24,
   "metadata": {},
   "outputs": [
    {
     "name": "stdout",
     "output_type": "stream",
     "text": [
      "1\n",
      "\n",
      "[16, 2707, 2797, 19, 494, 956, 372]\n"
     ]
    }
   ],
   "source": [
    "# E para uso futuro, vamos já deixar o vetor dos labels\n",
    "# de sentimentos pronto. O label da posição x ('encoded_label[x]')\n",
    "# corresponde ao review 'train_set_int[x]':\n",
    "import numpy as np\n",
    "\n",
    "encoded_labels = np.array([train_set_lines[i][3] for i in range(1,len(train_set_lines))])\n",
    "print(encoded_labels[49])\n",
    "\n",
    "# E os dados de teste codificados:\n",
    "test_set_int = []\n",
    "for review in test_set_lines:\n",
    "    if review[0] == 'PhraseId':\n",
    "        continue\n",
    "    test_set_int.append([vocabulary_to_int[word] for word in review[2].split()])\n",
    "\n",
    "print()\n",
    "print(test_set_int[0])"
   ]
  },
  {
   "cell_type": "code",
   "execution_count": 25,
   "metadata": {},
   "outputs": [
    {
     "name": "stdout",
     "output_type": "stream",
     "text": [
      "[597, 3, 82, 2668, 5, 50, 3, 2, 40]\n",
      "none of which amounts to much of a story\n"
     ]
    }
   ],
   "source": [
    "# Para conferir se as conversões estão de acordo com o esperado...\n",
    "\n",
    "review_49 = train_set_int[49] # review em formato token\n",
    "print(review_49)\n",
    "review_49_words = ' '.join([int_to_vocabulary[i] for i in review_49]) # refazendo a conversão\n",
    "print(review_49_words)\n",
    "\n",
    "# Obs.: a partir daqui, os dados estão \"shifted\" por uma casa a menos,\n",
    "# isso pq nos dados anteriores tínhamos os cabeçalhos (aquele com os títulos\n",
    "# das colunas em formato string)."
   ]
  },
  {
   "cell_type": "markdown",
   "metadata": {},
   "source": [
    "### Removendo outliers\n",
    "\n",
    "Um passo de pre-processamento adicional é o de padronizar nossos inputs. Isto é, nossa rede vai esperar como input um vetor de tamanho fixo. Assim, queremos formatar nossos reviews em um tamanho específico.\n",
    "\n",
    "Para fazer isso, podemos dividir o processo em dois passos:\n",
    "\n",
    "1. Retirar os reviews outliers (i.e., aqueles muito compridos ou muito curtos);\n",
    "2. Preencher (o famoso *padding*) ou truncar o restante dos dados, de forma a termos reviews com o mesmo tamanho."
   ]
  },
  {
   "cell_type": "code",
   "execution_count": 26,
   "metadata": {},
   "outputs": [
    {
     "name": "stdout",
     "output_type": "stream",
     "text": [
      "Número total de reviews: 156060\n",
      "Quantos reviews de tamanho nulo: 27\n",
      "Tamanho máximo de um review: 48\n"
     ]
    }
   ],
   "source": [
    "# Vamos procurar por reviews \"extremos\", aqueles\n",
    "# que podem \"bagunçar\" com o treinamento:\n",
    "\n",
    "tamanho_reviews = Counter([len(x) for x in train_set_int]) # Dict: {objeto: contagem}\n",
    "print(\"Número total de reviews: {}\".format(len(train_set_int)))\n",
    "print(\"Quantos reviews de tamanho nulo: {}\".format(tamanho_reviews[0]))\n",
    "print(\"Tamanho máximo de um review: {}\".format(max(tamanho_reviews)))"
   ]
  },
  {
   "cell_type": "code",
   "execution_count": 27,
   "metadata": {},
   "outputs": [
    {
     "name": "stdout",
     "output_type": "stream",
     "text": [
      "[0, 1, 2, 3, 4, 5, 6, 7, 8, 9, 10, 11, 12, 13, 14, 15, 16, 17, 18, 19, 20, 21, 22, 23, 24, 25, 26, 27, 28, 29, 30, 31, 32, 33, 34, 35, 36, 37, 38, 39, 40, 41, 42, 43, 44, 45, 46, 47, 48]\n",
      "\n",
      "[27053, 21554, 18032, 14614, 10981, 8813, 7252, 6131, 5202, 4505, 3954, 3460, 3013, 2676, 2422, 2150, 1872, 1689, 1443, 1327, 1215, 1054, 840, 757, 649, 590, 453, 387, 367, 296, 270, 223, 150, 129, 110, 88, 75, 57, 35, 35, 32, 27, 21, 20, 15, 7, 6, 6, 3]\n"
     ]
    }
   ],
   "source": [
    "print(sorted(tamanho_reviews))\n",
    "print()\n",
    "print(sorted(tamanho_reviews.values(), reverse=True))"
   ]
  },
  {
   "cell_type": "code",
   "execution_count": 28,
   "metadata": {},
   "outputs": [
    {
     "name": "stdout",
     "output_type": "stream",
     "text": [
      "Número total de reviews para teste: 66292\n",
      "Quantos reviews de teste de tamanho nulo: 21\n",
      "Tamanho máximo de review do teste: 52\n"
     ]
    }
   ],
   "source": [
    "tamanho_reviews_test = Counter([len(x) for x in test_set_int])\n",
    "print(\"Número total de reviews para teste: {}\".format(len(test_set_int)))\n",
    "print(\"Quantos reviews de teste de tamanho nulo: {}\".format(tamanho_reviews_test[0]))\n",
    "print(\"Tamanho máximo de review do teste: {}\".format(max(tamanho_reviews_test)))"
   ]
  },
  {
   "cell_type": "code",
   "execution_count": 29,
   "metadata": {},
   "outputs": [],
   "source": [
    "tamanho = sorted([key for key in tamanho_reviews.keys()])\n",
    "numero = [tamanho_reviews[lenght] for lenght in tamanho]"
   ]
  },
  {
   "cell_type": "code",
   "execution_count": 30,
   "metadata": {},
   "outputs": [
    {
     "data": {
      "text/plain": [
       "<Figure size 640x480 with 1 Axes>"
      ]
     },
     "metadata": {},
     "output_type": "display_data"
    }
   ],
   "source": [
    "import matplotlib.pyplot as plt\n",
    "plt.plot(tamanho, numero)\n",
    "plt.xlabel('Tamanho da review')\n",
    "plt.ylabel('Quantidade')\n",
    "plt.show()"
   ]
  },
  {
   "cell_type": "markdown",
   "metadata": {},
   "source": [
    "Vemos que o tamanho da review é uma distribuição assimétrica com concentração à esquerda. Isto porque foram acrecentados dados repetidos na tabela de reviews. Lembrando lá do início do notebook, algumas frases foram sendo cortadas e adicionadas como uma nova linha e com um (às vezes novo) sentimento relacionado à frase cortada. Isto nos permite uma maior liberdade com os dados, a fim de escolhermos o que fazer com cada um deles.\n",
    "\n",
    "> Por curiosidade, a *moda* dessa distribuição é 2 (i.e., existem mais reviews de tamanho 2 do que de qualquer outro tamanho). O tamanho máximo é de 48 (no caso do conjunto de teste, o tamanho máximo é de 52, o que é um bom tamanho para inserir na rede). E o mínimo é 0 (Um \"problema\", esses reviews de tamanho nulo devem ser excluídos dos dados).\n",
    "\n",
    "No nosso caso, como dito anteriormente, vamos considerar apenas as frases maiores (desconsiderando as frases muito curtas, ou de comprimento nulo)."
   ]
  },
  {
   "cell_type": "markdown",
   "metadata": {},
   "source": [
    "---\n",
    ">**Curiosidade**: Por quê desconsideramos os reviews de tamanho nulo? Como eles se distribuem?\n",
    "\n",
    ">Considerando que os reviews que não possuem texto, a primeira distribuição a se esperar é uma distribuição do tipo normal (totalmente aleatória). Esse é também um dos motivos para não se introduzir esses dados na rede."
   ]
  },
  {
   "cell_type": "code",
   "execution_count": 31,
   "metadata": {},
   "outputs": [
    {
     "name": "stdout",
     "output_type": "stream",
     "text": [
      "[2, 2, 2, 2, 2, 2, 2, 2, 2, 2, 2, 1, 2, 2, 2, 2, 2, 2, 2, 2, 2, 2, 2, 2, 2, 2, 2]\n",
      "Counter({2: 26, 1: 1})\n"
     ]
    }
   ],
   "source": [
    "# A título de curiosidade, vamos pegar os reviews nulos para entender a sua distribuição:\n",
    "zero_idx_train = [i for i, review in enumerate(train_set_int) if len(review) == 0]\n",
    "\n",
    "# E guardando as labels dos reviews nulos:\n",
    "encoded_labels_null = [encoded_labels[i] for i in zero_idx_train]\n",
    "print(encoded_labels_null)\n",
    "count_label_null = Counter(encoded_labels_null)\n",
    "print(count_label_null)"
   ]
  },
  {
   "cell_type": "code",
   "execution_count": 32,
   "metadata": {},
   "outputs": [
    {
     "data": {
      "image/png": "[encoded data removed]",
      "text/plain": [
       "<Figure size 432x288 with 1 Axes>"
      ]
     },
     "metadata": {
      "needs_background": "light"
     },
     "output_type": "display_data"
    }
   ],
   "source": [
    "x_data = [0,1,2,3,4]\n",
    "y_data = [0,1,26,0,0]\n",
    "plt.plot(x_data, y_data)\n",
    "plt.show()"
   ]
  },
  {
   "cell_type": "markdown",
   "metadata": {},
   "source": [
    "---\n",
    "Voltando para o nosso problema...\n"
   ]
  },
  {
   "cell_type": "code",
   "execution_count": 33,
   "metadata": {},
   "outputs": [],
   "source": [
    "# Vamos então retirar os reviews de tamanho nulo e os\n",
    "# seus respectivos labels dos reviews:\n",
    "\n",
    "# Pegando os indices dos reviews de tamanho nulo:\n",
    "non_zero_idx_train = [i for i, review in enumerate(train_set_int) if len(review) != 0]\n",
    "non_zero_idx_test = [i for i, review in enumerate(test_set_int) if len(review) != 0]"
   ]
  },
  {
   "cell_type": "code",
   "execution_count": 34,
   "metadata": {},
   "outputs": [
    {
     "name": "stdout",
     "output_type": "stream",
     "text": [
      "Número de reviews antes da remoção dos reviews nulos: 156060\n",
      "Número de reviews após a remoção dos reviews nulos:  156033\n"
     ]
    }
   ],
   "source": [
    "# Removendo os reviews nulos e seus labels:\n",
    "train_set_int = [train_set_int[i] for i in non_zero_idx_train]\n",
    "encoded_labels = np.array([encoded_labels[i] for i in non_zero_idx_train])\n",
    "test_set_int = [test_set_int[i] for i in non_zero_idx_test]\n",
    "\n",
    "print(\"Número de reviews antes da remoção dos reviews nulos: 156060\")\n",
    "print(\"Número de reviews após a remoção dos reviews nulos: \", len(train_set_int))"
   ]
  },
  {
   "cell_type": "markdown",
   "metadata": {},
   "source": [
    "### Realizando o preenchimento (*padding*)\n",
    "\n",
    "Para lidarmos com ambas as reviews (curtas e longas), a gente pode truncar ou preencher todos os nossos reviews, constringindo os reviews a um comprimento específico.\n",
    "\n",
    "Para reviews menores que um determinado comprimento `seq_length`, a gente preenche o vetor com 0's. Para reviews maiores que esse mesmo comprimento, a gente trunca ele nas primeiras palavras.\n",
    "\n",
    "Vamos considerar inicialmente um tamanho para a `seq_length` de 48, que foi o tamanho máximo encontrado.\n",
    ">**Dica pra vida**: Caso estivéssemos lidando com reviews maiores, aqueles com até 2500 caracteres, um bom tamanho de truncagem poderia ser 200."
   ]
  },
  {
   "cell_type": "code",
   "execution_count": 35,
   "metadata": {},
   "outputs": [],
   "source": [
    "def padding_features(review_ints, seq_length):\n",
    "    ''' Retorna vetores (features) dos review_ints contidos\n",
    "        ou preenchidos até o limite de tamanho seq_length\n",
    "    '''\n",
    "    \n",
    "    # Aqui produzimos um vetor com a forma desejada de linhas x colunas:\n",
    "    features = np.zeros((len(review_ints),seq_length), dtype=int)\n",
    "    \n",
    "    # Para cada review:\n",
    "    for i, row in enumerate(review_ints):\n",
    "        features[i, -len(row):] = np.array(row[:seq_length])\n",
    "    \n",
    "    return features"
   ]
  },
  {
   "cell_type": "code",
   "execution_count": 36,
   "metadata": {},
   "outputs": [
    {
     "name": "stdout",
     "output_type": "stream",
     "text": [
      "[[    0     0     0     0     0     0     0     0     0     0     0     0\n",
      "      0     0     0     0     0     2   296     3 17898  7572     1  8288\n",
      "      9    51     8    47    13     1  4654     8   175    47    13     1\n",
      "  13710    58     3    82   545 12678    19   597     3    82  2668     5\n",
      "     50     3     2    40]\n",
      " [    0     0     0     0     0     0     0     0     0     0     0     0\n",
      "      0     0     0     0     0     0     0     0     0     0     0     0\n",
      "      0     0     0     0     0     0     0     0     0     0     0     0\n",
      "      0     0     2   296     3 17898  7572     1  8288     9    51     8\n",
      "     47    13     1  4654]\n",
      " [    0     0     0     0     0     0     0     0     0     0     0     0\n",
      "      0     0     0     0     0     0     0     0     0     0     0     0\n",
      "      0     0     0     0     0     0     0     0     0     0     0     0\n",
      "      0     0     0     0     0     0     0     0     0     0     0     0\n",
      "      0     0     2   296]]\n",
      "\n",
      "[[   0    0    0    0    0    0    0    0    0    0    0    0    0    0\n",
      "     0    0    0    0    0    0    0    0    0    0    0    0    0    0\n",
      "     0    0    0    0    0    0    0    0    0    0    0    0    0    0\n",
      "     0    0    0   16 2707 2797   19  494  956  372]\n",
      " [   0    0    0    0    0    0    0    0    0    0    0    0    0    0\n",
      "     0    0    0    0    0    0    0    0    0    0    0    0    0    0\n",
      "     0    0    0    0    0    0    0    0    0    0    0    0    0    0\n",
      "     0    0    0   16 2707 2797   19  494  956  372]\n",
      " [   0    0    0    0    0    0    0    0    0    0    0    0    0    0\n",
      "     0    0    0    0    0    0    0    0    0    0    0    0    0    0\n",
      "     0    0    0    0    0    0    0    0    0    0    0    0    0    0\n",
      "     0    0    0    0    0    0    0    0    0   16]]\n"
     ]
    }
   ],
   "source": [
    "seq_length = 52\n",
    "features_train = padding_features(train_set_int, seq_length=seq_length)\n",
    "features_test = padding_features(test_set_int, seq_length=seq_length)\n",
    "\n",
    "# Para testar o código, podemos usar assert:\n",
    "# assert len(features) == len(train_set_int), \"As features devem ter o número de linhas igual ao numero de reviews\"\n",
    "# assert len(features[0]) == seq_length, \"Cada linha deve ter o mesmo comprimento\"\n",
    "\n",
    "print(features_train[:3])\n",
    "print()\n",
    "print(features_test[:3])"
   ]
  },
  {
   "cell_type": "markdown",
   "metadata": {},
   "source": [
    "### Dividindo o conjunto de treinamento em Treinamento, Validação e Teste\n",
    "\n",
    "> Vamos agora dividir o conjunto de treinamento em três  grupos: um de validação, o outro para treinamento e um final para teste (Escolhi fazer isso para ser mais uma estapa de mensuração do código antes de submetê-lo ao benchmarking -- que é o conjunto de testes lá de cima que viemos trabalhando até aqui). Para isso:\n",
    "* Vamos criar um conjunto das features para treino (`train_x`) e um conjunto de suas labels (`train_y`);\n",
    "* Definir uma fração de *split* (`split_frac`) para ser a fração dos dados a serem **mantidos** no conjunto de treinamento. (Geralmente é de 0.8 ou 0.9);\n",
    "* O Restante é dividido no meio, em conjunto de validação (`val_x` e `val_y`) e conjunto de teste (`test_x` e `test_y`)."
   ]
  },
  {
   "cell_type": "code",
   "execution_count": 37,
   "metadata": {},
   "outputs": [
    {
     "name": "stdout",
     "output_type": "stream",
     "text": [
      "\t\t\t\tShapes das features:\n",
      "Conjunto de treino: \t\t(124826, 52) \n",
      "Conjunto de Validação: \t\t(15603, 52) \n",
      "Conjunto de teste: \t\t(15604, 52)\n"
     ]
    }
   ],
   "source": [
    "# Escolhendo a fração de split:\n",
    "split_frac = 0.8\n",
    "\n",
    "# Índice do split\n",
    "split_idx = int(len(features_train)*split_frac)\n",
    "\n",
    "# Separando o conjunto de treino\n",
    "train_x, remaining_x = features_train[:split_idx], features_train[split_idx:]\n",
    "train_y, remaining_y = encoded_labels[:split_idx], encoded_labels[split_idx:]\n",
    "\n",
    "# Índice de split do restante\n",
    "test_idx = int(len(remaining_x)*0.5)\n",
    "val_x, test_x = remaining_x[:test_idx], remaining_x[test_idx:]\n",
    "val_y, test_y = remaining_y[:test_idx], remaining_y[test_idx:]\n",
    "\n",
    "print(\"\\t\\t\\t\\tShapes das features:\")\n",
    "print(\"Conjunto de treino: \\t\\t{}\".format(train_x.shape), \n",
    "      \"\\nConjunto de Validação: \\t\\t{}\".format(val_x.shape),\n",
    "      \"\\nConjunto de teste: \\t\\t{}\".format(test_x.shape))"
   ]
  },
  {
   "cell_type": "markdown",
   "metadata": {},
   "source": [
    "### Criando DataLoaders e Batching\n",
    "\n",
    "Agora estamos chegando na parte \"legal\" rsrs\n",
    "\n",
    "Agora que temos os nossos dados *bonitinhos* em mãos, precisamos de um método para criar nossos conjuntos de inputs de forma a minimizar o *overfitting* por conta de uma ordem específica presente nos dados.\n",
    "\n",
    "Uma forma é utilizando o [TensorDataset](https://pytorch.org/docs/stable/data.html#) para acessar os dados e criar os datasets. Utilizando a função *DataLoader* podemos criar pequenos *batchs*, escolhidos aleatoriamente dentre os dados."
   ]
  },
  {
   "cell_type": "code",
   "execution_count": 38,
   "metadata": {},
   "outputs": [],
   "source": [
    "import torch\n",
    "from torch.utils.data import TensorDataset, DataLoader\n",
    "\n",
    "# Criando os datasets\n",
    "train_data = TensorDataset(torch.from_numpy(train_x), torch.from_numpy(train_y))\n",
    "valid_data = TensorDataset(torch.from_numpy(val_x), torch.from_numpy(val_y))\n",
    "test_data = TensorDataset(torch.from_numpy(test_x), torch.from_numpy(test_y))\n",
    "\n",
    "# Definindo o tamanho dos batchs\n",
    "batch_size = 128\n",
    "\n",
    "# Definindo os DataLoaders com o SHUFFLE ATIVADO (isso é importante!)\n",
    "train_loader = DataLoader(train_data, shuffle=True, batch_size=batch_size, drop_last=True)\n",
    "valid_loader = DataLoader(valid_data, shuffle=True, batch_size=batch_size, drop_last=True)\n",
    "test_loader = DataLoader(test_data, shuffle=True, batch_size=batch_size, drop_last=True)"
   ]
  },
  {
   "cell_type": "code",
   "execution_count": 39,
   "metadata": {},
   "outputs": [
    {
     "name": "stdout",
     "output_type": "stream",
     "text": [
      "Tamanho do input da amostra:  torch.Size([128, 52])\n",
      "Input amostra: \n",
      " tensor([[    0,     0,     0,  ...,    16,   556,  4518],\n",
      "        [    0,     0,     0,  ...,     3,     1,    56],\n",
      "        [    0,     0,     0,  ...,   197,    10,   392],\n",
      "        ...,\n",
      "        [    0,     0,     0,  ...,     0,     0, 11827],\n",
      "        [    0,     0,     0,  ...,     1,  5099,  3431],\n",
      "        [    0,     0,     0,  ...,     0,     0, 10288]])\n",
      "\n",
      "Tamanho do label da amostra:  torch.Size([128])\n",
      "Label amostra: \n",
      " tensor([0, 3, 2, 1, 1, 2, 2, 3, 2, 3, 1, 2, 3, 2, 2, 2, 1, 2, 2, 3, 1, 2, 1, 3,\n",
      "        3, 3, 2, 2, 2, 2, 3, 3, 4, 2, 2, 1, 1, 0, 0, 3, 3, 1, 2, 2, 2, 1, 1, 2,\n",
      "        3, 2, 2, 3, 1, 1, 1, 2, 2, 0, 2, 0, 2, 4, 2, 2, 0, 1, 3, 2, 1, 4, 1, 2,\n",
      "        2, 3, 1, 2, 2, 2, 1, 2, 3, 2, 3, 1, 3, 2, 3, 4, 0, 2, 4, 3, 3, 4, 3, 1,\n",
      "        2, 2, 2, 1, 2, 3, 0, 2, 1, 2, 2, 3, 2, 0, 2, 2, 4, 1, 2, 2, 2, 2, 2, 1,\n",
      "        1, 2, 2, 3, 2, 2, 3, 2])\n"
     ]
    }
   ],
   "source": [
    "# Pegando um batch dos dados de treinamento:\n",
    "\n",
    "dataiter = iter(train_loader)\n",
    "sample_x, sample_y = dataiter.next()\n",
    "\n",
    "print('Tamanho do input da amostra: ', sample_x.size()) # batch_size, seq_length\n",
    "print('Input amostra: \\n', sample_x)\n",
    "print()\n",
    "print('Tamanho do label da amostra: ', sample_y.size()) # batch_size\n",
    "print('Label amostra: \\n', sample_y)"
   ]
  },
  {
   "cell_type": "markdown",
   "metadata": {},
   "source": [
    "## Rede de Sentimentos usando PyTorch\n",
    "\n",
    "Relembrando, vamos dividir a nossa rede em três principais componentes (camadas):\n",
    "1. Uma [camada de *embedding*](https://pytorch.org/docs/stable/nn.html#embedding) que converte os nossos tokens de palavras (inteiros) em vetores de um tamanho específico;\n",
    "2. Uma camada de [LSTM](https://pytorch.org/docs/stable/nn.html#lstm), que é definida pelo tamanho do `hidden_state` e pelo número de camadas;\n",
    "3. Uma camada de output totalmente conectada que mapeia os outputs da camada LSTM aos outputs do tamanho desejado (`output_size`);\n",
    "4. E por fim uma função ativadação *softmax* que transforma os outputs em probabilidades de classe.\n",
    "\n",
    "### A camada de *embedding*\n",
    "\n",
    "Precisamos de uma camada de embedding pois temos mais de 19000 palavras no nosso vocabuário (este inclusive pode ser um problema no geral, pois essa quantidade é relativamente baixa em comparação às +170000 palavras não-obsoletas existentes em inglês).\n",
    "\n",
    "### As camadas da LSTM\n",
    "\n",
    "A LSTM vai receber um tamanho de input `input_size`, a dimensão da camada oculta `hidden_dim`, o número de camadas, uma probabilidade de dropout (no caso de múltiplas camadas) e um parâmetro de `batch_first`.\n",
    "\n",
    "Na maioria das vezes, a rede pode ter entre 2 e 3 camadas. Adicionar essas camadas permite um aprendizado de relações mais complexas pela rede."
   ]
  },
  {
   "cell_type": "code",
   "execution_count": 40,
   "metadata": {},
   "outputs": [
    {
     "name": "stdout",
     "output_type": "stream",
     "text": [
      "GPU nao disponivel, treinando na CPU.\n"
     ]
    }
   ],
   "source": [
    "# Podemos adicionar este código para verificar se a máquina possui GPU disponível para uso\n",
    "train_on_gpu=torch.cuda.is_available()\n",
    "\n",
    "if(train_on_gpu):\n",
    "    print('Trainando na GPU.')\n",
    "else:\n",
    "    print('GPU nao disponivel, treinando na CPU.')"
   ]
  },
  {
   "cell_type": "code",
   "execution_count": 41,
   "metadata": {},
   "outputs": [],
   "source": [
    "import torch.nn as nn\n",
    "\n",
    "class SentimentRNN(nn.Module):\n",
    "    \"\"\"\n",
    "    Modelo de uma rede recorrente usada para realizar analise de sentimentos.\n",
    "    \"\"\"\n",
    "\n",
    "    def __init__(self, vocab_size, output_size, embedding_dim, hidden_dim, n_layers, drop_prob=0.5):\n",
    "        # Aqui vamos inicializar a rede e os seus parâmetros \n",
    "        \n",
    "        super(SentimentRNN, self).__init__()\n",
    "\n",
    "        self.output_size = output_size\n",
    "        self.n_layers = n_layers\n",
    "        self.hidden_dim = hidden_dim\n",
    "        \n",
    "        # Camadas de embedding e da LSTM\n",
    "        # Na LSTM, deve-se colocar batch_first pois os tensores\n",
    "        # de input e output tem a forma: (batch, seq, feature)\n",
    "        self.embedding = nn.Embedding(vocab_size, embedding_dim)\n",
    "        self.lstm = nn.LSTM(embedding_dim, hidden_dim, n_layers, \n",
    "                            dropout=drop_prob, batch_first=True)\n",
    "        \n",
    "        # Dropout\n",
    "        self.dropout = nn.Dropout(p=0.3)\n",
    "        \n",
    "        # Camada linear, dropout e softmax\n",
    "        self.fc = nn.Linear(hidden_dim, output_size)\n",
    "        self.log_softmax = nn.LogSoftmax(dim=1)\n",
    "        \n",
    "\n",
    "    def forward(self, x, hidden):\n",
    "        # Essa função é para realizar o forward pass do modelo no input e nos hidden states\n",
    "        \n",
    "        batch_size = x.size(0)\n",
    "\n",
    "        # Embeddings e lstm_out\n",
    "        embeds = self.embedding(x)\n",
    "        lstm_out, hidden = self.lstm(embeds, hidden)\n",
    "    \n",
    "        # Juntando os outputs da LSTM\n",
    "        lstm_out = lstm_out.contiguous().view(-1, self.hidden_dim)\n",
    "        \n",
    "        # Dropout e a camada totalmente conectada\n",
    "        out = self.dropout(lstm_out)\n",
    "        out = self.fc(out)\n",
    "        # Função LogSoftmax\n",
    "        soft_out = self.log_softmax(out)\n",
    "        \n",
    "        # Reshape para o batchfirst\n",
    "        soft_out = soft_out.view(batch_size, -1, self.output_size)\n",
    "        soft_out = soft_out[:, -1, :] # pega as labels(o output) da ultima posiçao te todas as linhas\n",
    "        \n",
    "        # Retorna o último output da softmax e do hidden state\n",
    "        return soft_out, hidden\n",
    "    \n",
    "    \n",
    "    def init_hidden(self, batch_size):\n",
    "        # Essa função inicializa o hidden state\n",
    "        \n",
    "        # Cria dois novos tensores de tamanho n_layers x batch_size x hidden_dim,\n",
    "        # inicializados com zeros, pra o hidden state e a cell state da LSTM\n",
    "        weight = next(self.parameters()).detach()\n",
    "        \n",
    "        if (train_on_gpu):\n",
    "            hidden = (weight.new(self.n_layers, batch_size, self.hidden_dim).zero_().cuda(),\n",
    "                  weight.new(self.n_layers, batch_size, self.hidden_dim).zero_().cuda())\n",
    "        else:\n",
    "            hidden = (weight.new(self.n_layers, batch_size, self.hidden_dim).zero_(),\n",
    "                      weight.new(self.n_layers, batch_size, self.hidden_dim).zero_())\n",
    "\n",
    "        return hidden"
   ]
  },
  {
   "cell_type": "markdown",
   "metadata": {},
   "source": [
    "### Instanciando a rede\n",
    "\n",
    "Vamos instanciar a rede definindo os parâmetros:\n",
    "* `vocab_size`: O tamanho do nosso vocabulário, ou o range dos valores do nosso input (tokens);\n",
    "* `output_size`: O tamanho do nosso output desejado; É o número de scores da nossa classe (0-4);\n",
    "* `embedding_dim`: Número de colunas na tabela do embedding; É o tamanho dos nossos embeddings;\n",
    "* `hidden_dim`: Número de unidades na camada oculta das nossas células de LSTM. Geralmente quanto maior, melhor a performance. Os tamanhos mais comuns são 128, 256, 512, etc.;\n",
    "* `n_layers`: É o número de camadas LSTM na rede. Geralmente ficam entre 1-3."
   ]
  },
  {
   "cell_type": "code",
   "execution_count": 59,
   "metadata": {},
   "outputs": [],
   "source": [
    "# Vamos então instanciar a rede com os hyperparâmetros:\n",
    "vocab_size = len(vocabulary_to_int) + 1 # +1 pelo padding de 0's\n",
    "output_size = 5\n",
    "embedding_dim = 200\n",
    "hidden_dim = 256\n",
    "n_layers = 2"
   ]
  },
  {
   "cell_type": "code",
   "execution_count": 60,
   "metadata": {},
   "outputs": [
    {
     "name": "stdout",
     "output_type": "stream",
     "text": [
      "SentimentRNN(\n",
      "  (embedding): Embedding(19318, 200)\n",
      "  (lstm): LSTM(200, 256, num_layers=2, batch_first=True, dropout=0.5)\n",
      "  (dropout): Dropout(p=0.3, inplace=False)\n",
      "  (fc): Linear(in_features=256, out_features=5, bias=True)\n",
      "  (log_softmax): LogSoftmax()\n",
      ")\n"
     ]
    }
   ],
   "source": [
    "net = SentimentRNN(vocab_size, output_size, embedding_dim, hidden_dim, n_layers)\n",
    "\n",
    "print(net)"
   ]
  },
  {
   "cell_type": "markdown",
   "metadata": {},
   "source": [
    "### Treinamento\n",
    "\n",
    "Vamos estar usando a [CrossEntropyLoss](https://pytorch.org/docs/stable/nn.html#crossentropyloss), a chamada *Cross Entropy Loss*. Ela foi desenhada para trabalhar com problemas de classificação com C classes. \n",
    "\n",
    "Nesta fase também precisamos de outros *hyperparameters*:\n",
    "* `lr`: a learning rate do nosso otimizador escolhido;\n",
    "* `epochs`: o número de vezes que vamos iterar pelo dataset de treinamento;\n",
    "* `clip`: que é o valor máximo do gradiente para evitar o problema do \"explosive gradients\"."
   ]
  },
  {
   "cell_type": "code",
   "execution_count": 61,
   "metadata": {},
   "outputs": [],
   "source": [
    "import torch.optim as optim\n",
    "# Funções de otimização e de loss\n",
    "lr = 0.001\n",
    "\n",
    "criterion = nn.NLLLoss()\n",
    "# criterion = nn.CrossEntropyLoss()\n",
    "optimizer = torch.optim.Adam(net.parameters(), lr=lr)\n",
    "# optimizer = torch.optim.SGD(net.parameters(), lr=lr)"
   ]
  },
  {
   "cell_type": "code",
   "execution_count": 64,
   "metadata": {},
   "outputs": [
    {
     "name": "stdout",
     "output_type": "stream",
     "text": [
      "Epoch: 1/4... Step: 100... Loss: 0.733285... Val Loss: 1.068734\n",
      "Epoch: 1/4... Step: 200... Loss: 0.654291... Val Loss: 1.059251\n",
      "Epoch: 1/4... Step: 300... Loss: 0.669949... Val Loss: 1.083451\n",
      "Epoch: 1/4... Step: 400... Loss: 0.740750... Val Loss: 1.086438\n",
      "Epoch: 1/4... Step: 500... Loss: 0.725762... Val Loss: 1.047285\n",
      "Epoch: 1/4... Step: 600... Loss: 0.726553... Val Loss: 1.054882\n",
      "Epoch: 1/4... Step: 700... Loss: 0.837476... Val Loss: 1.057664\n",
      "Epoch: 1/4... Step: 800... Loss: 0.633633... Val Loss: 1.081536\n",
      "Epoch: 1/4... Step: 900... Loss: 0.651102... Val Loss: 1.058119\n",
      "Epoch: 2/4... Step: 1000... Loss: 0.560727... Val Loss: 1.102993\n",
      "Epoch: 2/4... Step: 1100... Loss: 0.693292... Val Loss: 1.089112\n",
      "Epoch: 2/4... Step: 1200... Loss: 0.666575... Val Loss: 1.116117\n",
      "Epoch: 2/4... Step: 1300... Loss: 0.745819... Val Loss: 1.103957\n",
      "Epoch: 2/4... Step: 1400... Loss: 0.702927... Val Loss: 1.062843\n",
      "Epoch: 2/4... Step: 1500... Loss: 0.744925... Val Loss: 1.060209\n",
      "Epoch: 2/4... Step: 1600... Loss: 0.769507... Val Loss: 1.059781\n",
      "Epoch: 2/4... Step: 1700... Loss: 0.864876... Val Loss: 1.042589\n",
      "Epoch: 2/4... Step: 1800... Loss: 0.578933... Val Loss: 1.057393\n",
      "Epoch: 2/4... Step: 1900... Loss: 0.629440... Val Loss: 1.069152\n",
      "Epoch: 3/4... Step: 2000... Loss: 0.651727... Val Loss: 1.125519\n",
      "Epoch: 3/4... Step: 2100... Loss: 0.683694... Val Loss: 1.148836\n",
      "Epoch: 3/4... Step: 2200... Loss: 0.756570... Val Loss: 1.120755\n",
      "Epoch: 3/4... Step: 2300... Loss: 0.650138... Val Loss: 1.097509\n",
      "Epoch: 3/4... Step: 2400... Loss: 0.602211... Val Loss: 1.096565\n",
      "Epoch: 3/4... Step: 2500... Loss: 0.703587... Val Loss: 1.101466\n",
      "Epoch: 3/4... Step: 2600... Loss: 0.803286... Val Loss: 1.094427\n",
      "Epoch: 3/4... Step: 2700... Loss: 0.552675... Val Loss: 1.092307\n",
      "Epoch: 3/4... Step: 2800... Loss: 0.609997... Val Loss: 1.083632\n",
      "Epoch: 3/4... Step: 2900... Loss: 0.922709... Val Loss: 1.087488\n",
      "Epoch: 4/4... Step: 3000... Loss: 0.635334... Val Loss: 1.169150\n",
      "Epoch: 4/4... Step: 3100... Loss: 0.483041... Val Loss: 1.122642\n",
      "Epoch: 4/4... Step: 3200... Loss: 0.694709... Val Loss: 1.111062\n",
      "Epoch: 4/4... Step: 3300... Loss: 0.864367... Val Loss: 1.120324\n",
      "Epoch: 4/4... Step: 3400... Loss: 0.520299... Val Loss: 1.108163\n",
      "Epoch: 4/4... Step: 3500... Loss: 0.725909... Val Loss: 1.093686\n",
      "Epoch: 4/4... Step: 3600... Loss: 0.706578... Val Loss: 1.106413\n",
      "Epoch: 4/4... Step: 3700... Loss: 0.653121... Val Loss: 1.102774\n",
      "Epoch: 4/4... Step: 3800... Loss: 0.583968... Val Loss: 1.092735\n",
      "Epoch: 4/4... Step: 3900... Loss: 0.690540... Val Loss: 1.104048\n"
     ]
    }
   ],
   "source": [
    "epochs = 4\n",
    "\n",
    "counter = 0\n",
    "print_every = 100\n",
    "clip = 5 # gradient clipping\n",
    "\n",
    "# Move o modelo para a GPU, se disponível\n",
    "# if(train_on_gpu):\n",
    "#     net.cuda()\n",
    "\n",
    "net.train()\n",
    "for e in range(epochs):\n",
    "    # Inicializando o hidden state\n",
    "    h = net.init_hidden(batch_size)\n",
    "    \n",
    "    losses = []\n",
    "\n",
    "    # Loop pelo batch\n",
    "    for inputs, labels in train_loader:\n",
    "        if( (inputs.shape[0],inputs.shape[1]) != (batch_size,seq_length)):\n",
    "            print(\"Pulando problema no Shape do Input: \",inputs.shape)\n",
    "            continue\n",
    "        counter += 1\n",
    "        \n",
    "        #if(train_on_gpu):\n",
    "        #    inputs, labels = inputs.cuda(), labels.cuda()\n",
    "\n",
    "        # Criando novo hidden state, para nao correr o risco de \n",
    "        # fazer o backprop por todo o historico de treinamento\n",
    "        h = tuple([each.detach() for each in h])\n",
    "\n",
    "        net.zero_grad()\n",
    "\n",
    "        output, h = net(inputs, h)\n",
    "        \n",
    "        loss = criterion(output.squeeze(), labels.long())\n",
    "        \n",
    "        losses.append(loss.item())\n",
    "        \n",
    "        loss.backward()\n",
    "        \n",
    "        # `clip_grad_norm` ajuda a prevenir o problema do \"exploding gradient\" nas RNNs e LSTMs\n",
    "        nn.utils.clip_grad_norm_(net.parameters(), clip)\n",
    "        \n",
    "        optimizer.step()\n",
    "\n",
    "        # Estatisticas da loss\n",
    "        if counter % print_every == 0:\n",
    "            \n",
    "            val_h = net.init_hidden(batch_size)\n",
    "            val_losses = []\n",
    "            net.eval()\n",
    "            \n",
    "            for inputs, labels in valid_loader:\n",
    "                \n",
    "                val_h = tuple([each.detach() for each in val_h])\n",
    "\n",
    "                #if(train_on_gpu):\n",
    "                #    inputs, labels = inputs.cuda(), labels.cuda()\n",
    "\n",
    "                output, val_h = net(inputs, val_h)\n",
    "                val_loss = criterion(output.squeeze(), labels.long())\n",
    "\n",
    "                val_losses.append(val_loss.item())\n",
    "\n",
    "            net.train()\n",
    "            print(\"Epoch: {}/{}...\".format(e+1, epochs),\n",
    "                  \"Step: {}...\".format(counter),\n",
    "                  \"Loss: {:.6f}...\".format(loss.item()),\n",
    "                  \"Val Loss: {:.6f}\".format(np.mean(val_losses)))"
   ]
  },
  {
   "cell_type": "code",
   "execution_count": 65,
   "metadata": {},
   "outputs": [
    {
     "data": {
      "image/png": "[encoded data removed]",
      "text/plain": [
       "<Figure size 432x288 with 1 Axes>"
      ]
     },
     "metadata": {
      "needs_background": "light"
     },
     "output_type": "display_data"
    }
   ],
   "source": [
    "plt.plot(val_losses)\n",
    "plt.show()"
   ]
  },
  {
   "cell_type": "code",
   "execution_count": 66,
   "metadata": {},
   "outputs": [
    {
     "data": {
      "text/plain": [
       "<All keys matched successfully>"
      ]
     },
     "execution_count": 66,
     "metadata": {},
     "output_type": "execute_result"
    }
   ],
   "source": [
    "# Salvando o modelo:\n",
    "torch.save(net.state_dict(), 'sentiment_net.pt')\n",
    "\n",
    "# Para abrir:\n",
    "net.load_state_dict(torch.load('sentiment_net.pt'))"
   ]
  },
  {
   "cell_type": "markdown",
   "metadata": {},
   "source": [
    "## Testando a rede\n",
    "\n",
    "Existem algumas formas de testar uma rede neural. Podemos testá-la através de:\n",
    "\n",
    "* **Teste de performance dos dados**: Primeiro vemos como nosso modelo performa em todos os `test_data` lá de cima, calculando o loss médio e a acurácia sobre os dados de teste;\n",
    "* **Inferência em dados gerados pelo usuário**: Podemos inserir um review por vez (sem o label) e ver o que o modelo treinado retorna.\n",
    "\n",
    "Aqui vou me ater apenas ao primeiro caso:"
   ]
  },
  {
   "cell_type": "code",
   "execution_count": 67,
   "metadata": {},
   "outputs": [
    {
     "name": "stdout",
     "output_type": "stream",
     "text": [
      "Test Loss: 1.127546\n",
      "\n",
      "Test Accuracy of     0: 17% (127/735)\n",
      "Test Accuracy of     1: 49% (1518/3094)\n",
      "Test Accuracy of     2: 70% (5311/7565)\n",
      "Test Accuracy of     3: 56% (1813/3197)\n",
      "Test Accuracy of     4: 19% (173/897)\n",
      "\n",
      "Test Accuracy (Overall): 57% (8942/15488)\n"
     ]
    }
   ],
   "source": [
    "# Pegando os dados de test_loss e de acurácia:\n",
    "test_loss = 0.0\n",
    "class_correct = list(0. for i in range(5))\n",
    "class_total = list(0. for i in range(5))\n",
    "\n",
    "h = net.init_hidden(batch_size)\n",
    "\n",
    "net.eval()\n",
    "for inputs, labels in test_loader:\n",
    "\n",
    "    h = tuple([each.data for each in h])\n",
    "\n",
    "#     if(train_on_gpu):\n",
    "#         inputs, labels = inputs.cuda(), labels.cuda()\n",
    "\n",
    "    output, h = net(inputs, h)\n",
    "\n",
    "    loss = criterion(output, labels.long())\n",
    "    \n",
    "    test_loss += loss.item()*inputs.size(0)\n",
    "    \n",
    "    # Convertendo as probabilidades do output para a classe prevista:\n",
    "    _, pred = torch.max(output, 1)\n",
    "    \n",
    "    # Comparando as previsões com o label verdadeiro:\n",
    "    correct = np.squeeze(pred.eq(labels.data.view_as(pred)))\n",
    "    \n",
    "    # Calculando a acurácia para cada classe de reviews\n",
    "    for i in range(len(labels)):\n",
    "        label = labels.data[i]\n",
    "        class_correct[label] += correct[i].item()\n",
    "        class_total[label] += 1\n",
    "\n",
    "\n",
    "### -- Status! -- ###\n",
    "# Calculando o test_loss medio\n",
    "test_loss = test_loss/len(test_loader.sampler)\n",
    "print('Test Loss: {:.6f}\\n'.format(test_loss))\n",
    "\n",
    "for i in range(5):\n",
    "    if class_total[i] > 0:\n",
    "        print('Test Accuracy of %5s: %2d%% (%2d/%2d)' % (\n",
    "            str(i), 100 * class_correct[i] / class_total[i],\n",
    "            np.sum(class_correct[i]), np.sum(class_total[i])))\n",
    "    else:\n",
    "        print('Test Accuracy of %5s: N/A (no training examples)' % (classes[i]))\n",
    "\n",
    "print('\\nTest Accuracy (Overall): %2d%% (%2d/%2d)' % (100. * np.sum(class_correct) / np.sum(class_total), np.sum(class_correct), np.sum(class_total)))"
   ]
  },
  {
   "cell_type": "markdown",
   "metadata": {},
   "source": [
    "Realizei no total 8 treinos completos, sendo este último uma continuação do penúltimo (o que acabou acarretando em um overfitting).\n",
    "\n",
    "Os dados sobre os treinos eu deixei no arquivo texto 'treino-sentiment-rnn.txt' para consultas.\n",
    "\n",
    "Apenas nos dois últimos treinos que realizei a verificação, sendo a melhor acurácia total obtida a de 59% (treino anterior a esse último). "
   ]
  },
  {
   "cell_type": "markdown",
   "metadata": {},
   "source": [
    "### Rápida conclusão\n",
    "\n",
    "Nesse desafio, vimos como realizar a implementação de uma rede neural recorrente capaz de prever sentimentos de reviews.\n",
    "\n",
    "Para uma boa implementação de um modelo como este, são necessárias três etapas importantes: A de organização e limpeza de dados, a escolha da arquitetura, e a fase de treinamento e validação. \n",
    "\n",
    "Por fim, é possivel aprimorarmos a rede se utilizarmos outros conjuntos de dados, por exemplo: com um conjunto de dados mais limpo (retirando as \"frases\" de comprimento menor que 3. É possível também buscarmos um vocabulário mais completo, e treinarmos uma camada de embedding separadamente da rede recorrente.\n"
   ]
  }
 ],
 "metadata": {
  "kernelspec": {
   "display_name": "Python 3",
   "language": "python",
   "name": "python3"
  },
  "language_info": {
   "codemirror_mode": {
    "name": "ipython",
    "version": 3
   },
   "file_extension": ".py",
   "mimetype": "text/x-python",
   "name": "python",
   "nbconvert_exporter": "python",
   "pygments_lexer": "ipython3",
   "version": "3.7.3"
  }
 },
 "nbformat": 4,
 "nbformat_minor": 2
}
